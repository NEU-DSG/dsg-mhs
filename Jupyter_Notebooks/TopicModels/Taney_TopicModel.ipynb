{
 "cells": [
  {
   "cell_type": "markdown",
   "id": "dc5c0522",
   "metadata": {},
   "source": [
    "# Topic Model -- Taney"
   ]
  },
  {
   "cell_type": "code",
   "execution_count": 1,
   "id": "eca86511",
   "metadata": {},
   "outputs": [],
   "source": [
    "# Import necessary libraries.\n",
    "import re, nltk, warnings, csv, sys, os, pickle, glob\n",
    "import pandas as pd\n",
    "import numpy as np\n",
    "import seaborn as sns\n",
    "from itertools import chain\n",
    "from scipy import stats\n",
    "\n",
    "# Import NLTK packages.\n",
    "from nltk import word_tokenize\n",
    "from nltk.stem import WordNetLemmatizer\n",
    "from nltk.stem.snowball import SnowballStemmer\n",
    "from nltk.corpus import stopwords\n",
    "\n",
    "# Import sklearn packages.\n",
    "from sklearn.decomposition import LatentDirichletAllocation as LDA\n",
    "from sklearn.feature_extraction.text import CountVectorizer, TfidfVectorizer\n",
    "\n",
    "# Import LDA visualizer.\n",
    "import pyLDAvis, pyLDAvis.sklearn\n",
    "pyLDAvis.enable_notebook()\n",
    "\n",
    "# Import and append stopwords.\n",
    "stop_words = stopwords.words(\"english\")\n",
    "stop_words.append(['mr', 'dear'])\n",
    "\n",
    "# Ignore warnings related to deprecated functions.\n",
    "warnings.simplefilter(\"ignore\", DeprecationWarning)\n",
    "\n",
    "# Import project-specific functions. \n",
    "# Python files (.py) have to be in same folder to work.\n",
    "lib_path = os.path.abspath(os.path.join(os.path.dirname('Correspondence_XML_parser.py'), '../Scripts'))\n",
    "sys.path.append(lib_path)\n",
    "\n",
    "from Correspondence_XML_parser import *\n",
    "\n",
    "# Read in config.py (git ignored file) for API username and pw.\n",
    "config_path = os.path.abspath(os.path.join(os.path.dirname('config.py'), '../Scripts'))\n",
    "sys.path.append(config_path)\n",
    "import config\n",
    "\n",
    "# url = 'https://dsg.xmldb-dev.northeastern.edu/basex/psc/' :: old\n",
    "url = 'https://dsg.xmldb-dev.northeastern.edu/BaseX964/rest/psc/'\n",
    "user = config.username\n",
    "pw = config.password\n",
    "\n",
    "# Get the correct file path to navigate to the github repository.\n",
    "abs_dir = os.getcwd() + '/../../'"
   ]
  },
  {
   "cell_type": "markdown",
   "id": "e5aac6bc",
   "metadata": {},
   "source": [
    "## Gather XML Files"
   ]
  },
  {
   "cell_type": "code",
   "execution_count": 2,
   "id": "af7f626a",
   "metadata": {},
   "outputs": [
    {
     "name": "stdout",
     "output_type": "stream",
     "text": [
      "CPU times: user 1.35 ms, sys: 1.38 ms, total: 2.73 ms\n",
      "Wall time: 1.75 ms\n"
     ]
    },
    {
     "data": {
      "text/plain": [
       "178"
      ]
     },
     "execution_count": 2,
     "metadata": {},
     "output_type": "execute_result"
    }
   ],
   "source": [
    "%%time\n",
    "\n",
    "# Remove this cell when files are in BaseX.\n",
    "# Declare directory location to shorten filepaths later.\n",
    "files = glob.glob(abs_dir + \"../../Data/PSC/Taney/RBT_RawXML/*/*.xml\")\n",
    "\n",
    "len(files)"
   ]
  },
  {
   "cell_type": "code",
   "execution_count": 3,
   "id": "8175a071",
   "metadata": {},
   "outputs": [],
   "source": [
    "# %%time\n",
    "\n",
    "# # Must be connected to Northeastern's VPN.\n",
    "# r = requests.get(url, \n",
    "#                  auth = (user, pw), \n",
    "#                  headers = {'Content-Type': 'application/xml'}\n",
    "#                 )\n",
    "\n",
    "# # Check status of URL\n",
    "# print (r.status_code)\n",
    "\n",
    "# # Read in contents of pipeline.\n",
    "# soup = BeautifulSoup(r.content, 'html.parser')\n",
    "\n",
    "# # Split soup's content by \\n (each line is a file path to an XML doc).\n",
    "# # Use filter() to remove empty strings ('').\n",
    "# # Convert back to list using list().\n",
    "# files = list(filter(None, soup.text.split('\\n')))\n",
    "\n",
    "# # # Filter list and retrieve only jqa/ files.\n",
    "# # files = [i for i in files if 'jqa/' in i]\n",
    "\n",
    "# # len(files)\n",
    "# files"
   ]
  },
  {
   "cell_type": "markdown",
   "id": "126022e7",
   "metadata": {},
   "source": [
    "## Build DataFrame"
   ]
  },
  {
   "cell_type": "code",
   "execution_count": 4,
   "id": "7138ac00",
   "metadata": {},
   "outputs": [
    {
     "name": "stdout",
     "output_type": "stream",
     "text": [
      "CPU times: user 76 ms, sys: 15.5 ms, total: 91.5 ms\n",
      "Wall time: 127 ms\n"
     ]
    },
    {
     "data": {
      "text/html": [
       "<div>\n",
       "<style scoped>\n",
       "    .dataframe tbody tr th:only-of-type {\n",
       "        vertical-align: middle;\n",
       "    }\n",
       "\n",
       "    .dataframe tbody tr th {\n",
       "        vertical-align: top;\n",
       "    }\n",
       "\n",
       "    .dataframe thead th {\n",
       "        text-align: right;\n",
       "    }\n",
       "</style>\n",
       "<table border=\"1\" class=\"dataframe\">\n",
       "  <thead>\n",
       "    <tr style=\"text-align: right;\">\n",
       "      <th></th>\n",
       "      <th>file</th>\n",
       "      <th>date</th>\n",
       "      <th>source</th>\n",
       "      <th>target</th>\n",
       "      <th>subjects</th>\n",
       "      <th>references</th>\n",
       "      <th>text</th>\n",
       "    </tr>\n",
       "  </thead>\n",
       "  <tbody>\n",
       "    <tr>\n",
       "      <th>0</th>\n",
       "      <td>RBT00099-verification.xml</td>\n",
       "      <td>1833-05-05</td>\n",
       "      <td>RBT</td>\n",
       "      <td>Ellicott-Thomas</td>\n",
       "      <td></td>\n",
       "      <td>jackson-andrew,kendall-amos,mickle-robert,tane...</td>\n",
       "      <td>Washington May 5. 1833My Dear Sir I received y...</td>\n",
       "    </tr>\n",
       "    <tr>\n",
       "      <th>1</th>\n",
       "      <td>RBT00146-verification.xml</td>\n",
       "      <td>1834-03-30</td>\n",
       "      <td>RBT</td>\n",
       "      <td>ellicott-thomas</td>\n",
       "      <td></td>\n",
       "      <td>mccubbin-george</td>\n",
       "      <td>Washington March 30. 1834My Dear Sir I have on...</td>\n",
       "    </tr>\n",
       "    <tr>\n",
       "      <th>2</th>\n",
       "      <td>RBT01364-verification.xml</td>\n",
       "      <td>1833-08-05</td>\n",
       "      <td>RBT</td>\n",
       "      <td>jackson-andrew</td>\n",
       "      <td></td>\n",
       "      <td></td>\n",
       "      <td>Washington Augt. 5. 1833 My Dear Sir After ref...</td>\n",
       "    </tr>\n",
       "  </tbody>\n",
       "</table>\n",
       "</div>"
      ],
      "text/plain": [
       "                        file        date source           target subjects  \\\n",
       "0  RBT00099-verification.xml  1833-05-05    RBT  Ellicott-Thomas            \n",
       "1  RBT00146-verification.xml  1834-03-30    RBT  ellicott-thomas            \n",
       "2  RBT01364-verification.xml  1833-08-05    RBT   jackson-andrew            \n",
       "\n",
       "                                          references  \\\n",
       "0  jackson-andrew,kendall-amos,mickle-robert,tane...   \n",
       "1                                    mccubbin-george   \n",
       "2                                                      \n",
       "\n",
       "                                                text  \n",
       "0  Washington May 5. 1833My Dear Sir I received y...  \n",
       "1  Washington March 30. 1834My Dear Sir I have on...  \n",
       "2  Washington Augt. 5. 1833 My Dear Sir After ref...  "
      ]
     },
     "execution_count": 4,
     "metadata": {},
     "output_type": "execute_result"
    }
   ],
   "source": [
    "%%time\n",
    "\n",
    "# Build dataframe from XML files.\n",
    "# build_dataframe() called from Correspondence_XML_parser\n",
    "df = build_dataframe(files)\n",
    "\n",
    "df.head(3)"
   ]
  },
  {
   "cell_type": "markdown",
   "id": "fd701142",
   "metadata": {},
   "source": [
    "## Clean Data & Prepare for Topic Modeling"
   ]
  },
  {
   "cell_type": "code",
   "execution_count": 5,
   "id": "19d7ca57",
   "metadata": {},
   "outputs": [
    {
     "name": "stdout",
     "output_type": "stream",
     "text": [
      "CPU times: user 89.5 ms, sys: 5.49 ms, total: 95 ms\n",
      "Wall time: 94.9 ms\n"
     ]
    },
    {
     "data": {
      "image/png": "[encoded data removed]",
      "text/plain": [
       "<Figure size 864x432 with 1 Axes>"
      ]
     },
     "metadata": {},
     "output_type": "display_data"
    }
   ],
   "source": [
    "%%time\n",
    "\n",
    "# Drop duplicate texts (created from unnested subject headings) & count words.\n",
    "doc_len = df['text'].str.split(' ').str.len() \\\n",
    "    .reset_index() \\\n",
    "    .drop_duplicates()\n",
    "\n",
    "# Round word count.\n",
    "doc_len = np.around(doc_len['text'], decimals = -1)\n",
    "\n",
    "doc_len = pd.DataFrame(doc_len)\n",
    "\n",
    "# Plot graph.\n",
    "sns.set(rc = {\"figure.figsize\": (12, 6)})\n",
    "sns.set_style(\"dark\")\n",
    "ax = sns.histplot(doc_len['text'])"
   ]
  },
  {
   "cell_type": "markdown",
   "id": "6c056801",
   "metadata": {},
   "source": [
    "### Chunk texts into equal lengths."
   ]
  },
  {
   "cell_type": "code",
   "execution_count": 6,
   "id": "e063dfd6",
   "metadata": {},
   "outputs": [
    {
     "name": "stdout",
     "output_type": "stream",
     "text": [
      "CPU times: user 114 ms, sys: 2.91 ms, total: 117 ms\n",
      "Wall time: 117 ms\n"
     ]
    },
    {
     "data": {
      "text/html": [
       "<div>\n",
       "<style scoped>\n",
       "    .dataframe tbody tr th:only-of-type {\n",
       "        vertical-align: middle;\n",
       "    }\n",
       "\n",
       "    .dataframe tbody tr th {\n",
       "        vertical-align: top;\n",
       "    }\n",
       "\n",
       "    .dataframe thead th {\n",
       "        text-align: right;\n",
       "    }\n",
       "</style>\n",
       "<table border=\"1\" class=\"dataframe\">\n",
       "  <thead>\n",
       "    <tr style=\"text-align: right;\">\n",
       "      <th></th>\n",
       "      <th>file</th>\n",
       "      <th>date</th>\n",
       "      <th>source</th>\n",
       "      <th>target</th>\n",
       "      <th>subjects</th>\n",
       "      <th>references</th>\n",
       "      <th>text</th>\n",
       "      <th>wordCount</th>\n",
       "    </tr>\n",
       "  </thead>\n",
       "  <tbody>\n",
       "    <tr>\n",
       "      <th>0</th>\n",
       "      <td>RBT00099-verification.xml</td>\n",
       "      <td>1833-05-05</td>\n",
       "      <td>RBT</td>\n",
       "      <td>Ellicott-Thomas</td>\n",
       "      <td></td>\n",
       "      <td>jackson-andrew,kendall-amos,mickle-robert,tane...</td>\n",
       "      <td>Washington May 5. 1833My Dear Sir I received l...</td>\n",
       "      <td>200</td>\n",
       "    </tr>\n",
       "    <tr>\n",
       "      <th>2</th>\n",
       "      <td>RBT01364-verification.xml</td>\n",
       "      <td>1833-08-05</td>\n",
       "      <td>RBT</td>\n",
       "      <td>jackson-andrew</td>\n",
       "      <td></td>\n",
       "      <td></td>\n",
       "      <td>Washington Augt. 5. 1833 My Dear Sir After ref...</td>\n",
       "      <td>200</td>\n",
       "    </tr>\n",
       "    <tr>\n",
       "      <th>2</th>\n",
       "      <td>RBT01364-verification.xml</td>\n",
       "      <td>1833-08-05</td>\n",
       "      <td>RBT</td>\n",
       "      <td>jackson-andrew</td>\n",
       "      <td></td>\n",
       "      <td></td>\n",
       "      <td>military, last term public life meet defeat. –...</td>\n",
       "      <td>200</td>\n",
       "    </tr>\n",
       "  </tbody>\n",
       "</table>\n",
       "</div>"
      ],
      "text/plain": [
       "                        file        date source           target subjects  \\\n",
       "0  RBT00099-verification.xml  1833-05-05    RBT  Ellicott-Thomas            \n",
       "2  RBT01364-verification.xml  1833-08-05    RBT   jackson-andrew            \n",
       "2  RBT01364-verification.xml  1833-08-05    RBT   jackson-andrew            \n",
       "\n",
       "                                          references  \\\n",
       "0  jackson-andrew,kendall-amos,mickle-robert,tane...   \n",
       "2                                                      \n",
       "2                                                      \n",
       "\n",
       "                                                text  wordCount  \n",
       "0  Washington May 5. 1833My Dear Sir I received l...        200  \n",
       "2  Washington Augt. 5. 1833 My Dear Sir After ref...        200  \n",
       "2  military, last term public life meet defeat. –...        200  "
      ]
     },
     "execution_count": 6,
     "metadata": {},
     "output_type": "execute_result"
    }
   ],
   "source": [
    "%%time\n",
    "\n",
    "chunk_size = 200\n",
    "\n",
    "def splitText(string):\n",
    "    words = string.split(' ')\n",
    "    removed_stopwords = [w for w in words if w not in stop_words]\n",
    "    grouped_words = [removed_stopwords[i: i + chunk_size] for i in range(0, len(removed_stopwords), chunk_size)]\n",
    "    return grouped_words\n",
    "\n",
    "df['text'] = df['text'].apply(splitText)\n",
    "\n",
    "df = df.explode('text')\n",
    "\n",
    "# Add word count field.\n",
    "df['wordCount'] = df['text'].apply(lambda x: len(x))\n",
    "\n",
    "# Join list of words into single string.\n",
    "df['text'] = df['text'].apply(' '.join)\n",
    "\n",
    "# Remove rows without text.\n",
    "df = df.dropna(subset = ['text'])\n",
    "\n",
    "# Remove texts with too few words (chunk_size - 50).\n",
    "df = df.query('wordCount >= (@chunk_size - 50)')\n",
    "\n",
    "df.head(3)"
   ]
  },
  {
   "cell_type": "markdown",
   "id": "d5129067",
   "metadata": {},
   "source": [
    "## Train Topic Model"
   ]
  },
  {
   "cell_type": "code",
   "execution_count": 7,
   "id": "d3321889",
   "metadata": {},
   "outputs": [
    {
     "name": "stdout",
     "output_type": "stream",
     "text": [
      "Topics found via LDA:\n",
      "\n",
      "Topic #0:\n",
      "zeal encountering ended endeavours endeavouring endeavor endangering end encouragement encourage\n",
      "\n",
      "Topic #1:\n",
      "bank washington statement money frederick necessary metropolis safety true condition\n",
      "\n",
      "Topic #2:\n",
      "dear sir confidence calculating knew immediately truth character wish union\n",
      "\n",
      "Topic #3:\n",
      "zeal encountering ended endeavours endeavouring endeavor endangering end encouragement encourage\n",
      "\n",
      "Topic #4:\n",
      "bank deposite pay shall private practice day nearly general account\n",
      "\n",
      "Topic #5:\n",
      "zeal encountering ended endeavours endeavouring endeavor endangering end encouragement encourage\n",
      "\n",
      "Topic #6:\n",
      "charges letters conversations letter time confidence passed board mr bank\n",
      "\n",
      "Topic #7:\n",
      "zeal encountering ended endeavours endeavouring endeavor endangering end encouragement encourage\n",
      "\n",
      "Topic #8:\n",
      "zeal encountering ended endeavours endeavouring endeavor endangering end encouragement encourage\n",
      "\n",
      "Topic #9:\n",
      "united states public bank question placed case friend shall opinions\n",
      "\n",
      "Topic #10:\n",
      "bank states banks state place united government time transfer bills\n",
      "\n",
      "Topic #11:\n",
      "time banks duties confidence accept sir dear station faith rest\n",
      "\n",
      "Topic #12:\n",
      "friends speech come tell thought mrs mr sophia days old\n",
      "\n",
      "Topic #13:\n",
      "public government deposites money highest banks rights measure loaned regret\n",
      "\n",
      "Topic #14:\n",
      "friends dear power govr currency say subject baltimore arthur mrs\n",
      "\n",
      "Topic #15:\n",
      "zeal encountering ended endeavours endeavouring endeavor endangering end encouragement encourage\n",
      "\n",
      "Topic #16:\n",
      "bank ought know banks public taney mrs sir meet confidence\n",
      "\n",
      "Topic #17:\n",
      "mr 000 bank state banks week treasury department 250 united\n",
      "\n",
      "Topic #18:\n",
      "bank mr confidence bonds private public maryland washington letter sir\n",
      "\n",
      "Topic #19:\n",
      "letter drafts states draft time banks use sent bank million\n",
      "\n",
      "Topic #20:\n",
      "bank present states think united public washington money notes place\n",
      "\n",
      "Topic #21:\n",
      "bank notice money note patriotic indorser deposit time hold terms\n",
      "\n",
      "Topic #22:\n",
      "confidence time friends president doubt appointment excitement elections department particular\n",
      "\n",
      "Topic #23:\n",
      "drft bank baltimore state shall know branch 000 washington sir\n",
      "\n",
      "Topic #24:\n",
      "thee bank thy time great letter think right say necessary\n",
      "\n",
      "Topic #25:\n",
      "zeal encountering ended endeavours endeavouring endeavor endangering end encouragement encourage\n",
      "\n",
      "Topic #26:\n",
      "sir letter passion present dear thing case duty hope baltimore\n",
      "\n",
      "Topic #27:\n",
      "zeal encountering ended endeavours endeavouring endeavor endangering end encouragement encourage\n",
      "\n",
      "Topic #28:\n",
      "zeal encountering ended endeavours endeavouring endeavor endangering end encouragement encourage\n",
      "\n",
      "Topic #29:\n",
      "zeal encountering ended endeavours endeavouring endeavor endangering end encouragement encourage\n",
      "\n",
      "Topic #30:\n",
      "zeal encountering ended endeavours endeavouring endeavor endangering end encouragement encourage\n",
      "\n",
      "Topic #31:\n",
      "bank thy letter mr state dear order thee washington condition\n",
      "\n",
      "Topic #32:\n",
      "shall publication ellicotts vindication copy assured trouble attack evaporate news\n",
      "\n",
      "Topic #33:\n",
      "zeal encountering ended endeavours endeavouring endeavor endangering end encouragement encourage\n",
      "\n",
      "Topic #34:\n",
      "mr time instructions letter brought official case sent pay say\n",
      "\n",
      "Topic #35:\n",
      "trust shall early letter new washington visit concerns kind order\n",
      "\n",
      "Topic #36:\n",
      "bank united states draft branch state department coin treasury payment\n",
      "\n",
      "Topic #37:\n",
      "bank time health president banks hope letter think state dear\n",
      "\n",
      "Topic #38:\n",
      "bank securely public secretary following conduct reasons labour sufficiently quotation\n",
      "\n",
      "Topic #39:\n",
      "zeal encountering ended endeavours endeavouring endeavor endangering end encouragement encourage\n",
      "CPU times: user 363 ms, sys: 193 ms, total: 556 ms\n",
      "Wall time: 2.23 s\n"
     ]
    }
   ],
   "source": [
    "%%time\n",
    "\n",
    "# Remove duplicate text rows (caused from unnesting headings) by subsetting & de-duplicating.\n",
    "topics = df[['file', 'text']].drop_duplicates(subset = ['file'])\n",
    "\n",
    "# Initialise the vectorizer with English stop words.\n",
    "vectorizer = CountVectorizer(stop_words='english')\n",
    "\n",
    "# Fit and transform the processed texts.\n",
    "features = vectorizer.fit_transform(topics['text'])\n",
    "\n",
    "# Helper function (from Kapadia).\n",
    "def print_topics(model, vectorizer, n_top_words):\n",
    "    words = vectorizer.get_feature_names()\n",
    "    for topic_idx, topic in enumerate(model.components_):\n",
    "        print(\"\\nTopic #%d:\" % topic_idx)\n",
    "        print(\" \".join([words[i]\n",
    "                        for i in topic.argsort()[:-n_top_words - 1:-1]]))\n",
    "\n",
    "# Set parameters (topics set to number of unique subject headings found).\n",
    "number_topics = 40\n",
    "number_words = 10\n",
    "\n",
    "# Create and fit the LDA model\n",
    "lda = LDA(n_components = number_topics, n_jobs=-1)\n",
    "lda.fit(features)\n",
    "\n",
    "# Print the topics found by the LDA model\n",
    "print(\"Topics found via LDA:\")\n",
    "print_topics(lda, vectorizer, number_words)"
   ]
  },
  {
   "cell_type": "markdown",
   "id": "95d76aeb",
   "metadata": {},
   "source": [
    "## Save pyLDAvis"
   ]
  },
  {
   "cell_type": "code",
   "execution_count": 8,
   "id": "904492e3",
   "metadata": {},
   "outputs": [
    {
     "name": "stdout",
     "output_type": "stream",
     "text": [
      "CPU times: user 1.48 s, sys: 33.7 ms, total: 1.51 s\n",
      "Wall time: 2.47 s\n"
     ]
    }
   ],
   "source": [
    "%%time\n",
    "\n",
    "p = pyLDAvis.sklearn.prepare(lda, features, vectorizer, mds='mmds')\n",
    "\n",
    "pyLDAvis.save_html(p, abs_dir + \"lab_space/projects/taney/topics/taney_topics-40_pyLDAvis.html\")\n"
   ]
  },
  {
   "cell_type": "code",
   "execution_count": null,
   "id": "2c0186c1",
   "metadata": {},
   "outputs": [],
   "source": []
  }
 ],
 "metadata": {
  "kernelspec": {
   "display_name": "Python 3 (ipykernel)",
   "language": "python",
   "name": "python3"
  },
  "language_info": {
   "codemirror_mode": {
    "name": "ipython",
    "version": 3
   },
   "file_extension": ".py",
   "mimetype": "text/x-python",
   "name": "python",
   "nbconvert_exporter": "python",
   "pygments_lexer": "ipython3",
   "version": "3.8.5"
  }
 },
 "nbformat": 4,
 "nbformat_minor": 5
}
