{
 "cells": [
  {
   "cell_type": "markdown",
   "id": "raising-wallace",
   "metadata": {},
   "source": [
    "# JQA Subject-Topic Prediction\n",
    "\n",
    "1. [Data Preparation](#prep)\n",
    "2. [Training & Normalizing](#training)\n",
    "3. [Class Balancing - Subject Distribution](#distribution)\n",
    "4. [Model Testing](#testing)\n",
    "5. [Pipeline - Model Training](#pipeline)\n",
    "6. [GridSearch - Model Tuning](#gridsearch)\n",
    "\n",
    "Imbalanced Classification Problem."
   ]
  },
  {
   "cell_type": "code",
   "execution_count": 20,
   "id": "younger-insulin",
   "metadata": {},
   "outputs": [
    {
     "data": {
      "text/html": [
       "<div>\n",
       "<style scoped>\n",
       "    .dataframe tbody tr th:only-of-type {\n",
       "        vertical-align: middle;\n",
       "    }\n",
       "\n",
       "    .dataframe tbody tr th {\n",
       "        vertical-align: top;\n",
       "    }\n",
       "\n",
       "    .dataframe thead th {\n",
       "        text-align: right;\n",
       "    }\n",
       "</style>\n",
       "<table border=\"1\" class=\"dataframe\">\n",
       "  <thead>\n",
       "    <tr style=\"text-align: right;\">\n",
       "      <th></th>\n",
       "      <th>entry</th>\n",
       "      <th>date</th>\n",
       "      <th>subject</th>\n",
       "      <th>text</th>\n",
       "    </tr>\n",
       "  </thead>\n",
       "  <tbody>\n",
       "    <tr>\n",
       "      <th>0</th>\n",
       "      <td>jqadiaries-v30-1817-10-01</td>\n",
       "      <td>1817-10-01</td>\n",
       "      <td>Adams Family Residences,Commerce</td>\n",
       "      <td>1. IV:30. Wednesday. Wrote a Letter to J. L. S...</td>\n",
       "    </tr>\n",
       "    <tr>\n",
       "      <th>1</th>\n",
       "      <td>jqadiaries-v30-1817-10-02</td>\n",
       "      <td>1817-10-02</td>\n",
       "      <td>Foreign Relations,Health and Illness,South Ame...</td>\n",
       "      <td>2. IV: Continued drafting instructions for Rus...</td>\n",
       "    </tr>\n",
       "    <tr>\n",
       "      <th>2</th>\n",
       "      <td>jqadiaries-v30-1817-10-03</td>\n",
       "      <td>1817-10-03</td>\n",
       "      <td>Adams Family Residences,Privateering,Recreatio...</td>\n",
       "      <td>3. IV: I had visits this morning from Mr Levet...</td>\n",
       "    </tr>\n",
       "    <tr>\n",
       "      <th>3</th>\n",
       "      <td>jqadiaries-v30-1817-10-04</td>\n",
       "      <td>1817-10-04</td>\n",
       "      <td>Commerce,Foreign Relations,Health and Illness</td>\n",
       "      <td>4. IV: I waked before three and had afterwards...</td>\n",
       "    </tr>\n",
       "    <tr>\n",
       "      <th>4</th>\n",
       "      <td>jqadiaries-v30-1817-10-05</td>\n",
       "      <td>1817-10-05</td>\n",
       "      <td>Adams Family Residences</td>\n",
       "      <td>5. V: The Ladies went this morning to St. John...</td>\n",
       "    </tr>\n",
       "  </tbody>\n",
       "</table>\n",
       "</div>"
      ],
      "text/plain": [
       "                       entry        date  \\\n",
       "0  jqadiaries-v30-1817-10-01  1817-10-01   \n",
       "1  jqadiaries-v30-1817-10-02  1817-10-02   \n",
       "2  jqadiaries-v30-1817-10-03  1817-10-03   \n",
       "3  jqadiaries-v30-1817-10-04  1817-10-04   \n",
       "4  jqadiaries-v30-1817-10-05  1817-10-05   \n",
       "\n",
       "                                             subject  \\\n",
       "0                   Adams Family Residences,Commerce   \n",
       "1  Foreign Relations,Health and Illness,South Ame...   \n",
       "2  Adams Family Residences,Privateering,Recreatio...   \n",
       "3      Commerce,Foreign Relations,Health and Illness   \n",
       "4                            Adams Family Residences   \n",
       "\n",
       "                                                text  \n",
       "0  1. IV:30. Wednesday. Wrote a Letter to J. L. S...  \n",
       "1  2. IV: Continued drafting instructions for Rus...  \n",
       "2  3. IV: I had visits this morning from Mr Levet...  \n",
       "3  4. IV: I waked before three and had afterwards...  \n",
       "4  5. V: The Ladies went this morning to St. John...  "
      ]
     },
     "execution_count": 20,
     "metadata": {},
     "output_type": "execute_result"
    }
   ],
   "source": [
    "# Import necessary libraries.\n",
    "import re, nltk, warnings, csv, sys, os, pickle, string\n",
    "import pandas as pd\n",
    "import numpy as np\n",
    "import seaborn as sns\n",
    "from itertools import chain\n",
    "from scipy import stats\n",
    "import matplotlib.pyplot as plt\n",
    "\n",
    "# Import NLTK packages.\n",
    "from nltk import word_tokenize\n",
    "from nltk.stem import WordNetLemmatizer\n",
    "from nltk.stem.snowball import SnowballStemmer\n",
    "from nltk.corpus import stopwords\n",
    "\n",
    "# Import sklearn packages.\n",
    "from sklearn.decomposition import LatentDirichletAllocation as LDA, PCA\n",
    "from sklearn.feature_extraction.text import CountVectorizer, TfidfVectorizer, TfidfTransformer\n",
    "\n",
    "from sklearn.metrics import classification_report, roc_auc_score, accuracy_score, precision_recall_curve\n",
    "from sklearn.pipeline import Pipeline\n",
    "from sklearn.impute import SimpleImputer\n",
    "from sklearn.preprocessing import StandardScaler, OneHotEncoder, LabelEncoder\n",
    "from sklearn.compose import ColumnTransformer\n",
    "from sklearn.compose import make_column_selector as selector\n",
    "\n",
    "from sklearn.model_selection import train_test_split, cross_val_score, RepeatedStratifiedKFold, GridSearchCV\n",
    "from sklearn.calibration import CalibratedClassifierCV\n",
    "from sklearn.naive_bayes import MultinomialNB\n",
    "from sklearn.linear_model import LogisticRegression\n",
    "from sklearn.ensemble import RandomForestClassifier\n",
    "from sklearn.svm import LinearSVC\n",
    "\n",
    "# Library for class imbalance.\n",
    "from imblearn.under_sampling import RandomUnderSampler\n",
    "\n",
    "# Import and append stopwords.\n",
    "stop_words = stopwords.words(\"english\")\n",
    "stop_words.append('mr')\n",
    "\n",
    "# Ignore warnings related to deprecated functions.\n",
    "warnings.filterwarnings('ignore')\n",
    "\n",
    "# Declare directory location to shorten filepaths later.\n",
    "abs_dir = \"/Users/quinn.wi/Documents/\"\n",
    "\n",
    "# Read in file; select columns; drop rows with NA values (entries without a named person).\n",
    "df = pd.read_csv(abs_dir + 'Data/Output/ParsedXML/JQA_Subjects-dataframe.txt',\n",
    "                 sep = '\\t') \\\n",
    "    .drop(columns = ['file']) \\\n",
    "    .dropna()\n",
    "\n",
    "df.head()"
   ]
  },
  {
   "cell_type": "markdown",
   "id": "institutional-bronze",
   "metadata": {},
   "source": [
    "<a id='prep'/>\n",
    "\n",
    "## Clean & Prepare Data"
   ]
  },
  {
   "cell_type": "code",
   "execution_count": 21,
   "id": "tropical-average",
   "metadata": {},
   "outputs": [
    {
     "name": "stdout",
     "output_type": "stream",
     "text": [
      "Number of unique subject headings: 70\n",
      "DF Shape: (5913, 5)\n",
      "CPU times: user 14.5 s, sys: 73 ms, total: 14.6 s\n",
      "Wall time: 14.8 s\n"
     ]
    },
    {
     "data": {
      "text/html": [
       "<div>\n",
       "<style scoped>\n",
       "    .dataframe tbody tr th:only-of-type {\n",
       "        vertical-align: middle;\n",
       "    }\n",
       "\n",
       "    .dataframe tbody tr th {\n",
       "        vertical-align: top;\n",
       "    }\n",
       "\n",
       "    .dataframe thead th {\n",
       "        text-align: right;\n",
       "    }\n",
       "</style>\n",
       "<table border=\"1\" class=\"dataframe\">\n",
       "  <thead>\n",
       "    <tr style=\"text-align: right;\">\n",
       "      <th></th>\n",
       "      <th>entry</th>\n",
       "      <th>date</th>\n",
       "      <th>subject</th>\n",
       "      <th>text</th>\n",
       "      <th>cid</th>\n",
       "    </tr>\n",
       "  </thead>\n",
       "  <tbody>\n",
       "    <tr>\n",
       "      <th>0</th>\n",
       "      <td>jqadiaries-v30-1817-10-01</td>\n",
       "      <td>1817-10-01</td>\n",
       "      <td>Adams Family Residences</td>\n",
       "      <td>iv:30. wednesday . wrote letter j. l. sulliva...</td>\n",
       "      <td>0</td>\n",
       "    </tr>\n",
       "    <tr>\n",
       "      <th>0</th>\n",
       "      <td>jqadiaries-v30-1817-10-01</td>\n",
       "      <td>1817-10-01</td>\n",
       "      <td>Commerce</td>\n",
       "      <td>iv:30. wednesday . wrote letter j. l. sulliva...</td>\n",
       "      <td>0</td>\n",
       "    </tr>\n",
       "    <tr>\n",
       "      <th>1</th>\n",
       "      <td>jqadiaries-v30-1817-10-02</td>\n",
       "      <td>1817-10-02</td>\n",
       "      <td>Foreign Relations</td>\n",
       "      <td>iv : continu draft instruct rush . subject op...</td>\n",
       "      <td>1</td>\n",
       "    </tr>\n",
       "    <tr>\n",
       "      <th>1</th>\n",
       "      <td>jqadiaries-v30-1817-10-02</td>\n",
       "      <td>1817-10-02</td>\n",
       "      <td>Health and Illness</td>\n",
       "      <td>iv : continu draft instruct rush . subject op...</td>\n",
       "      <td>1</td>\n",
       "    </tr>\n",
       "    <tr>\n",
       "      <th>1</th>\n",
       "      <td>jqadiaries-v30-1817-10-02</td>\n",
       "      <td>1817-10-02</td>\n",
       "      <td>South American Wars of Independence</td>\n",
       "      <td>iv : continu draft instruct rush . subject op...</td>\n",
       "      <td>1</td>\n",
       "    </tr>\n",
       "  </tbody>\n",
       "</table>\n",
       "</div>"
      ],
      "text/plain": [
       "                       entry        date                              subject  \\\n",
       "0  jqadiaries-v30-1817-10-01  1817-10-01              Adams Family Residences   \n",
       "0  jqadiaries-v30-1817-10-01  1817-10-01                             Commerce   \n",
       "1  jqadiaries-v30-1817-10-02  1817-10-02                    Foreign Relations   \n",
       "1  jqadiaries-v30-1817-10-02  1817-10-02                   Health and Illness   \n",
       "1  jqadiaries-v30-1817-10-02  1817-10-02  South American Wars of Independence   \n",
       "\n",
       "                                                text  cid  \n",
       "0   iv:30. wednesday . wrote letter j. l. sulliva...    0  \n",
       "0   iv:30. wednesday . wrote letter j. l. sulliva...    0  \n",
       "1   iv : continu draft instruct rush . subject op...    1  \n",
       "1   iv : continu draft instruct rush . subject op...    1  \n",
       "1   iv : continu draft instruct rush . subject op...    1  "
      ]
     },
     "execution_count": 21,
     "metadata": {},
     "output_type": "execute_result"
    }
   ],
   "source": [
    "%%time\n",
    "\n",
    "# Create id column for subsetting.\n",
    "df['cid'] = df.index\n",
    "\n",
    "# Lowercase text field\n",
    "df['text'] = df['text'].str.lower()\n",
    "\n",
    "# Tokenize text field.\n",
    "df['text'] = df['text'].apply(word_tokenize)\n",
    "\n",
    "# Lemmatize and stem text field.\n",
    "lemmatizer = WordNetLemmatizer()\n",
    "stemmer = SnowballStemmer(\"english\", ignore_stopwords = True)\n",
    "\n",
    "def lemma_and_stem(list_of_words):\n",
    "    return [stemmer.stem(lemmatizer.lemmatize(w)) for w in list_of_words if w not in stop_words]\n",
    "\n",
    "df['text'] = df['text'].apply(lemma_and_stem)\n",
    "\n",
    "# Convert list of words to string for LDA model.\n",
    "df['text'] = df['text'].apply(' '.join)\n",
    "\n",
    "# Light regex cleanup to remove JQA's initial numbering (&, eventually, roman numeral sequencing).\n",
    "df['text'] = df['text'].str.replace(r'^\\d+.', '', regex = True)\n",
    "\n",
    "# Unnest subject headings. \n",
    "df['subject'] = df['subject'].str.split(',')\n",
    "df = df.explode('subject')\n",
    "\n",
    "# Remove leading and trailing whitespace.\n",
    "df['subject'] = df['subject'].str.strip()\n",
    "\n",
    "# Remove rows with subject of \"The\".\n",
    "df = df[~df['subject'].isin(['The'])]\n",
    "\n",
    "print (f'Number of unique subject headings: {len(df[\"subject\"].unique())}\\nDF Shape: {df.shape}')\n",
    "\n",
    "df.head()"
   ]
  },
  {
   "cell_type": "markdown",
   "id": "through-providence",
   "metadata": {},
   "source": [
    "### Visualize Single-Subject vs. Multiple-Subjects Distribution\n",
    "\n",
    "The classificiation model was unable to predict subjects with duplicates (multi-subject documents). Removing documents with multiple-subjects might improve the model training.\n",
    "\n",
    "* How much of the data is lost if mult-subjects removed?\n",
    "* Do some subj only appear in multi-subj lists (and, therefore, disproportionately affected)?"
   ]
  },
  {
   "cell_type": "code",
   "execution_count": 22,
   "id": "vulnerable-diesel",
   "metadata": {},
   "outputs": [
    {
     "name": "stdout",
     "output_type": "stream",
     "text": [
      "Removing 1490 rows.\n",
      "New DF Shape (after removing mutli-subject docs): (813, 5)\n",
      "CPU times: user 7.65 ms, sys: 1.71 ms, total: 9.36 ms\n",
      "Wall time: 7.84 ms\n"
     ]
    }
   ],
   "source": [
    "%%time\n",
    "\n",
    "# Count dates, which indicate if there are multiple subjects or not.\n",
    "# idx_count = pd.DataFrame(df.groupby(['date']).size()).reset_index()\n",
    "idx_count = df[['cid', 'subject']]\n",
    "\n",
    "idx_count = pd.DataFrame(idx_count.groupby(['cid']).size()).reset_index()\n",
    "idx_count.columns = ['cid', 'count']\n",
    "\n",
    "idx_count = idx_count.query('count > 1')\n",
    "remove_list = idx_count['cid']\n",
    "\n",
    "print (f'Removing {len(remove_list)} rows.')\n",
    "\n",
    "df = df[~df['cid'].isin(remove_list)]\n",
    "print (f'New DF Shape (after removing mutli-subject docs): {df.shape}')\n",
    "\n",
    "# print ('Number of topics removed after pruning multi-subject documents:')\n",
    "# df[df['cid'].isin(remove_list)]['subject'].value_counts()"
   ]
  },
  {
   "cell_type": "markdown",
   "id": "authorized-spanish",
   "metadata": {},
   "source": [
    "<a id='training'/>\n",
    "\n",
    "## Train Model"
   ]
  },
  {
   "cell_type": "code",
   "execution_count": 23,
   "id": "atomic-superior",
   "metadata": {},
   "outputs": [
    {
     "name": "stdout",
     "output_type": "stream",
     "text": [
      "CPU times: user 35.9 ms, sys: 2.13 ms, total: 38 ms\n",
      "Wall time: 37.2 ms\n"
     ]
    },
    {
     "data": {
      "text/plain": [
       "Text(199.09323493234933, 277.83, 'Mean: 180.99')"
      ]
     },
     "execution_count": 23,
     "metadata": {},
     "output_type": "execute_result"
    },
    {
     "data": {
      "image/png": "[encoded data removed]",
      "text/plain": [
       "<Figure size 432x288 with 1 Axes>"
      ]
     },
     "metadata": {
      "needs_background": "light"
     },
     "output_type": "display_data"
    }
   ],
   "source": [
    "%%time\n",
    "\n",
    "# Drop duplicate texts (created from unnested subject headings) & count words.\n",
    "doc_len = df['text'].str.split(' ').str.len() \\\n",
    "    .reset_index() \\\n",
    "    .drop_duplicates()\n",
    "\n",
    "doc_len = pd.DataFrame(doc_len)\n",
    "\n",
    "x = doc_len['text']\n",
    "\n",
    "# Plot graph.\n",
    "ax = plt.hist(x, bins = 10, color='c', edgecolor='k', alpha=0.65)\n",
    "plt.axvline(x.mean(), color = 'k', linestyle = 'dashed', linewidth = 3)\n",
    "\n",
    "min_ylim, max_ylim = plt.ylim()\n",
    "plt.text(x.mean()*1.1, max_ylim*0.9, 'Mean: {:.2f}'.format(x.mean()))"
   ]
  },
  {
   "cell_type": "markdown",
   "id": "impressed-emphasis",
   "metadata": {},
   "source": [
    "### Normalize Document Length & Train Model"
   ]
  },
  {
   "cell_type": "code",
   "execution_count": 24,
   "id": "sacred-steps",
   "metadata": {},
   "outputs": [
    {
     "name": "stdout",
     "output_type": "stream",
     "text": [
      "New Average Length of Docs: 148.32881002087683\n",
      "CPU times: user 604 ms, sys: 248 ms, total: 852 ms\n",
      "Wall time: 3.36 s\n"
     ]
    },
    {
     "data": {
      "text/html": [
       "<div>\n",
       "<style scoped>\n",
       "    .dataframe tbody tr th:only-of-type {\n",
       "        vertical-align: middle;\n",
       "    }\n",
       "\n",
       "    .dataframe tbody tr th {\n",
       "        vertical-align: top;\n",
       "    }\n",
       "\n",
       "    .dataframe thead th {\n",
       "        text-align: right;\n",
       "    }\n",
       "</style>\n",
       "<table border=\"1\" class=\"dataframe\">\n",
       "  <thead>\n",
       "    <tr style=\"text-align: right;\">\n",
       "      <th></th>\n",
       "      <th>entry</th>\n",
       "      <th>date</th>\n",
       "      <th>subject</th>\n",
       "      <th>0</th>\n",
       "      <th>1</th>\n",
       "      <th>2</th>\n",
       "      <th>3</th>\n",
       "      <th>4</th>\n",
       "      <th>5</th>\n",
       "      <th>6</th>\n",
       "      <th>...</th>\n",
       "      <th>10</th>\n",
       "      <th>11</th>\n",
       "      <th>12</th>\n",
       "      <th>13</th>\n",
       "      <th>14</th>\n",
       "      <th>15</th>\n",
       "      <th>16</th>\n",
       "      <th>17</th>\n",
       "      <th>18</th>\n",
       "      <th>19</th>\n",
       "    </tr>\n",
       "  </thead>\n",
       "  <tbody>\n",
       "    <tr>\n",
       "      <th>4</th>\n",
       "      <td>jqadiaries-v30-1817-10-05</td>\n",
       "      <td>1817-10-05</td>\n",
       "      <td>Adams Family Residences</td>\n",
       "      <td>0.000820</td>\n",
       "      <td>0.000820</td>\n",
       "      <td>0.888066</td>\n",
       "      <td>0.000820</td>\n",
       "      <td>0.000820</td>\n",
       "      <td>0.000820</td>\n",
       "      <td>0.000820</td>\n",
       "      <td>...</td>\n",
       "      <td>0.000820</td>\n",
       "      <td>0.097180</td>\n",
       "      <td>0.000820</td>\n",
       "      <td>0.000820</td>\n",
       "      <td>0.000820</td>\n",
       "      <td>0.000820</td>\n",
       "      <td>0.000820</td>\n",
       "      <td>0.000820</td>\n",
       "      <td>0.000820</td>\n",
       "      <td>0.000820</td>\n",
       "    </tr>\n",
       "    <tr>\n",
       "      <th>12</th>\n",
       "      <td>jqadiaries-v30-1817-10-13</td>\n",
       "      <td>1817-10-13</td>\n",
       "      <td>Adams Family Residences</td>\n",
       "      <td>0.001163</td>\n",
       "      <td>0.001163</td>\n",
       "      <td>0.001163</td>\n",
       "      <td>0.001163</td>\n",
       "      <td>0.001163</td>\n",
       "      <td>0.001163</td>\n",
       "      <td>0.001163</td>\n",
       "      <td>...</td>\n",
       "      <td>0.001163</td>\n",
       "      <td>0.001163</td>\n",
       "      <td>0.001163</td>\n",
       "      <td>0.001163</td>\n",
       "      <td>0.001163</td>\n",
       "      <td>0.001163</td>\n",
       "      <td>0.509863</td>\n",
       "      <td>0.001163</td>\n",
       "      <td>0.001163</td>\n",
       "      <td>0.001163</td>\n",
       "    </tr>\n",
       "    <tr>\n",
       "      <th>18</th>\n",
       "      <td>jqadiaries-v30-1817-10-19</td>\n",
       "      <td>1817-10-19</td>\n",
       "      <td>Health and Illness</td>\n",
       "      <td>0.000820</td>\n",
       "      <td>0.000820</td>\n",
       "      <td>0.000820</td>\n",
       "      <td>0.000820</td>\n",
       "      <td>0.984426</td>\n",
       "      <td>0.000820</td>\n",
       "      <td>0.000820</td>\n",
       "      <td>...</td>\n",
       "      <td>0.000820</td>\n",
       "      <td>0.000820</td>\n",
       "      <td>0.000820</td>\n",
       "      <td>0.000820</td>\n",
       "      <td>0.000820</td>\n",
       "      <td>0.000820</td>\n",
       "      <td>0.000820</td>\n",
       "      <td>0.000820</td>\n",
       "      <td>0.000820</td>\n",
       "      <td>0.000820</td>\n",
       "    </tr>\n",
       "  </tbody>\n",
       "</table>\n",
       "<p>3 rows × 23 columns</p>\n",
       "</div>"
      ],
      "text/plain": [
       "                        entry        date                  subject         0  \\\n",
       "4   jqadiaries-v30-1817-10-05  1817-10-05  Adams Family Residences  0.000820   \n",
       "12  jqadiaries-v30-1817-10-13  1817-10-13  Adams Family Residences  0.001163   \n",
       "18  jqadiaries-v30-1817-10-19  1817-10-19       Health and Illness  0.000820   \n",
       "\n",
       "           1         2         3         4         5         6  ...        10  \\\n",
       "4   0.000820  0.888066  0.000820  0.000820  0.000820  0.000820  ...  0.000820   \n",
       "12  0.001163  0.001163  0.001163  0.001163  0.001163  0.001163  ...  0.001163   \n",
       "18  0.000820  0.000820  0.000820  0.984426  0.000820  0.000820  ...  0.000820   \n",
       "\n",
       "          11        12        13        14        15        16        17  \\\n",
       "4   0.097180  0.000820  0.000820  0.000820  0.000820  0.000820  0.000820   \n",
       "12  0.001163  0.001163  0.001163  0.001163  0.001163  0.509863  0.001163   \n",
       "18  0.000820  0.000820  0.000820  0.000820  0.000820  0.000820  0.000820   \n",
       "\n",
       "          18        19  \n",
       "4   0.000820  0.000820  \n",
       "12  0.001163  0.001163  \n",
       "18  0.000820  0.000820  \n",
       "\n",
       "[3 rows x 23 columns]"
      ]
     },
     "execution_count": 24,
     "metadata": {},
     "output_type": "execute_result"
    }
   ],
   "source": [
    "%%time\n",
    "\n",
    "def splitText(string):\n",
    "    words = string.split()\n",
    "    grouped_words = [' '.join(words[i: i + 200]) for i in range(0, len(words), 200)]\n",
    "    return grouped_words\n",
    "\n",
    "df['text'] = df['text'].apply(splitText)\n",
    "\n",
    "df = df.explode('text')\n",
    "\n",
    "# Count words and remove short strings.\n",
    "df['count'] = df['text'].str.split().str.len()\n",
    "df = df[~(df['count'] < 50)]\n",
    "\n",
    "print (f'New Average Length of Docs: {df[\"count\"].mean()}')\n",
    "\n",
    "# Remove duplicate text rows (caused from unnesting headings) by subsetting & de-duplicating.\n",
    "topics = df[['cid', 'text']]\n",
    "\n",
    "# Initialise the vectorizer with English stop words.\n",
    "vectorizer = CountVectorizer(stop_words='english')\n",
    "\n",
    "# Fit and transform the processed texts.\n",
    "features = vectorizer.fit_transform(topics['text'])\n",
    "\n",
    "# Helper function (from Kapadia).\n",
    "def print_topics(model, vectorizer, n_top_words):\n",
    "    words = vectorizer.get_feature_names()\n",
    "    for topic_idx, topic in enumerate(model.components_):\n",
    "        print(\"\\nTopic #%d:\" % topic_idx)\n",
    "        print(\" \".join([words[i]\n",
    "                        for i in topic.argsort()[:-n_top_words - 1:-1]]))\n",
    "\n",
    "# Set parameters (topics set to number of unique subject headings found).\n",
    "number_topics = 20\n",
    "number_words = 10\n",
    "\n",
    "# Create and fit the LDA model\n",
    "lda = LDA(n_components = number_topics, n_jobs=-1)\n",
    "lda.fit(features)\n",
    "\n",
    "# Create a document-topic matrix.\n",
    "dtm = lda.transform(features)\n",
    "\n",
    "# Convert document-topic matrix to dataframe.\n",
    "dtm = pd.DataFrame(dtm, index = topics.index)\n",
    "\n",
    "# Join document-topic dataframe with metadata on shared indices.\n",
    "dtm = pd.merge(df[['entry', 'date', 'subject']],\n",
    "               dtm,\n",
    "               left_index = True, right_index = True)\n",
    "\n",
    "dtm.head(3)"
   ]
  },
  {
   "cell_type": "markdown",
   "id": "arabic-elevation",
   "metadata": {},
   "source": [
    "<a id='distribution'/>\n",
    "\n",
    "## Distribution of Subjects\n",
    "\n",
    "There is a class imbalance of subject headings: some subjects used far more frequently then others. This will require either under-sampling the larger classes (preferable at the moment) or over-sampling the small classes."
   ]
  },
  {
   "cell_type": "code",
   "execution_count": 25,
   "id": "partial-partition",
   "metadata": {},
   "outputs": [
    {
     "name": "stdout",
     "output_type": "stream",
     "text": [
      "Range: 263\n",
      "Min: 1, Max: 264\n",
      "CPU times: user 126 ms, sys: 4.93 ms, total: 131 ms\n",
      "Wall time: 130 ms\n"
     ]
    },
    {
     "data": {
      "text/plain": [
       "<matplotlib.axes._subplots.AxesSubplot at 0x7ff7d8aeee20>"
      ]
     },
     "execution_count": 25,
     "metadata": {},
     "output_type": "execute_result"
    },
    {
     "data": {
      "image/png": "[encoded data removed]",
      "text/plain": [
       "<Figure size 576x1440 with 1 Axes>"
      ]
     },
     "metadata": {
      "needs_background": "light"
     },
     "output_type": "display_data"
    }
   ],
   "source": [
    "%%time\n",
    "\n",
    "fig, ax = plt.subplots(figsize = (8, 20))\n",
    "\n",
    "subj = pd.DataFrame(dtm['subject'].value_counts()).reset_index()\n",
    "\n",
    "subj.columns = ['subject', 'count']\n",
    "\n",
    "print ('Range:', np.ptp(subj['count']))\n",
    "print (f'Min: {subj[\"count\"].min()}, Max: {subj[\"count\"].max()}')\n",
    "\n",
    "sns.barplot(data = subj.sort_values(by = ['count'], ascending = False), \n",
    "            x = 'count', y = 'subject', color = 'b')"
   ]
  },
  {
   "cell_type": "code",
   "execution_count": 28,
   "id": "perceived-member",
   "metadata": {},
   "outputs": [
    {
     "name": "stdout",
     "output_type": "stream",
     "text": [
      "CPU times: user 91.3 ms, sys: 3.47 ms, total: 94.8 ms\n",
      "Wall time: 93.9 ms\n"
     ]
    },
    {
     "data": {
      "text/plain": [
       "<matplotlib.legend.Legend at 0x7ff7d8b30310>"
      ]
     },
     "execution_count": 28,
     "metadata": {},
     "output_type": "execute_result"
    },
    {
     "data": {
      "text/plain": [
       "<Figure size 864x576 with 0 Axes>"
      ]
     },
     "metadata": {},
     "output_type": "display_data"
    },
    {
     "data": {
      "image/png": "[encoded data removed]",
      "text/plain": [
       "<Figure size 360x360 with 1 Axes>"
      ]
     },
     "metadata": {
      "needs_background": "light"
     },
     "output_type": "display_data"
    }
   ],
   "source": [
    "%%time\n",
    "\n",
    "plt.figure(figsize = (12, 8))\n",
    "\n",
    "ax = sns.displot(subj[\"count\"], kde = True)\n",
    "plt.xlim(0)\n",
    "\n",
    "plt.axvline(np.mean(subj[\"count\"]), color = 'r', label = 'mean')\n",
    "plt.axvline(np.median(subj[\"count\"]), color = 'k', label = 'median')\n",
    "\n",
    "plt.text(150, 15, 'Mean: {:.2f}'.format(subj[\"count\"].mean()))\n",
    "plt.text(150, 13, 'Median: {:.2f}'.format(subj[\"count\"].median()))\n",
    "\n",
    "plt.legend()"
   ]
  },
  {
   "cell_type": "markdown",
   "id": "religious-forth",
   "metadata": {},
   "source": [
    "### Undersample Over-represented Subjects"
   ]
  },
  {
   "cell_type": "code",
   "execution_count": 29,
   "id": "normal-newfoundland",
   "metadata": {},
   "outputs": [
    {
     "name": "stdout",
     "output_type": "stream",
     "text": [
      "Sample shape: (27, 2)\n",
      "\n",
      "Balanced Classes: \n",
      "\tMinimum Subject: 15\n",
      "\tMaximum Subject: 15\n",
      "CPU times: user 20.7 ms, sys: 2.24 ms, total: 22.9 ms\n",
      "Wall time: 21.3 ms\n"
     ]
    }
   ],
   "source": [
    "%%time\n",
    "\n",
    "\n",
    "# Filter out rows with infrequently occuring subject headings.\n",
    "remove_list = subj.query('count < 15')['subject'].tolist()\n",
    "\n",
    "dtm = dtm[~dtm['subject'].isin(remove_list)]\n",
    "dtm.shape\n",
    "\n",
    "# Balance subjects (classes) by undersampling over-represented subjects.\n",
    "sampler = RandomUnderSampler(random_state = 0)\n",
    "\n",
    "data = dtm.drop(columns = ['entry', 'date'])\n",
    "\n",
    "X = data.iloc[:, 1:] # Select features.\n",
    "y = data['subject'] # Select predictor (target).\n",
    "\n",
    "data, y_res = sampler.fit_resample(X, y)\n",
    "\n",
    "# dropped_ids = [i for i in range(X.shape[0]) if i not in sampler.sample_indices_]\n",
    "# X.iloc[dropped_ids]  # for dataframes\n",
    "\n",
    "data['subject'] = y_res\n",
    "\n",
    "# Visualize new balance.\n",
    "sampled_subj = pd.DataFrame(data['subject'].value_counts()).reset_index()\n",
    "print (f'Sample shape: {sampled_subj.shape}')\n",
    "\n",
    "sampled_subj.columns = ['subject', 'count']\n",
    "\n",
    "print (f'\\nBalanced Classes: \\n\\tMinimum Subject: {sampled_subj[\"count\"].min()}\\n\\tMaximum Subject: {sampled_subj[\"count\"].max()}')"
   ]
  },
  {
   "cell_type": "markdown",
   "id": "formal-citizen",
   "metadata": {},
   "source": [
    "## Prediction\n",
    "\n",
    "Do topics accurately predict subject headings (linear regression).\n",
    "\n",
    "* Start with docs with single subject, then introduce multi-subject docs"
   ]
  },
  {
   "cell_type": "markdown",
   "id": "patent-badge",
   "metadata": {},
   "source": [
    "<a id='testing'/>\n",
    "\n",
    "## Test Models"
   ]
  },
  {
   "cell_type": "code",
   "execution_count": 30,
   "id": "vital-breed",
   "metadata": {},
   "outputs": [
    {
     "data": {
      "image/png": "[encoded data removed]",
      "text/plain": [
       "<Figure size 432x288 with 1 Axes>"
      ]
     },
     "metadata": {
      "needs_background": "light"
     },
     "output_type": "display_data"
    },
    {
     "name": "stdout",
     "output_type": "stream",
     "text": [
      "CPU times: user 4.16 s, sys: 41.4 ms, total: 4.2 s\n",
      "Wall time: 2.75 s\n"
     ]
    },
    {
     "data": {
      "text/plain": [
       "model_name\n",
       "CalibratedClassifierCV    0.185185\n",
       "LinearSVC                 0.175309\n",
       "LogisticRegression        0.177778\n",
       "MultinomialNB             0.160494\n",
       "RandomForestClassifier    0.259259\n",
       "Name: accuracy, dtype: float64"
      ]
     },
     "execution_count": 30,
     "metadata": {},
     "output_type": "execute_result"
    }
   ],
   "source": [
    "%%time\n",
    "\n",
    "X = data.iloc[:, :-1] # Select features.\n",
    "y = data['subject'] # Select predictor (target).\n",
    "\n",
    "# Declare models to evaluate.\n",
    "models = [\n",
    "    RandomForestClassifier(n_estimators = 200, max_depth = 3, random_state = 0),\n",
    "    LinearSVC(),\n",
    "    MultinomialNB(),\n",
    "    LogisticRegression(random_state = 0),\n",
    "    CalibratedClassifierCV(base_estimator = LinearSVC())\n",
    "]\n",
    "\n",
    "# Set up cross validation.\n",
    "CV = 5\n",
    "\n",
    "cv_df = pd.DataFrame(index = range(CV * len(models)))\n",
    "\n",
    "# Measure accuracy of models and create dataframe of results.\n",
    "entries = []\n",
    "\n",
    "for model in models:\n",
    "    model_name = model.__class__.__name__\n",
    "    accuracies = cross_val_score(model, X, y, scoring = 'accuracy', cv=CV)\n",
    "    \n",
    "    for fold_idx, accuracy in enumerate(accuracies):\n",
    "        entries.append((model_name, fold_idx, accuracy))\n",
    "        \n",
    "cv_df = pd.DataFrame(entries, columns = ['model_name', 'fold_idx', 'accuracy'])\n",
    "\n",
    "# Visualize model accuracy.\n",
    "sns.boxplot(x = 'model_name', y = 'accuracy', data = cv_df)\n",
    "sns.stripplot(x = 'model_name', y = 'accuracy', data = cv_df, \n",
    "              size = 6, jitter = True, edgecolor = \"gray\", linewidth = 2)\n",
    "\n",
    "plt.xticks(rotation = 30)\n",
    "plt.show()\n",
    "\n",
    "# Print accuracy report.\n",
    "cv_df.groupby('model_name').accuracy.mean()"
   ]
  },
  {
   "cell_type": "markdown",
   "id": "separated-roller",
   "metadata": {},
   "source": [
    "<a id='pipeline'/>\n",
    "\n",
    "## Train Model with Pipeline"
   ]
  },
  {
   "cell_type": "code",
   "execution_count": null,
   "id": "alive-reservoir",
   "metadata": {},
   "outputs": [],
   "source": [
    "%%time\n",
    "\n",
    "X = data.iloc[:, :-1] # Select features.\n",
    "y = data['subject'] # Select predictor (target).\n",
    "\n",
    "# Split data into training & testing sets.\n",
    "X_train, X_test, y_train, y_test = train_test_split(X, y, \n",
    "                                                    test_size = 0.2, \n",
    "                                                    random_state = 42, \n",
    "                                                    stratify = y)\n",
    "\n",
    "# Transformers\n",
    "numeric_transformer = Pipeline( steps = [\n",
    "    ('imputer', SimpleImputer(strategy = 'median')),\n",
    "    ('scaler', StandardScaler())\n",
    "])\n",
    "\n",
    "categorical_transformer = Pipeline( steps = [\n",
    "    ('imputer', SimpleImputer(strategy = 'constant', fill_value = 'missing')),\n",
    "    ('onehot', OneHotEncoder(drop = 'first', handle_unknown = 'ignore'))\n",
    "])\n",
    "\n",
    "cat_features = data.select_dtypes(include = ['object', 'bool']).columns\n",
    "num_features = data.select_dtypes(include = ['int64', 'float64']).columns\n",
    "\n",
    "# Apply transformers.\n",
    "preprocessor = ColumnTransformer( transformers = [\n",
    "    ('num', numeric_transformer, num_features),\n",
    "    ('cat', categorical_transformer, selector(dtype_include = 'category'))\n",
    "])\n",
    "\n",
    "# Assemble pipeline.\n",
    "pipe = Pipeline( steps = [\n",
    "    ('preprocess', preprocessor),\n",
    "    ('classifier', RandomForestClassifier(n_estimators = 200, max_depth = 3, random_state = 0))\n",
    "])\n",
    "\n",
    "# Instantiate cross validation.\n",
    "cv = RepeatedStratifiedKFold(n_splits = 10, n_repeats = 3, random_state = 1)\n",
    "\n",
    "scores = cross_val_score(pipe, X, y, cv = cv, n_jobs = -1)\n",
    "print (\"Cross Validation Accuracy: \", round(scores.mean() * 100, 2), '%')\n",
    "\n",
    "# Cross check with another method.\n",
    "pipe.fit(X_train, y_train)\n",
    "print ('Model score: %.3f\\n' % pipe.score(X_test, y_test))"
   ]
  },
  {
   "cell_type": "markdown",
   "id": "civilian-event",
   "metadata": {},
   "source": [
    "<a id = 'gridsearch'/>\n",
    "\n",
    "## GridSeachCV for Model Tuning"
   ]
  },
  {
   "cell_type": "code",
   "execution_count": null,
   "id": "technical-production",
   "metadata": {},
   "outputs": [],
   "source": [
    "%%time\n",
    "\n",
    "param_grid = { \n",
    "    'classifier__n_estimators': [200, 500],\n",
    "    'classifier__max_features': ['auto', 'sqrt', 'log2'],\n",
    "    'classifier__max_depth' : [4,5,6,7,8],\n",
    "    'classifier__criterion' :['gini', 'entropy']\n",
    "}\n",
    "\n",
    "\n",
    "cv = GridSearchCV(pipe, param_grid, n_jobs= -1)                \n",
    "cv.fit(X_train, y_train)\n",
    "\n",
    "print(f'Best Parameters: {cv.best_params_}')\n",
    "print(f'\\nBest Score: {cv.best_score_}')"
   ]
  },
  {
   "cell_type": "code",
   "execution_count": null,
   "id": "available-present",
   "metadata": {},
   "outputs": [],
   "source": []
  }
 ],
 "metadata": {
  "kernelspec": {
   "display_name": "Python 3",
   "language": "python",
   "name": "python3"
  },
  "language_info": {
   "codemirror_mode": {
    "name": "ipython",
    "version": 3
   },
   "file_extension": ".py",
   "mimetype": "text/x-python",
   "name": "python",
   "nbconvert_exporter": "python",
   "pygments_lexer": "ipython3",
   "version": "3.8.5"
  }
 },
 "nbformat": 4,
 "nbformat_minor": 5
}
