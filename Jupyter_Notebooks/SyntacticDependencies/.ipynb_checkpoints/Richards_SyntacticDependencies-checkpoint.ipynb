{
 "cells": [
  {
   "cell_type": "markdown",
   "id": "cfe2a554",
   "metadata": {},
   "source": [
    "# Richards -- Syntactic Dependencies"
   ]
  },
  {
   "cell_type": "code",
   "execution_count": 1,
   "id": "88356f65",
   "metadata": {},
   "outputs": [],
   "source": [
    "import re, json, glob, csv, sys, os, warnings, spacy, nltk\n",
    "import pandas as pd\n",
    "import numpy as np\n",
    "import seaborn as sns\n",
    "import matplotlib.pyplot as plt\n",
    "\n",
    "# Import spaCy language model\n",
    "nlp = spacy.load('en_core_web_sm')\n",
    "\n",
    "# Ignore warnings related to deprecated functions.\n",
    "warnings.filterwarnings('ignore')\n",
    "\n",
    "# Import project-specific functions. \n",
    "# Python files (.py) have to be in same folder to work.\n",
    "lib_path = os.path.abspath(os.path.join(os.path.dirname('Correspondence_XML_parser.py'), '../Scripts'))\n",
    "sys.path.append(lib_path)\n",
    "from Correspondence_XML_parser import *\n",
    "\n",
    "# Read in config.py (git ignored file) for API username and pw.\n",
    "config_path = os.path.abspath(os.path.join(os.path.dirname('config.py'), '../Scripts'))\n",
    "sys.path.append(config_path)\n",
    "import config\n",
    "\n",
    "url = 'https://dsg.xmldb-dev.northeastern.edu/BaseX964/rest/psc/'\n",
    "user = config.username\n",
    "pw = config.password"
   ]
  },
  {
   "cell_type": "markdown",
   "id": "4f910ccc",
   "metadata": {},
   "source": [
    "## Gather XML Files"
   ]
  },
  {
   "cell_type": "code",
   "execution_count": 2,
   "id": "8c418346",
   "metadata": {},
   "outputs": [
    {
     "name": "stdout",
     "output_type": "stream",
     "text": [
      "CPU times: user 748 µs, sys: 960 µs, total: 1.71 ms\n",
      "Wall time: 1.15 ms\n"
     ]
    },
    {
     "data": {
      "text/plain": [
       "20"
      ]
     },
     "execution_count": 2,
     "metadata": {},
     "output_type": "execute_result"
    }
   ],
   "source": [
    "%%time\n",
    "\n",
    "# Declare directory location to shorten filepaths later.\n",
    "abs_dir = \"/Users/quinn.wi/Documents/\"\n",
    "\n",
    "input_directory = \"Data/PSC/Richards/ESR-XML-Files-MHS/*.xml\"\n",
    "\n",
    "# Gather all .xml files using glob.\n",
    "files = glob.glob(abs_dir + input_directory)\n",
    "\n",
    "len(files)"
   ]
  },
  {
   "cell_type": "code",
   "execution_count": 3,
   "id": "a338efeb",
   "metadata": {},
   "outputs": [],
   "source": [
    "# %%time\n",
    "\n",
    "# # Must be connected to Northeastern's VPN.\n",
    "# r = requests.get(url, \n",
    "#                  auth = (user, pw), \n",
    "#                  headers = {'Content-Type': 'application/xml'}\n",
    "#                 )\n",
    "    \n",
    "# # Read in contents of pipeline.\n",
    "# soup = BeautifulSoup(r.content, 'html.parser')\n",
    "\n",
    "# # Split soup's content by \\n (each line is a file path to an XML doc).\n",
    "# # Use filter() to remove empty strings ('').\n",
    "# # Convert back to list using list().\n",
    "# files = list(filter(None, soup.text.split('\\n')))\n",
    "\n",
    "# # Filter list and retrieve only jqa/ files.\n",
    "# files = [i for i in files if 'esr/' in i]\n",
    "\n",
    "# len(files)"
   ]
  },
  {
   "cell_type": "markdown",
   "id": "9b7a4406",
   "metadata": {},
   "source": [
    "## Build Dataframe"
   ]
  },
  {
   "cell_type": "code",
   "execution_count": 4,
   "id": "82d50427",
   "metadata": {},
   "outputs": [
    {
     "name": "stdout",
     "output_type": "stream",
     "text": [
      "/Users/quinn.wi/Documents/Data/PSC/Richards/ESR-XML-Files-MHS/ESR-EDA-1893-09-24.xml \n",
      "\n",
      "CPU times: user 9.71 ms, sys: 3.38 ms, total: 13.1 ms\n",
      "Wall time: 14.7 ms\n"
     ]
    },
    {
     "data": {
      "text/html": [
       "<div>\n",
       "<style scoped>\n",
       "    .dataframe tbody tr th:only-of-type {\n",
       "        vertical-align: middle;\n",
       "    }\n",
       "\n",
       "    .dataframe tbody tr th {\n",
       "        vertical-align: top;\n",
       "    }\n",
       "\n",
       "    .dataframe thead th {\n",
       "        text-align: right;\n",
       "    }\n",
       "</style>\n",
       "<table border=\"1\" class=\"dataframe\">\n",
       "  <thead>\n",
       "    <tr style=\"text-align: right;\">\n",
       "      <th></th>\n",
       "      <th>file</th>\n",
       "      <th>date</th>\n",
       "      <th>source</th>\n",
       "      <th>target</th>\n",
       "      <th>subjects</th>\n",
       "      <th>references</th>\n",
       "      <th>text</th>\n",
       "    </tr>\n",
       "  </thead>\n",
       "  <tbody>\n",
       "    <tr>\n",
       "      <th>0</th>\n",
       "      <td>ESR-EDA-1892-01-08.xml</td>\n",
       "      <td>1892-01-08</td>\n",
       "      <td>richards-ellen</td>\n",
       "      <td>atkinson-edward</td>\n",
       "      <td>1893 Chicago World's Fair,Aladdin Oven,New Eng...</td>\n",
       "      <td>palmer-bertha,hovey-e,daniells-unknown</td>\n",
       "      <td>Boston Jan 8 1892 My dear Mr Atkinson I enclo...</td>\n",
       "    </tr>\n",
       "    <tr>\n",
       "      <th>1</th>\n",
       "      <td>ESR-EDA-1892-04-12.xml</td>\n",
       "      <td>1892-04-12</td>\n",
       "      <td>richards-ellen</td>\n",
       "      <td>atkinson-edward</td>\n",
       "      <td>Aladdin Oven,nutrition,cooking</td>\n",
       "      <td>abel-mary</td>\n",
       "      <td>April 12— Dear Mr Atkinson I expect Mrs Abel ...</td>\n",
       "    </tr>\n",
       "    <tr>\n",
       "      <th>2</th>\n",
       "      <td>ESR-EDA-1892-04-07.xml</td>\n",
       "      <td>1892-04-07</td>\n",
       "      <td>richards-ellen</td>\n",
       "      <td>atkinson-edward</td>\n",
       "      <td>Aladdin Oven,Nutrition,cooking</td>\n",
       "      <td>conro-emma,abel-mary</td>\n",
       "      <td>Boston, April 7, 1892 My dear Mr. Atkinson I ...</td>\n",
       "    </tr>\n",
       "  </tbody>\n",
       "</table>\n",
       "</div>"
      ],
      "text/plain": [
       "                     file        date          source           target  \\\n",
       "0  ESR-EDA-1892-01-08.xml  1892-01-08  richards-ellen  atkinson-edward   \n",
       "1  ESR-EDA-1892-04-12.xml  1892-04-12  richards-ellen  atkinson-edward   \n",
       "2  ESR-EDA-1892-04-07.xml  1892-04-07  richards-ellen  atkinson-edward   \n",
       "\n",
       "                                            subjects  \\\n",
       "0  1893 Chicago World's Fair,Aladdin Oven,New Eng...   \n",
       "1                     Aladdin Oven,nutrition,cooking   \n",
       "2                     Aladdin Oven,Nutrition,cooking   \n",
       "\n",
       "                               references  \\\n",
       "0  palmer-bertha,hovey-e,daniells-unknown   \n",
       "1                               abel-mary   \n",
       "2                    conro-emma,abel-mary   \n",
       "\n",
       "                                                text  \n",
       "0   Boston Jan 8 1892 My dear Mr Atkinson I enclo...  \n",
       "1   April 12— Dear Mr Atkinson I expect Mrs Abel ...  \n",
       "2   Boston, April 7, 1892 My dear Mr. Atkinson I ...  "
      ]
     },
     "execution_count": 4,
     "metadata": {},
     "output_type": "execute_result"
    }
   ],
   "source": [
    "%%time\n",
    "\n",
    "# Build dataframe from XML files.\n",
    "# build_dataframe() called from Correspondence_XML_parser\n",
    "# df = build_dataframe(files, url, user, pw)\n",
    "\n",
    "df = build_dataframe(files)\n",
    "\n",
    "df.head(3)"
   ]
  },
  {
   "cell_type": "markdown",
   "id": "2a9d757c",
   "metadata": {},
   "source": [
    "## Get Syntactic Dependencies\n",
    "\n",
    "Getting the dependencies of every word would take up a lot of memory. Therefore, we'll focus only on the nouns for now."
   ]
  },
  {
   "cell_type": "code",
   "execution_count": 5,
   "id": "bca14b66",
   "metadata": {},
   "outputs": [
    {
     "name": "stdout",
     "output_type": "stream",
     "text": [
      "CPU times: user 489 ms, sys: 7.84 ms, total: 497 ms\n",
      "Wall time: 501 ms\n"
     ]
    },
    {
     "data": {
      "text/html": [
       "<div>\n",
       "<style scoped>\n",
       "    .dataframe tbody tr th:only-of-type {\n",
       "        vertical-align: middle;\n",
       "    }\n",
       "\n",
       "    .dataframe tbody tr th {\n",
       "        vertical-align: top;\n",
       "    }\n",
       "\n",
       "    .dataframe thead th {\n",
       "        text-align: right;\n",
       "    }\n",
       "</style>\n",
       "<table border=\"1\" class=\"dataframe\">\n",
       "  <thead>\n",
       "    <tr style=\"text-align: right;\">\n",
       "      <th></th>\n",
       "      <th>file</th>\n",
       "      <th>date</th>\n",
       "      <th>source</th>\n",
       "      <th>target</th>\n",
       "      <th>subjects</th>\n",
       "      <th>references</th>\n",
       "      <th>text</th>\n",
       "      <th>dependencies</th>\n",
       "    </tr>\n",
       "  </thead>\n",
       "  <tbody>\n",
       "    <tr>\n",
       "      <th>0</th>\n",
       "      <td>ESR-EDA-1892-01-08.xml</td>\n",
       "      <td>1892-01-08</td>\n",
       "      <td>richards-ellen</td>\n",
       "      <td>atkinson-edward</td>\n",
       "      <td>1893 Chicago World's Fair,Aladdin Oven,New Eng...</td>\n",
       "      <td>palmer-bertha,hovey-e,daniells-unknown</td>\n",
       "      <td>Boston Jan 8 1892 My dear Mr Atkinson I enclo...</td>\n",
       "      <td>[(outline, a), (outline, brief), (outline, of)...</td>\n",
       "    </tr>\n",
       "    <tr>\n",
       "      <th>1</th>\n",
       "      <td>ESR-EDA-1892-04-12.xml</td>\n",
       "      <td>1892-04-12</td>\n",
       "      <td>richards-ellen</td>\n",
       "      <td>atkinson-edward</td>\n",
       "      <td>Aladdin Oven,nutrition,cooking</td>\n",
       "      <td>abel-mary</td>\n",
       "      <td>April 12— Dear Mr Atkinson I expect Mrs Abel ...</td>\n",
       "      <td>[(noon, tomorrow), (tech, on), (tech, .), (dou...</td>\n",
       "    </tr>\n",
       "    <tr>\n",
       "      <th>2</th>\n",
       "      <td>ESR-EDA-1892-04-07.xml</td>\n",
       "      <td>1892-04-07</td>\n",
       "      <td>richards-ellen</td>\n",
       "      <td>atkinson-edward</td>\n",
       "      <td>Aladdin Oven,Nutrition,cooking</td>\n",
       "      <td>conro-emma,abel-mary</td>\n",
       "      <td>Boston, April 7, 1892 My dear Mr. Atkinson I ...</td>\n",
       "      <td>[(book, that), (book, little), (book, blue), (...</td>\n",
       "    </tr>\n",
       "  </tbody>\n",
       "</table>\n",
       "</div>"
      ],
      "text/plain": [
       "                     file        date          source           target  \\\n",
       "0  ESR-EDA-1892-01-08.xml  1892-01-08  richards-ellen  atkinson-edward   \n",
       "1  ESR-EDA-1892-04-12.xml  1892-04-12  richards-ellen  atkinson-edward   \n",
       "2  ESR-EDA-1892-04-07.xml  1892-04-07  richards-ellen  atkinson-edward   \n",
       "\n",
       "                                            subjects  \\\n",
       "0  1893 Chicago World's Fair,Aladdin Oven,New Eng...   \n",
       "1                     Aladdin Oven,nutrition,cooking   \n",
       "2                     Aladdin Oven,Nutrition,cooking   \n",
       "\n",
       "                               references  \\\n",
       "0  palmer-bertha,hovey-e,daniells-unknown   \n",
       "1                               abel-mary   \n",
       "2                    conro-emma,abel-mary   \n",
       "\n",
       "                                                text  \\\n",
       "0   Boston Jan 8 1892 My dear Mr Atkinson I enclo...   \n",
       "1   April 12— Dear Mr Atkinson I expect Mrs Abel ...   \n",
       "2   Boston, April 7, 1892 My dear Mr. Atkinson I ...   \n",
       "\n",
       "                                        dependencies  \n",
       "0  [(outline, a), (outline, brief), (outline, of)...  \n",
       "1  [(noon, tomorrow), (tech, on), (tech, .), (dou...  \n",
       "2  [(book, that), (book, little), (book, blue), (...  "
      ]
     },
     "execution_count": 5,
     "metadata": {},
     "output_type": "execute_result"
    }
   ],
   "source": [
    "%%time\n",
    "\n",
    "# Declare function to extract ngrams based on syntax.\n",
    "def get_syntactic_dependencies(text):\n",
    "    doc = nlp(text)\n",
    "    \n",
    "#     Create an empty list to hold nouns and their dependencies as bigrams.\n",
    "    noun_bigrams = []\n",
    "    \n",
    "    for token in doc:\n",
    "        if token.pos_ == 'NOUN': # Only accept nouns (selected parts of speech)\n",
    "            for child in token.children:\n",
    "                \n",
    "                noun_bigrams.append( (token.lemma_, child.lemma_) )\n",
    "                    \n",
    "                \n",
    "    if noun_bigrams:\n",
    "        return noun_bigrams\n",
    "    \n",
    "# Get dependencies.\n",
    "df['dependencies'] = df['text'].apply(get_syntactic_dependencies)\n",
    "\n",
    "df.head(3)"
   ]
  },
  {
   "cell_type": "markdown",
   "id": "c187a0a1",
   "metadata": {},
   "source": [
    "## Pointwise Mutual Information to Determine Significant Dependencies"
   ]
  },
  {
   "cell_type": "code",
   "execution_count": 6,
   "id": "8d86de7b",
   "metadata": {},
   "outputs": [
    {
     "name": "stdout",
     "output_type": "stream",
     "text": [
      "CPU times: user 4 µs, sys: 0 ns, total: 4 µs\n",
      "Wall time: 5.01 µs\n"
     ]
    }
   ],
   "source": [
    "%%time\n",
    "\n",
    "# Treat dependencies as bigrams.\n",
    "bigram_measures = nltk.collocations.BigramAssocMeasures()"
   ]
  },
  {
   "cell_type": "code",
   "execution_count": null,
   "id": "b71d9f84",
   "metadata": {},
   "outputs": [],
   "source": []
  }
 ],
 "metadata": {
  "kernelspec": {
   "display_name": "Python 3 (ipykernel)",
   "language": "python",
   "name": "python3"
  },
  "language_info": {
   "codemirror_mode": {
    "name": "ipython",
    "version": 3
   },
   "file_extension": ".py",
   "mimetype": "text/x-python",
   "name": "python",
   "nbconvert_exporter": "python",
   "pygments_lexer": "ipython3",
   "version": "3.8.5"
  }
 },
 "nbformat": 4,
 "nbformat_minor": 5
}
