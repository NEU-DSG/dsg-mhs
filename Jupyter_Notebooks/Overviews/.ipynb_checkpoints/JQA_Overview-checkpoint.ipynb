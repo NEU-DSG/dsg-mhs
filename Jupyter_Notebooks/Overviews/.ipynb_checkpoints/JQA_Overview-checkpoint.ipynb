{
 "cells": [
  {
   "cell_type": "markdown",
   "id": "1e5e22a7",
   "metadata": {},
   "source": [
    "# JQA - Overview"
   ]
  },
  {
   "cell_type": "code",
   "execution_count": null,
   "id": "a55450c3",
   "metadata": {},
   "outputs": [],
   "source": [
    "import re, json, glob, csv, sys, os, warnings\n",
    "import pandas as pd\n",
    "import numpy as np\n",
    "import seaborn as sns\n",
    "import matplotlib.pyplot as plt\n",
    "\n",
    "# Import project-specific functions. \n",
    "# Python files (.py) have to be in same folder to work.\n",
    "lib_path = os.path.abspath(os.path.join(os.path.dirname('JQA_XML_parser.py'), '../Scripts'))\n",
    "sys.path.append(lib_path)\n",
    "from JQA_XML_parser import *\n",
    "\n",
    "# Read in config.py (git ignored file) for API username and pw.\n",
    "config_path = os.path.abspath(os.path.join(os.path.dirname('config.py'), '../Scripts'))\n",
    "sys.path.append(config_path)\n",
    "import config\n",
    "\n",
    "# Ignore warnings related to deprecated functions.\n",
    "warnings.filterwarnings('ignore')\n",
    "\n",
    "# url = 'https://dsg.xmldb-dev.northeastern.edu/basex/psc/' :: old\n",
    "url = 'https://dsg.xmldb-dev.northeastern.edu/BaseX964/rest/psc/'\n",
    "user = config.username\n",
    "pw = config.password"
   ]
  },
  {
   "cell_type": "markdown",
   "id": "826f104f",
   "metadata": {},
   "source": [
    "## Gather XML Files"
   ]
  },
  {
   "cell_type": "code",
   "execution_count": null,
   "id": "254242a6",
   "metadata": {},
   "outputs": [],
   "source": [
    "%%time\n",
    "\n",
    "# Must be connected to Northeastern's VPN.\n",
    "r = requests.get(url, \n",
    "                 auth = (user, pw), \n",
    "                 headers = {'Content-Type': 'application/xml'}\n",
    "                )\n",
    "\n",
    "# Check status of URL\n",
    "print (r.status_code)\n",
    "\n",
    "# Read in contents of pipeline.\n",
    "soup = BeautifulSoup(r.content, 'html.parser')\n",
    "\n",
    "# Split soup's content by \\n (each line is a file path to an XML doc).\n",
    "# Use filter() to remove empty strings ('').\n",
    "# Convert back to list using list().\n",
    "files = list(filter(None, soup.text.split('\\n')))\n",
    "\n",
    "# # Filter list and retrieve only jqa/ files.\n",
    "# files = [i for i in files if 'jqa/' in i]\n",
    "\n",
    "# len(files)\n",
    "files"
   ]
  },
  {
   "cell_type": "markdown",
   "id": "1434034f",
   "metadata": {},
   "source": [
    "## Build DataFrame"
   ]
  },
  {
   "cell_type": "code",
   "execution_count": null,
   "id": "bcbfc706",
   "metadata": {},
   "outputs": [],
   "source": [
    "%%time\n",
    "\n",
    "# Build dataframe from XML files.\n",
    "# build_dataframe() called from Correspondence_XML_parser\n",
    "df = build_dataframe(files, url, user, pw)"
   ]
  }
 ],
 "metadata": {
  "kernelspec": {
   "display_name": "Python 3 (ipykernel)",
   "language": "python",
   "name": "python3"
  },
  "language_info": {
   "codemirror_mode": {
    "name": "ipython",
    "version": 3
   },
   "file_extension": ".py",
   "mimetype": "text/x-python",
   "name": "python",
   "nbconvert_exporter": "python",
   "pygments_lexer": "ipython3",
   "version": "3.8.5"
  }
 },
 "nbformat": 4,
 "nbformat_minor": 5
}
