{
 "cells": [
  {
   "cell_type": "markdown",
   "id": "unlimited-desperate",
   "metadata": {},
   "source": [
    "# GeoTagger - Spacy"
   ]
  },
  {
   "cell_type": "code",
   "execution_count": 1,
   "id": "2fc4a28f",
   "metadata": {},
   "outputs": [],
   "source": [
    "# Import necessary libraries.\n",
    "import re, warnings, urllib, requests, spacy, geopy, folium, os, sys, glob\n",
    "import pandas as pd\n",
    "import numpy as np\n",
    "from collections import Counter\n",
    "from geopy.extra.rate_limiter import RateLimiter\n",
    "\n",
    "# Import project-specific functions. \n",
    "# Python files (.py) have to be in same folder to work.\n",
    "lib_path = os.path.abspath(os.path.join(os.path.dirname('Correspondence_XML_parser.py'), '../Scripts'))\n",
    "sys.path.append(lib_path)\n",
    "\n",
    "from Correspondence_XML_parser import *\n",
    "\n",
    "nlp = spacy.load('en_core_web_sm')\n",
    "\n",
    "# Ignore warnings related to deprecated functions.\n",
    "warnings.filterwarnings('ignore')"
   ]
  },
  {
   "cell_type": "markdown",
   "id": "66b06ff9",
   "metadata": {},
   "source": [
    "## Get XML Files"
   ]
  },
  {
   "cell_type": "code",
   "execution_count": 2,
   "id": "hawaiian-grove",
   "metadata": {},
   "outputs": [
    {
     "name": "stdout",
     "output_type": "stream",
     "text": [
      "CPU times: user 1.14 ms, sys: 1.22 ms, total: 2.36 ms\n",
      "Wall time: 1.35 ms\n"
     ]
    },
    {
     "data": {
      "text/plain": [
       "122"
      ]
     },
     "execution_count": 2,
     "metadata": {},
     "output_type": "execute_result"
    }
   ],
   "source": [
    "%%time\n",
    "\n",
    "# Declare directory location to shorten filepaths later.\n",
    "abs_dir = \"/Users/quinn.wi/Documents/Data\"\n",
    "files = glob.glob(abs_dir + \"/PSC/Sedgwick/*.xml\")\n",
    "\n",
    "len(files)"
   ]
  },
  {
   "cell_type": "markdown",
   "id": "5a329b26",
   "metadata": {},
   "source": [
    "## Build Dataframe"
   ]
  },
  {
   "cell_type": "code",
   "execution_count": 3,
   "id": "6c941ad0",
   "metadata": {},
   "outputs": [
    {
     "name": "stdout",
     "output_type": "stream",
     "text": [
      "/Users/quinn.wi/Documents/Data/PSC/Sedgwick/CMS1807-04-26-toFrancesSedgwickWatsonFD.xml \n",
      "\n",
      "/Users/quinn.wi/Documents/Data/PSC/Sedgwick/CMS1803-10-06-toPamelaDwightSedgwickF.xml \n",
      "\n",
      "/Users/quinn.wi/Documents/Data/PSC/Sedgwick/CMS1809-01-27-toTheodoreSedgwickIFD.xml \n",
      "\n",
      "/Users/quinn.wi/Documents/Data/PSC/Sedgwick/CMS1807-12-25-toFrancesSedgwickWatsonFD.xml \n",
      "\n",
      "/Users/quinn.wi/Documents/Data/PSC/Sedgwick/CMS1806-01-17-toPamelaDwightSedgwickFD (1).xml \n",
      "\n",
      "/Users/quinn.wi/Documents/Data/PSC/Sedgwick/CMS1805-11-29-toPamelaDwightSedgwickFD.xml \n",
      "\n",
      "/Users/quinn.wi/Documents/Data/PSC/Sedgwick/CMS1807-04-26-toFSWF.xml \n",
      "\n",
      "/Users/quinn.wi/Documents/Data/PSC/Sedgwick/CMS1800-01-12-toTheodoreSedgwickIF.xml \n",
      "\n",
      "/Users/quinn.wi/Documents/Data/PSC/Sedgwick/CMS1805-11-15-toPamelaDwightSedgwickFD (1).xml \n",
      "\n",
      "/Users/quinn.wi/Documents/Data/PSC/Sedgwick/CMS1807-12-28-toFrancesSedgwickWatsonFD.xml \n",
      "\n",
      "/Users/quinn.wi/Documents/Data/PSC/Sedgwick/CMS1807-03-24-toFrancesSedgwickWatsonFD.xml \n",
      "\n",
      "/Users/quinn.wi/Documents/Data/PSC/Sedgwick/CMS1808-11-22-toTheodoreSedgwickIFD.xml \n",
      "\n",
      "/Users/quinn.wi/Documents/Data/PSC/Sedgwick/CMS1806-01-17-toPamelaDwightSedgwickFD.xml \n",
      "\n",
      "CPU times: user 72.6 ms, sys: 8.99 ms, total: 81.6 ms\n",
      "Wall time: 80 ms\n"
     ]
    },
    {
     "data": {
      "text/html": [
       "<div>\n",
       "<style scoped>\n",
       "    .dataframe tbody tr th:only-of-type {\n",
       "        vertical-align: middle;\n",
       "    }\n",
       "\n",
       "    .dataframe tbody tr th {\n",
       "        vertical-align: top;\n",
       "    }\n",
       "\n",
       "    .dataframe thead th {\n",
       "        text-align: right;\n",
       "    }\n",
       "</style>\n",
       "<table border=\"1\" class=\"dataframe\">\n",
       "  <thead>\n",
       "    <tr style=\"text-align: right;\">\n",
       "      <th></th>\n",
       "      <th>file</th>\n",
       "      <th>date</th>\n",
       "      <th>source</th>\n",
       "      <th>target</th>\n",
       "      <th>subjects</th>\n",
       "      <th>references</th>\n",
       "      <th>text</th>\n",
       "    </tr>\n",
       "  </thead>\n",
       "  <tbody>\n",
       "    <tr>\n",
       "      <th>0</th>\n",
       "      <td>CMS1819-03-08-toRobertSedgwickIF (1).xml</td>\n",
       "      <td>1819-03-08</td>\n",
       "      <td>Catharine Maria Sedgwick</td>\n",
       "      <td>sedgwick-robert</td>\n",
       "      <td></td>\n",
       "      <td>sedgwick-charles,sedgwick-elizabeth,sedgwick-h...</td>\n",
       "      <td>Albany March 8' 1819 -- I came here my dear Ro...</td>\n",
       "    </tr>\n",
       "    <tr>\n",
       "      <th>1</th>\n",
       "      <td>CMS1816-03-25-toFrancesSedgwickWatsonF.xml</td>\n",
       "      <td>1816-03-25</td>\n",
       "      <td>Catharine Maria Sedgwick</td>\n",
       "      <td>FSW</td>\n",
       "      <td></td>\n",
       "      <td>RSI,banyer-maria,jay-sarah,van vechten-jacob,s...</td>\n",
       "      <td>Albany March 25th 1816 I have just heard of an...</td>\n",
       "    </tr>\n",
       "    <tr>\n",
       "      <th>2</th>\n",
       "      <td>CMS1813-08-15-toRobertSedgwickIF.xml</td>\n",
       "      <td>1813-08-15</td>\n",
       "      <td>Catharine Maria Sedgwick</td>\n",
       "      <td>RSI</td>\n",
       "      <td></td>\n",
       "      <td>FSW,U,payne-eloise,warner-thomas,warner-france...</td>\n",
       "      <td>Stockbridge August 15th 1813 I recollect very...</td>\n",
       "    </tr>\n",
       "  </tbody>\n",
       "</table>\n",
       "</div>"
      ],
      "text/plain": [
       "                                         file        date  \\\n",
       "0    CMS1819-03-08-toRobertSedgwickIF (1).xml  1819-03-08   \n",
       "1  CMS1816-03-25-toFrancesSedgwickWatsonF.xml  1816-03-25   \n",
       "2        CMS1813-08-15-toRobertSedgwickIF.xml  1813-08-15   \n",
       "\n",
       "                     source           target subjects  \\\n",
       "0  Catharine Maria Sedgwick  sedgwick-robert            \n",
       "1  Catharine Maria Sedgwick              FSW            \n",
       "2  Catharine Maria Sedgwick              RSI            \n",
       "\n",
       "                                          references  \\\n",
       "0  sedgwick-charles,sedgwick-elizabeth,sedgwick-h...   \n",
       "1  RSI,banyer-maria,jay-sarah,van vechten-jacob,s...   \n",
       "2  FSW,U,payne-eloise,warner-thomas,warner-france...   \n",
       "\n",
       "                                                text  \n",
       "0  Albany March 8' 1819 -- I came here my dear Ro...  \n",
       "1  Albany March 25th 1816 I have just heard of an...  \n",
       "2   Stockbridge August 15th 1813 I recollect very...  "
      ]
     },
     "execution_count": 3,
     "metadata": {},
     "output_type": "execute_result"
    }
   ],
   "source": [
    "%%time\n",
    "\n",
    "# Build dataframe from XML files.\n",
    "# build_dataframe() called from Correspondence_XML_parser\n",
    "df = build_dataframe(files)\n",
    "\n",
    "df.head(3)"
   ]
  },
  {
   "cell_type": "markdown",
   "id": "limiting-sight",
   "metadata": {},
   "source": [
    "## Get Place Names"
   ]
  },
  {
   "cell_type": "code",
   "execution_count": 4,
   "id": "natural-circumstances",
   "metadata": {},
   "outputs": [
    {
     "name": "stdout",
     "output_type": "stream",
     "text": [
      "CPU times: user 7.23 s, sys: 238 ms, total: 7.47 s\n",
      "Wall time: 7.5 s\n"
     ]
    },
    {
     "data": {
      "text/html": [
       "<div>\n",
       "<style scoped>\n",
       "    .dataframe tbody tr th:only-of-type {\n",
       "        vertical-align: middle;\n",
       "    }\n",
       "\n",
       "    .dataframe tbody tr th {\n",
       "        vertical-align: top;\n",
       "    }\n",
       "\n",
       "    .dataframe thead th {\n",
       "        text-align: right;\n",
       "    }\n",
       "</style>\n",
       "<table border=\"1\" class=\"dataframe\">\n",
       "  <thead>\n",
       "    <tr style=\"text-align: right;\">\n",
       "      <th></th>\n",
       "      <th>file</th>\n",
       "      <th>date</th>\n",
       "      <th>places</th>\n",
       "    </tr>\n",
       "  </thead>\n",
       "  <tbody>\n",
       "    <tr>\n",
       "      <th>0</th>\n",
       "      <td>CMS1819-03-08-toRobertSedgwickIF (1).xml</td>\n",
       "      <td>1819-03-08</td>\n",
       "      <td>Albany</td>\n",
       "    </tr>\n",
       "    <tr>\n",
       "      <th>0</th>\n",
       "      <td>CMS1819-03-08-toRobertSedgwickIF (1).xml</td>\n",
       "      <td>1819-03-08</td>\n",
       "      <td>Northampton</td>\n",
       "    </tr>\n",
       "    <tr>\n",
       "      <th>0</th>\n",
       "      <td>CMS1819-03-08-toRobertSedgwickIF (1).xml</td>\n",
       "      <td>1819-03-08</td>\n",
       "      <td>Boston</td>\n",
       "    </tr>\n",
       "  </tbody>\n",
       "</table>\n",
       "</div>"
      ],
      "text/plain": [
       "                                       file        date       places\n",
       "0  CMS1819-03-08-toRobertSedgwickIF (1).xml  1819-03-08       Albany\n",
       "0  CMS1819-03-08-toRobertSedgwickIF (1).xml  1819-03-08  Northampton\n",
       "0  CMS1819-03-08-toRobertSedgwickIF (1).xml  1819-03-08       Boston"
      ]
     },
     "execution_count": 4,
     "metadata": {},
     "output_type": "execute_result"
    }
   ],
   "source": [
    "%%time\n",
    "\n",
    "def get_placenames(text):\n",
    "    doc = nlp(text)\n",
    "    places = [ent.text for ent in doc.ents if ent.label_ in ['LOC', 'GPE']]\n",
    "    return places\n",
    "    \n",
    "df['places'] = df['text'].apply(lambda x: get_placenames(x))\n",
    "\n",
    "df = df[['file', 'date', 'places']]\n",
    "df = df.explode('places')\n",
    "\n",
    "df.head(3)"
   ]
  },
  {
   "cell_type": "markdown",
   "id": "deluxe-wayne",
   "metadata": {},
   "source": [
    "## GeoCode Places"
   ]
  },
  {
   "cell_type": "code",
   "execution_count": 5,
   "id": "interim-species",
   "metadata": {},
   "outputs": [
    {
     "name": "stdout",
     "output_type": "stream",
     "text": [
      "CPU times: user 3.25 s, sys: 218 ms, total: 3.47 s\n",
      "Wall time: 4min 14s\n"
     ]
    },
    {
     "data": {
      "text/html": [
       "<div>\n",
       "<style scoped>\n",
       "    .dataframe tbody tr th:only-of-type {\n",
       "        vertical-align: middle;\n",
       "    }\n",
       "\n",
       "    .dataframe tbody tr th {\n",
       "        vertical-align: top;\n",
       "    }\n",
       "\n",
       "    .dataframe thead th {\n",
       "        text-align: right;\n",
       "    }\n",
       "</style>\n",
       "<table border=\"1\" class=\"dataframe\">\n",
       "  <thead>\n",
       "    <tr style=\"text-align: right;\">\n",
       "      <th></th>\n",
       "      <th>file</th>\n",
       "      <th>date</th>\n",
       "      <th>places</th>\n",
       "      <th>coordinates</th>\n",
       "      <th>lat</th>\n",
       "      <th>lon</th>\n",
       "    </tr>\n",
       "  </thead>\n",
       "  <tbody>\n",
       "    <tr>\n",
       "      <th>0</th>\n",
       "      <td>CMS1819-03-08-toRobertSedgwickIF (1).xml</td>\n",
       "      <td>1819-03-08</td>\n",
       "      <td>Albany</td>\n",
       "      <td>(41.000028, 19.9999619)</td>\n",
       "      <td>41.000028</td>\n",
       "      <td>19.999962</td>\n",
       "    </tr>\n",
       "    <tr>\n",
       "      <th>0</th>\n",
       "      <td>CMS1819-03-08-toRobertSedgwickIF (1).xml</td>\n",
       "      <td>1819-03-08</td>\n",
       "      <td>Northampton</td>\n",
       "      <td>(52.23433665, -0.9028072768185829)</td>\n",
       "      <td>52.234337</td>\n",
       "      <td>-0.902807</td>\n",
       "    </tr>\n",
       "    <tr>\n",
       "      <th>0</th>\n",
       "      <td>CMS1819-03-08-toRobertSedgwickIF (1).xml</td>\n",
       "      <td>1819-03-08</td>\n",
       "      <td>Boston</td>\n",
       "      <td>(42.3602534, -71.0582912)</td>\n",
       "      <td>42.360253</td>\n",
       "      <td>-71.058291</td>\n",
       "    </tr>\n",
       "  </tbody>\n",
       "</table>\n",
       "</div>"
      ],
      "text/plain": [
       "                                       file        date       places  \\\n",
       "0  CMS1819-03-08-toRobertSedgwickIF (1).xml  1819-03-08       Albany   \n",
       "0  CMS1819-03-08-toRobertSedgwickIF (1).xml  1819-03-08  Northampton   \n",
       "0  CMS1819-03-08-toRobertSedgwickIF (1).xml  1819-03-08       Boston   \n",
       "\n",
       "                          coordinates        lat        lon  \n",
       "0             (41.000028, 19.9999619)  41.000028  19.999962  \n",
       "0  (52.23433665, -0.9028072768185829)  52.234337  -0.902807  \n",
       "0           (42.3602534, -71.0582912)  42.360253 -71.058291  "
      ]
     },
     "execution_count": 5,
     "metadata": {},
     "output_type": "execute_result"
    }
   ],
   "source": [
    "%%time\n",
    "\n",
    "# https://www.natasshaselvaraj.com/a-step-by-step-guide-on-geocoding-in-python/\n",
    "def geocode(place):\n",
    "#     url = 'https://nominatim.openstreetmap.org/search/' + urllib.parse.quote(place) +'?format=json'\n",
    "    url = 'https://nominatim.openstreetmap.org/search/' + str(place) + '?format=json'\n",
    "    response = requests.get(url).json()\n",
    "    if (len(response) != 0):\n",
    "#         Default (response[0]): select first search hit in OpenStreetMap.\n",
    "        return (float(response[0]['lat']), float(response[0]['lon']))\n",
    "    else:\n",
    "        return None \n",
    "\n",
    "df['coordinates'] = df['places'].apply(geocode)\n",
    "df[['lat', 'lon']] = pd.DataFrame(df['coordinates'].tolist(), index = df.index)\n",
    "\n",
    "# Convert to floats.\n",
    "df['lat'] = df['lat'].apply(lambda x: float(x))\n",
    "df['lon'] = df['lon'].apply(lambda x: float(x))\n",
    "\n",
    "df = df.dropna()\n",
    "\n",
    "df.head(3)"
   ]
  },
  {
   "cell_type": "markdown",
   "id": "driving-tamil",
   "metadata": {},
   "source": [
    "### Save Results"
   ]
  },
  {
   "cell_type": "code",
   "execution_count": 6,
   "id": "dominican-customs",
   "metadata": {},
   "outputs": [
    {
     "name": "stdout",
     "output_type": "stream",
     "text": [
      "CPU times: user 4.77 ms, sys: 2.41 ms, total: 7.18 ms\n",
      "Wall time: 9.13 ms\n"
     ]
    }
   ],
   "source": [
    "%%time\n",
    "\n",
    "df.to_csv(os.path.abspath('../../lab_space/projects/sedgwick/geo/data/sedgwick_geoReference.csv'), \n",
    "                          sep = ',', index = False)"
   ]
  },
  {
   "cell_type": "code",
   "execution_count": null,
   "id": "9bc1ae95",
   "metadata": {},
   "outputs": [],
   "source": []
  }
 ],
 "metadata": {
  "kernelspec": {
   "display_name": "Python 3 (ipykernel)",
   "language": "python",
   "name": "python3"
  },
  "language_info": {
   "codemirror_mode": {
    "name": "ipython",
    "version": 3
   },
   "file_extension": ".py",
   "mimetype": "text/x-python",
   "name": "python",
   "nbconvert_exporter": "python",
   "pygments_lexer": "ipython3",
   "version": "3.8.5"
  }
 },
 "nbformat": 4,
 "nbformat_minor": 5
}
