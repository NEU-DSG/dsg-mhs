{
 "cells": [
  {
   "cell_type": "markdown",
   "metadata": {},
   "source": [
    "# Names Data Harmonization\n",
    "\n",
    "This script finds xml:id's in Primary Source Coop documents and attempts to match them with the Names Authorization spreadsheet. The script produces a spreadsheet with unmatched xml:id's. Editors can find the corresponding entity within the Names Authorization and write the desired xml:id in a designated column within the generated report.\n",
    "\n",
    "Once editors have confirmed the new xml:id, a second script will find and replace the old, unmatched xml:id's.\n",
    "\n",
    "#### Assumptions\n",
    "1. Currently in this prototype, xml:id's are only compared to Taney's name authority.\n",
    "    * Some xml:id's might not exist in Taney's Names Authority because the xml:id was pulled from a larger spreadsheet (e.g., JQA). Future versions of this script will need to compared id's to the larger list or mutliple lists.\n",
    "2. This script assumes that Names Authority has the correct unique-identifier.\n",
    "    * It works best (at the moment) with the expectation that work will be done to the names authority first. Can also be iterative, but that might require retracing steps."
   ]
  },
  {
   "cell_type": "code",
   "execution_count": 9,
   "metadata": {},
   "outputs": [],
   "source": [
    "import re, warnings, csv, sys, os, glob\n",
    "import pandas as pd\n",
    "import numpy as np\n",
    "import xml.etree.ElementTree as ET\n",
    "from lxml import etree\n",
    "\n",
    "warnings.simplefilter('ignore')\n",
    "\n",
    "# Declare directory location to shorten filepaths later.\n",
    "abs_dir = \"/Users/quinn.wi/Documents/GitHub/dsg-mhs/\""
   ]
  },
  {
   "cell_type": "markdown",
   "metadata": {},
   "source": [
    "## Find Unmatch xml:id's\n",
    "\n",
    "### Variables for Directories + Files"
   ]
  },
  {
   "cell_type": "code",
   "execution_count": null,
   "metadata": {},
   "outputs": [],
   "source": [
    "%%time\n",
    "\n",
    "# Collect Taney files\n",
    "xml_directory = glob.glob(\"/Users/quinn.wi/Documents/SemanticData/Data/Taney/*/*.xml\")\n",
    "\n",
    "names_auth = pd.read_csv(\"/Users/quinn.wi/Documents/SemanticData/Data/Taney/Names-RBTaney-20200723 - Sheet1.csv\")\n",
    "\n",
    "names_auth.head()"
   ]
  },
  {
   "cell_type": "markdown",
   "metadata": {},
   "source": [
    "### Generate Report of Unmatched Entities"
   ]
  },
  {
   "cell_type": "code",
   "execution_count": 51,
   "metadata": {},
   "outputs": [
    {
     "name": "stdout",
     "output_type": "stream",
     "text": [
      "CPU times: user 10.3 ms, sys: 2.9 ms, total: 13.2 ms\n",
      "Wall time: 12.2 ms\n"
     ]
    },
    {
     "data": {
      "text/html": [
       "<div>\n",
       "<style scoped>\n",
       "    .dataframe tbody tr th:only-of-type {\n",
       "        vertical-align: middle;\n",
       "    }\n",
       "\n",
       "    .dataframe tbody tr th {\n",
       "        vertical-align: top;\n",
       "    }\n",
       "\n",
       "    .dataframe thead th {\n",
       "        text-align: right;\n",
       "    }\n",
       "</style>\n",
       "<table border=\"1\" class=\"dataframe\">\n",
       "  <thead>\n",
       "    <tr style=\"text-align: right;\">\n",
       "      <th></th>\n",
       "      <th>file</th>\n",
       "      <th>xml_id</th>\n",
       "      <th>correct_id</th>\n",
       "    </tr>\n",
       "  </thead>\n",
       "  <tbody>\n",
       "    <tr>\n",
       "      <th>0</th>\n",
       "      <td>RBT00169-collation.xml</td>\n",
       "      <td>campbell-x</td>\n",
       "      <td></td>\n",
       "    </tr>\n",
       "    <tr>\n",
       "      <th>1</th>\n",
       "      <td>RBT00087-collation.xml</td>\n",
       "      <td>mclane-louis</td>\n",
       "      <td></td>\n",
       "    </tr>\n",
       "    <tr>\n",
       "      <th>2</th>\n",
       "      <td>RBT00011-collation.xml</td>\n",
       "      <td>gill-x</td>\n",
       "      <td></td>\n",
       "    </tr>\n",
       "    <tr>\n",
       "      <th>3</th>\n",
       "      <td>RBT00011-collation.xml</td>\n",
       "      <td>williamson-x</td>\n",
       "      <td></td>\n",
       "    </tr>\n",
       "    <tr>\n",
       "      <th>4</th>\n",
       "      <td>RBT00011-collation.xml</td>\n",
       "      <td>benton-thomas</td>\n",
       "      <td></td>\n",
       "    </tr>\n",
       "  </tbody>\n",
       "</table>\n",
       "</div>"
      ],
      "text/plain": [
       "                     file         xml_id correct_id\n",
       "0  RBT00169-collation.xml     campbell-x           \n",
       "1  RBT00087-collation.xml   mclane-louis           \n",
       "2  RBT00011-collation.xml         gill-x           \n",
       "3  RBT00011-collation.xml   williamson-x           \n",
       "4  RBT00011-collation.xml  benton-thomas           "
      ]
     },
     "execution_count": 51,
     "metadata": {},
     "output_type": "execute_result"
    }
   ],
   "source": [
    "%%time\n",
    "\n",
    "# Read in file and get root of XML tree.\n",
    "def get_root(xml_file):\n",
    "    tree = ET.parse(xml_file)\n",
    "    root = tree.getroot()\n",
    "    return root\n",
    "\n",
    "\n",
    "# Get namespace of individual file from root element.\n",
    "def get_namespace(root):\n",
    "    namespace = re.match(r\"{(.*)}\", str(root.tag))\n",
    "    ns = {\"ns\":namespace.group(1)}\n",
    "    return ns\n",
    "\n",
    "\n",
    "# Get list of unique-id's in names authority & lowercase them.\n",
    "names_auth_ids = [x.lower() for x in names_auth['Hyphenated-unique-string- of-characters'] \\\n",
    "                  .values.tolist()]\n",
    "\n",
    "persData = []\n",
    "\n",
    "for file in xml_directory:\n",
    "    reFile = re.sub('.*/(.*.xml)', '\\\\1', file)\n",
    "    root = get_root(file)\n",
    "    ns = get_namespace(root)\n",
    "    \n",
    "    for persRef in root.findall('.//ns:p/ns:persRef/[@ref]', ns):\n",
    "        xml_id = persRef.get('ref').lower() # Lowercase xml:id's.\n",
    "        \n",
    "        if xml_id not in names_auth_ids:\n",
    "            persData.append({'file':reFile, 'xml_id':xml_id})\n",
    "        else:\n",
    "            continue\n",
    "            \n",
    "unmatched_persRef_df = pd.DataFrame(persData)\n",
    "\n",
    "# Add empty column for user-input.\n",
    "unmatched_persRef_df['correct_id'] = ''\n",
    "\n",
    "unmatched_persRef_df.head()"
   ]
  },
  {
   "cell_type": "markdown",
   "metadata": {},
   "source": [
    "## Re-write xml:id's\n",
    "\n",
    "### Variables for Directories + Files"
   ]
  },
  {
   "cell_type": "code",
   "execution_count": null,
   "metadata": {},
   "outputs": [],
   "source": [
    "%%time\n",
    "\n",
    "# Collect Taney files\n",
    "xml_directory = glob.glob(\"/Users/quinn.wi/Documents/SemanticData/Data/Taney/*/*.xml\")\n",
    "\n",
    "user_corrections = pd.read_csv(\"...\")"
   ]
  },
  {
   "cell_type": "markdown",
   "metadata": {},
   "source": [
    "### Write new xml:id's into XML docs"
   ]
  },
  {
   "cell_type": "code",
   "execution_count": null,
   "metadata": {},
   "outputs": [],
   "source": [
    "%%time\n",
    "\n",
    "# Read in file and get root of XML tree.\n",
    "def get_root(xml_file):\n",
    "    tree = ET.parse(xml_file)\n",
    "    root = tree.getroot()\n",
    "    return root\n",
    "\n",
    "\n",
    "# Get namespace of individual file from root element.\n",
    "def get_namespace(root):\n",
    "    namespace = re.match(r\"{(.*)}\", str(root.tag))\n",
    "    ns = {\"ns\":namespace.group(1)}\n",
    "    return ns\n",
    "\n",
    "\n",
    "# Get list of unique-id's in names authority & lowercase them.\n",
    "old_ids = [x.lower() for x in user_corrections['xml_id'].values.tolist()]\n",
    "\n",
    "persData = []\n",
    "\n",
    "for file in xml_directory:\n",
    "    reFile = re.sub('.*/(.*.xml)', '\\\\1', file)\n",
    "    root = get_root(file)\n",
    "    ns = get_namespace(root)\n",
    "    \n",
    "    for persRef in root.findall('.//ns:p/ns:persRef/[@ref]', ns):\n",
    "        xml_id = persRef.get('ref').lower() # Lowercase xml:id's.\n",
    "        \n",
    "#         Checks\n",
    "#         If xml_id == old_ids\n",
    "\n",
    "#         Replace (overwrite) xml_id with corrected_id.\n",
    "        "
   ]
  }
 ],
 "metadata": {
  "kernelspec": {
   "display_name": "Python 3",
   "language": "python",
   "name": "python3"
  },
  "language_info": {
   "codemirror_mode": {
    "name": "ipython",
    "version": 3
   },
   "file_extension": ".py",
   "mimetype": "text/x-python",
   "name": "python",
   "nbconvert_exporter": "python",
   "pygments_lexer": "ipython3",
   "version": "3.8.5"
  }
 },
 "nbformat": 4,
 "nbformat_minor": 4
}
