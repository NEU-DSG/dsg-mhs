{
 "cells": [
  {
   "cell_type": "markdown",
   "metadata": {},
   "source": [
    "# Training Custom NER Models\n",
    "\n",
    "#### Sources\n",
    "\n",
    "Bochet, Charles, \"[Python:How to Train your Own Model with NLTK and Stanford NER Tagger? (for English, French, German...](https://www.sicara.ai/blog/2018-04-25-python-train-model-NTLK-stanford-ner-tagger),\" <i>Sicara</i>, Accessed October 21, 2020.\n",
    "\n",
    "Christina, \"[Named Entity Recognition in Python with Stanford-NER and Spacy](https://lvngd.com/blog/named-entity-recognition-in-python-with-stanford-ner-and-spacy/),\" <i>LVNGD</i>, Accessed October 21, 2020.\n",
    "\n",
    "spaCy, \"[Simple training style](https://spacy.io/usage/training#ner),\" <i>spaCy</i>, Accessed October 21, 2020.\n",
    "\n",
    "Stanford NLP Group, \"[Stanford NER CRF FAQ](https://nlp.stanford.edu/software/crf-faq.shtml#b),\" <i>Stanford NLP</i>, Accessed October 21, 2020."
   ]
  },
  {
   "cell_type": "code",
   "execution_count": 1,
   "metadata": {},
   "outputs": [],
   "source": [
    "# Import necessary libraries.\n",
    "import re, nltk, warnings, glob, csv, sys, os\n",
    "import pandas as pd\n",
    "import numpy as np\n",
    "import seaborn as sns\n",
    "import xml.etree.ElementTree as ET\n",
    "from itertools import chain\n",
    "from nltk import word_tokenize, pos_tag, ne_chunk, Tree\n",
    "from fuzzywuzzy import fuzz, process\n",
    "\n",
    "# Ignore warnings related to deprecated functions.\n",
    "warnings.simplefilter(\"ignore\") # specify ignore: , DeprecationWarning\n",
    "\n",
    "# Declare directory location to shorten filepaths later.\n",
    "abs_dir = \"/Users/quinn.wi/Documents/SemanticData/\""
   ]
  },
  {
   "cell_type": "markdown",
   "metadata": {},
   "source": [
    "## Import Names List"
   ]
  },
  {
   "cell_type": "code",
   "execution_count": 2,
   "metadata": {},
   "outputs": [
    {
     "name": "stdout",
     "output_type": "stream",
     "text": [
      "['Sheet1']\n",
      "CPU times: user 1min 1s, sys: 249 ms, total: 1min 1s\n",
      "Wall time: 1min 2s\n"
     ]
    }
   ],
   "source": [
    "%%time\n",
    "\n",
    "# Read-in excel file & print sheet names.\n",
    "excel = pd.ExcelFile(abs_dir + 'Data/JQA/DJQA_Names-List_singleSheet.xlsx')\n",
    "print (excel.sheet_names)"
   ]
  },
  {
   "cell_type": "code",
   "execution_count": 3,
   "metadata": {},
   "outputs": [
    {
     "name": "stdout",
     "output_type": "stream",
     "text": [
      "CPU times: user 259 ms, sys: 7.98 ms, total: 267 ms\n",
      "Wall time: 267 ms\n"
     ]
    },
    {
     "data": {
      "text/html": [
       "<div>\n",
       "<style scoped>\n",
       "    .dataframe tbody tr th:only-of-type {\n",
       "        vertical-align: middle;\n",
       "    }\n",
       "\n",
       "    .dataframe tbody tr th {\n",
       "        vertical-align: top;\n",
       "    }\n",
       "\n",
       "    .dataframe thead th {\n",
       "        text-align: right;\n",
       "    }\n",
       "</style>\n",
       "<table border=\"1\" class=\"dataframe\">\n",
       "  <thead>\n",
       "    <tr style=\"text-align: right;\">\n",
       "      <th></th>\n",
       "      <th>Last Name</th>\n",
       "      <th>First Name</th>\n",
       "      <th>Middle Name</th>\n",
       "      <th>Maiden Name</th>\n",
       "      <th>Variant form of name</th>\n",
       "      <th>Short-hand option for name</th>\n",
       "      <th>Hyogebated-unique-string-of-characters</th>\n",
       "    </tr>\n",
       "  </thead>\n",
       "  <tbody>\n",
       "    <tr>\n",
       "      <th>22</th>\n",
       "      <td>??</td>\n",
       "      <td>Aaron</td>\n",
       "      <td>NaN</td>\n",
       "      <td>NaN</td>\n",
       "      <td>NaN</td>\n",
       "      <td>NaN</td>\n",
       "      <td>aaron</td>\n",
       "    </tr>\n",
       "    <tr>\n",
       "      <th>23</th>\n",
       "      <td>??</td>\n",
       "      <td>Abbas Mirza</td>\n",
       "      <td>NaN</td>\n",
       "      <td>NaN</td>\n",
       "      <td>NaN</td>\n",
       "      <td>NaN</td>\n",
       "      <td>abbasmirza</td>\n",
       "    </tr>\n",
       "    <tr>\n",
       "      <th>24</th>\n",
       "      <td>??</td>\n",
       "      <td>Abd al-Rahman</td>\n",
       "      <td>NaN</td>\n",
       "      <td>NaN</td>\n",
       "      <td>NaN</td>\n",
       "      <td>NaN</td>\n",
       "      <td>adbalrahman</td>\n",
       "    </tr>\n",
       "    <tr>\n",
       "      <th>25</th>\n",
       "      <td>??</td>\n",
       "      <td>Abdiel</td>\n",
       "      <td>NaN</td>\n",
       "      <td>NaN</td>\n",
       "      <td>NaN</td>\n",
       "      <td>NaN</td>\n",
       "      <td>abdiel</td>\n",
       "    </tr>\n",
       "    <tr>\n",
       "      <th>26</th>\n",
       "      <td>??</td>\n",
       "      <td>Abdon</td>\n",
       "      <td>NaN</td>\n",
       "      <td>NaN</td>\n",
       "      <td>NaN</td>\n",
       "      <td>NaN</td>\n",
       "      <td>abdon</td>\n",
       "    </tr>\n",
       "  </tbody>\n",
       "</table>\n",
       "</div>"
      ],
      "text/plain": [
       "   Last Name     First Name Middle Name Maiden Name  Variant form of name  \\\n",
       "22        ??          Aaron         NaN         NaN                   NaN   \n",
       "23        ??    Abbas Mirza         NaN         NaN                   NaN   \n",
       "24        ??  Abd al-Rahman         NaN         NaN                   NaN   \n",
       "25        ??         Abdiel         NaN         NaN                   NaN   \n",
       "26        ??          Abdon         NaN         NaN                   NaN   \n",
       "\n",
       "    Short-hand option for name Hyogebated-unique-string-of-characters  \n",
       "22                         NaN                                  aaron  \n",
       "23                         NaN                             abbasmirza  \n",
       "24                         NaN                            adbalrahman  \n",
       "25                         NaN                                 abdiel  \n",
       "26                         NaN                                  abdon  "
      ]
     },
     "execution_count": 3,
     "metadata": {},
     "output_type": "execute_result"
    }
   ],
   "source": [
    "%%time\n",
    "\n",
    "# Convert excel sheet to dataframe.\n",
    "names = excel.parse(sheet_name = 'Sheet1')\n",
    "\n",
    "# Subset dataframe by selecting key columns.\n",
    "names = names[['Last Name', \"First Name\", 'Middle Name', 'Maiden Name',\n",
    "               'Variant form of name', 'Short-hand option for name',\n",
    "               'Hyogebated-unique-string-of-characters']]\n",
    "\n",
    "# Drop rows if last and first name are \"??\"\n",
    "names = names.drop(names[(names['Last Name'] == \"??\") \\\n",
    "                        & (names['First Name'] == \"??\")].index)\n",
    "\n",
    "\n",
    "# Delete excel to reduce memory usage.\n",
    "del excel\n",
    "\n",
    "names.head()"
   ]
  },
  {
   "cell_type": "code",
   "execution_count": null,
   "metadata": {},
   "outputs": [],
   "source": []
  }
 ],
 "metadata": {
  "kernelspec": {
   "display_name": "Python 3",
   "language": "python",
   "name": "python3"
  },
  "language_info": {
   "codemirror_mode": {
    "name": "ipython",
    "version": 3
   },
   "file_extension": ".py",
   "mimetype": "text/x-python",
   "name": "python",
   "nbconvert_exporter": "python",
   "pygments_lexer": "ipython3",
   "version": "3.8.3"
  }
 },
 "nbformat": 4,
 "nbformat_minor": 4
}
