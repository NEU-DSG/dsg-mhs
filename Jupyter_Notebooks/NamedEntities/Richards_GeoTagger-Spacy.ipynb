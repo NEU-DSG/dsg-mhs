{
 "cells": [
  {
   "cell_type": "markdown",
   "id": "unlimited-desperate",
   "metadata": {},
   "source": [
    "# GeoTagger - Spacy"
   ]
  },
  {
   "cell_type": "code",
   "execution_count": 1,
   "id": "2fc4a28f",
   "metadata": {},
   "outputs": [],
   "source": [
    "# Import necessary libraries.\n",
    "import re, warnings, urllib, requests, spacy, geopy, folium, os, sys, glob\n",
    "import pandas as pd\n",
    "import numpy as np\n",
    "from collections import Counter\n",
    "from geopy.extra.rate_limiter import RateLimiter\n",
    "\n",
    "# Import project-specific functions. \n",
    "# Python files (.py) have to be in same folder to work.\n",
    "lib_path = os.path.abspath(os.path.join(os.path.dirname('Correspondence_XML_parser.py'), '../Scripts'))\n",
    "sys.path.append(lib_path)\n",
    "\n",
    "from Correspondence_XML_parser import *\n",
    "\n",
    "nlp = spacy.load('en_core_web_sm')\n",
    "\n",
    "# Ignore warnings related to deprecated functions.\n",
    "warnings.filterwarnings('ignore')"
   ]
  },
  {
   "cell_type": "markdown",
   "id": "66b06ff9",
   "metadata": {},
   "source": [
    "## Get XML Files"
   ]
  },
  {
   "cell_type": "code",
   "execution_count": 2,
   "id": "hawaiian-grove",
   "metadata": {},
   "outputs": [
    {
     "name": "stdout",
     "output_type": "stream",
     "text": [
      "CPU times: user 808 µs, sys: 1.26 ms, total: 2.07 ms\n",
      "Wall time: 1.94 ms\n"
     ]
    },
    {
     "data": {
      "text/plain": [
       "20"
      ]
     },
     "execution_count": 2,
     "metadata": {},
     "output_type": "execute_result"
    }
   ],
   "source": [
    "%%time\n",
    "\n",
    "# Declare directory location to shorten filepaths later.\n",
    "abs_dir = \"/Users/quinn.wi/Documents/Data\"\n",
    "files = glob.glob(abs_dir + \"/PSC/Richards/ESR-XML-Files-MHS/*.xml\")\n",
    "\n",
    "len(files)"
   ]
  },
  {
   "cell_type": "markdown",
   "id": "5a329b26",
   "metadata": {},
   "source": [
    "## Build Dataframe"
   ]
  },
  {
   "cell_type": "code",
   "execution_count": 3,
   "id": "6c941ad0",
   "metadata": {},
   "outputs": [
    {
     "name": "stdout",
     "output_type": "stream",
     "text": [
      "/Users/quinn.wi/Documents/Data/PSC/Richards/ESR-XML-Files-MHS/ESR-EDA-1893-09-24.xml \n",
      "\n",
      "CPU times: user 10.2 ms, sys: 3.59 ms, total: 13.8 ms\n",
      "Wall time: 15.7 ms\n"
     ]
    },
    {
     "data": {
      "text/html": [
       "<div>\n",
       "<style scoped>\n",
       "    .dataframe tbody tr th:only-of-type {\n",
       "        vertical-align: middle;\n",
       "    }\n",
       "\n",
       "    .dataframe tbody tr th {\n",
       "        vertical-align: top;\n",
       "    }\n",
       "\n",
       "    .dataframe thead th {\n",
       "        text-align: right;\n",
       "    }\n",
       "</style>\n",
       "<table border=\"1\" class=\"dataframe\">\n",
       "  <thead>\n",
       "    <tr style=\"text-align: right;\">\n",
       "      <th></th>\n",
       "      <th>file</th>\n",
       "      <th>date</th>\n",
       "      <th>source</th>\n",
       "      <th>target</th>\n",
       "      <th>subjects</th>\n",
       "      <th>references</th>\n",
       "      <th>text</th>\n",
       "    </tr>\n",
       "  </thead>\n",
       "  <tbody>\n",
       "    <tr>\n",
       "      <th>0</th>\n",
       "      <td>ESR-EDA-1892-01-08.xml</td>\n",
       "      <td>1892-01-08</td>\n",
       "      <td>richards-ellen</td>\n",
       "      <td>atkinson-edward</td>\n",
       "      <td>1893 Chicago World's Fair,Aladdin Oven,New Eng...</td>\n",
       "      <td>palmer-bertha,hovey-e,daniells-unknown</td>\n",
       "      <td>Boston Jan 8 1892 My dear Mr Atkinson I enclo...</td>\n",
       "    </tr>\n",
       "    <tr>\n",
       "      <th>1</th>\n",
       "      <td>ESR-EDA-1892-04-12.xml</td>\n",
       "      <td>1892-04-12</td>\n",
       "      <td>richards-ellen</td>\n",
       "      <td>atkinson-edward</td>\n",
       "      <td>Aladdin Oven,nutrition,cooking</td>\n",
       "      <td>abel-mary</td>\n",
       "      <td>April 12— Dear Mr Atkinson I expect Mrs Abel ...</td>\n",
       "    </tr>\n",
       "    <tr>\n",
       "      <th>2</th>\n",
       "      <td>ESR-EDA-1892-04-07.xml</td>\n",
       "      <td>1892-04-07</td>\n",
       "      <td>richards-ellen</td>\n",
       "      <td>atkinson-edward</td>\n",
       "      <td>Aladdin Oven,Nutrition,cooking</td>\n",
       "      <td>conro-emma,abel-mary</td>\n",
       "      <td>Boston, April 7, 1892 My dear Mr. Atkinson I ...</td>\n",
       "    </tr>\n",
       "  </tbody>\n",
       "</table>\n",
       "</div>"
      ],
      "text/plain": [
       "                     file        date          source           target  \\\n",
       "0  ESR-EDA-1892-01-08.xml  1892-01-08  richards-ellen  atkinson-edward   \n",
       "1  ESR-EDA-1892-04-12.xml  1892-04-12  richards-ellen  atkinson-edward   \n",
       "2  ESR-EDA-1892-04-07.xml  1892-04-07  richards-ellen  atkinson-edward   \n",
       "\n",
       "                                            subjects  \\\n",
       "0  1893 Chicago World's Fair,Aladdin Oven,New Eng...   \n",
       "1                     Aladdin Oven,nutrition,cooking   \n",
       "2                     Aladdin Oven,Nutrition,cooking   \n",
       "\n",
       "                               references  \\\n",
       "0  palmer-bertha,hovey-e,daniells-unknown   \n",
       "1                               abel-mary   \n",
       "2                    conro-emma,abel-mary   \n",
       "\n",
       "                                                text  \n",
       "0   Boston Jan 8 1892 My dear Mr Atkinson I enclo...  \n",
       "1   April 12— Dear Mr Atkinson I expect Mrs Abel ...  \n",
       "2   Boston, April 7, 1892 My dear Mr. Atkinson I ...  "
      ]
     },
     "execution_count": 3,
     "metadata": {},
     "output_type": "execute_result"
    }
   ],
   "source": [
    "%%time\n",
    "\n",
    "# Build dataframe from XML files.\n",
    "# build_dataframe() called from Correspondence_XML_parser\n",
    "df = build_dataframe(files)\n",
    "\n",
    "df.head(3)"
   ]
  },
  {
   "cell_type": "markdown",
   "id": "limiting-sight",
   "metadata": {},
   "source": [
    "## Get Place Names"
   ]
  },
  {
   "cell_type": "code",
   "execution_count": 4,
   "id": "natural-circumstances",
   "metadata": {},
   "outputs": [
    {
     "name": "stdout",
     "output_type": "stream",
     "text": [
      "CPU times: user 522 ms, sys: 9.81 ms, total: 532 ms\n",
      "Wall time: 534 ms\n"
     ]
    },
    {
     "data": {
      "text/html": [
       "<div>\n",
       "<style scoped>\n",
       "    .dataframe tbody tr th:only-of-type {\n",
       "        vertical-align: middle;\n",
       "    }\n",
       "\n",
       "    .dataframe tbody tr th {\n",
       "        vertical-align: top;\n",
       "    }\n",
       "\n",
       "    .dataframe thead th {\n",
       "        text-align: right;\n",
       "    }\n",
       "</style>\n",
       "<table border=\"1\" class=\"dataframe\">\n",
       "  <thead>\n",
       "    <tr style=\"text-align: right;\">\n",
       "      <th></th>\n",
       "      <th>file</th>\n",
       "      <th>date</th>\n",
       "      <th>places</th>\n",
       "    </tr>\n",
       "  </thead>\n",
       "  <tbody>\n",
       "    <tr>\n",
       "      <th>0</th>\n",
       "      <td>ESR-EDA-1892-01-08.xml</td>\n",
       "      <td>1892-01-08</td>\n",
       "      <td>Boston</td>\n",
       "    </tr>\n",
       "    <tr>\n",
       "      <th>0</th>\n",
       "      <td>ESR-EDA-1892-01-08.xml</td>\n",
       "      <td>1892-01-08</td>\n",
       "      <td>Chicago</td>\n",
       "    </tr>\n",
       "    <tr>\n",
       "      <th>1</th>\n",
       "      <td>ESR-EDA-1892-04-12.xml</td>\n",
       "      <td>1892-04-12</td>\n",
       "      <td>Chicago</td>\n",
       "    </tr>\n",
       "  </tbody>\n",
       "</table>\n",
       "</div>"
      ],
      "text/plain": [
       "                     file        date   places\n",
       "0  ESR-EDA-1892-01-08.xml  1892-01-08   Boston\n",
       "0  ESR-EDA-1892-01-08.xml  1892-01-08  Chicago\n",
       "1  ESR-EDA-1892-04-12.xml  1892-04-12  Chicago"
      ]
     },
     "execution_count": 4,
     "metadata": {},
     "output_type": "execute_result"
    }
   ],
   "source": [
    "%%time\n",
    "\n",
    "def get_placenames(text):\n",
    "    doc = nlp(text)\n",
    "    places = [ent.text for ent in doc.ents if ent.label_ in ['LOC', 'GPE']]\n",
    "    return places\n",
    "    \n",
    "df['places'] = df['text'].apply(lambda x: get_placenames(x))\n",
    "\n",
    "df = df[['file', 'date', 'places']]\n",
    "df = df.explode('places')\n",
    "\n",
    "df.head(3)"
   ]
  },
  {
   "cell_type": "markdown",
   "id": "deluxe-wayne",
   "metadata": {},
   "source": [
    "## GeoCode Places"
   ]
  },
  {
   "cell_type": "code",
   "execution_count": 5,
   "id": "interim-species",
   "metadata": {},
   "outputs": [
    {
     "name": "stdout",
     "output_type": "stream",
     "text": [
      "CPU times: user 403 ms, sys: 31.6 ms, total: 435 ms\n",
      "Wall time: 19.4 s\n"
     ]
    },
    {
     "data": {
      "text/html": [
       "<div>\n",
       "<style scoped>\n",
       "    .dataframe tbody tr th:only-of-type {\n",
       "        vertical-align: middle;\n",
       "    }\n",
       "\n",
       "    .dataframe tbody tr th {\n",
       "        vertical-align: top;\n",
       "    }\n",
       "\n",
       "    .dataframe thead th {\n",
       "        text-align: right;\n",
       "    }\n",
       "</style>\n",
       "<table border=\"1\" class=\"dataframe\">\n",
       "  <thead>\n",
       "    <tr style=\"text-align: right;\">\n",
       "      <th></th>\n",
       "      <th>file</th>\n",
       "      <th>date</th>\n",
       "      <th>places</th>\n",
       "      <th>coordinates</th>\n",
       "      <th>lat</th>\n",
       "      <th>lon</th>\n",
       "    </tr>\n",
       "  </thead>\n",
       "  <tbody>\n",
       "    <tr>\n",
       "      <th>0</th>\n",
       "      <td>ESR-EDA-1892-01-08.xml</td>\n",
       "      <td>1892-01-08</td>\n",
       "      <td>Boston</td>\n",
       "      <td>(42.3602534, -71.0582912)</td>\n",
       "      <td>42.360253</td>\n",
       "      <td>-71.058291</td>\n",
       "    </tr>\n",
       "    <tr>\n",
       "      <th>0</th>\n",
       "      <td>ESR-EDA-1892-01-08.xml</td>\n",
       "      <td>1892-01-08</td>\n",
       "      <td>Chicago</td>\n",
       "      <td>(41.8755616, -87.6244212)</td>\n",
       "      <td>41.875562</td>\n",
       "      <td>-87.624421</td>\n",
       "    </tr>\n",
       "    <tr>\n",
       "      <th>1</th>\n",
       "      <td>ESR-EDA-1892-04-12.xml</td>\n",
       "      <td>1892-04-12</td>\n",
       "      <td>Chicago</td>\n",
       "      <td>(41.8755616, -87.6244212)</td>\n",
       "      <td>41.875562</td>\n",
       "      <td>-87.624421</td>\n",
       "    </tr>\n",
       "  </tbody>\n",
       "</table>\n",
       "</div>"
      ],
      "text/plain": [
       "                     file        date   places                coordinates  \\\n",
       "0  ESR-EDA-1892-01-08.xml  1892-01-08   Boston  (42.3602534, -71.0582912)   \n",
       "0  ESR-EDA-1892-01-08.xml  1892-01-08  Chicago  (41.8755616, -87.6244212)   \n",
       "1  ESR-EDA-1892-04-12.xml  1892-04-12  Chicago  (41.8755616, -87.6244212)   \n",
       "\n",
       "         lat        lon  \n",
       "0  42.360253 -71.058291  \n",
       "0  41.875562 -87.624421  \n",
       "1  41.875562 -87.624421  "
      ]
     },
     "execution_count": 5,
     "metadata": {},
     "output_type": "execute_result"
    }
   ],
   "source": [
    "%%time\n",
    "\n",
    "# https://www.natasshaselvaraj.com/a-step-by-step-guide-on-geocoding-in-python/\n",
    "def geocode(place):\n",
    "#     url = 'https://nominatim.openstreetmap.org/search/' + urllib.parse.quote(place) +'?format=json'\n",
    "    url = 'https://nominatim.openstreetmap.org/search/' + str(place) + '?format=json'\n",
    "    response = requests.get(url).json()\n",
    "    if (len(response) != 0):\n",
    "#         Default (response[0]): select first search hit in OpenStreetMap.\n",
    "        return (float(response[0]['lat']), float(response[0]['lon']))\n",
    "    else:\n",
    "        return None \n",
    "\n",
    "df['coordinates'] = df['places'].apply(geocode)\n",
    "df[['lat', 'lon']] = pd.DataFrame(df['coordinates'].tolist(), index = df.index)\n",
    "\n",
    "# Convert to floats.\n",
    "df['lat'] = df['lat'].apply(lambda x: float(x))\n",
    "df['lon'] = df['lon'].apply(lambda x: float(x))\n",
    "\n",
    "df = df.dropna()\n",
    "\n",
    "df.head(3)"
   ]
  },
  {
   "cell_type": "markdown",
   "id": "driving-tamil",
   "metadata": {},
   "source": [
    "### Save Results"
   ]
  },
  {
   "cell_type": "code",
   "execution_count": 6,
   "id": "dominican-customs",
   "metadata": {},
   "outputs": [
    {
     "name": "stdout",
     "output_type": "stream",
     "text": [
      "CPU times: user 2.53 ms, sys: 1.58 ms, total: 4.11 ms\n",
      "Wall time: 3.05 ms\n"
     ]
    }
   ],
   "source": [
    "%%time\n",
    "\n",
    "df.to_csv(os.path.abspath('../../lab_space/projects/richards/geo/data/richards_geoReferences.csv'), \n",
    "                          sep = ',', index = False)"
   ]
  },
  {
   "cell_type": "code",
   "execution_count": null,
   "id": "41997970",
   "metadata": {},
   "outputs": [],
   "source": []
  }
 ],
 "metadata": {
  "kernelspec": {
   "display_name": "Python 3 (ipykernel)",
   "language": "python",
   "name": "python3"
  },
  "language_info": {
   "codemirror_mode": {
    "name": "ipython",
    "version": 3
   },
   "file_extension": ".py",
   "mimetype": "text/x-python",
   "name": "python",
   "nbconvert_exporter": "python",
   "pygments_lexer": "ipython3",
   "version": "3.8.5"
  }
 },
 "nbformat": 4,
 "nbformat_minor": 5
}
