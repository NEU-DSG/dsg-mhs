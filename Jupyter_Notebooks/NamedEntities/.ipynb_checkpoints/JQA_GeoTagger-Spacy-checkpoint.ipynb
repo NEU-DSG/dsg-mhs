{
 "cells": [
  {
   "cell_type": "markdown",
   "id": "unlimited-desperate",
   "metadata": {},
   "source": [
    "# GeoTagger - Spacy"
   ]
  },
  {
   "cell_type": "code",
   "execution_count": 1,
   "id": "79d335d9",
   "metadata": {},
   "outputs": [],
   "source": [
    "# Import necessary libraries.\n",
    "import re, warnings, urllib, requests, spacy, geopy, folium, os, sys, glob\n",
    "import pandas as pd\n",
    "import numpy as np\n",
    "from collections import Counter\n",
    "from geopy.extra.rate_limiter import RateLimiter\n",
    "\n",
    "# Import project-specific functions. \n",
    "# Python files (.py) have to be in same folder to work.\n",
    "lib_path = os.path.abspath(os.path.join(os.path.dirname('JQA_XML_parser.py'), '../Scripts'))\n",
    "sys.path.append(lib_path)\n",
    "\n",
    "from JQA_XML_parser import *\n",
    "\n",
    "nlp = spacy.load('en_core_web_sm')\n",
    "\n",
    "# Ignore warnings related to deprecated functions.\n",
    "warnings.filterwarnings('ignore')"
   ]
  },
  {
   "cell_type": "code",
   "execution_count": 2,
   "id": "ed100540",
   "metadata": {},
   "outputs": [
    {
     "data": {
      "text/html": [
       "<span class=\"tex2jax_ignore\"><!DOCTYPE html>\n",
       "<html lang=\"en\">\n",
       "    <head>\n",
       "        <title>displaCy</title>\n",
       "    </head>\n",
       "\n",
       "    <body style=\"font-size: 16px; font-family: -apple-system, BlinkMacSystemFont, 'Segoe UI', Helvetica, Arial, sans-serif, 'Apple Color Emoji', 'Segoe UI Emoji', 'Segoe UI Symbol'; padding: 4rem 2rem; direction: ltr\">\n",
       "<figure style=\"margin-bottom: 6rem\">\n",
       "<div class=\"entities\" style=\"line-height: 2.5; direction: ltr\">\n",
       "<mark class=\"entity\" style=\"background: #bfe1d9; padding: 0.45em 0.6em; margin: 0 0.25em; line-height: 1; border-radius: 0.35em;\">\n",
       "    Several months\n",
       "    <span style=\"font-size: 0.8em; font-weight: bold; line-height: 1; border-radius: 0.35em; text-transform: uppercase; vertical-align: middle; margin-left: 0.5rem\">DATE</span>\n",
       "</mark>\n",
       " of ill health detained me at \n",
       "<mark class=\"entity\" style=\"background: #feca74; padding: 0.45em 0.6em; margin: 0 0.25em; line-height: 1; border-radius: 0.35em;\">\n",
       "    Braintree\n",
       "    <span style=\"font-size: 0.8em; font-weight: bold; line-height: 1; border-radius: 0.35em; text-transform: uppercase; vertical-align: middle; margin-left: 0.5rem\">GPE</span>\n",
       "</mark>\n",
       ", and wholly disqualified me for the use of the pen; after attending the Session of the supreme judicial Court at \n",
       "<mark class=\"entity\" style=\"background: #feca74; padding: 0.45em 0.6em; margin: 0 0.25em; line-height: 1; border-radius: 0.35em;\">\n",
       "    Boston\n",
       "    <span style=\"font-size: 0.8em; font-weight: bold; line-height: 1; border-radius: 0.35em; text-transform: uppercase; vertical-align: middle; margin-left: 0.5rem\">GPE</span>\n",
       "</mark>\n",
       " in \n",
       "<mark class=\"entity\" style=\"background: #bfe1d9; padding: 0.45em 0.6em; margin: 0 0.25em; line-height: 1; border-radius: 0.35em;\">\n",
       "    February\n",
       "    <span style=\"font-size: 0.8em; font-weight: bold; line-height: 1; border-radius: 0.35em; text-transform: uppercase; vertical-align: middle; margin-left: 0.5rem\">DATE</span>\n",
       "</mark>\n",
       ", I \n",
       "<mark class=\"entity\" style=\"background: #aa9cfc; padding: 0.45em 0.6em; margin: 0 0.25em; line-height: 1; border-radius: 0.35em;\">\n",
       "    return’d\n",
       "    <span style=\"font-size: 0.8em; font-weight: bold; line-height: 1; border-radius: 0.35em; text-transform: uppercase; vertical-align: middle; margin-left: 0.5rem\">PERSON</span>\n",
       "</mark>\n",
       " to this Town, on \n",
       "<mark class=\"entity\" style=\"background: #bfe1d9; padding: 0.45em 0.6em; margin: 0 0.25em; line-height: 1; border-radius: 0.35em;\">\n",
       "    the 26th: day of March\n",
       "    <span style=\"font-size: 0.8em; font-weight: bold; line-height: 1; border-radius: 0.35em; text-transform: uppercase; vertical-align: middle; margin-left: 0.5rem\">DATE</span>\n",
       "</mark>\n",
       ", since which my health has been gradually restored; and is now almost as good as it was previous to my sickness.</div>\n",
       "</figure>\n",
       "</body>\n",
       "</html></span>"
      ],
      "text/plain": [
       "<IPython.core.display.HTML object>"
      ]
     },
     "metadata": {},
     "output_type": "display_data"
    },
    {
     "name": "stdout",
     "output_type": "stream",
     "text": [
      "\n",
      "Using the 'ent' visualizer\n",
      "Serving on http://0.0.0.0:5000 ...\n",
      "\n"
     ]
    },
    {
     "name": "stderr",
     "output_type": "stream",
     "text": [
      "127.0.0.1 - - [24/May/2022 09:15:40] \"GET / HTTP/1.1\" 200 2724\n",
      "127.0.0.1 - - [24/May/2022 09:15:40] \"GET /favicon.ico HTTP/1.1\" 200 2724\n"
     ]
    },
    {
     "name": "stdout",
     "output_type": "stream",
     "text": [
      "Shutting down server on port 5000.\n"
     ]
    }
   ],
   "source": [
    "text = \"Several months of ill health detained me at Braintree, and wholly disqualified me for the use of the pen; after attending the Session of the supreme judicial Court at Boston in February, I return’d to this Town, on the 26th: day of March, since which my health has been gradually restored; and is now almost as good as it was previous to my sickness.\"\n",
    "\n",
    "doc = nlp(text)\n",
    "\n",
    "spacy.displacy.serve(doc, style='ent')"
   ]
  },
  {
   "cell_type": "markdown",
   "id": "cfee612e",
   "metadata": {},
   "source": [
    "## Get XML Files"
   ]
  },
  {
   "cell_type": "code",
   "execution_count": 6,
   "id": "hawaiian-grove",
   "metadata": {},
   "outputs": [
    {
     "name": "stdout",
     "output_type": "stream",
     "text": [
      "CPU times: user 3.52 ms, sys: 4.52 ms, total: 8.05 ms\n",
      "Wall time: 14.3 ms\n"
     ]
    },
    {
     "data": {
      "text/plain": [
       "762"
      ]
     },
     "execution_count": 6,
     "metadata": {},
     "output_type": "execute_result"
    }
   ],
   "source": [
    "%%time\n",
    "\n",
    "# Declare directory location to shorten filepaths later.\n",
    "abs_dir = \"/Users/quinn.wi/Documents/Data\"\n",
    "files = glob.glob(abs_dir + \"/PSC/JQA/*/*.xml\")\n",
    "\n",
    "len(files)"
   ]
  },
  {
   "cell_type": "markdown",
   "id": "22d82bdd",
   "metadata": {},
   "source": [
    "## Build Dataframe"
   ]
  },
  {
   "cell_type": "code",
   "execution_count": 7,
   "id": "70ca05ed",
   "metadata": {},
   "outputs": [
    {
     "name": "stdout",
     "output_type": "stream",
     "text": [
      "CPU times: user 3.38 ms, sys: 3.83 ms, total: 7.2 ms\n",
      "Wall time: 5.92 ms\n"
     ]
    },
    {
     "data": {
      "text/plain": [
       "762"
      ]
     },
     "execution_count": 7,
     "metadata": {},
     "output_type": "execute_result"
    }
   ],
   "source": [
    "%%time\n",
    "\n",
    "# Build dataframe from XML files.\n",
    "# build_dataframe() called from Correspondence_XML_parser\n",
    "df = build_dataframe(files)\n",
    "\n",
    "df.head(3)"
   ]
  },
  {
   "cell_type": "markdown",
   "id": "limiting-sight",
   "metadata": {},
   "source": [
    "## Get Place Names"
   ]
  },
  {
   "cell_type": "code",
   "execution_count": 2,
   "id": "natural-circumstances",
   "metadata": {},
   "outputs": [
    {
     "name": "stdout",
     "output_type": "stream",
     "text": [
      "CPU times: user 1min 7s, sys: 1.56 s, total: 1min 9s\n",
      "Wall time: 1min 9s\n"
     ]
    },
    {
     "data": {
      "text/html": [
       "<div>\n",
       "<style scoped>\n",
       "    .dataframe tbody tr th:only-of-type {\n",
       "        vertical-align: middle;\n",
       "    }\n",
       "\n",
       "    .dataframe tbody tr th {\n",
       "        vertical-align: top;\n",
       "    }\n",
       "\n",
       "    .dataframe thead th {\n",
       "        text-align: right;\n",
       "    }\n",
       "</style>\n",
       "<table border=\"1\" class=\"dataframe\">\n",
       "  <thead>\n",
       "    <tr style=\"text-align: right;\">\n",
       "      <th></th>\n",
       "      <th>entry</th>\n",
       "      <th>date</th>\n",
       "      <th>places</th>\n",
       "    </tr>\n",
       "  </thead>\n",
       "  <tbody>\n",
       "    <tr>\n",
       "      <th>0</th>\n",
       "      <td>jqadiaries-v49-1825-01-01</td>\n",
       "      <td>1825-01-01</td>\n",
       "      <td>H.R.U.S.</td>\n",
       "    </tr>\n",
       "    <tr>\n",
       "      <th>0</th>\n",
       "      <td>jqadiaries-v49-1825-01-01</td>\n",
       "      <td>1825-01-01</td>\n",
       "      <td>Bolivar</td>\n",
       "    </tr>\n",
       "    <tr>\n",
       "      <th>0</th>\n",
       "      <td>jqadiaries-v49-1825-01-01</td>\n",
       "      <td>1825-01-01</td>\n",
       "      <td>South America</td>\n",
       "    </tr>\n",
       "  </tbody>\n",
       "</table>\n",
       "</div>"
      ],
      "text/plain": [
       "                       entry        date         places\n",
       "0  jqadiaries-v49-1825-01-01  1825-01-01       H.R.U.S.\n",
       "0  jqadiaries-v49-1825-01-01  1825-01-01        Bolivar\n",
       "0  jqadiaries-v49-1825-01-01  1825-01-01  South America"
      ]
     },
     "execution_count": 2,
     "metadata": {},
     "output_type": "execute_result"
    }
   ],
   "source": [
    "%%time\n",
    "\n",
    "def get_placenames(text):\n",
    "    doc = nlp(text)\n",
    "    places = [ent.text for ent in doc.ents if ent.label_ in ['LOC', 'GPE']]\n",
    "    return places\n",
    "    \n",
    "df['places'] = df['text'].apply(lambda x: get_placenames(x))\n",
    "\n",
    "df = df[['entry', 'date', 'places']]\n",
    "df = df.explode('places')\n",
    "\n",
    "print (df.shape)\n",
    "df.head(3)"
   ]
  },
  {
   "cell_type": "markdown",
   "id": "deluxe-wayne",
   "metadata": {},
   "source": [
    "## GeoCode Places"
   ]
  },
  {
   "cell_type": "code",
   "execution_count": 3,
   "id": "interim-species",
   "metadata": {},
   "outputs": [
    {
     "name": "stdout",
     "output_type": "stream",
     "text": [
      "CPU times: user 2min 23s, sys: 10.4 s, total: 2min 33s\n",
      "Wall time: 1h 52min 5s\n"
     ]
    },
    {
     "data": {
      "text/html": [
       "<div>\n",
       "<style scoped>\n",
       "    .dataframe tbody tr th:only-of-type {\n",
       "        vertical-align: middle;\n",
       "    }\n",
       "\n",
       "    .dataframe tbody tr th {\n",
       "        vertical-align: top;\n",
       "    }\n",
       "\n",
       "    .dataframe thead th {\n",
       "        text-align: right;\n",
       "    }\n",
       "</style>\n",
       "<table border=\"1\" class=\"dataframe\">\n",
       "  <thead>\n",
       "    <tr style=\"text-align: right;\">\n",
       "      <th></th>\n",
       "      <th>entry</th>\n",
       "      <th>date</th>\n",
       "      <th>places</th>\n",
       "      <th>coordinates</th>\n",
       "      <th>lat</th>\n",
       "      <th>lon</th>\n",
       "    </tr>\n",
       "  </thead>\n",
       "  <tbody>\n",
       "    <tr>\n",
       "      <th>0</th>\n",
       "      <td>jqadiaries-v49-1825-01-01</td>\n",
       "      <td>1825-01-01</td>\n",
       "      <td>H.R.U.S.</td>\n",
       "      <td>(3.4134276999999997, 101.56854987461735)</td>\n",
       "      <td>3.413428</td>\n",
       "      <td>101.568550</td>\n",
       "    </tr>\n",
       "    <tr>\n",
       "      <th>0</th>\n",
       "      <td>jqadiaries-v49-1825-01-01</td>\n",
       "      <td>1825-01-01</td>\n",
       "      <td>Bolivar</td>\n",
       "      <td>(6.333333, -63.5)</td>\n",
       "      <td>6.333333</td>\n",
       "      <td>-63.500000</td>\n",
       "    </tr>\n",
       "    <tr>\n",
       "      <th>0</th>\n",
       "      <td>jqadiaries-v49-1825-01-01</td>\n",
       "      <td>1825-01-01</td>\n",
       "      <td>South America</td>\n",
       "      <td>(-21.0002179, -61.0006565)</td>\n",
       "      <td>-21.000218</td>\n",
       "      <td>-61.000656</td>\n",
       "    </tr>\n",
       "  </tbody>\n",
       "</table>\n",
       "</div>"
      ],
      "text/plain": [
       "                       entry        date         places  \\\n",
       "0  jqadiaries-v49-1825-01-01  1825-01-01       H.R.U.S.   \n",
       "0  jqadiaries-v49-1825-01-01  1825-01-01        Bolivar   \n",
       "0  jqadiaries-v49-1825-01-01  1825-01-01  South America   \n",
       "\n",
       "                                coordinates        lat         lon  \n",
       "0  (3.4134276999999997, 101.56854987461735)   3.413428  101.568550  \n",
       "0                         (6.333333, -63.5)   6.333333  -63.500000  \n",
       "0                (-21.0002179, -61.0006565) -21.000218  -61.000656  "
      ]
     },
     "execution_count": 3,
     "metadata": {},
     "output_type": "execute_result"
    }
   ],
   "source": [
    "%%time\n",
    "\n",
    "# https://www.natasshaselvaraj.com/a-step-by-step-guide-on-geocoding-in-python/\n",
    "def geocode(place):\n",
    "#     url = 'https://nominatim.openstreetmap.org/search/' + urllib.parse.quote(place) +'?format=json'\n",
    "    url = 'https://nominatim.openstreetmap.org/search/' + str(place) + '?format=json'\n",
    "    response = requests.get(url).json()\n",
    "    if (len(response) != 0):\n",
    "#         Default (response[0]): select first search hit in OpenStreetMap.\n",
    "        return (float(response[0]['lat']), float(response[0]['lon']))\n",
    "    else:\n",
    "        return None \n",
    "\n",
    "df['coordinates'] = df['places'].apply(geocode)\n",
    "df[['lat', 'lon']] = pd.DataFrame(df['coordinates'].tolist(), index = df.index)\n",
    "\n",
    "# Convert to floats.\n",
    "df['lat'] = df['lat'].apply(lambda x: float(x))\n",
    "df['lon'] = df['lon'].apply(lambda x: float(x))\n",
    "\n",
    "df = df.dropna()\n",
    "\n",
    "df.head(3)"
   ]
  },
  {
   "cell_type": "markdown",
   "id": "driving-tamil",
   "metadata": {},
   "source": [
    "### Save Results"
   ]
  },
  {
   "cell_type": "code",
   "execution_count": 4,
   "id": "dominican-customs",
   "metadata": {},
   "outputs": [
    {
     "name": "stdout",
     "output_type": "stream",
     "text": [
      "CPU times: user 75.3 ms, sys: 4.56 ms, total: 79.8 ms\n",
      "Wall time: 83.4 ms\n"
     ]
    }
   ],
   "source": [
    "%%time\n",
    "\n",
    "df.to_csv(os.path.abspath('../../lab_space/projects/jqa/jqa-geoReference.csv', sep = ',', index = False)"
   ]
  }
 ],
 "metadata": {
  "kernelspec": {
   "display_name": "Python 3 (ipykernel)",
   "language": "python",
   "name": "python3"
  },
  "language_info": {
   "codemirror_mode": {
    "name": "ipython",
    "version": 3
   },
   "file_extension": ".py",
   "mimetype": "text/x-python",
   "name": "python",
   "nbconvert_exporter": "python",
   "pygments_lexer": "ipython3",
   "version": "3.8.5"
  }
 },
 "nbformat": 4,
 "nbformat_minor": 5
}
