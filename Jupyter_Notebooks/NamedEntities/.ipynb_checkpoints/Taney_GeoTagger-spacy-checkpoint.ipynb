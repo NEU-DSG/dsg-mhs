{
 "cells": [
  {
   "cell_type": "markdown",
   "id": "d23f6cac",
   "metadata": {},
   "source": [
    "# GeoTagger - Spacy"
   ]
  },
  {
   "cell_type": "code",
   "execution_count": 1,
   "id": "d5491fce",
   "metadata": {},
   "outputs": [],
   "source": [
    "# Import necessary libraries.\n",
    "import re, warnings, urllib, requests, spacy, geopy, folium, os, sys, glob\n",
    "import pandas as pd\n",
    "import numpy as np\n",
    "from collections import Counter\n",
    "from geopy.extra.rate_limiter import RateLimiter\n",
    "\n",
    "# Import project-specific functions. \n",
    "# Python files (.py) have to be in same folder to work.\n",
    "lib_path = os.path.abspath(os.path.join(os.path.dirname('Correspondence_XML_parser.py'), '../Scripts'))\n",
    "sys.path.append(lib_path)\n",
    "\n",
    "from Correspondence_XML_parser import *\n",
    "\n",
    "nlp = spacy.load('en_core_web_sm')\n",
    "\n",
    "# Ignore warnings related to deprecated functions.\n",
    "warnings.filterwarnings('ignore')"
   ]
  },
  {
   "cell_type": "markdown",
   "id": "e3f21609",
   "metadata": {},
   "source": [
    "## Get XML Files"
   ]
  },
  {
   "cell_type": "code",
   "execution_count": 2,
   "id": "9f28ecbf",
   "metadata": {},
   "outputs": [
    {
     "name": "stdout",
     "output_type": "stream",
     "text": [
      "CPU times: user 1.03 ms, sys: 1.24 ms, total: 2.28 ms\n",
      "Wall time: 1.78 ms\n"
     ]
    }
   ],
   "source": [
    "%%time\n",
    "\n",
    "# Declare directory location to shorten filepaths later.\n",
    "abs_dir = \"/Users/quinn.wi/Documents/\"\n",
    "\n",
    "input_directory = \"Data/PSC/Taney/TaneyXML-Oct2020/*.xml\"\n",
    "\n",
    "# Gather all .xml files using glob.\n",
    "files = glob.glob(abs_dir + input_directory)"
   ]
  },
  {
   "cell_type": "code",
   "execution_count": null,
   "id": "0c9ed9bf",
   "metadata": {},
   "outputs": [],
   "source": [
    "# %%time\n",
    "\n",
    "# # Must be connected to Northeastern's VPN.\n",
    "# r = requests.get(url, \n",
    "#                  auth = (user, pw), \n",
    "#                  headers = {'Content-Type': 'application/xml'}\n",
    "#                 )\n",
    "    \n",
    "# # Read in contents of pipeline.\n",
    "# soup = BeautifulSoup(r.content, 'html.parser')\n",
    "\n",
    "# # Split soup's content by \\n (each line is a file path to an XML doc).\n",
    "# # Use filter() to remove empty strings ('').\n",
    "# # Convert back to list using list().\n",
    "# files = list(filter(None, soup.text.split('\\n')))\n",
    "\n",
    "# # Filter list and retrieve only jqa/ files.\n",
    "# files = [i for i in files if 'jqa/' in i]\n",
    "\n",
    "# len(files)"
   ]
  },
  {
   "cell_type": "markdown",
   "id": "2287cd6c",
   "metadata": {},
   "source": [
    "## Build Dataframe"
   ]
  },
  {
   "cell_type": "code",
   "execution_count": 3,
   "id": "6946e60f",
   "metadata": {},
   "outputs": [
    {
     "name": "stdout",
     "output_type": "stream",
     "text": [
      "/Users/quinn.wi/Documents/Data/PSC/Taney/TaneyXML-Oct2020/RBT00009-collation.xml \n",
      "\n",
      "/Users/quinn.wi/Documents/Data/PSC/Taney/TaneyXML-Oct2020/RBT00021-collation.xml \n",
      "\n",
      "/Users/quinn.wi/Documents/Data/PSC/Taney/TaneyXML-Oct2020/RBT00022-collation.xml \n",
      "\n",
      "CPU times: user 18.9 ms, sys: 4.55 ms, total: 23.4 ms\n",
      "Wall time: 22 ms\n"
     ]
    },
    {
     "data": {
      "text/html": [
       "<div>\n",
       "<style scoped>\n",
       "    .dataframe tbody tr th:only-of-type {\n",
       "        vertical-align: middle;\n",
       "    }\n",
       "\n",
       "    .dataframe tbody tr th {\n",
       "        vertical-align: top;\n",
       "    }\n",
       "\n",
       "    .dataframe thead th {\n",
       "        text-align: right;\n",
       "    }\n",
       "</style>\n",
       "<table border=\"1\" class=\"dataframe\">\n",
       "  <thead>\n",
       "    <tr style=\"text-align: right;\">\n",
       "      <th></th>\n",
       "      <th>file</th>\n",
       "      <th>date</th>\n",
       "      <th>source</th>\n",
       "      <th>target</th>\n",
       "      <th>subjects</th>\n",
       "      <th>references</th>\n",
       "      <th>text</th>\n",
       "    </tr>\n",
       "  </thead>\n",
       "  <tbody>\n",
       "    <tr>\n",
       "      <th>0</th>\n",
       "      <td>RBT00107-collation.xml</td>\n",
       "      <td>1833-09-11</td>\n",
       "      <td>RBT</td>\n",
       "      <td>Ellicott-Thomas</td>\n",
       "      <td></td>\n",
       "      <td></td>\n",
       "      <td>Washington Sept. 11. 1833 My Dear Sir I hope ...</td>\n",
       "    </tr>\n",
       "    <tr>\n",
       "      <th>1</th>\n",
       "      <td>RBT00110-collation.xml</td>\n",
       "      <td>1833-09-19</td>\n",
       "      <td>RBT</td>\n",
       "      <td>Ellicott-Thomas</td>\n",
       "      <td>Bank War</td>\n",
       "      <td></td>\n",
       "      <td>Washington Sept. 20th 1833 My Dear Sir I rece...</td>\n",
       "    </tr>\n",
       "    <tr>\n",
       "      <th>2</th>\n",
       "      <td>RBT00667-collation.xml</td>\n",
       "      <td>0000-00-00</td>\n",
       "      <td>RBT</td>\n",
       "      <td>Henshaw-David</td>\n",
       "      <td>Bank of the United States,Treasury</td>\n",
       "      <td></td>\n",
       "      <td>October 2nd 183 Sir, It having been intimated...</td>\n",
       "    </tr>\n",
       "  </tbody>\n",
       "</table>\n",
       "</div>"
      ],
      "text/plain": [
       "                     file        date source           target  \\\n",
       "0  RBT00107-collation.xml  1833-09-11    RBT  Ellicott-Thomas   \n",
       "1  RBT00110-collation.xml  1833-09-19    RBT  Ellicott-Thomas   \n",
       "2  RBT00667-collation.xml  0000-00-00    RBT    Henshaw-David   \n",
       "\n",
       "                             subjects references  \\\n",
       "0                                                  \n",
       "1                            Bank War              \n",
       "2  Bank of the United States,Treasury              \n",
       "\n",
       "                                                text  \n",
       "0   Washington Sept. 11. 1833 My Dear Sir I hope ...  \n",
       "1   Washington Sept. 20th 1833 My Dear Sir I rece...  \n",
       "2   October 2nd 183 Sir, It having been intimated...  "
      ]
     },
     "execution_count": 3,
     "metadata": {},
     "output_type": "execute_result"
    }
   ],
   "source": [
    "%%time\n",
    "\n",
    "# Build dataframe from XML files.\n",
    "# build_dataframe() called from Correspondence_XML_parser\n",
    "# df = build_dataframe(files, url, user, pw)\n",
    "df = build_dataframe(files)\n",
    "\n",
    "df.head(3)"
   ]
  },
  {
   "cell_type": "markdown",
   "id": "af90014f",
   "metadata": {},
   "source": [
    "## Get Place Names"
   ]
  },
  {
   "cell_type": "code",
   "execution_count": 4,
   "id": "a9f6d2fc",
   "metadata": {},
   "outputs": [
    {
     "name": "stdout",
     "output_type": "stream",
     "text": [
      "CPU times: user 1.32 s, sys: 39 ms, total: 1.36 s\n",
      "Wall time: 1.38 s\n"
     ]
    },
    {
     "data": {
      "text/html": [
       "<div>\n",
       "<style scoped>\n",
       "    .dataframe tbody tr th:only-of-type {\n",
       "        vertical-align: middle;\n",
       "    }\n",
       "\n",
       "    .dataframe tbody tr th {\n",
       "        vertical-align: top;\n",
       "    }\n",
       "\n",
       "    .dataframe thead th {\n",
       "        text-align: right;\n",
       "    }\n",
       "</style>\n",
       "<table border=\"1\" class=\"dataframe\">\n",
       "  <thead>\n",
       "    <tr style=\"text-align: right;\">\n",
       "      <th></th>\n",
       "      <th>file</th>\n",
       "      <th>date</th>\n",
       "      <th>places</th>\n",
       "    </tr>\n",
       "  </thead>\n",
       "  <tbody>\n",
       "    <tr>\n",
       "      <th>0</th>\n",
       "      <td>RBT00107-collation.xml</td>\n",
       "      <td>1833-09-11</td>\n",
       "      <td>Washington</td>\n",
       "    </tr>\n",
       "    <tr>\n",
       "      <th>0</th>\n",
       "      <td>RBT00107-collation.xml</td>\n",
       "      <td>1833-09-11</td>\n",
       "      <td>Baltimore</td>\n",
       "    </tr>\n",
       "    <tr>\n",
       "      <th>0</th>\n",
       "      <td>RBT00107-collation.xml</td>\n",
       "      <td>1833-09-11</td>\n",
       "      <td>Washington</td>\n",
       "    </tr>\n",
       "  </tbody>\n",
       "</table>\n",
       "</div>"
      ],
      "text/plain": [
       "                     file        date      places\n",
       "0  RBT00107-collation.xml  1833-09-11  Washington\n",
       "0  RBT00107-collation.xml  1833-09-11   Baltimore\n",
       "0  RBT00107-collation.xml  1833-09-11  Washington"
      ]
     },
     "execution_count": 4,
     "metadata": {},
     "output_type": "execute_result"
    }
   ],
   "source": [
    "%%time\n",
    "\n",
    "def get_placenames(text):\n",
    "    doc = nlp(text)\n",
    "    places = [ent.text for ent in doc.ents if ent.label_ in ['LOC', 'GPE']]\n",
    "    return places\n",
    "    \n",
    "df['places'] = df['text'].apply(lambda x: get_placenames(x))\n",
    "\n",
    "df = df[['file', 'date', 'places']]\n",
    "df = df.explode('places')\n",
    "\n",
    "df.head(3)"
   ]
  },
  {
   "cell_type": "markdown",
   "id": "07d79a76",
   "metadata": {},
   "source": [
    "## GeoCode Places"
   ]
  },
  {
   "cell_type": "code",
   "execution_count": 5,
   "id": "f5394888",
   "metadata": {},
   "outputs": [
    {
     "name": "stdout",
     "output_type": "stream",
     "text": [
      "CPU times: user 1.2 s, sys: 93.8 ms, total: 1.29 s\n",
      "Wall time: 52.3 s\n"
     ]
    },
    {
     "data": {
      "text/html": [
       "<div>\n",
       "<style scoped>\n",
       "    .dataframe tbody tr th:only-of-type {\n",
       "        vertical-align: middle;\n",
       "    }\n",
       "\n",
       "    .dataframe tbody tr th {\n",
       "        vertical-align: top;\n",
       "    }\n",
       "\n",
       "    .dataframe thead th {\n",
       "        text-align: right;\n",
       "    }\n",
       "</style>\n",
       "<table border=\"1\" class=\"dataframe\">\n",
       "  <thead>\n",
       "    <tr style=\"text-align: right;\">\n",
       "      <th></th>\n",
       "      <th>file</th>\n",
       "      <th>date</th>\n",
       "      <th>places</th>\n",
       "      <th>coordinates</th>\n",
       "      <th>lat</th>\n",
       "      <th>lon</th>\n",
       "    </tr>\n",
       "  </thead>\n",
       "  <tbody>\n",
       "    <tr>\n",
       "      <th>0</th>\n",
       "      <td>RBT00107-collation.xml</td>\n",
       "      <td>1833-09-11</td>\n",
       "      <td>Washington</td>\n",
       "      <td>(38.8950368, -77.0365427)</td>\n",
       "      <td>38.895037</td>\n",
       "      <td>-77.036543</td>\n",
       "    </tr>\n",
       "    <tr>\n",
       "      <th>0</th>\n",
       "      <td>RBT00107-collation.xml</td>\n",
       "      <td>1833-09-11</td>\n",
       "      <td>Baltimore</td>\n",
       "      <td>(39.2908816, -76.610759)</td>\n",
       "      <td>39.290882</td>\n",
       "      <td>-76.610759</td>\n",
       "    </tr>\n",
       "    <tr>\n",
       "      <th>0</th>\n",
       "      <td>RBT00107-collation.xml</td>\n",
       "      <td>1833-09-11</td>\n",
       "      <td>Washington</td>\n",
       "      <td>(38.8950368, -77.0365427)</td>\n",
       "      <td>38.895037</td>\n",
       "      <td>-77.036543</td>\n",
       "    </tr>\n",
       "  </tbody>\n",
       "</table>\n",
       "</div>"
      ],
      "text/plain": [
       "                     file        date      places                coordinates  \\\n",
       "0  RBT00107-collation.xml  1833-09-11  Washington  (38.8950368, -77.0365427)   \n",
       "0  RBT00107-collation.xml  1833-09-11   Baltimore   (39.2908816, -76.610759)   \n",
       "0  RBT00107-collation.xml  1833-09-11  Washington  (38.8950368, -77.0365427)   \n",
       "\n",
       "         lat        lon  \n",
       "0  38.895037 -77.036543  \n",
       "0  39.290882 -76.610759  \n",
       "0  38.895037 -77.036543  "
      ]
     },
     "execution_count": 5,
     "metadata": {},
     "output_type": "execute_result"
    }
   ],
   "source": [
    "%%time\n",
    "\n",
    "# https://www.natasshaselvaraj.com/a-step-by-step-guide-on-geocoding-in-python/\n",
    "def geocode(place):\n",
    "#     url = 'https://nominatim.openstreetmap.org/search/' + urllib.parse.quote(place) +'?format=json'\n",
    "    url = 'https://nominatim.openstreetmap.org/search/' + str(place) + '?format=json'\n",
    "    response = requests.get(url).json()\n",
    "    if (len(response) != 0):\n",
    "#         Default (response[0]): select first search hit in OpenStreetMap.\n",
    "        return (float(response[0]['lat']), float(response[0]['lon']))\n",
    "    else:\n",
    "        return None \n",
    "\n",
    "df['coordinates'] = df['places'].apply(geocode)\n",
    "df[['lat', 'lon']] = pd.DataFrame(df['coordinates'].tolist(), index = df.index)\n",
    "\n",
    "# Convert to floats.\n",
    "df['lat'] = df['lat'].apply(lambda x: float(x))\n",
    "df['lon'] = df['lon'].apply(lambda x: float(x))\n",
    "\n",
    "df = df.dropna()\n",
    "\n",
    "df.head(3)"
   ]
  },
  {
   "cell_type": "markdown",
   "id": "d4e39db1",
   "metadata": {},
   "source": [
    "## Save Data"
   ]
  },
  {
   "cell_type": "code",
   "execution_count": 6,
   "id": "09b54f79",
   "metadata": {},
   "outputs": [
    {
     "name": "stdout",
     "output_type": "stream",
     "text": [
      "CPU times: user 2.65 ms, sys: 1.82 ms, total: 4.47 ms\n",
      "Wall time: 3.63 ms\n"
     ]
    }
   ],
   "source": [
    "%%time\n",
    "\n",
    "df.to_csv(os.path.abspath('../../lab_space/projects/taney/geo/data/taney_geoReference.csv'), \n",
    "                          sep = ',', index = False)"
   ]
  },
  {
   "cell_type": "code",
   "execution_count": null,
   "id": "632e9ebc",
   "metadata": {},
   "outputs": [],
   "source": []
  }
 ],
 "metadata": {
  "kernelspec": {
   "display_name": "Python 3 (ipykernel)",
   "language": "python",
   "name": "python3"
  },
  "language_info": {
   "codemirror_mode": {
    "name": "ipython",
    "version": 3
   },
   "file_extension": ".py",
   "mimetype": "text/x-python",
   "name": "python",
   "nbconvert_exporter": "python",
   "pygments_lexer": "ipython3",
   "version": "3.8.5"
  }
 },
 "nbformat": 4,
 "nbformat_minor": 5
}
