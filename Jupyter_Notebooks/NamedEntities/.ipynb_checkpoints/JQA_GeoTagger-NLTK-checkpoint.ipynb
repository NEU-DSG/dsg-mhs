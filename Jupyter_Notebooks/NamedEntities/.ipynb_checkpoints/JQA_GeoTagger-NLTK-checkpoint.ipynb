{
 "cells": [
  {
   "cell_type": "markdown",
   "metadata": {},
   "source": [
    "# GeoTagger\n",
    "\n",
    "This notebook explores the possibility of using various libraries to discover untagged/marked placenames within XML documents. The goal is to assess the effectiveness of different libraries and determine whether they could be useful for guided encoding revisions."
   ]
  },
  {
   "cell_type": "code",
   "execution_count": 1,
   "metadata": {},
   "outputs": [],
   "source": [
    "# Import necessary libraries.\n",
    "import re, nltk\n",
    "import pandas as pd\n",
    "import numpy as np\n",
    "from collections import Counter\n",
    "from nltk import word_tokenize, pos_tag, ne_chunk, Tree\n",
    "\n",
    "# Declare directory location to shorten filepaths later.\n",
    "abs_dir = \"/Users/quinn.wi/Documents/SemanticData/\"\n",
    "\n",
    "# Read in dataframe of parsed xml files.\n",
    "df = pd.read_csv(abs_dir + 'Output/ParsedXML/JQA_dataframe.txt', sep = '\\t')"
   ]
  },
  {
   "cell_type": "markdown",
   "metadata": {},
   "source": [
    "## NLTK\n",
    "\n",
    "https://stackoverflow.com/questions/48660547/how-can-i-extract-gpelocation-using-nltk-ne-chunk"
   ]
  },
  {
   "cell_type": "code",
   "execution_count": 2,
   "metadata": {},
   "outputs": [
    {
     "name": "stdout",
     "output_type": "stream",
     "text": [
      "CPU times: user 159 ms, sys: 22.9 ms, total: 182 ms\n",
      "Wall time: 182 ms\n"
     ]
    },
    {
     "data": {
      "image/png": "[encoded data removed]",
      "text/plain": [
       "Tree('S', [('What', 'WP'), ('is', 'VBZ'), ('the', 'DT'), ('weather', 'NN'), ('in', 'IN'), Tree('GPE', [('Chicago', 'NNP')]), ('today', 'NN'), ('?', '.')])"
      ]
     },
     "execution_count": 2,
     "metadata": {},
     "output_type": "execute_result"
    }
   ],
   "source": [
    "%%time\n",
    "\n",
    "sent = \"What is the weather in Chicago today?\"\n",
    "ne_chunk(pos_tag(word_tokenize(sent)))"
   ]
  },
  {
   "cell_type": "code",
   "execution_count": 3,
   "metadata": {},
   "outputs": [],
   "source": [
    "def get_continuous_chunks(text, label):\n",
    "    chunked = ne_chunk(pos_tag(word_tokenize(text)))\n",
    "    prev = None\n",
    "    continuous_chunk = []\n",
    "    current_chunk = []\n",
    "\n",
    "    for subtree in chunked:\n",
    "        if type(subtree) == Tree and subtree.label() == label:\n",
    "            current_chunk.append(\" \".join([token for token, pos in subtree.leaves()]))\n",
    "        if current_chunk:\n",
    "            named_entity = \" \".join(current_chunk)\n",
    "            if named_entity not in continuous_chunk:\n",
    "                continuous_chunk.append(named_entity)\n",
    "                current_chunk = []\n",
    "        else:\n",
    "            continue\n",
    "\n",
    "    return continuous_chunk"
   ]
  },
  {
   "cell_type": "code",
   "execution_count": 4,
   "metadata": {},
   "outputs": [
    {
     "data": {
      "text/plain": [
       "['Chicago']"
      ]
     },
     "execution_count": 4,
     "metadata": {},
     "output_type": "execute_result"
    }
   ],
   "source": [
    "get_continuous_chunks(sent, 'GPE')"
   ]
  },
  {
   "cell_type": "markdown",
   "metadata": {},
   "source": [
    "## Apply NLTK Location (GPE) Tagger"
   ]
  },
  {
   "cell_type": "code",
   "execution_count": 8,
   "metadata": {},
   "outputs": [
    {
     "name": "stdout",
     "output_type": "stream",
     "text": [
      "CPU times: user 2min 58s, sys: 1.03 s, total: 2min 59s\n",
      "Wall time: 3min\n"
     ]
    },
    {
     "data": {
      "text/html": [
       "<div>\n",
       "<style scoped>\n",
       "    .dataframe tbody tr th:only-of-type {\n",
       "        vertical-align: middle;\n",
       "    }\n",
       "\n",
       "    .dataframe tbody tr th {\n",
       "        vertical-align: top;\n",
       "    }\n",
       "\n",
       "    .dataframe thead th {\n",
       "        text-align: right;\n",
       "    }\n",
       "</style>\n",
       "<table border=\"1\" class=\"dataframe\">\n",
       "  <thead>\n",
       "    <tr style=\"text-align: right;\">\n",
       "      <th></th>\n",
       "      <th>file</th>\n",
       "      <th>content</th>\n",
       "      <th>locations</th>\n",
       "    </tr>\n",
       "  </thead>\n",
       "  <tbody>\n",
       "    <tr>\n",
       "      <th>0</th>\n",
       "      <td>('JQADiaries-v49-1825-01-p795.xml',)</td>\n",
       "      <td>1. VI:30. H. Humphreys here, for Methodist Chu...</td>\n",
       "      <td>[South America, Mountain, Havana, Columbian, F...</td>\n",
       "    </tr>\n",
       "    <tr>\n",
       "      <th>1</th>\n",
       "      <td>('JQADiaries-v49-1825-06-p849.xml',)</td>\n",
       "      <td>1. IV: symbols 1/2 symbols 35 symbols 36. symb...</td>\n",
       "      <td>[Coln, Captain, Collector, George, Drawers, Tw...</td>\n",
       "    </tr>\n",
       "    <tr>\n",
       "      <th>2</th>\n",
       "      <td>('JQADiaries-v33-1825-03-p101.xml',)</td>\n",
       "      <td>1. VII. Visitors W. N. Edwards of North-Caroli...</td>\n",
       "      <td>[North-Carolina, Ohio, Bath, Portuguese, Washi...</td>\n",
       "    </tr>\n",
       "    <tr>\n",
       "      <th>3</th>\n",
       "      <td>('JQADiaries-v49-1825-08-p891.xml',)</td>\n",
       "      <td>1. IV.30. Walk of an hour instead of the bath ...</td>\n",
       "      <td>[Netherlands, Indian, Michigan Territory, Indi...</td>\n",
       "    </tr>\n",
       "    <tr>\n",
       "      <th>4</th>\n",
       "      <td>('JQADiaries-v49-1825-07-p865.xml',)</td>\n",
       "      <td>1. IV:45 Friday. symbols  2. V. symbols 30 sym...</td>\n",
       "      <td>[Purser, Eastern, Northern East, Church, Indep...</td>\n",
       "    </tr>\n",
       "  </tbody>\n",
       "</table>\n",
       "</div>"
      ],
      "text/plain": [
       "                                   file  \\\n",
       "0  ('JQADiaries-v49-1825-01-p795.xml',)   \n",
       "1  ('JQADiaries-v49-1825-06-p849.xml',)   \n",
       "2  ('JQADiaries-v33-1825-03-p101.xml',)   \n",
       "3  ('JQADiaries-v49-1825-08-p891.xml',)   \n",
       "4  ('JQADiaries-v49-1825-07-p865.xml',)   \n",
       "\n",
       "                                             content  \\\n",
       "0  1. VI:30. H. Humphreys here, for Methodist Chu...   \n",
       "1  1. IV: symbols 1/2 symbols 35 symbols 36. symb...   \n",
       "2  1. VII. Visitors W. N. Edwards of North-Caroli...   \n",
       "3  1. IV.30. Walk of an hour instead of the bath ...   \n",
       "4  1. IV:45 Friday. symbols  2. V. symbols 30 sym...   \n",
       "\n",
       "                                           locations  \n",
       "0  [South America, Mountain, Havana, Columbian, F...  \n",
       "1  [Coln, Captain, Collector, George, Drawers, Tw...  \n",
       "2  [North-Carolina, Ohio, Bath, Portuguese, Washi...  \n",
       "3  [Netherlands, Indian, Michigan Territory, Indi...  \n",
       "4  [Purser, Eastern, Northern East, Church, Indep...  "
      ]
     },
     "execution_count": 8,
     "metadata": {},
     "output_type": "execute_result"
    }
   ],
   "source": [
    "%%time\n",
    "\n",
    "df['locations'] = df.apply(lambda row: get_continuous_chunks(row['content'], 'GPE'),\n",
    "                           axis = 1)\n",
    "\n",
    "df.head()"
   ]
  },
  {
   "cell_type": "code",
   "execution_count": 7,
   "metadata": {},
   "outputs": [
    {
     "ename": "TypeError",
     "evalue": "'numpy.ndarray' object is not callable",
     "output_type": "error",
     "traceback": [
      "\u001b[0;31m---------------------------------------------------------------------------\u001b[0m",
      "\u001b[0;31mTypeError\u001b[0m                                 Traceback (most recent call last)",
      "\u001b[0;32m<ipython-input-7-6af5d0b6656e>\u001b[0m in \u001b[0;36m<module>\u001b[0;34m\u001b[0m\n\u001b[0;32m----> 1\u001b[0;31m \u001b[0mdf\u001b[0m\u001b[0;34m[\u001b[0m\u001b[0;34m'locations'\u001b[0m\u001b[0;34m]\u001b[0m\u001b[0;34m.\u001b[0m\u001b[0mvalues\u001b[0m\u001b[0;34m(\u001b[0m\u001b[0;34m)\u001b[0m\u001b[0;34m.\u001b[0m\u001b[0munique\u001b[0m\u001b[0;34m(\u001b[0m\u001b[0;34m)\u001b[0m\u001b[0;34m\u001b[0m\u001b[0;34m\u001b[0m\u001b[0m\n\u001b[0m",
      "\u001b[0;31mTypeError\u001b[0m: 'numpy.ndarray' object is not callable"
     ]
    }
   ],
   "source": []
  },
  {
   "cell_type": "code",
   "execution_count": null,
   "metadata": {},
   "outputs": [],
   "source": []
  }
 ],
 "metadata": {
  "kernelspec": {
   "display_name": "Python 3",
   "language": "python",
   "name": "python3"
  },
  "language_info": {
   "codemirror_mode": {
    "name": "ipython",
    "version": 3
   },
   "file_extension": ".py",
   "mimetype": "text/x-python",
   "name": "python",
   "nbconvert_exporter": "python",
   "pygments_lexer": "ipython3",
   "version": "3.8.3"
  }
 },
 "nbformat": 4,
 "nbformat_minor": 4
}
