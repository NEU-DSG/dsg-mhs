{
 "cells": [
  {
   "cell_type": "markdown",
   "id": "d23f6cac",
   "metadata": {},
   "source": [
    "# GeoTagger - Spacy"
   ]
  },
  {
   "cell_type": "code",
   "execution_count": 1,
   "id": "d5491fce",
   "metadata": {},
   "outputs": [],
   "source": [
    "# Import necessary libraries.\n",
    "import re, warnings, urllib, requests, spacy, geopy, folium, os, sys, glob\n",
    "import pandas as pd\n",
    "import numpy as np\n",
    "from collections import Counter\n",
    "from geopy.extra.rate_limiter import RateLimiter\n",
    "\n",
    "# Import project-specific functions. \n",
    "# Python files (.py) have to be in same folder to work.\n",
    "lib_path = os.path.abspath(os.path.join(os.path.dirname('Correspondence_XML_parser.py'), '../Scripts'))\n",
    "sys.path.append(lib_path)\n",
    "\n",
    "from Correspondence_XML_parser import *\n",
    "\n",
    "nlp = spacy.load('en_core_web_sm')\n",
    "\n",
    "# Ignore warnings related to deprecated functions.\n",
    "warnings.filterwarnings('ignore')"
   ]
  },
  {
   "cell_type": "markdown",
   "id": "e3f21609",
   "metadata": {},
   "source": [
    "## Get XML Files"
   ]
  },
  {
   "cell_type": "code",
   "execution_count": 2,
   "id": "9f28ecbf",
   "metadata": {},
   "outputs": [
    {
     "name": "stdout",
     "output_type": "stream",
     "text": [
      "CPU times: user 1.44 ms, sys: 1.83 ms, total: 3.27 ms\n",
      "Wall time: 1.82 ms\n"
     ]
    }
   ],
   "source": [
    "%%time\n",
    "\n",
    "# Declare directory location to shorten filepaths later.\n",
    "abs_dir = \"/Users/quinn.wi/Documents/\"\n",
    "\n",
    "input_directory = \"Data/PSC/Taney/RBT_RawXML/*/*.xml\"\n",
    "\n",
    "# Gather all .xml files using glob.\n",
    "files = glob.glob(abs_dir + input_directory)"
   ]
  },
  {
   "cell_type": "code",
   "execution_count": 3,
   "id": "0c9ed9bf",
   "metadata": {},
   "outputs": [],
   "source": [
    "# %%time\n",
    "\n",
    "# # Must be connected to Northeastern's VPN.\n",
    "# r = requests.get(url, \n",
    "#                  auth = (user, pw), \n",
    "#                  headers = {'Content-Type': 'application/xml'}\n",
    "#                 )\n",
    "    \n",
    "# # Read in contents of pipeline.\n",
    "# soup = BeautifulSoup(r.content, 'html.parser')\n",
    "\n",
    "# # Split soup's content by \\n (each line is a file path to an XML doc).\n",
    "# # Use filter() to remove empty strings ('').\n",
    "# # Convert back to list using list().\n",
    "# files = list(filter(None, soup.text.split('\\n')))\n",
    "\n",
    "# # Filter list and retrieve only jqa/ files.\n",
    "# files = [i for i in files if 'jqa/' in i]\n",
    "\n",
    "# len(files)"
   ]
  },
  {
   "cell_type": "markdown",
   "id": "2287cd6c",
   "metadata": {},
   "source": [
    "## Build Dataframe"
   ]
  },
  {
   "cell_type": "code",
   "execution_count": 4,
   "id": "6946e60f",
   "metadata": {},
   "outputs": [
    {
     "name": "stdout",
     "output_type": "stream",
     "text": [
      "CPU times: user 70 ms, sys: 9.75 ms, total: 79.7 ms\n",
      "Wall time: 78.8 ms\n"
     ]
    },
    {
     "data": {
      "text/html": [
       "<div>\n",
       "<style scoped>\n",
       "    .dataframe tbody tr th:only-of-type {\n",
       "        vertical-align: middle;\n",
       "    }\n",
       "\n",
       "    .dataframe tbody tr th {\n",
       "        vertical-align: top;\n",
       "    }\n",
       "\n",
       "    .dataframe thead th {\n",
       "        text-align: right;\n",
       "    }\n",
       "</style>\n",
       "<table border=\"1\" class=\"dataframe\">\n",
       "  <thead>\n",
       "    <tr style=\"text-align: right;\">\n",
       "      <th></th>\n",
       "      <th>file</th>\n",
       "      <th>date</th>\n",
       "      <th>source</th>\n",
       "      <th>target</th>\n",
       "      <th>subjects</th>\n",
       "      <th>references</th>\n",
       "      <th>text</th>\n",
       "    </tr>\n",
       "  </thead>\n",
       "  <tbody>\n",
       "    <tr>\n",
       "      <th>0</th>\n",
       "      <td>RBT00099-verification.xml</td>\n",
       "      <td>1833-05-05</td>\n",
       "      <td>RBT</td>\n",
       "      <td>Ellicott-Thomas</td>\n",
       "      <td></td>\n",
       "      <td>jackson-andrew,kendall-amos,mickle-robert,tane...</td>\n",
       "      <td>Washington May 5. 1833My Dear Sir I received y...</td>\n",
       "    </tr>\n",
       "    <tr>\n",
       "      <th>1</th>\n",
       "      <td>RBT00146-verification.xml</td>\n",
       "      <td>1834-03-30</td>\n",
       "      <td>RBT</td>\n",
       "      <td>ellicott-thomas</td>\n",
       "      <td></td>\n",
       "      <td>mccubbin-george</td>\n",
       "      <td>Washington March 30. 1834My Dear Sir I have on...</td>\n",
       "    </tr>\n",
       "    <tr>\n",
       "      <th>2</th>\n",
       "      <td>RBT01364-verification.xml</td>\n",
       "      <td>1833-08-05</td>\n",
       "      <td>RBT</td>\n",
       "      <td>jackson-andrew</td>\n",
       "      <td></td>\n",
       "      <td></td>\n",
       "      <td>Washington Augt. 5. 1833 My Dear Sir After ref...</td>\n",
       "    </tr>\n",
       "  </tbody>\n",
       "</table>\n",
       "</div>"
      ],
      "text/plain": [
       "                        file        date source           target subjects  \\\n",
       "0  RBT00099-verification.xml  1833-05-05    RBT  Ellicott-Thomas            \n",
       "1  RBT00146-verification.xml  1834-03-30    RBT  ellicott-thomas            \n",
       "2  RBT01364-verification.xml  1833-08-05    RBT   jackson-andrew            \n",
       "\n",
       "                                          references  \\\n",
       "0  jackson-andrew,kendall-amos,mickle-robert,tane...   \n",
       "1                                    mccubbin-george   \n",
       "2                                                      \n",
       "\n",
       "                                                text  \n",
       "0  Washington May 5. 1833My Dear Sir I received y...  \n",
       "1  Washington March 30. 1834My Dear Sir I have on...  \n",
       "2  Washington Augt. 5. 1833 My Dear Sir After ref...  "
      ]
     },
     "execution_count": 4,
     "metadata": {},
     "output_type": "execute_result"
    }
   ],
   "source": [
    "%%time\n",
    "\n",
    "# Build dataframe from XML files.\n",
    "# build_dataframe() called from Correspondence_XML_parser\n",
    "# df = build_dataframe(files, url, user, pw)\n",
    "df = build_dataframe(files)\n",
    "\n",
    "df.head(3)"
   ]
  },
  {
   "cell_type": "markdown",
   "id": "af90014f",
   "metadata": {},
   "source": [
    "## Get Place Names"
   ]
  },
  {
   "cell_type": "code",
   "execution_count": 5,
   "id": "a9f6d2fc",
   "metadata": {},
   "outputs": [
    {
     "name": "stdout",
     "output_type": "stream",
     "text": [
      "CPU times: user 5.88 s, sys: 180 ms, total: 6.07 s\n",
      "Wall time: 6.13 s\n"
     ]
    },
    {
     "data": {
      "text/html": [
       "<div>\n",
       "<style scoped>\n",
       "    .dataframe tbody tr th:only-of-type {\n",
       "        vertical-align: middle;\n",
       "    }\n",
       "\n",
       "    .dataframe tbody tr th {\n",
       "        vertical-align: top;\n",
       "    }\n",
       "\n",
       "    .dataframe thead th {\n",
       "        text-align: right;\n",
       "    }\n",
       "</style>\n",
       "<table border=\"1\" class=\"dataframe\">\n",
       "  <thead>\n",
       "    <tr style=\"text-align: right;\">\n",
       "      <th></th>\n",
       "      <th>file</th>\n",
       "      <th>date</th>\n",
       "      <th>places</th>\n",
       "    </tr>\n",
       "  </thead>\n",
       "  <tbody>\n",
       "    <tr>\n",
       "      <th>0</th>\n",
       "      <td>RBT00099-verification.xml</td>\n",
       "      <td>1833-05-05</td>\n",
       "      <td>Washington</td>\n",
       "    </tr>\n",
       "    <tr>\n",
       "      <th>0</th>\n",
       "      <td>RBT00099-verification.xml</td>\n",
       "      <td>1833-05-05</td>\n",
       "      <td>Fredericksburg</td>\n",
       "    </tr>\n",
       "    <tr>\n",
       "      <th>0</th>\n",
       "      <td>RBT00099-verification.xml</td>\n",
       "      <td>1833-05-05</td>\n",
       "      <td>Banking</td>\n",
       "    </tr>\n",
       "  </tbody>\n",
       "</table>\n",
       "</div>"
      ],
      "text/plain": [
       "                        file        date          places\n",
       "0  RBT00099-verification.xml  1833-05-05      Washington\n",
       "0  RBT00099-verification.xml  1833-05-05  Fredericksburg\n",
       "0  RBT00099-verification.xml  1833-05-05         Banking"
      ]
     },
     "execution_count": 5,
     "metadata": {},
     "output_type": "execute_result"
    }
   ],
   "source": [
    "%%time\n",
    "\n",
    "def get_placenames(text):\n",
    "    doc = nlp(text)\n",
    "    places = [ent.text for ent in doc.ents if ent.label_ in ['LOC', 'GPE']]\n",
    "    return places\n",
    "    \n",
    "df['places'] = df['text'].apply(lambda x: get_placenames(x))\n",
    "\n",
    "df = df[['file', 'date', 'places']]\n",
    "df = df.explode('places')\n",
    "\n",
    "df.head(3)"
   ]
  },
  {
   "cell_type": "markdown",
   "id": "07d79a76",
   "metadata": {},
   "source": [
    "## GeoCode Places"
   ]
  },
  {
   "cell_type": "code",
   "execution_count": 6,
   "id": "f5394888",
   "metadata": {},
   "outputs": [
    {
     "name": "stdout",
     "output_type": "stream",
     "text": [
      "CPU times: user 5.81 s, sys: 448 ms, total: 6.25 s\n",
      "Wall time: 4min 33s\n"
     ]
    },
    {
     "data": {
      "text/html": [
       "<div>\n",
       "<style scoped>\n",
       "    .dataframe tbody tr th:only-of-type {\n",
       "        vertical-align: middle;\n",
       "    }\n",
       "\n",
       "    .dataframe tbody tr th {\n",
       "        vertical-align: top;\n",
       "    }\n",
       "\n",
       "    .dataframe thead th {\n",
       "        text-align: right;\n",
       "    }\n",
       "</style>\n",
       "<table border=\"1\" class=\"dataframe\">\n",
       "  <thead>\n",
       "    <tr style=\"text-align: right;\">\n",
       "      <th></th>\n",
       "      <th>file</th>\n",
       "      <th>date</th>\n",
       "      <th>places</th>\n",
       "      <th>coordinates</th>\n",
       "      <th>lat</th>\n",
       "      <th>lon</th>\n",
       "    </tr>\n",
       "  </thead>\n",
       "  <tbody>\n",
       "    <tr>\n",
       "      <th>0</th>\n",
       "      <td>RBT00099-verification.xml</td>\n",
       "      <td>1833-05-05</td>\n",
       "      <td>Washington</td>\n",
       "      <td>(38.8950368, -77.0365427)</td>\n",
       "      <td>38.895037</td>\n",
       "      <td>-77.036543</td>\n",
       "    </tr>\n",
       "    <tr>\n",
       "      <th>0</th>\n",
       "      <td>RBT00099-verification.xml</td>\n",
       "      <td>1833-05-05</td>\n",
       "      <td>Fredericksburg</td>\n",
       "      <td>(38.3031837, -77.4605399)</td>\n",
       "      <td>38.303184</td>\n",
       "      <td>-77.460540</td>\n",
       "    </tr>\n",
       "    <tr>\n",
       "      <th>0</th>\n",
       "      <td>RBT00099-verification.xml</td>\n",
       "      <td>1833-05-05</td>\n",
       "      <td>Banking</td>\n",
       "      <td>(53.1914099, -4.4942865)</td>\n",
       "      <td>53.191410</td>\n",
       "      <td>-4.494287</td>\n",
       "    </tr>\n",
       "  </tbody>\n",
       "</table>\n",
       "</div>"
      ],
      "text/plain": [
       "                        file        date          places  \\\n",
       "0  RBT00099-verification.xml  1833-05-05      Washington   \n",
       "0  RBT00099-verification.xml  1833-05-05  Fredericksburg   \n",
       "0  RBT00099-verification.xml  1833-05-05         Banking   \n",
       "\n",
       "                 coordinates        lat        lon  \n",
       "0  (38.8950368, -77.0365427)  38.895037 -77.036543  \n",
       "0  (38.3031837, -77.4605399)  38.303184 -77.460540  \n",
       "0   (53.1914099, -4.4942865)  53.191410  -4.494287  "
      ]
     },
     "execution_count": 6,
     "metadata": {},
     "output_type": "execute_result"
    }
   ],
   "source": [
    "%%time\n",
    "\n",
    "# https://www.natasshaselvaraj.com/a-step-by-step-guide-on-geocoding-in-python/\n",
    "def geocode(place):\n",
    "#     url = 'https://nominatim.openstreetmap.org/search/' + urllib.parse.quote(place) +'?format=json'\n",
    "    url = 'https://nominatim.openstreetmap.org/search/' + str(place) + '?format=json'\n",
    "    response = requests.get(url).json()\n",
    "    if (len(response) != 0):\n",
    "#         Default (response[0]): select first search hit in OpenStreetMap.\n",
    "        return (float(response[0]['lat']), float(response[0]['lon']))\n",
    "    else:\n",
    "        return None \n",
    "\n",
    "df['coordinates'] = df['places'].apply(geocode)\n",
    "df[['lat', 'lon']] = pd.DataFrame(df['coordinates'].tolist(), index = df.index)\n",
    "\n",
    "# Convert to floats.\n",
    "df['lat'] = df['lat'].apply(lambda x: float(x))\n",
    "df['lon'] = df['lon'].apply(lambda x: float(x))\n",
    "\n",
    "df = df.dropna()\n",
    "\n",
    "df.head(3)"
   ]
  },
  {
   "cell_type": "markdown",
   "id": "d4e39db1",
   "metadata": {},
   "source": [
    "## Save Data"
   ]
  },
  {
   "cell_type": "code",
   "execution_count": 7,
   "id": "09b54f79",
   "metadata": {},
   "outputs": [
    {
     "name": "stdout",
     "output_type": "stream",
     "text": [
      "CPU times: user 5.05 ms, sys: 2.05 ms, total: 7.1 ms\n",
      "Wall time: 6.46 ms\n"
     ]
    }
   ],
   "source": [
    "%%time\n",
    "\n",
    "df.to_csv(os.path.abspath('../../lab_space/projects/taney/geo/data/taney_geoReference.csv'), \n",
    "                          sep = ',', index = False)"
   ]
  },
  {
   "cell_type": "code",
   "execution_count": null,
   "id": "632e9ebc",
   "metadata": {},
   "outputs": [],
   "source": []
  }
 ],
 "metadata": {
  "kernelspec": {
   "display_name": "Python 3 (ipykernel)",
   "language": "python",
   "name": "python3"
  },
  "language_info": {
   "codemirror_mode": {
    "name": "ipython",
    "version": 3
   },
   "file_extension": ".py",
   "mimetype": "text/x-python",
   "name": "python",
   "nbconvert_exporter": "python",
   "pygments_lexer": "ipython3",
   "version": "3.8.5"
  }
 },
 "nbformat": 4,
 "nbformat_minor": 5
}
