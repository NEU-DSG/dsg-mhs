{
 "cells": [
  {
   "cell_type": "markdown",
   "id": "rolled-lawrence",
   "metadata": {},
   "source": [
    "# CoReference Network -- Richards\n",
    "\n",
    "Notes\n",
    "* Notebook currently treats the letter author and recipient as co-references. A strict author-recipient network at the moment (2021-09-27) would only have two nodes (Ellen Richards and Edward Atkinson)."
   ]
  },
  {
   "cell_type": "code",
   "execution_count": 1,
   "id": "6271efe7",
   "metadata": {},
   "outputs": [],
   "source": [
    "import re, json, glob, csv, sys, os, warnings\n",
    "import pandas as pd\n",
    "import numpy as np\n",
    "import itertools as iter\n",
    "import networkx as nx\n",
    "import xml.etree.ElementTree as ET\n",
    "import seaborn as sns\n",
    "import matplotlib.pyplot as plt\n",
    "from networkx.algorithms import community\n",
    "from networkx.readwrite import json_graph\n",
    "from json import JSONEncoder\n",
    "from operator import itemgetter\n",
    "from collections import Counter\n",
    "\n",
    "# Ignore warnings related to deprecated functions.\n",
    "warnings.filterwarnings('ignore')\n",
    "\n",
    "# Import project-specific functions. \n",
    "# Python files (.py) have to be in same folder to work.\n",
    "lib_path = os.path.abspath(os.path.join(os.path.dirname('Correspondence_XML_parser.py'), '../Scripts'))\n",
    "sys.path.append(lib_path)\n",
    "from Correspondence_XML_parser import *\n",
    "\n",
    "# # Read in config.py (git ignored file) for API username and pw.\n",
    "# config_path = os.path.abspath(os.path.join(os.path.dirname('config.py'), '../Scripts'))\n",
    "# sys.path.append(config_path)\n",
    "# import config\n",
    "\n",
    "# url = 'https://dsg.xmldb-dev.northeastern.edu/BaseX964/rest/psc/'\n",
    "# user = config.username\n",
    "# pw = config.password"
   ]
  },
  {
   "cell_type": "markdown",
   "id": "eb394667",
   "metadata": {},
   "source": [
    "## Gather XML Files"
   ]
  },
  {
   "cell_type": "code",
   "execution_count": 2,
   "id": "sitting-encounter",
   "metadata": {},
   "outputs": [],
   "source": [
    "# Declare directory location to shorten filepaths later.\n",
    "abs_dir = \"/Users/quinn.wi/Documents/\"\n",
    "\n",
    "input_directory = \"Data/PSC/Richards/ESR-XML-Files-MHS/*.xml\"\n",
    "\n",
    "# Gather all .xml files using glob.\n",
    "files = glob.glob(abs_dir + input_directory)"
   ]
  },
  {
   "cell_type": "code",
   "execution_count": null,
   "id": "85ad8b88",
   "metadata": {},
   "outputs": [],
   "source": [
    "# %%time\n",
    "\n",
    "# # Must be connected to Northeastern's VPN.\n",
    "# r = requests.get(url, \n",
    "#                  auth = (user, pw), \n",
    "#                  headers = {'Content-Type': 'application/xml'}\n",
    "#                 )\n",
    "    \n",
    "# # Read in contents of pipeline.\n",
    "# soup = BeautifulSoup(r.content, 'html.parser')\n",
    "\n",
    "# # Split soup's content by \\n (each line is a file path to an XML doc).\n",
    "# # Use filter() to remove empty strings ('').\n",
    "# # Convert back to list using list().\n",
    "# files = list(filter(None, soup.text.split('\\n')))\n",
    "\n",
    "# # Filter list and retrieve only jqa/ files.\n",
    "# files = [i for i in files if 'esr/' in i]\n",
    "\n",
    "# len(files)"
   ]
  },
  {
   "cell_type": "markdown",
   "id": "340d46f3",
   "metadata": {},
   "source": [
    "## Build Dataframe"
   ]
  },
  {
   "cell_type": "code",
   "execution_count": 3,
   "id": "81ab4dc2",
   "metadata": {},
   "outputs": [
    {
     "name": "stdout",
     "output_type": "stream",
     "text": [
      "/Users/quinn.wi/Documents/Data/PSC/Richards/ESR-XML-Files-MHS/ESR-EDA-1893-09-24.xml \n",
      "\n",
      "CPU times: user 10.4 ms, sys: 3.17 ms, total: 13.6 ms\n",
      "Wall time: 16.4 ms\n"
     ]
    },
    {
     "data": {
      "text/html": [
       "<div>\n",
       "<style scoped>\n",
       "    .dataframe tbody tr th:only-of-type {\n",
       "        vertical-align: middle;\n",
       "    }\n",
       "\n",
       "    .dataframe tbody tr th {\n",
       "        vertical-align: top;\n",
       "    }\n",
       "\n",
       "    .dataframe thead th {\n",
       "        text-align: right;\n",
       "    }\n",
       "</style>\n",
       "<table border=\"1\" class=\"dataframe\">\n",
       "  <thead>\n",
       "    <tr style=\"text-align: right;\">\n",
       "      <th></th>\n",
       "      <th>file</th>\n",
       "      <th>date</th>\n",
       "      <th>source</th>\n",
       "      <th>target</th>\n",
       "      <th>subjects</th>\n",
       "      <th>references</th>\n",
       "      <th>text</th>\n",
       "    </tr>\n",
       "  </thead>\n",
       "  <tbody>\n",
       "    <tr>\n",
       "      <th>0</th>\n",
       "      <td>ESR-EDA-1892-01-08.xml</td>\n",
       "      <td>1892-01-08</td>\n",
       "      <td>richards-ellen</td>\n",
       "      <td>atkinson-edward</td>\n",
       "      <td>1893 Chicago World's Fair,Aladdin Oven,New Eng...</td>\n",
       "      <td>[palmer-bertha, hovey-e, daniells-unknown]</td>\n",
       "      <td>Boston Jan 8 1892 My dear Mr Atkinson I enclo...</td>\n",
       "    </tr>\n",
       "    <tr>\n",
       "      <th>1</th>\n",
       "      <td>ESR-EDA-1892-04-12.xml</td>\n",
       "      <td>1892-04-12</td>\n",
       "      <td>richards-ellen</td>\n",
       "      <td>atkinson-edward</td>\n",
       "      <td>Aladdin Oven,nutrition,cooking</td>\n",
       "      <td>[abel-mary]</td>\n",
       "      <td>April 12— Dear Mr Atkinson I expect Mrs Abel ...</td>\n",
       "    </tr>\n",
       "    <tr>\n",
       "      <th>2</th>\n",
       "      <td>ESR-EDA-1892-04-07.xml</td>\n",
       "      <td>1892-04-07</td>\n",
       "      <td>richards-ellen</td>\n",
       "      <td>atkinson-edward</td>\n",
       "      <td>Aladdin Oven,Nutrition,cooking</td>\n",
       "      <td>[conro-emma, abel-mary]</td>\n",
       "      <td>Boston, April 7, 1892 My dear Mr. Atkinson I ...</td>\n",
       "    </tr>\n",
       "  </tbody>\n",
       "</table>\n",
       "</div>"
      ],
      "text/plain": [
       "                     file        date          source           target  \\\n",
       "0  ESR-EDA-1892-01-08.xml  1892-01-08  richards-ellen  atkinson-edward   \n",
       "1  ESR-EDA-1892-04-12.xml  1892-04-12  richards-ellen  atkinson-edward   \n",
       "2  ESR-EDA-1892-04-07.xml  1892-04-07  richards-ellen  atkinson-edward   \n",
       "\n",
       "                                            subjects  \\\n",
       "0  1893 Chicago World's Fair,Aladdin Oven,New Eng...   \n",
       "1                     Aladdin Oven,nutrition,cooking   \n",
       "2                     Aladdin Oven,Nutrition,cooking   \n",
       "\n",
       "                                   references  \\\n",
       "0  [palmer-bertha, hovey-e, daniells-unknown]   \n",
       "1                                 [abel-mary]   \n",
       "2                     [conro-emma, abel-mary]   \n",
       "\n",
       "                                                text  \n",
       "0   Boston Jan 8 1892 My dear Mr Atkinson I enclo...  \n",
       "1   April 12— Dear Mr Atkinson I expect Mrs Abel ...  \n",
       "2   Boston, April 7, 1892 My dear Mr. Atkinson I ...  "
      ]
     },
     "execution_count": 3,
     "metadata": {},
     "output_type": "execute_result"
    }
   ],
   "source": [
    "%%time\n",
    "\n",
    "# Build dataframe from XML files.\n",
    "# build_dataframe() called from Correspondence_XML_parser\n",
    "# df = build_dataframe(files, url, user, pw)\n",
    "\n",
    "df = build_dataframe(files)\n",
    "\n",
    "# Lowercase values in source, target, and reference columns.\n",
    "df['source'] = df['source'].str.lower()\n",
    "df['target'] = df['target'].str.lower()\n",
    "df['references'] = df['references'].str.lower()\n",
    "\n",
    "# Split references into list objects.\n",
    "df['references'] = df['references'].str.split(r',|;')\n",
    "\n",
    "df.head(3)"
   ]
  },
  {
   "cell_type": "markdown",
   "id": "clinical-monthly",
   "metadata": {},
   "source": [
    "## Reshape Dataframe for Network"
   ]
  },
  {
   "cell_type": "code",
   "execution_count": 12,
   "id": "blond-portugal",
   "metadata": {},
   "outputs": [
    {
     "data": {
      "image/png": "[encoded data removed]",
      "text/plain": [
       "<Figure size 432x288 with 1 Axes>"
      ]
     },
     "metadata": {
      "needs_background": "light"
     },
     "output_type": "display_data"
    },
    {
     "name": "stdout",
     "output_type": "stream",
     "text": [
      "CPU times: user 161 ms, sys: 6.03 ms, total: 167 ms\n",
      "Wall time: 169 ms\n"
     ]
    },
    {
     "data": {
      "text/html": [
       "<div>\n",
       "<style scoped>\n",
       "    .dataframe tbody tr th:only-of-type {\n",
       "        vertical-align: middle;\n",
       "    }\n",
       "\n",
       "    .dataframe tbody tr th {\n",
       "        vertical-align: top;\n",
       "    }\n",
       "\n",
       "    .dataframe thead th {\n",
       "        text-align: right;\n",
       "    }\n",
       "</style>\n",
       "<table border=\"1\" class=\"dataframe\">\n",
       "  <thead>\n",
       "    <tr style=\"text-align: right;\">\n",
       "      <th></th>\n",
       "      <th>source</th>\n",
       "      <th>target</th>\n",
       "      <th>weight</th>\n",
       "    </tr>\n",
       "  </thead>\n",
       "  <tbody>\n",
       "    <tr>\n",
       "      <th>31</th>\n",
       "      <td>abel-mary</td>\n",
       "      <td>abel-john</td>\n",
       "      <td>1</td>\n",
       "    </tr>\n",
       "    <tr>\n",
       "      <th>46</th>\n",
       "      <td>palmer-alice</td>\n",
       "      <td>abel-john</td>\n",
       "      <td>1</td>\n",
       "    </tr>\n",
       "    <tr>\n",
       "      <th>56</th>\n",
       "      <td>richards-ellen</td>\n",
       "      <td>abel-john</td>\n",
       "      <td>1</td>\n",
       "    </tr>\n",
       "  </tbody>\n",
       "</table>\n",
       "</div>"
      ],
      "text/plain": [
       "            source     target  weight\n",
       "31       abel-mary  abel-john       1\n",
       "46    palmer-alice  abel-john       1\n",
       "56  richards-ellen  abel-john       1"
      ]
     },
     "execution_count": 12,
     "metadata": {},
     "output_type": "execute_result"
    }
   ],
   "source": [
    "%%time\n",
    "\n",
    "# Explode list so that each list value becomes a row.\n",
    "refs = df.explode('references')\n",
    "\n",
    "# Create file-person matrix.\n",
    "refs = pd.crosstab(refs['file'], refs['references'])\n",
    "\n",
    "# Repeat with correspondence (source + target)\n",
    "source = pd.crosstab(df['file'], df['source'])\n",
    "target = pd.crosstab(df['file'], df['target'])\n",
    "\n",
    "# Sum values of sources to refs or create new column with sources' values.\n",
    "for col in source:\n",
    "    if col in refs:\n",
    "        refs[str(col)] = refs[str(col)] + source[str(col)]\n",
    "    else:\n",
    "        refs[str(col)] = source[str(col)]\n",
    "\n",
    "# Repeat for targets.\n",
    "for col in target:\n",
    "    if col in refs:\n",
    "        refs[str(col)] = refs[str(col)] + target[str(col)]\n",
    "    else:\n",
    "        refs[str(col)] = target[str(col)]\n",
    "\n",
    "# Convert entry-person matrix into an adjacency matrix of persons.\n",
    "refs = refs.T.dot(refs)\n",
    "\n",
    "# # Change diagonal values to zero. That is, a person cannot co-occur with themself.\n",
    "# np.fill_diagonal(refs.values, 0)\n",
    "\n",
    "# Create new 'source' column that corresponds to index (person).\n",
    "refs['source'] = refs.index\n",
    "\n",
    "# # Reshape dataframe to focus on source, target, and weight.\n",
    "# # Rename 'people' column name to 'target'.\n",
    "df_graph = pd.melt(refs, id_vars = ['source'], var_name = 'target', value_name = 'weight') \\\n",
    "    .rename(columns = {'references':'target'}) \\\n",
    "    .query('(source != \"u\") & (target != \"u\")') \\\n",
    "    .query('(source != target) & (weight >= 1)')\n",
    "\n",
    "# Remove rows with empty source or target.\n",
    "df_graph['source'].replace('', np.nan, inplace=True)\n",
    "df_graph['target'].replace('', np.nan, inplace=True)\n",
    "df_graph.dropna(subset=['source', 'target'], inplace=True)\n",
    "\n",
    "\n",
    "# Chart distribution of weights.\n",
    "sns.histplot(data = df_graph, x = 'weight')\n",
    "\n",
    "plt.show()\n",
    "\n",
    "df_graph.head(3)\n"
   ]
  },
  {
   "cell_type": "markdown",
   "id": "novel-burden",
   "metadata": {},
   "source": [
    "## Build Graph Object"
   ]
  },
  {
   "cell_type": "code",
   "execution_count": 13,
   "id": "anonymous-tradition",
   "metadata": {},
   "outputs": [
    {
     "name": "stdout",
     "output_type": "stream",
     "text": [
      "Name: \n",
      "Type: Graph\n",
      "Number of nodes: 29\n",
      "Number of edges: 96\n",
      "Average degree:   6.6207\n",
      "Top 10 nodes by degree:\n",
      "\t('richards-ellen', 27)\n",
      "\t('atkinson-edward', 27)\n",
      "\t('daniells-unknown', 11)\n",
      "\t('abel-mary', 10)\n",
      "\t('hovey-e', 10)\n",
      "\t('davis-katherine', 7)\n",
      "\t('day-edna', 7)\n",
      "\t('unknown1', 7)\n",
      "\t('unknown2', 7)\n",
      "\t('unknown3', 7)\n",
      "Network density: 0.236\n",
      "Is the network connected? False\n",
      "Triadic closure: 0.411\n",
      "\n",
      "Network diameter of the largest component: 2.000\n",
      "CPU times: user 3.11 s, sys: 23.6 ms, total: 3.14 s\n",
      "Wall time: 3.19 s\n"
     ]
    }
   ],
   "source": [
    "%%time\n",
    "\n",
    "%%time\n",
    "\n",
    "# Initialize graph object.\n",
    "G = nx.from_pandas_edgelist(df, 'source', 'target', 'weight')\n",
    "\n",
    "# Add nodes.\n",
    "nodes = list( dict.fromkeys( df['source'].values.tolist() + df['target'].values.tolist() ))\n",
    "G.add_nodes_from(nodes)\n",
    "\n",
    "print (nx.info(G))\n",
    "\n",
    "# Set degree attributes.\n",
    "nx.set_node_attributes(G, dict(G.degree(G.nodes())), 'degree')\n",
    "\n",
    "# Sort nodes by degree and print top results.\n",
    "sorted_degree = sorted(dict(G.degree(G.nodes())).items(),\n",
    "                       key = itemgetter(1), reverse = True)\n",
    "\n",
    "print (\"Top 10 nodes by degree:\")\n",
    "for d in sorted_degree[:10]:\n",
    "    print (f'\\t{d}')\n",
    "\n",
    "\n",
    "# Measure network density.\n",
    "density = nx.density(G)\n",
    "print (f\"Network density: {density:.3f}\")\n",
    "\n",
    "# Related to diameter, check if network is connected and, therefore, can have a diameter.\n",
    "print (f\"Is the network connected? {nx.is_connected(G)}\")\n",
    "\n",
    "# Get a list of network components (communities).\n",
    "# Find the largest component.\n",
    "components = nx.connected_components(G)\n",
    "largest_component = max(components, key = len)\n",
    "\n",
    "# Create a subgraph of the largest component and measure its diameter.\n",
    "subgraph = G.subgraph(largest_component)\n",
    "diameter = nx.diameter(subgraph)\n",
    "print (f\"Network diameter of the largest component: {diameter:.3f}\")\n",
    "\n",
    "# Find triadic closure (similar to density).\n",
    "triadic_closure = nx.transitivity(G)\n",
    "print (f\"Triadic closure: {triadic_closure:.3f}\\n\")\n",
    "\n",
    "# Find centrality measures.\n",
    "betweenness_dict = nx.betweenness_centrality(G) # Run betweenness centrality\n",
    "eigenvector_dict = nx.eigenvector_centrality(G) # Run eigenvector centrality\n",
    "degree_cent_dict = nx.degree_centrality(G)\n",
    "\n",
    "# Assign each centrality measure to an attribute.\n",
    "nx.set_node_attributes(G, betweenness_dict, 'betweenness')\n",
    "nx.set_node_attributes(G, eigenvector_dict, 'eigenvector')\n",
    "nx.set_node_attributes(G, degree_cent_dict, 'degree_cent')\n",
    "\n",
    "# Find communities.\n",
    "communities = community.naive_greedy_modularity_communities(subgraph)\n",
    "# communities = community.k_clique_communities(subgraph, 5)\n",
    "# communities = community.greedy_modularity_communities(subgraph)\n",
    "# communities = community.kernighan_lin_bisection(subgraph)\n",
    "\n",
    "# Create a dictionary that maps nodes to their community.\n",
    "modularity_dict = {}\n",
    "for i, c in enumerate(communities):\n",
    "    for name in c:\n",
    "        modularity_dict[name] = i\n",
    "        \n",
    "# Add modularity information to graph object.\n",
    "nx.set_node_attributes(subgraph, modularity_dict, 'modularity')"
   ]
  },
  {
   "cell_type": "markdown",
   "id": "three-patch",
   "metadata": {},
   "source": [
    "## Write as Graph Object"
   ]
  },
  {
   "cell_type": "code",
   "execution_count": 14,
   "id": "automatic-colleague",
   "metadata": {},
   "outputs": [
    {
     "name": "stdout",
     "output_type": "stream",
     "text": [
      "CPU times: user 1.2 ms, sys: 1.19 ms, total: 2.39 ms\n",
      "Wall time: 1.75 ms\n"
     ]
    }
   ],
   "source": [
    "%%time\n",
    "\n",
    "# Convert graph object into a dictionary.\n",
    "data = json_graph.node_link_data(G)\n",
    "    \n",
    "data_json = json.dumps(data)\n",
    "\n",
    "with open(abs_dir + \"GitHub/dsg-mhs/lab_space/projects/richards/coref/data/Richards_coRef-network.json\", \"w\") as f:\n",
    "    f.write(data_json)"
   ]
  },
  {
   "cell_type": "code",
   "execution_count": null,
   "id": "d0b7135b",
   "metadata": {},
   "outputs": [],
   "source": []
  }
 ],
 "metadata": {
  "kernelspec": {
   "display_name": "Python 3 (ipykernel)",
   "language": "python",
   "name": "python3"
  },
  "language_info": {
   "codemirror_mode": {
    "name": "ipython",
    "version": 3
   },
   "file_extension": ".py",
   "mimetype": "text/x-python",
   "name": "python",
   "nbconvert_exporter": "python",
   "pygments_lexer": "ipython3",
   "version": "3.8.5"
  }
 },
 "nbformat": 4,
 "nbformat_minor": 5
}
