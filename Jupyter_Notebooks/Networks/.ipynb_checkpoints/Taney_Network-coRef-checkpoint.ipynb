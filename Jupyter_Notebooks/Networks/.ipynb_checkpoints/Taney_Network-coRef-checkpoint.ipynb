{
 "cells": [
  {
   "cell_type": "markdown",
   "id": "40e89a19",
   "metadata": {},
   "source": [
    "# Network Analysis"
   ]
  },
  {
   "cell_type": "code",
   "execution_count": 1,
   "id": "b554e7a4",
   "metadata": {},
   "outputs": [],
   "source": [
    "import re, json, glob, csv, sys, os, warnings\n",
    "import pandas as pd\n",
    "import numpy as np\n",
    "import itertools as iter\n",
    "import networkx as nx\n",
    "import xml.etree.ElementTree as ET\n",
    "import seaborn as sns\n",
    "import matplotlib.pyplot as plt\n",
    "from networkx.algorithms import community\n",
    "from networkx.readwrite import json_graph\n",
    "from json import JSONEncoder\n",
    "from operator import itemgetter\n",
    "from collections import Counter\n",
    "\n",
    "# Ignore warnings related to deprecated functions.\n",
    "warnings.filterwarnings('ignore')\n",
    "\n",
    "# Import project-specific functions. \n",
    "# Python files (.py) have to be in same folder to work.\n",
    "lib_path = os.path.abspath(os.path.join(os.path.dirname('Correspondence_XML_parser.py'), '../Scripts'))\n",
    "sys.path.append(lib_path)\n",
    "from Correspondence_XML_parser import *\n",
    "\n",
    "# # Read in config.py (git ignored file) for API username and pw.\n",
    "# config_path = os.path.abspath(os.path.join(os.path.dirname('config.py'), '../Scripts'))\n",
    "# sys.path.append(config_path)\n",
    "# import config\n",
    "\n",
    "# url = 'https://dsg.xmldb-dev.northeastern.edu/BaseX964/rest/psc/'\n",
    "# user = config.username\n",
    "# pw = config.password"
   ]
  },
  {
   "cell_type": "code",
   "execution_count": 2,
   "id": "b22601a5",
   "metadata": {},
   "outputs": [
    {
     "name": "stdout",
     "output_type": "stream",
     "text": [
      "CPU times: user 1.58 ms, sys: 1.81 ms, total: 3.39 ms\n",
      "Wall time: 2.15 ms\n"
     ]
    }
   ],
   "source": [
    "%%time\n",
    "\n",
    "# Declare directory location to shorten filepaths later.\n",
    "abs_dir = \"/Users/quinn.wi/Documents/\"\n",
    "\n",
    "input_directory = \"Data/PSC/Taney/RBT_RawXML/*/*.xml\"\n",
    "\n",
    "# Gather all .xml files using glob.\n",
    "files = glob.glob(abs_dir + input_directory)"
   ]
  },
  {
   "cell_type": "markdown",
   "id": "909ac91b",
   "metadata": {},
   "source": [
    "## Gather XML Files"
   ]
  },
  {
   "cell_type": "code",
   "execution_count": 3,
   "id": "7ba9f183",
   "metadata": {},
   "outputs": [],
   "source": [
    "# %%time\n",
    "\n",
    "# # Must be connected to Northeastern's VPN.\n",
    "# r = requests.get(url, \n",
    "#                  auth = (user, pw), \n",
    "#                  headers = {'Content-Type': 'application/xml'}\n",
    "#                 )\n",
    "    \n",
    "# # Read in contents of pipeline.\n",
    "# soup = BeautifulSoup(r.content, 'html.parser')\n",
    "\n",
    "# # Split soup's content by \\n (each line is a file path to an XML doc).\n",
    "# # Use filter() to remove empty strings ('').\n",
    "# # Convert back to list using list().\n",
    "# files = list(filter(None, soup.text.split('\\n')))\n",
    "\n",
    "# # Filter list and retrieve only jqa/ files.\n",
    "# files = [i for i in files if 'jqa/' in i]\n",
    "\n",
    "# len(files)"
   ]
  },
  {
   "cell_type": "markdown",
   "id": "23fbbae8",
   "metadata": {},
   "source": [
    "## Build Dataframe"
   ]
  },
  {
   "cell_type": "code",
   "execution_count": 4,
   "id": "040c92a7",
   "metadata": {},
   "outputs": [
    {
     "name": "stdout",
     "output_type": "stream",
     "text": [
      "CPU times: user 67.1 ms, sys: 8.76 ms, total: 75.9 ms\n",
      "Wall time: 75.3 ms\n"
     ]
    },
    {
     "data": {
      "text/html": [
       "<div>\n",
       "<style scoped>\n",
       "    .dataframe tbody tr th:only-of-type {\n",
       "        vertical-align: middle;\n",
       "    }\n",
       "\n",
       "    .dataframe tbody tr th {\n",
       "        vertical-align: top;\n",
       "    }\n",
       "\n",
       "    .dataframe thead th {\n",
       "        text-align: right;\n",
       "    }\n",
       "</style>\n",
       "<table border=\"1\" class=\"dataframe\">\n",
       "  <thead>\n",
       "    <tr style=\"text-align: right;\">\n",
       "      <th></th>\n",
       "      <th>file</th>\n",
       "      <th>date</th>\n",
       "      <th>source</th>\n",
       "      <th>target</th>\n",
       "      <th>subjects</th>\n",
       "      <th>references</th>\n",
       "      <th>text</th>\n",
       "    </tr>\n",
       "  </thead>\n",
       "  <tbody>\n",
       "    <tr>\n",
       "      <th>0</th>\n",
       "      <td>RBT00099-verification.xml</td>\n",
       "      <td>1833-05-05</td>\n",
       "      <td>rbt</td>\n",
       "      <td>ellicott-thomas</td>\n",
       "      <td></td>\n",
       "      <td>[jackson-andrew, kendall-amos, mickle-robert, ...</td>\n",
       "      <td>Washington May 5. 1833My Dear Sir I received y...</td>\n",
       "    </tr>\n",
       "    <tr>\n",
       "      <th>1</th>\n",
       "      <td>RBT00146-verification.xml</td>\n",
       "      <td>1834-03-30</td>\n",
       "      <td>rbt</td>\n",
       "      <td>ellicott-thomas</td>\n",
       "      <td></td>\n",
       "      <td>[mccubbin-george]</td>\n",
       "      <td>Washington March 30. 1834My Dear Sir I have on...</td>\n",
       "    </tr>\n",
       "    <tr>\n",
       "      <th>2</th>\n",
       "      <td>RBT01364-verification.xml</td>\n",
       "      <td>1833-08-05</td>\n",
       "      <td>rbt</td>\n",
       "      <td>jackson-andrew</td>\n",
       "      <td></td>\n",
       "      <td>[]</td>\n",
       "      <td>Washington Augt. 5. 1833 My Dear Sir After ref...</td>\n",
       "    </tr>\n",
       "  </tbody>\n",
       "</table>\n",
       "</div>"
      ],
      "text/plain": [
       "                        file        date source           target subjects  \\\n",
       "0  RBT00099-verification.xml  1833-05-05    rbt  ellicott-thomas            \n",
       "1  RBT00146-verification.xml  1834-03-30    rbt  ellicott-thomas            \n",
       "2  RBT01364-verification.xml  1833-08-05    rbt   jackson-andrew            \n",
       "\n",
       "                                          references  \\\n",
       "0  [jackson-andrew, kendall-amos, mickle-robert, ...   \n",
       "1                                  [mccubbin-george]   \n",
       "2                                                 []   \n",
       "\n",
       "                                                text  \n",
       "0  Washington May 5. 1833My Dear Sir I received y...  \n",
       "1  Washington March 30. 1834My Dear Sir I have on...  \n",
       "2  Washington Augt. 5. 1833 My Dear Sir After ref...  "
      ]
     },
     "execution_count": 4,
     "metadata": {},
     "output_type": "execute_result"
    }
   ],
   "source": [
    "%%time\n",
    "\n",
    "# Build dataframe from XML files.\n",
    "# build_dataframe() called from Correspondence_XML_parser\n",
    "# df = build_dataframe(files, url, user, pw)\n",
    "\n",
    "df = build_dataframe(files)\n",
    "\n",
    "# Lowercase values in source, target, and reference columns.\n",
    "df['source'] = df['source'].str.lower()\n",
    "df['target'] = df['target'].str.lower()\n",
    "df['references'] = df['references'].str.lower()\n",
    "\n",
    "# Split references into list objects.\n",
    "df['references'] = df['references'].str.split(r',|;')\n",
    "\n",
    "df.head(3)"
   ]
  },
  {
   "cell_type": "markdown",
   "id": "1dea9bd6",
   "metadata": {},
   "source": [
    "## Create Adjacency Matrix"
   ]
  },
  {
   "cell_type": "code",
   "execution_count": 5,
   "id": "fd32b6f9",
   "metadata": {},
   "outputs": [
    {
     "name": "stdout",
     "output_type": "stream",
     "text": [
      "CPU times: user 88.5 ms, sys: 4.29 ms, total: 92.8 ms\n",
      "Wall time: 92.2 ms\n"
     ]
    },
    {
     "data": {
      "text/html": [
       "<div>\n",
       "<style scoped>\n",
       "    .dataframe tbody tr th:only-of-type {\n",
       "        vertical-align: middle;\n",
       "    }\n",
       "\n",
       "    .dataframe tbody tr th {\n",
       "        vertical-align: top;\n",
       "    }\n",
       "\n",
       "    .dataframe thead th {\n",
       "        text-align: right;\n",
       "    }\n",
       "</style>\n",
       "<table border=\"1\" class=\"dataframe\">\n",
       "  <thead>\n",
       "    <tr style=\"text-align: right;\">\n",
       "      <th></th>\n",
       "      <th>source</th>\n",
       "      <th>target</th>\n",
       "      <th>weight</th>\n",
       "    </tr>\n",
       "  </thead>\n",
       "  <tbody>\n",
       "    <tr>\n",
       "      <th>188</th>\n",
       "      <td>jackson-andrew3</td>\n",
       "      <td>allison-maria</td>\n",
       "      <td>2</td>\n",
       "    </tr>\n",
       "    <tr>\n",
       "      <th>189</th>\n",
       "      <td>jackson-samuel</td>\n",
       "      <td>allison-maria</td>\n",
       "      <td>2</td>\n",
       "    </tr>\n",
       "    <tr>\n",
       "      <th>190</th>\n",
       "      <td>jackson-sarah</td>\n",
       "      <td>allison-maria</td>\n",
       "      <td>2</td>\n",
       "    </tr>\n",
       "  </tbody>\n",
       "</table>\n",
       "</div>"
      ],
      "text/plain": [
       "               source          target  weight\n",
       "188   jackson-andrew3   allison-maria       2\n",
       "189    jackson-samuel   allison-maria       2\n",
       "190     jackson-sarah   allison-maria       2"
      ]
     },
     "execution_count": 5,
     "metadata": {},
     "output_type": "execute_result"
    }
   ],
   "source": [
    "%%time\n",
    "\n",
    "# Explode list so that each list value becomes a row.\n",
    "refs = df.explode('references')\n",
    "\n",
    "# Create file-person matrix.\n",
    "refs = pd.crosstab(refs['file'], refs['references'])\n",
    "\n",
    "# Repeat with correspondence (source + target)\n",
    "source = pd.crosstab(df['file'], df['source'])\n",
    "target = pd.crosstab(df['file'], df['target'])\n",
    "\n",
    "# Sum values of sources to refs or create new column with sources' values.\n",
    "for col in source:\n",
    "    if col in refs:\n",
    "        refs[str(col)] = refs[str(col)] + source[str(col)]\n",
    "    else:\n",
    "        refs[str(col)] = source[str(col)]\n",
    "\n",
    "# Repeat for targets.\n",
    "for col in target:\n",
    "    if col in refs:\n",
    "        refs[str(col)] = refs[str(col)] + target[str(col)]\n",
    "    else:\n",
    "        refs[str(col)] = target[str(col)]\n",
    "\n",
    "# Convert entry-person matrix into an adjacency matrix of persons.\n",
    "refs = refs.T.dot(refs)\n",
    "\n",
    "# # Change diagonal values to zero. That is, a person cannot co-occur with themself.\n",
    "# np.fill_diagonal(refs.values, 0)\n",
    "\n",
    "# Create new 'source' column that corresponds to index (person).\n",
    "refs['source'] = refs.index\n",
    "\n",
    "# # Reshape dataframe to focus on source, target, and weight.\n",
    "# # Rename 'people' column name to 'target'.\n",
    "df_graph = pd.melt(refs, id_vars = ['source'], var_name = 'target', value_name = 'weight') \\\n",
    "    .rename(columns = {'references':'target'}) \\\n",
    "    .query('(source != target) & (weight > 1)') # Filter out infrequent co-occurences.\n",
    "\n",
    "# Remove rows with empty source or target.\n",
    "df_graph['source'].replace('', np.nan, inplace=True)\n",
    "df_graph['target'].replace('', np.nan, inplace=True)\n",
    "df_graph.dropna(subset=['source', 'target'], inplace=True)\n",
    "\n",
    "\n",
    "df_graph.head(3)\n"
   ]
  },
  {
   "cell_type": "markdown",
   "id": "c3f22239",
   "metadata": {},
   "source": [
    "## Create Graph Object"
   ]
  },
  {
   "cell_type": "code",
   "execution_count": 6,
   "id": "21e3f010",
   "metadata": {},
   "outputs": [
    {
     "name": "stdout",
     "output_type": "stream",
     "text": [
      "Name: \n",
      "Type: Graph\n",
      "Number of nodes: 75\n",
      "Number of edges: 327\n",
      "Average degree:   8.7200\n",
      "Top 10 nodes by degree:\n",
      "\t('rbt', 66)\n",
      "\t('taney-anne', 30)\n",
      "\t('jackson-andrew', 29)\n",
      "\t('ellicott-thomas', 27)\n",
      "\t('perine-david', 20)\n",
      "\t(' allison-maria', 17)\n",
      "\t(' stevenson-elizabeth', 17)\n",
      "\t(' taney-alice', 17)\n",
      "\t(' taney-ellen', 17)\n",
      "\t(' taylor-sophia', 17)\n",
      "Network density: 0.118\n",
      "Is the network connected? False\n",
      "Triadic closure: 0.507\n",
      "\n",
      "Network diameter of the largest component: 4.000\n",
      "CPU times: user 2min 41s, sys: 649 ms, total: 2min 42s\n",
      "Wall time: 2min 44s\n"
     ]
    }
   ],
   "source": [
    "%%time\n",
    "\n",
    "# Initialize graph object.\n",
    "G = nx.from_pandas_edgelist(df_graph, 'source', 'target', 'weight')\n",
    "\n",
    "# Add nodes.\n",
    "nodes = list( dict.fromkeys( df_graph['source'].values.tolist() + df_graph['target'].values.tolist() ))\n",
    "nodes = pd.DataFrame(nodes, columns = ['source'])\n",
    "G.add_nodes_from(nodes)\n",
    "\n",
    "print (nx.info(G))\n",
    "\n",
    "# Set degree attributes.\n",
    "nx.set_node_attributes(G, dict(G.degree(G.nodes())), 'degree')\n",
    "\n",
    "# Sort nodes by degree and print top results.\n",
    "sorted_degree = sorted(dict(G.degree(G.nodes())).items(),\n",
    "                       key = itemgetter(1), reverse = True)\n",
    "\n",
    "print (\"Top 10 nodes by degree:\")\n",
    "for d in sorted_degree[:10]:\n",
    "    print (f'\\t{d}')\n",
    "\n",
    "# Measure network density.\n",
    "density = nx.density(G)\n",
    "print (f\"Network density: {density:.3f}\")\n",
    "\n",
    "# Related to diameter, check if network is connected and, therefore, can have a diameter.\n",
    "print (f\"Is the network connected? {nx.is_connected(G)}\")\n",
    "\n",
    "# Find triadic closure (similar to density).\n",
    "triadic_closure = nx.transitivity(G)\n",
    "print (f\"Triadic closure: {triadic_closure:.3f}\\n\")\n",
    "\n",
    "\n",
    "# Get a list of network components (communities).\n",
    "# Find the largest component.\n",
    "components = nx.connected_components(G)\n",
    "largest_component = max(components, key = len)\n",
    "\n",
    "# Create a subgraph of the largest component and measure its diameter.\n",
    "subgraph = G.subgraph(largest_component)\n",
    "diameter = nx.diameter(subgraph)\n",
    "print (f\"Network diameter of the largest component: {diameter:.3f}\")\n",
    "\n",
    "# Find centrality measures. \n",
    "betweenness_dict = nx.betweenness_centrality(subgraph) # Run betweenness centrality\n",
    "eigenvector_dict = nx.eigenvector_centrality(subgraph) # Run eigenvector centrality\n",
    "degree_cent_dict = nx.degree_centrality(subgraph)\n",
    "\n",
    "# Assign each centrality measure to an attribute.\n",
    "nx.set_node_attributes(subgraph, betweenness_dict, 'betweenness')\n",
    "nx.set_node_attributes(subgraph, eigenvector_dict, 'eigenvector')\n",
    "nx.set_node_attributes(subgraph, degree_cent_dict, 'degree_cent')\n",
    "\n",
    "# Find communities. naive_greedy_modularity_communities\n",
    "communities = community.naive_greedy_modularity_communities(subgraph)\n",
    "# communities = community.k_clique_communities(subgraph, 5)\n",
    "# communities = community.greedy_modularity_communities(subgraph)\n",
    "# communities = community.kernighan_lin_bisection(subgraph)\n",
    "\n",
    "# Create a dictionary that maps nodes to their community.\n",
    "modularity_dict = {}\n",
    "for i, c in enumerate(communities):\n",
    "    for name in c:\n",
    "        modularity_dict[name] = i\n",
    "        \n",
    "# Add modularity information to graph object.\n",
    "nx.set_node_attributes(subgraph, modularity_dict, 'modularity')"
   ]
  },
  {
   "cell_type": "markdown",
   "id": "6a82f74d",
   "metadata": {},
   "source": [
    "## Save Graph Object"
   ]
  },
  {
   "cell_type": "code",
   "execution_count": 7,
   "id": "bc204216",
   "metadata": {},
   "outputs": [
    {
     "name": "stdout",
     "output_type": "stream",
     "text": [
      "CPU times: user 5.64 ms, sys: 2.14 ms, total: 7.78 ms\n",
      "Wall time: 6.11 ms\n"
     ]
    }
   ],
   "source": [
    "%%time\n",
    "\n",
    "# Convert graph object into a dictionary.\n",
    "data = json_graph.node_link_data(subgraph)\n",
    "\n",
    "# # Serialize dictionary with json.\n",
    "# class NPEncoder(JSONEncoder):\n",
    "#     def default(self, obj):\n",
    "#         if isinstance(obj, np.ndarray):\n",
    "#             return obj.tolist()\n",
    "#         return JSONEncoder.default(self, obj)\n",
    "    \n",
    "# data_json = json.dumps(data, cls=NPEncoder)\n",
    "\n",
    "with open(\"/Users/quinn.wi/Documents/\" + \"Github/dsg-mhs/lab_space/projects/taney/coref/data/taney_coRef-network.json\", \n",
    "          \"w\") as f:\n",
    "    json.dump(data, f, ensure_ascii=False, indent=4)\n",
    "#     f.write(data_json)"
   ]
  },
  {
   "cell_type": "code",
   "execution_count": null,
   "id": "a5db6fb0",
   "metadata": {},
   "outputs": [],
   "source": []
  }
 ],
 "metadata": {
  "kernelspec": {
   "display_name": "Python 3 (ipykernel)",
   "language": "python",
   "name": "python3"
  },
  "language_info": {
   "codemirror_mode": {
    "name": "ipython",
    "version": 3
   },
   "file_extension": ".py",
   "mimetype": "text/x-python",
   "name": "python",
   "nbconvert_exporter": "python",
   "pygments_lexer": "ipython3",
   "version": "3.8.5"
  }
 },
 "nbformat": 4,
 "nbformat_minor": 5
}
