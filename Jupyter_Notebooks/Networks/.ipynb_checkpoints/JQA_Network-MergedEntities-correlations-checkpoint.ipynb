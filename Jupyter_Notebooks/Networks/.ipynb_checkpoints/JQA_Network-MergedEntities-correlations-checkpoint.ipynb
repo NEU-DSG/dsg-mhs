{
 "cells": [
  {
   "cell_type": "markdown",
   "metadata": {},
   "source": [
    "# Network: Correlations of Merged Entities"
   ]
  },
  {
   "cell_type": "code",
   "execution_count": 1,
   "metadata": {},
   "outputs": [],
   "source": [
    "import re, json\n",
    "import pandas as pd\n",
    "import numpy as np\n",
    "import networkx as nx\n",
    "from networkx.readwrite import json_graph\n",
    "from networkx.algorithms import community\n",
    "from operator import itemgetter\n",
    "from json import JSONEncoder\n",
    "\n",
    "# Declare directory location to shorten filepaths later.\n",
    "abs_dir = \"/Users/quinn.wi/Documents/SemanticData/\""
   ]
  },
  {
   "cell_type": "markdown",
   "metadata": {},
   "source": [
    "## Import Data & Find Correlations"
   ]
  },
  {
   "cell_type": "code",
   "execution_count": 2,
   "metadata": {},
   "outputs": [
    {
     "name": "stdout",
     "output_type": "stream",
     "text": [
      "CPU times: user 1h 34min 50s, sys: 46.5 s, total: 1h 35min 37s\n",
      "Wall time: 1h 36min 54s\n"
     ]
    }
   ],
   "source": [
    "%%time\n",
    "\n",
    "df = pd.read_csv(abs_dir + \"Output/Graphs/JQA_Network_mergedEntities-correlation/network-mergedEntities.csv\",\n",
    "                 sep = ',')\n",
    "\n",
    "# Subset data by columns.\n",
    "corr_df = df[['entry', 'label']]\n",
    "\n",
    "# Create entry-person matrix.\n",
    "corr_df = pd.crosstab(corr_df['entry'], corr_df['label'])\n",
    "\n",
    "# Convert entry-person matrix into an adjacency matrix of persons.\n",
    "corr_df = corr_df.T.dot(corr_df)\n",
    "\n",
    "# Change diagonal values to zero. That is, a person cannot co-occur with themself.\n",
    "np.fill_diagonal(corr_df.values, 0)\n",
    "\n",
    "# Simple correlation matrix from dataframe.\n",
    "corr_df = corr_df.corr()\n",
    "\n",
    "# Create new 'source' column that corresponds to index (person).\n",
    "corr_df['label_src'] = corr_df.index\n",
    "\n",
    "# Reshape dataframe to focus on source, target, and weight.\n",
    "# Remove same-person pairs (weight = 1) and low correlations (weight >= 0.7).\n",
    "# 0.4 Correlation Coefficient (weigh) considered 'moderate' in Dancey & Reidy (psychology)\n",
    "# and 'strong' in Quinnipiac Univeristy (politics).\n",
    "corr_df = pd.melt(corr_df, id_vars = ['label_src'], value_name = 'weight') \\\n",
    "    .query('(weight < 1.00) & (weight >= 0.4)')  \\\n",
    "    .rename(columns = {'label':'target', 'label_src':'label'})\n",
    "\n",
    "# Rejoin source with its ner label.\n",
    "corr_df = corr_df \\\n",
    "    .merge(df[['label', 'ner_label', 'match_quality']],\n",
    "           on = 'label', how = 'left') \\\n",
    "    .drop_duplicates()"
   ]
  },
  {
   "cell_type": "markdown",
   "metadata": {},
   "source": [
    "#### Save/Load Correlation Data"
   ]
  },
  {
   "cell_type": "code",
   "execution_count": 3,
   "metadata": {},
   "outputs": [
    {
     "name": "stdout",
     "output_type": "stream",
     "text": [
      "CPU times: user 776 ms, sys: 61 ms, total: 837 ms\n",
      "Wall time: 855 ms\n"
     ]
    }
   ],
   "source": [
    "%%time\n",
    "\n",
    "# Comment out save function when loading. De-comment after loading.\n",
    "corr_df.to_csv(abs_dir + 'Output/Graphs/JQA_Network_mergedEntities-correlation/mergedEnts-correlations.csv',\n",
    "               sep = ',', index = False)\n",
    "\n",
    "corr_df = pd.read_csv(abs_dir + 'Output/Graphs/JQA_Network_mergedEntities-correlation/mergedEnts-correlations.csv',\n",
    "               sep = ',')"
   ]
  },
  {
   "cell_type": "markdown",
   "metadata": {},
   "source": [
    "##  Prepare Network Data"
   ]
  },
  {
   "cell_type": "code",
   "execution_count": 33,
   "metadata": {},
   "outputs": [
    {
     "name": "stdout",
     "output_type": "stream",
     "text": [
      "Edges shape before removing duplicates: (216576, 3)\n",
      "Edges shape after removing duplicates: (85433, 2)\n",
      "CPU times: user 532 ms, sys: 14.3 ms, total: 547 ms\n",
      "Wall time: 555 ms\n"
     ]
    }
   ],
   "source": [
    "%%time\n",
    "\n",
    "# Create list of unique entities from source and target columns.\n",
    "nodes = pd.DataFrame(corr_df['label'].values.tolist() + corr_df['target'].values.tolist()) \\\n",
    "    .rename(columns = {0:'label'}) \\\n",
    "    .drop_duplicates()\n",
    "\n",
    "# Remove nodes that are only integers (unsure how they got there...).\n",
    "nodes = nodes[nodes['label'].str.contains('A-z*', regex = True)]\n",
    "\n",
    "# Create identifying codes for labels.\n",
    "nodes = nodes \\\n",
    "    .assign(source = nodes['label'].astype('category').cat.codes) \\\n",
    "    .dropna() \\\n",
    "    .sort_values(['source'], ascending = True) # Sorting matches labels with source codes.\n",
    "\n",
    "# Create dictionary to map values to codes.\n",
    "nodes_dictionary = nodes.set_index('label')['source'].to_dict()\n",
    "\n",
    "# Create links dataframe and map links to nodes' codes.\n",
    "edges = corr_df[['label', 'target', 'weight']].rename(columns = {'label':'source'})\n",
    "\n",
    "# Add data to nodes dataframe.\n",
    "nodes = nodes.merge(corr_df[['label', 'ner_label', 'match_quality']],\n",
    "           on = 'label', how = 'left') \\\n",
    "    .drop_duplicates()\n",
    "\n",
    "\n",
    "# Map labels back onto source and target.\n",
    "edges = edges.replace({'source':nodes_dictionary, 'target':nodes_dictionary})\n",
    "print (f'Edges shape before removing duplicates: {edges.shape}')\n",
    "\n",
    "# Convert edges dataframe to edges tuple (compatible with graph object below).\n",
    "edges = [tuple(x) for x in edges[['source', 'target']].to_numpy()]\n",
    "\n",
    "# Remove rows with duplicate, though inversed, undirected connections.\n",
    "# Ex. John --> Abigail would remove the row, Abigail --> John.\n",
    "edges = list({tuple(item) for item in map(sorted, edges)})\n",
    "edges = np.asarray(edges)\n",
    "print (f'Edges shape after removing duplicates: {edges.shape}')\n",
    "\n",
    "\n",
    "# Convert edges to proper network format.\n",
    "# Edge format must be a list of tuples: [(source, target, weight), (etc.)]\n",
    "\n",
    "# First, convert edges back to dataframe to re-join with weights.\n",
    "edges = pd.DataFrame(edges, columns = ['source', 'target']) \\\n",
    "    .merge(corr_df[['label', 'target', 'weight']].rename(columns = {'label':'source'}),\n",
    "           on = ['source', 'target'], how = 'inner')\n",
    "\n",
    "# Round weights value.\n",
    "edges['weight'] = edges['weight'].round(3)\n",
    "\n",
    "# Then, convert dataframe to list of tuples, the expected network format.\n",
    "edges = [tuple(i) for i in edges.to_numpy()]"
   ]
  },
  {
   "cell_type": "markdown",
   "metadata": {},
   "source": [
    "## Create Network Graph"
   ]
  },
  {
   "cell_type": "code",
   "execution_count": 35,
   "metadata": {},
   "outputs": [
    {
     "name": "stderr",
     "output_type": "stream",
     "text": [
      "<timed exec>:12: DeprecationWarning: The default dtype for empty Series will be 'object' instead of 'float64' in a future version. Specify a dtype explicitly to silence this warning.\n",
      "<timed exec>:15: DeprecationWarning: The default dtype for empty Series will be 'object' instead of 'float64' in a future version. Specify a dtype explicitly to silence this warning.\n"
     ]
    },
    {
     "name": "stdout",
     "output_type": "stream",
     "text": [
      "Top 10 nodes by degree:\n",
      "\t('adams george', 236)\n",
      "\t('gordon william2', 187)\n",
      "\t('campbell john2', 169)\n",
      "\t('matson aaron', 168)\n",
      "\t('mr-webster', 168)\n",
      "\t('fleury unknown', 168)\n",
      "\t('mr-lowry', 168)\n",
      "\t('fernandezdevelasco bernardo', 167)\n",
      "\t('pleasants james', 167)\n",
      "\t('vandyke kensey', 167)\n",
      "Name: \n",
      "Type: Graph\n",
      "Number of nodes: 5930\n",
      "Number of edges: 85433\n",
      "Average degree:  28.8138\n",
      "Network density: 0.005\n",
      "Is the network connected? False\n",
      "Network diameter of the largest component: 18.000\n",
      "Triadic closure: 0.778\n",
      "\n",
      "CPU times: user 9min 48s, sys: 3.18 s, total: 9min 51s\n",
      "Wall time: 10min 3s\n"
     ]
    }
   ],
   "source": [
    "%%time\n",
    "\n",
    "# Initialize graph object.\n",
    "G = nx.Graph()\n",
    "\n",
    "# Add nodes and edges to graph object.\n",
    "G.add_nodes_from(nodes['label'])\n",
    "\n",
    "G.add_weighted_edges_from(edges)\n",
    "\n",
    "\n",
    "\n",
    "# Add node attributes.\n",
    "nx.set_node_attributes(G, pd.Series(nodes['ner_label'].values.tolist(),\n",
    "                                    index=nodes['label']).to_dict(), 'ner_label')\n",
    "\n",
    "nx.set_node_attributes(G, pd.Series(nodes['match_quality'].values.tolist(),\n",
    "                                    index=nodes['label']).to_dict(), 'match_quality')\n",
    "\n",
    "# Set degree attributes.\n",
    "nx.set_node_attributes(G, dict(G.degree(G.nodes())), 'degree')\n",
    "\n",
    "# Sort nodes by degree and print top results.\n",
    "sorted_degree = sorted(dict(G.degree(G.nodes())).items(),\n",
    "                       key = itemgetter(1), reverse = True)\n",
    "\n",
    "print (\"Top 10 nodes by degree:\")\n",
    "for d in sorted_degree[:10]:\n",
    "    print (f'\\t{d}')\n",
    "\n",
    "print (nx.info(G))\n",
    "\n",
    "\n",
    "# Measure network density.\n",
    "density = nx.density(G)\n",
    "print (f\"Network density: {density:.3f}\")\n",
    "\n",
    "# Related to diameter, check if network is connected and, therefore, can have a diameter.\n",
    "print (f\"Is the network connected? {nx.is_connected(G)}\")\n",
    "\n",
    "# Get a list of network components (communities).\n",
    "# Find the largest component.\n",
    "components = nx.connected_components(G)\n",
    "largest_component = max(components, key = len)\n",
    "\n",
    "# Create a subgraph of the largest component and measure its diameter.\n",
    "subgraph = G.subgraph(largest_component)\n",
    "diameter = nx.diameter(subgraph)\n",
    "print (f\"Network diameter of the largest component: {diameter:.3f}\")\n",
    "\n",
    "# Find triadic closure (similar to density).\n",
    "triadic_closure = nx.transitivity(G)\n",
    "print (f\"Triadic closure: {triadic_closure:.3f}\\n\")\n",
    "\n",
    "# # Find centrality measures.\n",
    "# betweenness_dict = nx.betweenness_centrality(G) # Run betweenness centrality\n",
    "# eigenvector_dict = nx.eigenvector_centrality(G) # Run eigenvector centrality\n",
    "\n",
    "# # Assign each centrality measure to an attribute.\n",
    "# nx.set_node_attributes(G, betweenness_dict, 'betweenness')\n",
    "# nx.set_node_attributes(G, eigenvector_dict, 'eigenvector')\n",
    "nx.set_node_attributes(G, dict(G.degree(G.nodes())), 'degree')\n",
    "\n",
    "# Find communities.\n",
    "communities = community.greedy_modularity_communities(G)\n",
    "\n",
    "# Create a dictionary that maps nodes to their community.\n",
    "modularity_dict = {}\n",
    "for i, c in enumerate(communities):\n",
    "    for name in c:\n",
    "        modularity_dict[name] = i\n",
    "        \n",
    "# Add modularity information to graph object.\n",
    "nx.set_node_attributes(G, modularity_dict, 'modularity')"
   ]
  },
  {
   "cell_type": "markdown",
   "metadata": {},
   "source": [
    "## Save Graph Object"
   ]
  },
  {
   "cell_type": "code",
   "execution_count": 36,
   "metadata": {},
   "outputs": [
    {
     "name": "stdout",
     "output_type": "stream",
     "text": [
      "CPU times: user 258 ms, sys: 20.7 ms, total: 279 ms\n",
      "Wall time: 284 ms\n"
     ]
    }
   ],
   "source": [
    "%%time\n",
    "\n",
    "# Convert graph object into a dictionary.\n",
    "data = json_graph.node_link_data(G)\n",
    "\n",
    "# Serialize dictionary with json.\n",
    "class NPEncoder(JSONEncoder):\n",
    "    def default(self, obj):\n",
    "        if isinstance(obj, np.ndarray):\n",
    "            return obj.tolist()\n",
    "        return JSONEncoder.default(self, obj)\n",
    "    \n",
    "data_json = json.dumps(data, cls=NPEncoder)\n",
    "\n",
    "with open(abs_dir + \"Output/Graphs/JQA_Network_mergedEntities-correlation/network.json\",\n",
    "          \"w\") as f:\n",
    "    \n",
    "    f.write(data_json)"
   ]
  },
  {
   "cell_type": "code",
   "execution_count": null,
   "metadata": {},
   "outputs": [],
   "source": []
  }
 ],
 "metadata": {
  "kernelspec": {
   "display_name": "Python 3",
   "language": "python",
   "name": "python3"
  },
  "language_info": {
   "codemirror_mode": {
    "name": "ipython",
    "version": 3
   },
   "file_extension": ".py",
   "mimetype": "text/x-python",
   "name": "python",
   "nbconvert_exporter": "python",
   "pygments_lexer": "ipython3",
   "version": "3.8.5"
  }
 },
 "nbformat": 4,
 "nbformat_minor": 4
}
