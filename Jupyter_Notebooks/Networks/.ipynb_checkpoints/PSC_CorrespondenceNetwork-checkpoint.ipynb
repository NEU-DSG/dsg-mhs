{
 "cells": [
  {
   "cell_type": "markdown",
   "id": "turned-house",
   "metadata": {},
   "source": [
    "# Correspondence Network of Primary Source Coop"
   ]
  },
  {
   "cell_type": "code",
   "execution_count": null,
   "id": "weekly-style",
   "metadata": {},
   "outputs": [],
   "source": [
    "import re, json\n",
    "import pandas as pd\n",
    "import numpy as np\n",
    "import networkx as nx\n",
    "from networkx.readwrite import json_graph\n",
    "from networkx.algorithms import community\n",
    "from operator import itemgetter\n",
    "from json import JSONEncoder\n",
    "\n",
    "# Declare directory location to shorten filepaths later.\n",
    "abs_dir = \"/Users/quinn.wi/Documents/SemanticData/\""
   ]
  },
  {
   "cell_type": "code",
   "execution_count": null,
   "id": "armed-oakland",
   "metadata": {},
   "outputs": [],
   "source": [
    "%%time\n",
    "\n",
    "df = pd.read_csv(abs_dir + \"\", sep = ',')\n",
    "\n"
   ]
  },
  {
   "cell_type": "markdown",
   "id": "atmospheric-morocco",
   "metadata": {},
   "source": [
    "## Build Network"
   ]
  },
  {
   "cell_type": "code",
   "execution_count": null,
   "id": "burning-meeting",
   "metadata": {},
   "outputs": [],
   "source": [
    "%%time\n",
    "\n",
    "# Initialize graph object by adding edges.\n",
    "G = nx.from_pandas_edgelist(df[['source', 'target']], 'source', 'target')\n",
    "\n",
    "# Add nodes.\n",
    "nodes = list( dict.fromkeys( df['source'].values.tolist() + df['target'].values.tolist() ))\n",
    "nodes = pd.DataFrame(nodes, columns = ['source'])\n",
    "G.add_nodes_from(nodes)\n",
    "\n",
    "print (nx.info(G))\n",
    "\n",
    "# Set attributes.\n",
    "\n",
    "# nx.set_node_attributes(G, \n",
    "#                        pd.Series(nodes['dates'].values.tolist(), index=nodes['source']).to_dict(), \n",
    "#                        'dates')\n",
    "\n",
    "\n",
    "# Measure network density.\n",
    "density = nx.density(G)\n",
    "print (f\"Network density: {density:.3f}\")\n",
    "\n",
    "# Related to diameter, check if network is connected and, therefore, can have a diameter.\n",
    "print (f\"Is the network connected? {nx.is_connected(G)}\")\n",
    "\n",
    "# Get a list of network components (communities).\n",
    "# Find the largest component.\n",
    "components = nx.connected_components(G)\n",
    "largest_component = max(components, key = len)\n",
    "\n",
    "# Create a subgraph of the largest component and measure its diameter.\n",
    "subgraph = G.subgraph(largest_component)\n",
    "diameter = nx.diameter(subgraph)\n",
    "print (f\"Network diameter of the largest component: {diameter:.3f}\")\n",
    "\n",
    "# Find triadic closure (similar to density).\n",
    "triadic_closure = nx.transitivity(G)\n",
    "print (f\"Triadic closure: {triadic_closure:.3f}\\n\")\n",
    "\n",
    "# Find centrality measures.\n",
    "betweenness_dict = nx.betweenness_centrality(G) # Run betweenness centrality\n",
    "eigenvector_dict = nx.eigenvector_centrality(G) # Run eigenvector centrality\n",
    "\n",
    "# Assign each centrality measure to an attribute.\n",
    "nx.set_node_attributes(G, betweenness_dict, 'betweenness')\n",
    "nx.set_node_attributes(G, eigenvector_dict, 'eigenvector')\n",
    "nx.set_node_attributes(G, dict(G.degree(G.nodes())), 'degree')\n",
    "\n",
    "# Find communities.\n",
    "communities = community.greedy_modularity_communities(G)\n",
    "\n",
    "# Create a dictionary that maps nodes to their community.\n",
    "modularity_dict = {}\n",
    "for i, c in enumerate(communities):\n",
    "    for name in c:\n",
    "        modularity_dict[name] = i\n",
    "        \n",
    "# Add modularity information to graph object.\n",
    "nx.set_node_attributes(G, modularity_dict, 'modularity')"
   ]
  },
  {
   "cell_type": "markdown",
   "id": "caring-leone",
   "metadata": {},
   "source": [
    "## Save Graph Object"
   ]
  },
  {
   "cell_type": "code",
   "execution_count": null,
   "id": "primary-mexican",
   "metadata": {},
   "outputs": [],
   "source": [
    "%%time\n",
    "\n",
    "# Convert graph object into a dictionary.\n",
    "data = json_graph.node_link_data(G)\n",
    "\n",
    "# Serialize dictionary with json.\n",
    "class NPEncoder(JSONEncoder):\n",
    "    def default(self, obj):\n",
    "        if isinstance(obj, np.ndarray):\n",
    "            return obj.tolist()\n",
    "        return JSONEncoder.default(self, obj)\n",
    "    \n",
    "data_json = json.dumps(data, cls=NPEncoder)\n",
    "\n",
    "with open(abs_dir + \"Output/Graphs/________.json\", \"w\") as f:\n",
    "    f.write(data_json)"
   ]
  }
 ],
 "metadata": {
  "kernelspec": {
   "display_name": "Python 3",
   "language": "python",
   "name": "python3"
  },
  "language_info": {
   "codemirror_mode": {
    "name": "ipython",
    "version": 3
   },
   "file_extension": ".py",
   "mimetype": "text/x-python",
   "name": "python",
   "nbconvert_exporter": "python",
   "pygments_lexer": "ipython3",
   "version": "3.8.5"
  }
 },
 "nbformat": 4,
 "nbformat_minor": 5
}
