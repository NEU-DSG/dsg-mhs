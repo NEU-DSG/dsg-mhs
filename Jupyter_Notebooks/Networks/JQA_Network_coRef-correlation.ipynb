{
 "cells": [
  {
   "cell_type": "markdown",
   "metadata": {},
   "source": [
    "# Construct Network Based on Correlation of Co-References\n",
    "\n",
    "Helpful Explanation of Variance, Covariance, Correlation formulae\n",
    "https://www.pythonfordatascience.org/variance-covariance-correlation/"
   ]
  },
  {
   "cell_type": "code",
   "execution_count": 17,
   "metadata": {},
   "outputs": [],
   "source": [
    "import re, warnings, json\n",
    "import pandas as pd\n",
    "import numpy as np\n",
    "import seaborn as sns\n",
    "import networkx as nx\n",
    "from networkx.readwrite import json_graph\n",
    "from networkx.algorithms import community\n",
    "from json import JSONEncoder\n",
    "from sklearn.preprocessing import StandardScaler\n",
    "\n",
    "warnings.filterwarnings(\"ignore\")\n",
    "\n",
    "# Declare directory location to shorten filepaths later.\n",
    "abs_dir = \"/Users/quinn.wi/Documents/SemanticData/\""
   ]
  },
  {
   "cell_type": "code",
   "execution_count": 2,
   "metadata": {},
   "outputs": [
    {
     "name": "stdout",
     "output_type": "stream",
     "text": [
      "(210628, 3)\n",
      "CPU times: user 33min 10s, sys: 10.8 s, total: 33min 21s\n",
      "Wall time: 34min 1s\n"
     ]
    },
    {
     "data": {
      "text/html": [
       "<div>\n",
       "<style scoped>\n",
       "    .dataframe tbody tr th:only-of-type {\n",
       "        vertical-align: middle;\n",
       "    }\n",
       "\n",
       "    .dataframe tbody tr th {\n",
       "        vertical-align: top;\n",
       "    }\n",
       "\n",
       "    .dataframe thead th {\n",
       "        text-align: right;\n",
       "    }\n",
       "</style>\n",
       "<table border=\"1\" class=\"dataframe\">\n",
       "  <thead>\n",
       "    <tr style=\"text-align: right;\">\n",
       "      <th></th>\n",
       "      <th>source</th>\n",
       "      <th>target</th>\n",
       "      <th>weight</th>\n",
       "    </tr>\n",
       "  </thead>\n",
       "  <tbody>\n",
       "    <tr>\n",
       "      <th>10</th>\n",
       "      <td>abner</td>\n",
       "      <td>Ishbosheth</td>\n",
       "      <td>0.958138</td>\n",
       "    </tr>\n",
       "    <tr>\n",
       "      <th>437</th>\n",
       "      <td>black-alexander</td>\n",
       "      <td>Ishbosheth</td>\n",
       "      <td>0.958138</td>\n",
       "    </tr>\n",
       "    <tr>\n",
       "      <th>717</th>\n",
       "      <td>butler-unknown3</td>\n",
       "      <td>Ishbosheth</td>\n",
       "      <td>0.448258</td>\n",
       "    </tr>\n",
       "    <tr>\n",
       "      <th>938</th>\n",
       "      <td>clay-eliza</td>\n",
       "      <td>Ishbosheth</td>\n",
       "      <td>0.529672</td>\n",
       "    </tr>\n",
       "    <tr>\n",
       "      <th>1013</th>\n",
       "      <td>conner-david</td>\n",
       "      <td>Ishbosheth</td>\n",
       "      <td>0.958138</td>\n",
       "    </tr>\n",
       "  </tbody>\n",
       "</table>\n",
       "</div>"
      ],
      "text/plain": [
       "               source      target    weight\n",
       "10              abner  Ishbosheth  0.958138\n",
       "437   black-alexander  Ishbosheth  0.958138\n",
       "717   butler-unknown3  Ishbosheth  0.448258\n",
       "938        clay-eliza  Ishbosheth  0.529672\n",
       "1013     conner-david  Ishbosheth  0.958138"
      ]
     },
     "execution_count": 2,
     "metadata": {},
     "output_type": "execute_result"
    }
   ],
   "source": [
    "%%time\n",
    "\n",
    "# Read in file; select columns; drop rows with NA values (entries without a named person).\n",
    "df = pd.read_csv(abs_dir + 'Output/ParsedXML/JQA_dataframe.txt',\n",
    "                 sep = '\\t')[['entry', 'people']] \\\n",
    "    .dropna()\n",
    "\n",
    "# Split string of people into individuals.\n",
    "df['people'] = df['people'].str.split(r',|;')\n",
    "\n",
    "# Explode list so that each list value becomes a row.\n",
    "df = df.explode('people')\n",
    "\n",
    "# Create entry-person matrix.\n",
    "df = pd.crosstab(df['entry'], df['people'])\n",
    "\n",
    "# Convert entry-person matrix into an adjacency matrix of persons.\n",
    "df = df.T.dot(df)\n",
    "\n",
    "# Change diagonal values to zero. That is, a person cannot co-occur with themself.\n",
    "np.fill_diagonal(df.values, 0)\n",
    "\n",
    "# Simple correlation matrix from dataframe.\n",
    "df = df.corr()\n",
    "\n",
    "# Create new 'source' column that corresponds to index (person).\n",
    "df['source'] = df.index\n",
    "\n",
    "# Reshape dataframe to focus on source, target, and weight.\n",
    "# Remove same-person pairs (weight = 1) and negative correlations (weight > 0).\n",
    "# Rename 'people' column name to 'target'.\n",
    "df = pd.melt(df, id_vars = ['source'], value_name = 'weight') \\\n",
    "    .query('(weight < 1.00) & (weight > 0.4)') \\\n",
    "    .rename(columns = {'people':'target'})\n",
    "\n",
    "print (df.shape)\n",
    "df.head()"
   ]
  },
  {
   "cell_type": "markdown",
   "metadata": {},
   "source": [
    "## Convert Dataframe to Network Data"
   ]
  },
  {
   "cell_type": "code",
   "execution_count": 3,
   "metadata": {},
   "outputs": [
    {
     "name": "stdout",
     "output_type": "stream",
     "text": [
      "(210628, 3)\n",
      "CPU times: user 125 ms, sys: 15.5 ms, total: 141 ms\n",
      "Wall time: 145 ms\n"
     ]
    },
    {
     "data": {
      "text/html": [
       "<div>\n",
       "<style scoped>\n",
       "    .dataframe tbody tr th:only-of-type {\n",
       "        vertical-align: middle;\n",
       "    }\n",
       "\n",
       "    .dataframe tbody tr th {\n",
       "        vertical-align: top;\n",
       "    }\n",
       "\n",
       "    .dataframe thead th {\n",
       "        text-align: right;\n",
       "    }\n",
       "</style>\n",
       "<table border=\"1\" class=\"dataframe\">\n",
       "  <thead>\n",
       "    <tr style=\"text-align: right;\">\n",
       "      <th></th>\n",
       "      <th>source</th>\n",
       "      <th>target</th>\n",
       "      <th>weight</th>\n",
       "    </tr>\n",
       "  </thead>\n",
       "  <tbody>\n",
       "    <tr>\n",
       "      <th>10</th>\n",
       "      <td>10</td>\n",
       "      <td>0</td>\n",
       "      <td>0.958138</td>\n",
       "    </tr>\n",
       "    <tr>\n",
       "      <th>437</th>\n",
       "      <td>434</td>\n",
       "      <td>0</td>\n",
       "      <td>0.958138</td>\n",
       "    </tr>\n",
       "    <tr>\n",
       "      <th>717</th>\n",
       "      <td>710</td>\n",
       "      <td>0</td>\n",
       "      <td>0.448258</td>\n",
       "    </tr>\n",
       "    <tr>\n",
       "      <th>938</th>\n",
       "      <td>931</td>\n",
       "      <td>0</td>\n",
       "      <td>0.529672</td>\n",
       "    </tr>\n",
       "    <tr>\n",
       "      <th>1013</th>\n",
       "      <td>1003</td>\n",
       "      <td>0</td>\n",
       "      <td>0.958138</td>\n",
       "    </tr>\n",
       "  </tbody>\n",
       "</table>\n",
       "</div>"
      ],
      "text/plain": [
       "      source  target    weight\n",
       "10        10       0  0.958138\n",
       "437      434       0  0.958138\n",
       "717      710       0  0.448258\n",
       "938      931       0  0.529672\n",
       "1013    1003       0  0.958138"
      ]
     },
     "execution_count": 3,
     "metadata": {},
     "output_type": "execute_result"
    }
   ],
   "source": [
    "%%time\n",
    "\n",
    "# Create list of unique entities from source and target columns.\n",
    "nodes = df['source'] \\\n",
    "    .append(pd.DataFrame(df['target'].values.tolist()), ignore_index = True) \\\n",
    "    .drop_duplicates() \\\n",
    "    .rename(columns = {0:'label'})\n",
    "\n",
    "# Create identifying codes for labels.\n",
    "nodes = nodes \\\n",
    "    .assign(source = nodes['label'].astype('category').cat.codes) \\\n",
    "    .sort_values(['source'], ascending = True) # Sorting matches labels with source codes.\n",
    "\n",
    "# Create dictionary to map values to codes.\n",
    "nodes_dictionary = nodes.set_index('label')['source'].to_dict()\n",
    "\n",
    "# Create links dataframe and map links to nodes' codes.\n",
    "links = df \\\n",
    "    .assign(source = df['source'].map(nodes_dictionary),\n",
    "            target = df['target'].map(nodes_dictionary))\n",
    "\n",
    "print (links.shape)\n",
    "links.head()"
   ]
  },
  {
   "cell_type": "markdown",
   "metadata": {},
   "source": [
    "## Write Data to File"
   ]
  },
  {
   "cell_type": "code",
   "execution_count": 4,
   "metadata": {},
   "outputs": [
    {
     "name": "stdout",
     "output_type": "stream",
     "text": [
      "CPU times: user 658 ms, sys: 29.4 ms, total: 687 ms\n",
      "Wall time: 708 ms\n"
     ]
    }
   ],
   "source": [
    "%%time\n",
    "\n",
    "nodes.to_csv(abs_dir + \"Output/Graphs/JQA_Network_correlation/nodes.csv\",\n",
    "             sep = ',', index = False)\n",
    "\n",
    "links.to_csv(abs_dir + \"Output/Graphs/JQA_Network_correlation/links.csv\",\n",
    "             sep = ',', index = False)"
   ]
  },
  {
   "cell_type": "markdown",
   "metadata": {},
   "source": [
    "## Make Graph Object"
   ]
  },
  {
   "cell_type": "code",
   "execution_count": 11,
   "metadata": {},
   "outputs": [
    {
     "name": "stdout",
     "output_type": "stream",
     "text": [
      "Name: \n",
      "Type: Graph\n",
      "Number of nodes: 8653\n",
      "Number of edges: 105314\n",
      "Average degree:  24.3416\n",
      "Network density: 0.003\n",
      "Is the network connected? False\n",
      "Network diameter of the largest component: 11.000\n",
      "Triadic closure: 0.494\n",
      "\n"
     ]
    },
    {
     "ename": "NameError",
     "evalue": "name 'community' is not defined",
     "output_type": "error",
     "traceback": [
      "\u001b[0;31m---------------------------------------------------------------------------\u001b[0m",
      "\u001b[0;31mNameError\u001b[0m                                 Traceback (most recent call last)",
      "\u001b[0;32m<timed exec>\u001b[0m in \u001b[0;36m<module>\u001b[0;34m\u001b[0m\n",
      "\u001b[0;31mNameError\u001b[0m: name 'community' is not defined"
     ]
    }
   ],
   "source": [
    "%%time\n",
    "\n",
    "# Create dictionary to map values to codes.\n",
    "nodes_dictionary = nodes['label'].to_dict()\n",
    "\n",
    "# Map labels back onto source and target.\n",
    "edges = links.replace({'source':nodes_dictionary, 'target':nodes_dictionary})\n",
    "\n",
    "# Convert edges dataframe to edges tuple (compatible with graph object below).\n",
    "edges = [tuple(x) for x in edges[['source', 'target']].to_numpy()]\n",
    "\n",
    "# Initialize graph object.\n",
    "G = nx.Graph()\n",
    "\n",
    "# Add nodes and edges to graph object.\n",
    "G.add_nodes_from(nodes['label'])\n",
    "G.add_edges_from(edges)\n",
    "\n",
    "print (nx.info(G))\n",
    "\n",
    "# Measure network density.\n",
    "density = nx.density(G)\n",
    "print (f\"Network density: {density:.3f}\")\n",
    "\n",
    "# Related to diameter, check if network is connected and, therefore, can have a diameter.\n",
    "print (f\"Is the network connected? {nx.is_connected(G)}\")\n",
    "\n",
    "# Get a list of network components (communities).\n",
    "# Find the largest component.\n",
    "components = nx.connected_components(G)\n",
    "largest_component = max(components, key = len)\n",
    "\n",
    "# Create a subgraph of the largest component and measure its diameter.\n",
    "subgraph = G.subgraph(largest_component)\n",
    "diameter = nx.diameter(subgraph)\n",
    "print (f\"Network diameter of the largest component: {diameter:.3f}\")\n",
    "\n",
    "# Find triadic closure (similar to density).\n",
    "triadic_closure = nx.transitivity(G)\n",
    "print (f\"Triadic closure: {triadic_closure:.3f}\\n\")\n",
    "\n",
    "# Find centrality measures.\n",
    "betweenness_dict = nx.betweenness_centrality(G) # Run betweenness centrality\n",
    "eigenvector_dict = nx.eigenvector_centrality(G) # Run eigenvector centrality\n",
    "\n",
    "# Assign each centrality measure to an attribute.\n",
    "nx.set_node_attributes(G, betweenness_dict, 'betweenness')\n",
    "nx.set_node_attributes(G, eigenvector_dict, 'eigenvector')\n",
    "nx.set_node_attributes(G, dict(G.degree(G.nodes())), 'degree')\n",
    "\n",
    "# Find communities.\n",
    "communities = community.greedy_modularity_communities(G)\n",
    "\n",
    "# Create a dictionary that maps nodes to their community.\n",
    "modularity_dict = {}\n",
    "for i, c in enumerate(communities):\n",
    "    for name in c:\n",
    "        modularity_dict[name] = i\n",
    "        \n",
    "# Add modularity information to graph object.\n",
    "nx.set_node_attributes(G, modularity_dict, 'modularity')"
   ]
  },
  {
   "cell_type": "markdown",
   "metadata": {},
   "source": [
    "## Save Graph Object"
   ]
  },
  {
   "cell_type": "code",
   "execution_count": 18,
   "metadata": {},
   "outputs": [
    {
     "name": "stdout",
     "output_type": "stream",
     "text": [
      "CPU times: user 215 ms, sys: 5.05 ms, total: 220 ms\n",
      "Wall time: 222 ms\n"
     ]
    }
   ],
   "source": [
    "%%time\n",
    "\n",
    "# Convert graph object into a dictionary.\n",
    "data = json_graph.node_link_data(G)\n",
    "\n",
    "# Serialize dictionary with json.\n",
    "class NPEncoder(JSONEncoder):\n",
    "    def default(self, obj):\n",
    "        if isinstance(obj, np.ndarray):\n",
    "            return obj.tolist()\n",
    "        return JSONEncoder.default(self, obj)\n",
    "    \n",
    "data_json = json.dumps(data, cls=NPEncoder)\n",
    "\n",
    "with open(abs_dir + \"Output/Graphs/JQA_Network_correlation/network.json\",\n",
    "          \"w\") as f:\n",
    "    \n",
    "    f.write(data_json)"
   ]
  },
  {
   "cell_type": "code",
   "execution_count": null,
   "metadata": {},
   "outputs": [],
   "source": []
  }
 ],
 "metadata": {
  "kernelspec": {
   "display_name": "Python 3 (ipykernel)",
   "language": "python",
   "name": "python3"
  },
  "language_info": {
   "codemirror_mode": {
    "name": "ipython",
    "version": 3
   },
   "file_extension": ".py",
   "mimetype": "text/x-python",
   "name": "python",
   "nbconvert_exporter": "python",
   "pygments_lexer": "ipython3",
   "version": "3.8.5"
  }
 },
 "nbformat": 4,
 "nbformat_minor": 4
}
