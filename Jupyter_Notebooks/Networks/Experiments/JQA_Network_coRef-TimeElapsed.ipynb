{
 "cells": [
  {
   "cell_type": "markdown",
   "id": "d563b593",
   "metadata": {},
   "source": [
    "# JQA Co-Ref Time Elapsed"
   ]
  },
  {
   "cell_type": "code",
   "execution_count": 75,
   "id": "75d2e34e",
   "metadata": {},
   "outputs": [],
   "source": [
    "import re, json, itertools, datetime\n",
    "import pandas as pd\n",
    "import numpy as np\n",
    "import matplotlib.pyplot as plt\n",
    "import networkx as nx\n",
    "from networkx.algorithms import community\n",
    "from networkx.readwrite import json_graph\n",
    "from json import JSONEncoder\n",
    "from operator import itemgetter\n",
    "from collections import Counter\n",
    "    \n",
    "# Declare directory location to shorten filepaths later.\n",
    "abs_dir = \"/Users/quinn.wi/Documents/Data/\""
   ]
  },
  {
   "cell_type": "code",
   "execution_count": 88,
   "id": "5cc7eaad",
   "metadata": {},
   "outputs": [
    {
     "name": "stdout",
     "output_type": "stream",
     "text": [
      "CPU times: user 602 ms, sys: 21.3 ms, total: 623 ms\n",
      "Wall time: 626 ms\n"
     ]
    },
    {
     "data": {
      "text/html": [
       "<div>\n",
       "<style scoped>\n",
       "    .dataframe tbody tr th:only-of-type {\n",
       "        vertical-align: middle;\n",
       "    }\n",
       "\n",
       "    .dataframe tbody tr th {\n",
       "        vertical-align: top;\n",
       "    }\n",
       "\n",
       "    .dataframe thead th {\n",
       "        text-align: right;\n",
       "    }\n",
       "</style>\n",
       "<table border=\"1\" class=\"dataframe\">\n",
       "  <thead>\n",
       "    <tr style=\"text-align: right;\">\n",
       "      <th></th>\n",
       "      <th>unix</th>\n",
       "      <th>source</th>\n",
       "      <th>target</th>\n",
       "      <th>weight</th>\n",
       "    </tr>\n",
       "  </thead>\n",
       "  <tbody>\n",
       "    <tr>\n",
       "      <th>0</th>\n",
       "      <td>-4.701967e+12</td>\n",
       "      <td>adams-george</td>\n",
       "      <td>adams-john2</td>\n",
       "      <td>1</td>\n",
       "    </tr>\n",
       "    <tr>\n",
       "      <th>1</th>\n",
       "      <td>-4.701967e+12</td>\n",
       "      <td>adams-george</td>\n",
       "      <td>baring-francis</td>\n",
       "      <td>1</td>\n",
       "    </tr>\n",
       "    <tr>\n",
       "      <th>2</th>\n",
       "      <td>-4.701967e+12</td>\n",
       "      <td>adams-george</td>\n",
       "      <td>beecher-philemon</td>\n",
       "      <td>1</td>\n",
       "    </tr>\n",
       "    <tr>\n",
       "      <th>3</th>\n",
       "      <td>-4.701967e+12</td>\n",
       "      <td>adams-george</td>\n",
       "      <td>cushman-joshua</td>\n",
       "      <td>1</td>\n",
       "    </tr>\n",
       "    <tr>\n",
       "      <th>4</th>\n",
       "      <td>-4.701967e+12</td>\n",
       "      <td>adams-george</td>\n",
       "      <td>dana-samuel</td>\n",
       "      <td>1</td>\n",
       "    </tr>\n",
       "    <tr>\n",
       "      <th>...</th>\n",
       "      <td>...</td>\n",
       "      <td>...</td>\n",
       "      <td>...</td>\n",
       "      <td>...</td>\n",
       "    </tr>\n",
       "    <tr>\n",
       "      <th>247328</th>\n",
       "      <td>-4.544287e+12</td>\n",
       "      <td>smith-william-steuben</td>\n",
       "      <td>randall-thomas</td>\n",
       "      <td>1</td>\n",
       "    </tr>\n",
       "    <tr>\n",
       "      <th>247329</th>\n",
       "      <td>-4.544287e+12</td>\n",
       "      <td>smith-william-steuben</td>\n",
       "      <td>smith-catherine-johnson</td>\n",
       "      <td>1</td>\n",
       "    </tr>\n",
       "    <tr>\n",
       "      <th>247330</th>\n",
       "      <td>-4.544287e+12</td>\n",
       "      <td>smith-william-steuben</td>\n",
       "      <td>sullivan-george</td>\n",
       "      <td>1</td>\n",
       "    </tr>\n",
       "    <tr>\n",
       "      <th>247331</th>\n",
       "      <td>-4.544287e+12</td>\n",
       "      <td>sullivan-george</td>\n",
       "      <td>huntt-henry</td>\n",
       "      <td>1</td>\n",
       "    </tr>\n",
       "    <tr>\n",
       "      <th>247332</th>\n",
       "      <td>-4.544287e+12</td>\n",
       "      <td>sullivan-george</td>\n",
       "      <td>mease-unknown</td>\n",
       "      <td>1</td>\n",
       "    </tr>\n",
       "  </tbody>\n",
       "</table>\n",
       "<p>247333 rows × 4 columns</p>\n",
       "</div>"
      ],
      "text/plain": [
       "                unix                 source                   target  weight\n",
       "0      -4.701967e+12           adams-george              adams-john2       1\n",
       "1      -4.701967e+12           adams-george           baring-francis       1\n",
       "2      -4.701967e+12           adams-george         beecher-philemon       1\n",
       "3      -4.701967e+12           adams-george           cushman-joshua       1\n",
       "4      -4.701967e+12           adams-george              dana-samuel       1\n",
       "...              ...                    ...                      ...     ...\n",
       "247328 -4.544287e+12  smith-william-steuben           randall-thomas       1\n",
       "247329 -4.544287e+12  smith-william-steuben  smith-catherine-johnson       1\n",
       "247330 -4.544287e+12  smith-william-steuben          sullivan-george       1\n",
       "247331 -4.544287e+12        sullivan-george              huntt-henry       1\n",
       "247332 -4.544287e+12        sullivan-george            mease-unknown       1\n",
       "\n",
       "[247333 rows x 4 columns]"
      ]
     },
     "execution_count": 88,
     "metadata": {},
     "output_type": "execute_result"
    }
   ],
   "source": [
    "%%time\n",
    "\n",
    "df = pd.read_csv(abs_dir + 'Output/ParsedXML/JQA_dataframe.txt',\n",
    "                 sep = '\\t')[['entry', 'people', 'date']] \\\n",
    "    .dropna()\n",
    "\n",
    "# links must have timestamp (unixepoch)\n",
    "df['year'] = df['date'].astype(str) + '-01-01'\n",
    "df['year'] = pd.to_datetime(df['year'])\n",
    "df['unix'] = df['year'].apply(lambda x: datetime.datetime.timestamp(x) * 1000)\n",
    "\n",
    "# Split string of people into individuals.\n",
    "df['people'] = df['people'].str.split(r',|;')\n",
    "\n",
    "# Pair individuals in co-occurence list.\n",
    "df['coOccur'] = df.apply(lambda row: list(itertools.combinations(row['people'], 2)), axis = 1)\n",
    "\n",
    "df = df.explode('coOccur')\n",
    "\n",
    "df[['source', 'target']] = pd.DataFrame(df['coOccur'].tolist(), index = df.index)\n",
    "\n",
    "df = df.drop(columns = ['people', 'coOccur'])\n",
    "\n",
    "# Count instances of pairs for each year.\n",
    "df = df.groupby(['unix', 'source', 'target'])['unix'].agg('count').to_frame('weight').reset_index()\n",
    "\n",
    "df"
   ]
  },
  {
   "cell_type": "code",
   "execution_count": 82,
   "id": "fbac333c",
   "metadata": {},
   "outputs": [
    {
     "name": "stdout",
     "output_type": "stream",
     "text": [
      "CPU times: user 21.9 ms, sys: 1.55 ms, total: 23.5 ms\n",
      "Wall time: 22.2 ms\n"
     ]
    },
    {
     "data": {
      "text/plain": [
       "(array([2.46466e+05, 0.00000e+00, 0.00000e+00, 0.00000e+00, 0.00000e+00,\n",
       "        8.61000e+02, 0.00000e+00, 0.00000e+00, 0.00000e+00, 6.00000e+00]),\n",
       " array([1. , 1.2, 1.4, 1.6, 1.8, 2. , 2.2, 2.4, 2.6, 2.8, 3. ]),\n",
       " <a list of 10 Patch objects>)"
      ]
     },
     "execution_count": 82,
     "metadata": {},
     "output_type": "execute_result"
    },
    {
     "data": {
      "image/png": "[encoded data removed]",
      "text/plain": [
       "<Figure size 432x288 with 1 Axes>"
      ]
     },
     "metadata": {
      "needs_background": "light"
     },
     "output_type": "display_data"
    }
   ],
   "source": [
    "%%time\n",
    "\n",
    "plt.hist(df['weight'], log = True)"
   ]
  },
  {
   "cell_type": "markdown",
   "id": "5e48ea9e",
   "metadata": {},
   "source": [
    "## Network"
   ]
  },
  {
   "cell_type": "code",
   "execution_count": 96,
   "id": "f4bba31c",
   "metadata": {},
   "outputs": [
    {
     "name": "stdout",
     "output_type": "stream",
     "text": [
      "Name: \n",
      "Type: Graph\n",
      "Number of nodes: 5136\n",
      "Number of edges: 177421\n",
      "Average degree:  69.0892\n",
      "CPU times: user 671 ms, sys: 9.13 ms, total: 680 ms\n",
      "Wall time: 686 ms\n"
     ]
    }
   ],
   "source": [
    "%%time\n",
    "\n",
    "# Initialize graph object.\n",
    "G = nx.from_pandas_edgelist(df, 'source', 'target', ['weight', 'unix'])\n",
    "\n",
    "# Add nodes.\n",
    "nodes = list( dict.fromkeys( df['source'].values.tolist() + df['target'].values.tolist()))\n",
    "nodes = pd.DataFrame( nodes, columns = ['source'])\n",
    "\n",
    "G.add_nodes_from(nodes)\n",
    "print (nx.info(G))"
   ]
  },
  {
   "cell_type": "code",
   "execution_count": 97,
   "id": "77d26127",
   "metadata": {},
   "outputs": [
    {
     "name": "stdout",
     "output_type": "stream",
     "text": [
      "Top 10 nodes by degree:\n",
      "\tcalhoun-john, 2204\n",
      "\tsouthard-samuel, 1896\n",
      "\tadams-george, 1761\n",
      "\tbrent-daniel, 1558\n",
      "\tjackson-andrew, 1489\n",
      "\twyer-edward, 1476\n",
      "\tadams-john2, 1431\n",
      "\twirt-william, 1366\n",
      "\thay-george, 1306\n",
      "\tbarbour-james, 1300\n",
      "Network density: 0.013\n",
      "Is the network connected? False\n",
      "Network diameter of the largest component: 5.000\n",
      "Triadic closure: 0.202\n",
      "\n",
      "CPU times: user 18min 12s, sys: 4.19 s, total: 18min 16s\n",
      "Wall time: 18min 27s\n"
     ]
    }
   ],
   "source": [
    "%%time\n",
    "\n",
    "# Set degree attributes.\n",
    "nx.set_node_attributes(G, dict(G.degree(G.nodes())), 'degree')\n",
    "\n",
    "# Sort nodes by degree and print top results.\n",
    "sorted_degree = sorted(dict(G.degree(G.nodes())).items(),\n",
    "                       key = itemgetter(1), reverse = True)\n",
    "\n",
    "print (\"Top 10 nodes by degree:\")\n",
    "for d in sorted_degree[:10]:\n",
    "    print (f'\\t{d[0]}, {d[1]}')\n",
    "\n",
    "# Measure network density.\n",
    "density = nx.density(G)\n",
    "print (f\"Network density: {density:.3f}\")\n",
    "\n",
    "# Related to diameter, check if network is connected and, therefore, can have a diameter.\n",
    "print (f\"Is the network connected? {nx.is_connected(G)}\")\n",
    "\n",
    "# Get a list of network components (communities).\n",
    "# Find the largest component.\n",
    "components = nx.connected_components(G)\n",
    "largest_component = max(components, key = len)\n",
    "\n",
    "# Create a subgraph of the largest component and measure its diameter.\n",
    "subgraph = G.subgraph(largest_component)\n",
    "diameter = nx.diameter(subgraph)\n",
    "print (f\"Network diameter of the largest component: {diameter:.3f}\")\n",
    "\n",
    "# Find triadic closure (similar to density).\n",
    "triadic_closure = nx.transitivity(G)\n",
    "print (f\"Triadic closure: {triadic_closure:.3f}\\n\")\n",
    "\n",
    "# Find centrality measures.\n",
    "betweenness_dict = nx.betweenness_centrality(G) # Run betweenness centrality\n",
    "eigenvector_dict = nx.eigenvector_centrality(G) # Run eigenvector centrality\n",
    "degree_cent_dict = nx.degree_centrality(G)\n",
    "\n",
    "# Assign each centrality measure to an attribute.\n",
    "nx.set_node_attributes(G, betweenness_dict, 'betweenness')\n",
    "nx.set_node_attributes(G, eigenvector_dict, 'eigenvector')\n",
    "nx.set_node_attributes(G, degree_cent_dict, 'degree_cent')"
   ]
  },
  {
   "cell_type": "code",
   "execution_count": 98,
   "id": "869045fc",
   "metadata": {},
   "outputs": [
    {
     "name": "stdout",
     "output_type": "stream",
     "text": [
      "CPU times: user 1.4 s, sys: 54.9 ms, total: 1.45 s\n",
      "Wall time: 1.47 s\n"
     ]
    }
   ],
   "source": [
    "%%time\n",
    "\n",
    "data = json_graph.node_link_data(G)\n",
    "\n",
    "with open(abs_dir + '../GitHub/dsg-mhs/lab_space/projects/jqa/network/data/jqa-network-time.json', 'w', encoding = 'utf-8') as f:\n",
    "    json.dump(data, f, indent = 4)"
   ]
  },
  {
   "cell_type": "code",
   "execution_count": null,
   "id": "ab02e2bf",
   "metadata": {},
   "outputs": [],
   "source": []
  }
 ],
 "metadata": {
  "kernelspec": {
   "display_name": "Python 3 (ipykernel)",
   "language": "python",
   "name": "python3"
  },
  "language_info": {
   "codemirror_mode": {
    "name": "ipython",
    "version": 3
   },
   "file_extension": ".py",
   "mimetype": "text/x-python",
   "name": "python",
   "nbconvert_exporter": "python",
   "pygments_lexer": "ipython3",
   "version": "3.8.5"
  }
 },
 "nbformat": 4,
 "nbformat_minor": 5
}
