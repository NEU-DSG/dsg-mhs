{
 "cells": [
  {
   "cell_type": "markdown",
   "metadata": {},
   "source": [
    "# Network Analysis"
   ]
  },
  {
   "cell_type": "code",
   "execution_count": 16,
   "metadata": {},
   "outputs": [],
   "source": [
    "import re, json, glob, csv, sys, os, warnings\n",
    "import pandas as pd\n",
    "import numpy as np\n",
    "import itertools as iter\n",
    "import networkx as nx\n",
    "import xml.etree.ElementTree as ET\n",
    "import seaborn as sns\n",
    "import matplotlib.pyplot as plt\n",
    "from networkx.algorithms import community\n",
    "from networkx.readwrite import json_graph\n",
    "from json import JSONEncoder\n",
    "from operator import itemgetter\n",
    "from collections import Counter\n",
    "\n",
    "# Import project-specific functions. \n",
    "# Python files (.py) have to be in same folder to work.\n",
    "lib_path = os.path.abspath(os.path.join(os.path.dirname('JQA_XML_parser.py'), '../Scripts'))\n",
    "sys.path.append(lib_path)\n",
    "from JQA_XML_parser import *\n",
    "\n",
    "# Read in config.py (git ignored file) for API username and pw.\n",
    "config_path = os.path.abspath(os.path.join(os.path.dirname('config.py'), '../Scripts'))\n",
    "sys.path.append(config_path)\n",
    "import config\n",
    "\n",
    "# Ignore warnings related to deprecated functions.\n",
    "warnings.filterwarnings('ignore')\n",
    "\n",
    "# url = 'https://dsg.xmldb-dev.northeastern.edu/basex/psc/' :: old\n",
    "url = 'https://dsg.xmldb-dev.northeastern.edu/BaseX964/rest/psc/'\n",
    "user = config.username\n",
    "pw = config.password"
   ]
  },
  {
   "cell_type": "markdown",
   "metadata": {},
   "source": [
    "## Gather XML Files"
   ]
  },
  {
   "cell_type": "code",
   "execution_count": 17,
   "metadata": {},
   "outputs": [
    {
     "name": "stdout",
     "output_type": "stream",
     "text": [
      "404\n",
      "CPU times: user 19.8 ms, sys: 2.36 ms, total: 22.2 ms\n",
      "Wall time: 284 ms\n"
     ]
    },
    {
     "data": {
      "text/plain": [
       "['HTTP Status 404 – Not FoundHTTP Status 404 – Not FoundType Status ReportMessage The requested resource [/BaseX964/rest/psc/] is not availableDescription The origin server did not find a current representation for the target resource or is not willing to disclose that one exists.Apache Tomcat/9.0.37']"
      ]
     },
     "execution_count": 17,
     "metadata": {},
     "output_type": "execute_result"
    }
   ],
   "source": [
    "%%time\n",
    "\n",
    "# Must be connected to Northeastern's VPN.\n",
    "r = requests.get(url, \n",
    "                 auth = (user, pw), \n",
    "                 headers = {'Content-Type': 'application/xml'}\n",
    "                )\n",
    "\n",
    "# Check status of URL\n",
    "print (r.status_code)\n",
    "\n",
    "# Read in contents of pipeline.\n",
    "soup = BeautifulSoup(r.content, 'html.parser')\n",
    "\n",
    "# Split soup's content by \\n (each line is a file path to an XML doc).\n",
    "# Use filter() to remove empty strings ('').\n",
    "# Convert back to list using list().\n",
    "files = list(filter(None, soup.text.split('\\n')))\n",
    "\n",
    "# # Filter list and retrieve only jqa/ files.\n",
    "# files = [i for i in files if 'jqa/' in i]\n",
    "\n",
    "# len(files)\n",
    "files"
   ]
  },
  {
   "cell_type": "markdown",
   "metadata": {},
   "source": [
    "## Build Dataframe"
   ]
  },
  {
   "cell_type": "code",
   "execution_count": 3,
   "metadata": {},
   "outputs": [
    {
     "data": {
      "image/png": "[encoded data removed]",
      "text/plain": [
       "<Figure size 432x288 with 1 Axes>"
      ]
     },
     "metadata": {
      "needs_background": "light"
     },
     "output_type": "display_data"
    },
    {
     "name": "stdout",
     "output_type": "stream",
     "text": [
      "CPU times: user 120 ms, sys: 7.44 ms, total: 127 ms\n",
      "Wall time: 126 ms\n"
     ]
    },
    {
     "data": {
      "text/html": [
       "<div>\n",
       "<style scoped>\n",
       "    .dataframe tbody tr th:only-of-type {\n",
       "        vertical-align: middle;\n",
       "    }\n",
       "\n",
       "    .dataframe tbody tr th {\n",
       "        vertical-align: top;\n",
       "    }\n",
       "\n",
       "    .dataframe thead th {\n",
       "        text-align: right;\n",
       "    }\n",
       "</style>\n",
       "<table border=\"1\" class=\"dataframe\">\n",
       "  <thead>\n",
       "    <tr style=\"text-align: right;\">\n",
       "      <th></th>\n",
       "      <th>file</th>\n",
       "      <th>entry</th>\n",
       "      <th>date</th>\n",
       "      <th>people</th>\n",
       "      <th>subjects</th>\n",
       "      <th>text</th>\n",
       "      <th>year</th>\n",
       "    </tr>\n",
       "  </thead>\n",
       "  <tbody>\n",
       "  </tbody>\n",
       "</table>\n",
       "</div>"
      ],
      "text/plain": [
       "Empty DataFrame\n",
       "Columns: [file, entry, date, people, subjects, text, year]\n",
       "Index: []"
      ]
     },
     "execution_count": 3,
     "metadata": {},
     "output_type": "execute_result"
    }
   ],
   "source": [
    "%%time\n",
    "\n",
    "# Build dataframe from XML files.\n",
    "# build_dataframe() called from Correspondence_XML_parser\n",
    "df = build_dataframe(files, url, user, pw)\n",
    "\n",
    "# Unnest subject headings. \n",
    "df['people'] = df['people'].str.split(r',|;')\n",
    "df = df.explode('people')\n",
    "\n",
    "# Remove leading and trailing whitespace.\n",
    "df['people'] = df['people'].str.strip()\n",
    "\n",
    "# Remove rows with empty values.\n",
    "df.replace('', np.nan, inplace = True)\n",
    "df.dropna(inplace = True)\n",
    "\n",
    "# Convert to datetime and extract year.\n",
    "df['date'] = pd.to_datetime(df['date'], infer_datetime_format = True)\n",
    "\n",
    "df['year'] = df['date'].dt.year\n",
    "\n",
    "# Chart distribution of weights.\n",
    "sns.histplot(data = df, x = 'year')\n",
    "\n",
    "plt.show()\n",
    "\n",
    "df.head(3)"
   ]
  },
  {
   "cell_type": "markdown",
   "metadata": {},
   "source": [
    "## Create Adjacency Matrix"
   ]
  },
  {
   "cell_type": "code",
   "execution_count": 4,
   "metadata": {},
   "outputs": [
    {
     "data": {
      "image/png": "[encoded data removed]",
      "text/plain": [
       "<Figure size 432x288 with 1 Axes>"
      ]
     },
     "metadata": {
      "needs_background": "light"
     },
     "output_type": "display_data"
    },
    {
     "name": "stdout",
     "output_type": "stream",
     "text": [
      "CPU times: user 112 ms, sys: 5.81 ms, total: 118 ms\n",
      "Wall time: 118 ms\n"
     ]
    }
   ],
   "source": [
    "%%time\n",
    "\n",
    "# Filter dates by distribution.\n",
    "df = df.query('(people != \"u\") & (people != \"source\")') \n",
    "    #.query('(date < \"1800-01-01\") | (date >= \"1830-01-01\")')\n",
    "\n",
    "# Create adjacency matrix.\n",
    "adj = pd.crosstab(df['entry'], df['people'])\n",
    "\n",
    "# Convert entry-person matrix into an adjacency matrix of persons.\n",
    "adj = adj.T.dot(adj)\n",
    "\n",
    "# Change same-same connections to zero.\n",
    "np.fill_diagonal(adj.values, 0)\n",
    "\n",
    "# Simple correlation matrix from dataframe.\n",
    "adj = adj.corr()\n",
    "\n",
    "adj['source'] = adj.index\n",
    "\n",
    "df_graph = pd.melt(adj, id_vars = 'source', var_name = 'target', value_name = 'weight') \\\n",
    "    .query('(source != target) & (weight > 0.7)')\n",
    "#     .query('(source != target) & (weight > 15)') # For raw counts, 20 is good.\n",
    "\n",
    "# Chart distribution of weights.\n",
    "sns.histplot(data = df_graph, x = 'weight')\n",
    "\n",
    "plt.show()"
   ]
  },
  {
   "cell_type": "markdown",
   "metadata": {},
   "source": [
    "## Create Graph Object"
   ]
  },
  {
   "cell_type": "code",
   "execution_count": 5,
   "metadata": {},
   "outputs": [
    {
     "name": "stdout",
     "output_type": "stream",
     "text": [
      "Name: \n",
      "Type: Graph\n",
      "Number of nodes: 1\n",
      "Number of edges: 0\n",
      "Average degree:   0.0000\n",
      "Top 10 nodes by degree:\n",
      "\t('source', 0)\n",
      "Network density: 0.000\n",
      "Is the network connected? True\n",
      "Triadic closure: 0.000\n",
      "\n",
      "Network diameter of the largest component: 0.000\n"
     ]
    },
    {
     "ename": "ZeroDivisionError",
     "evalue": "division by zero",
     "output_type": "error",
     "traceback": [
      "\u001b[0;31m---------------------------------------------------------------------------\u001b[0m",
      "\u001b[0;31mZeroDivisionError\u001b[0m                         Traceback (most recent call last)",
      "\u001b[0;32m<timed exec>\u001b[0m in \u001b[0;36m<module>\u001b[0;34m\u001b[0m\n",
      "\u001b[0;32m/opt/anaconda3/lib/python3.8/site-packages/networkx/algorithms/community/modularity_max.py\u001b[0m in \u001b[0;36mnaive_greedy_modularity_communities\u001b[0;34m(G)\u001b[0m\n\u001b[1;32m    221\u001b[0m     \u001b[0;31m# Greedily merge communities until no improvement is possible\u001b[0m\u001b[0;34m\u001b[0m\u001b[0;34m\u001b[0m\u001b[0;34m\u001b[0m\u001b[0m\n\u001b[1;32m    222\u001b[0m     \u001b[0mold_modularity\u001b[0m \u001b[0;34m=\u001b[0m \u001b[0;32mNone\u001b[0m\u001b[0;34m\u001b[0m\u001b[0;34m\u001b[0m\u001b[0m\n\u001b[0;32m--> 223\u001b[0;31m     \u001b[0mnew_modularity\u001b[0m \u001b[0;34m=\u001b[0m \u001b[0mmodularity\u001b[0m\u001b[0;34m(\u001b[0m\u001b[0mG\u001b[0m\u001b[0;34m,\u001b[0m \u001b[0mcommunities\u001b[0m\u001b[0;34m)\u001b[0m\u001b[0;34m\u001b[0m\u001b[0;34m\u001b[0m\u001b[0m\n\u001b[0m\u001b[1;32m    224\u001b[0m     \u001b[0;32mwhile\u001b[0m \u001b[0mold_modularity\u001b[0m \u001b[0;32mis\u001b[0m \u001b[0;32mNone\u001b[0m \u001b[0;32mor\u001b[0m \u001b[0mnew_modularity\u001b[0m \u001b[0;34m>\u001b[0m \u001b[0mold_modularity\u001b[0m\u001b[0;34m:\u001b[0m\u001b[0;34m\u001b[0m\u001b[0;34m\u001b[0m\u001b[0m\n\u001b[1;32m    225\u001b[0m         \u001b[0;31m# Save modularity for comparison\u001b[0m\u001b[0;34m\u001b[0m\u001b[0;34m\u001b[0m\u001b[0;34m\u001b[0m\u001b[0m\n",
      "\u001b[0;32m/opt/anaconda3/lib/python3.8/site-packages/networkx/algorithms/community/quality.py\u001b[0m in \u001b[0;36mmodularity\u001b[0;34m(G, communities, weight)\u001b[0m\n\u001b[1;32m    321\u001b[0m         \u001b[0mdeg_sum\u001b[0m \u001b[0;34m=\u001b[0m \u001b[0msum\u001b[0m\u001b[0;34m(\u001b[0m\u001b[0mout_degree\u001b[0m\u001b[0;34m.\u001b[0m\u001b[0mvalues\u001b[0m\u001b[0;34m(\u001b[0m\u001b[0;34m)\u001b[0m\u001b[0;34m)\u001b[0m\u001b[0;34m\u001b[0m\u001b[0;34m\u001b[0m\u001b[0m\n\u001b[1;32m    322\u001b[0m         \u001b[0mm\u001b[0m \u001b[0;34m=\u001b[0m \u001b[0mdeg_sum\u001b[0m \u001b[0;34m/\u001b[0m \u001b[0;36m2\u001b[0m\u001b[0;34m\u001b[0m\u001b[0;34m\u001b[0m\u001b[0m\n\u001b[0;32m--> 323\u001b[0;31m         \u001b[0mnorm\u001b[0m \u001b[0;34m=\u001b[0m \u001b[0;36m1\u001b[0m \u001b[0;34m/\u001b[0m \u001b[0mdeg_sum\u001b[0m \u001b[0;34m**\u001b[0m \u001b[0;36m2\u001b[0m\u001b[0;34m\u001b[0m\u001b[0;34m\u001b[0m\u001b[0m\n\u001b[0m\u001b[1;32m    324\u001b[0m \u001b[0;34m\u001b[0m\u001b[0m\n\u001b[1;32m    325\u001b[0m     \u001b[0;32mdef\u001b[0m \u001b[0mcommunity_contribution\u001b[0m\u001b[0;34m(\u001b[0m\u001b[0mcommunity\u001b[0m\u001b[0;34m)\u001b[0m\u001b[0;34m:\u001b[0m\u001b[0;34m\u001b[0m\u001b[0;34m\u001b[0m\u001b[0m\n",
      "\u001b[0;31mZeroDivisionError\u001b[0m: division by zero"
     ]
    }
   ],
   "source": [
    "%%time\n",
    "\n",
    "# Initialize graph object.\n",
    "G = nx.from_pandas_edgelist(df_graph, 'source', 'target', 'weight')\n",
    "\n",
    "# Add nodes.\n",
    "nodes = list( dict.fromkeys( df_graph['source'].values.tolist() + df_graph['target'].values.tolist() ))\n",
    "nodes = pd.DataFrame(nodes, columns = ['source'])\n",
    "G.add_nodes_from(nodes)\n",
    "\n",
    "print (nx.info(G))\n",
    "\n",
    "# Set degree attributes.\n",
    "nx.set_node_attributes(G, dict(G.degree(G.nodes())), 'degree')\n",
    "\n",
    "# Sort nodes by degree and print top results.\n",
    "sorted_degree = sorted(dict(G.degree(G.nodes())).items(),\n",
    "                       key = itemgetter(1), reverse = True)\n",
    "\n",
    "print (\"Top 10 nodes by degree:\")\n",
    "for d in sorted_degree[:10]:\n",
    "    print (f'\\t{d}')\n",
    "\n",
    "# Measure network density.\n",
    "density = nx.density(G)\n",
    "print (f\"Network density: {density:.3f}\")\n",
    "\n",
    "# Related to diameter, check if network is connected and, therefore, can have a diameter.\n",
    "print (f\"Is the network connected? {nx.is_connected(G)}\")\n",
    "\n",
    "# Find triadic closure (similar to density).\n",
    "triadic_closure = nx.transitivity(G)\n",
    "print (f\"Triadic closure: {triadic_closure:.3f}\\n\")\n",
    "\n",
    "\n",
    "# Get a list of network components (communities).\n",
    "# Find the largest component.\n",
    "components = nx.connected_components(G)\n",
    "largest_component = max(components, key = len)\n",
    "\n",
    "# Create a subgraph of the largest component and measure its diameter.\n",
    "subgraph = G.subgraph(largest_component)\n",
    "diameter = nx.diameter(subgraph)\n",
    "print (f\"Network diameter of the largest component: {diameter:.3f}\")\n",
    "\n",
    "# Find centrality measures. \n",
    "betweenness_dict = nx.betweenness_centrality(subgraph) # Run betweenness centrality\n",
    "eigenvector_dict = nx.eigenvector_centrality(subgraph) # Run eigenvector centrality\n",
    "degree_cent_dict = nx.degree_centrality(subgraph)\n",
    "\n",
    "# Assign each centrality measure to an attribute.\n",
    "nx.set_node_attributes(subgraph, betweenness_dict, 'betweenness')\n",
    "nx.set_node_attributes(subgraph, eigenvector_dict, 'eigenvector')\n",
    "nx.set_node_attributes(subgraph, degree_cent_dict, 'degree_cent')\n",
    "\n",
    "# Find communities. naive_greedy_modularity_communities\n",
    "communities = community.naive_greedy_modularity_communities(subgraph)\n",
    "# communities = community.k_clique_communities(subgraph, 5)\n",
    "# communities = community.greedy_modularity_communities(subgraph)\n",
    "# communities = community.kernighan_lin_bisection(subgraph)\n",
    "\n",
    "# Create a dictionary that maps nodes to their community.\n",
    "modularity_dict = {}\n",
    "for i, c in enumerate(communities):\n",
    "    for name in c:\n",
    "        modularity_dict[name] = i\n",
    "        \n",
    "# Add modularity information to graph object.\n",
    "nx.set_node_attributes(subgraph, modularity_dict, 'modularity')"
   ]
  },
  {
   "cell_type": "markdown",
   "metadata": {},
   "source": [
    "## Write Graph Object"
   ]
  },
  {
   "cell_type": "code",
   "execution_count": 6,
   "metadata": {},
   "outputs": [
    {
     "name": "stdout",
     "output_type": "stream",
     "text": [
      "CPU times: user 1.04 ms, sys: 1.33 ms, total: 2.38 ms\n",
      "Wall time: 1.42 ms\n"
     ]
    }
   ],
   "source": [
    "%%time\n",
    "\n",
    "# Convert graph object into a dictionary.\n",
    "data = json_graph.node_link_data(subgraph)\n",
    "\n",
    "# # Serialize dictionary with json.\n",
    "# class NPEncoder(JSONEncoder):\n",
    "#     def default(self, obj):\n",
    "#         if isinstance(obj, np.ndarray):\n",
    "#             return obj.tolist()\n",
    "#         return JSONEncoder.default(self, obj)\n",
    "    \n",
    "# data_json = json.dumps(data, cls=NPEncoder)\n",
    "\n",
    "with open(\"/Users/quinn.wi/Documents/\" + \"Github/dsg-mhs/lab_space/projects/jqa/coref/data/jqa_correlation-coRef-network.json\", \n",
    "          \"w\") as f:\n",
    "    json.dump(data, f, ensure_ascii=False, indent=4)\n",
    "#     f.write(data_json)"
   ]
  },
  {
   "cell_type": "code",
   "execution_count": null,
   "metadata": {},
   "outputs": [],
   "source": []
  }
 ],
 "metadata": {
  "kernelspec": {
   "display_name": "Python 3 (ipykernel)",
   "language": "python",
   "name": "python3"
  },
  "language_info": {
   "codemirror_mode": {
    "name": "ipython",
    "version": 3
   },
   "file_extension": ".py",
   "mimetype": "text/x-python",
   "name": "python",
   "nbconvert_exporter": "python",
   "pygments_lexer": "ipython3",
   "version": "3.8.5"
  }
 },
 "nbformat": 4,
 "nbformat_minor": 4
}
