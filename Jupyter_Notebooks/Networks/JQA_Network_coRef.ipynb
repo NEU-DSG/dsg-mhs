{
 "cells": [
  {
   "cell_type": "markdown",
   "metadata": {},
   "source": [
    "# Network Analysis"
   ]
  },
  {
   "cell_type": "code",
   "execution_count": 1,
   "metadata": {},
   "outputs": [],
   "source": [
    "import re, json\n",
    "import pandas as pd\n",
    "import numpy as np\n",
    "import itertools as iter\n",
    "import networkx as nx\n",
    "from networkx.algorithms import community\n",
    "from networkx.readwrite import json_graph\n",
    "from json import JSONEncoder\n",
    "from operator import itemgetter\n",
    "from collections import Counter\n",
    "    \n",
    "# Declare directory location to shorten filepaths later.\n",
    "abs_dir = \"/Users/quinn.wi/Documents/SemanticData/\""
   ]
  },
  {
   "cell_type": "markdown",
   "metadata": {},
   "source": [
    "## Import Data"
   ]
  },
  {
   "cell_type": "code",
   "execution_count": 2,
   "metadata": {},
   "outputs": [
    {
     "name": "stdout",
     "output_type": "stream",
     "text": [
      "Edges shape before removing duplicates: (354742, 3)\n",
      "Edges shape after removing duplicates: (177371, 2)\n",
      "CPU times: user 1min 33s, sys: 2.09 s, total: 1min 35s\n",
      "Wall time: 1min 37s\n"
     ]
    }
   ],
   "source": [
    "%%time\n",
    "\n",
    "# Read in file; select columns; drop rows with NA values (entries without a named person).\n",
    "df = pd.read_csv(abs_dir + 'Output/ParsedXML/JQA_dataframe.txt',\n",
    "                 sep = '\\t')[['entry', 'people']] \\\n",
    "    .dropna()\n",
    "\n",
    "# Split string of people into individuals.\n",
    "df['people'] = df['people'].str.split(r',|;')\n",
    "\n",
    "# Explode list so that each list value becomes a row.\n",
    "df = df.explode('people')\n",
    "\n",
    "# Create entry-person matrix.\n",
    "df = pd.crosstab(df['entry'], df['people'])\n",
    "\n",
    "# Convert entry-person matrix into an adjacency matrix of persons.\n",
    "df = df.T.dot(df)\n",
    "\n",
    "# Change diagonal values to zero. That is, a person cannot co-occur with themself.\n",
    "np.fill_diagonal(df.values, 0)\n",
    "\n",
    "# Create new 'source' column that corresponds to index (person).\n",
    "df['source'] = df.index\n",
    "\n",
    "# # Reshape dataframe to focus on source, target, and weight.\n",
    "# # Rename 'people' column name to 'target'.\n",
    "df = pd.melt(df, id_vars = ['source'], var_name = 'target', value_name = 'weight') \\\n",
    "    .rename(columns = {'people':'target'}) \\\n",
    "    .query('(source != target) & (weight > 0)')\n",
    "\n",
    "# Create list of unique entities from source and target columns.\n",
    "nodes = pd.DataFrame(df['source'].values.tolist() + df['target'].values.tolist()) \\\n",
    "    .rename(columns = {0:'label'}) \\\n",
    "    .drop_duplicates()\n",
    "\n",
    "# Create identifying codes for labels.\n",
    "nodes = nodes \\\n",
    "    .assign(source = nodes['label'].astype('category').cat.codes) \\\n",
    "    .dropna() \\\n",
    "    .sort_values(['source'], ascending = True) # Sorting matches labels with source codes.\n",
    "\n",
    "# Create dictionary to map values to codes.\n",
    "nodes_dictionary = nodes['label'].to_dict()\n",
    "\n",
    "# Map labels back onto source and target.\n",
    "edges = df.replace({'source':nodes_dictionary, 'target':nodes_dictionary})\n",
    "print (f'Edges shape before removing duplicates: {edges.shape}')\n",
    "\n",
    "# Convert edges dataframe to edges tuple (compatible with graph object below).\n",
    "edges = [tuple(x) for x in edges[['source', 'target']].to_numpy()]\n",
    "\n",
    "# Remove rows with duplicate, though inversed, undirected connections.\n",
    "# Ex. John --> Abigail would remove the row, Abigail --> John.\n",
    "edges = list({tuple(item) for item in map(sorted, edges)})\n",
    "edges = np.asarray(edges)\n",
    "\n",
    "print (f'Edges shape after removing duplicates: {edges.shape}')\n",
    "\n",
    "# DO I NEED TO CONVERT edges TO LIST OF TUPLES"
   ]
  },
  {
   "cell_type": "markdown",
   "metadata": {},
   "source": [
    "## Create Graph Object"
   ]
  },
  {
   "cell_type": "code",
   "execution_count": 3,
   "metadata": {},
   "outputs": [
    {
     "name": "stdout",
     "output_type": "stream",
     "text": [
      "Name: \n",
      "Type: Graph\n",
      "Number of nodes: 5135\n",
      "Number of edges: 177371\n",
      "Average degree:  69.0832\n",
      "Top 10 nodes by degree:\n",
      "('calhoun-john', 2204)\n",
      "('southard-samuel', 1894)\n",
      "('adams-george', 1759)\n",
      "('brent-daniel', 1556)\n",
      "('jackson-andrew', 1487)\n",
      "('wyer-edward', 1474)\n",
      "('adams-john2', 1431)\n",
      "('wirt-william', 1366)\n",
      "('hay-george', 1306)\n",
      "('barbour-james', 1298)\n",
      "Network density: 0.013\n",
      "Is the network connected? False\n",
      "Network diameter of the largest component: 5.000\n",
      "Triadic closure: 0.202\n",
      "\n",
      "CPU times: user 36min 26s, sys: 12.5 s, total: 36min 38s\n",
      "Wall time: 37min 25s\n"
     ]
    }
   ],
   "source": [
    "%%time\n",
    "\n",
    "# Initialize graph object.\n",
    "G = nx.Graph()\n",
    "\n",
    "# Add nodes and edges to graph object.\n",
    "G.add_nodes_from(nodes['label'])\n",
    "G.add_edges_from(edges)\n",
    "\n",
    "print (nx.info(G))\n",
    "\n",
    "# Set edge weight by frequency of edge.\n",
    "# https://stackoverflow.com/questions/43644210/python-networkx-add-weights-to-edges-by-frequency-of-edge-occurance\n",
    "c = Counter(G.edges()) # contiains frequency of each directed edge.\n",
    "\n",
    "for u, v, d in G.edges(data = True):\n",
    "    d['weight'] = c[u, v]\n",
    "\n",
    "# Set degree attributes.\n",
    "nx.set_node_attributes(G, dict(G.degree(G.nodes())), 'degree')\n",
    "\n",
    "# Sort nodes by degree and print top results.\n",
    "sorted_degree = sorted(dict(G.degree(G.nodes())).items(),\n",
    "                       key = itemgetter(1), reverse = True)\n",
    "\n",
    "print (\"Top 10 nodes by degree:\")\n",
    "for d in sorted_degree[:10]:\n",
    "    print (f'\\t{d}')\n",
    "\n",
    "\n",
    "# Measure network density.\n",
    "density = nx.density(G)\n",
    "print (f\"Network density: {density:.3f}\")\n",
    "\n",
    "# Related to diameter, check if network is connected and, therefore, can have a diameter.\n",
    "print (f\"Is the network connected? {nx.is_connected(G)}\")\n",
    "\n",
    "# Get a list of network components (communities).\n",
    "# Find the largest component.\n",
    "components = nx.connected_components(G)\n",
    "largest_component = max(components, key = len)\n",
    "\n",
    "# Create a subgraph of the largest component and measure its diameter.\n",
    "subgraph = G.subgraph(largest_component)\n",
    "diameter = nx.diameter(subgraph)\n",
    "print (f\"Network diameter of the largest component: {diameter:.3f}\")\n",
    "\n",
    "# Find triadic closure (similar to density).\n",
    "triadic_closure = nx.transitivity(G)\n",
    "print (f\"Triadic closure: {triadic_closure:.3f}\\n\")\n",
    "\n",
    "# Find centrality measures.\n",
    "betweenness_dict = nx.betweenness_centrality(G) # Run betweenness centrality\n",
    "eigenvector_dict = nx.eigenvector_centrality(G) # Run eigenvector centrality\n",
    "\n",
    "# Assign each centrality measure to an attribute.\n",
    "nx.set_node_attributes(G, betweenness_dict, 'betweenness')\n",
    "nx.set_node_attributes(G, eigenvector_dict, 'eigenvector')\n",
    "\n",
    "# Find communities.\n",
    "communities = community.greedy_modularity_communities(G)\n",
    "\n",
    "# Create a dictionary that maps nodes to their community.\n",
    "modularity_dict = {}\n",
    "for i, c in enumerate(communities):\n",
    "    for name in c:\n",
    "        modularity_dict[name] = i\n",
    "        \n",
    "# Add modularity information to graph object.\n",
    "nx.set_node_attributes(G, modularity_dict, 'modularity')"
   ]
  },
  {
   "cell_type": "markdown",
   "metadata": {},
   "source": [
    "## Write Graph Object"
   ]
  },
  {
   "cell_type": "code",
   "execution_count": 4,
   "metadata": {},
   "outputs": [
    {
     "name": "stdout",
     "output_type": "stream",
     "text": [
      "CPU times: user 399 ms, sys: 12.1 ms, total: 411 ms\n",
      "Wall time: 419 ms\n"
     ]
    }
   ],
   "source": [
    "%%time\n",
    "\n",
    "# Convert graph object into a dictionary.\n",
    "data = json_graph.node_link_data(G)\n",
    "\n",
    "# Serialize dictionary with json.\n",
    "class NPEncoder(JSONEncoder):\n",
    "    def default(self, obj):\n",
    "        if isinstance(obj, np.ndarray):\n",
    "            return obj.tolist()\n",
    "        return JSONEncoder.default(self, obj)\n",
    "    \n",
    "data_json = json.dumps(data, cls=NPEncoder)\n",
    "\n",
    "with open(abs_dir + \"Data/Output/Graphs/JQA_Network_correlation/coRef-network.json\", \"w\") as f:\n",
    "    f.write(data_json)"
   ]
  },
  {
   "cell_type": "code",
   "execution_count": null,
   "metadata": {},
   "outputs": [],
   "source": []
  }
 ],
 "metadata": {
  "kernelspec": {
   "display_name": "Python 3",
   "language": "python",
   "name": "python3"
  },
  "language_info": {
   "codemirror_mode": {
    "name": "ipython",
    "version": 3
   },
   "file_extension": ".py",
   "mimetype": "text/x-python",
   "name": "python",
   "nbconvert_exporter": "python",
   "pygments_lexer": "ipython3",
   "version": "3.8.5"
  }
 },
 "nbformat": 4,
 "nbformat_minor": 4
}
