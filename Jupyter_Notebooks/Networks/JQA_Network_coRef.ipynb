{
 "cells": [
  {
   "cell_type": "markdown",
   "metadata": {},
   "source": [
    "# Network Analysis"
   ]
  },
  {
   "cell_type": "code",
   "execution_count": 1,
   "metadata": {},
   "outputs": [],
   "source": [
    "import re, json, glob, csv, sys, os, warnings\n",
    "import pandas as pd\n",
    "import numpy as np\n",
    "import itertools as iter\n",
    "import networkx as nx\n",
    "import xml.etree.ElementTree as ET\n",
    "import seaborn as sns\n",
    "import matplotlib.pyplot as plt\n",
    "from networkx.algorithms import community\n",
    "from networkx.readwrite import json_graph\n",
    "from json import JSONEncoder\n",
    "from operator import itemgetter\n",
    "from collections import Counter\n",
    "   \n",
    "# Import project-specific functions. \n",
    "# Python files (.py) have to be in same folder to work.\n",
    "lib_path = os.path.abspath(os.path.join(os.path.dirname('JQA_XML_parser.py'), '../Scripts'))\n",
    "sys.path.append(lib_path)\n",
    "from JQA_XML_parser import *\n",
    "\n",
    "# Read in config.py (git ignored file) for API username and pw.\n",
    "config_path = os.path.abspath(os.path.join(os.path.dirname('config.py'), '../Scripts'))\n",
    "sys.path.append(config_path)\n",
    "import config\n",
    "\n",
    "# Ignore warnings related to deprecated functions.\n",
    "warnings.filterwarnings('ignore')\n",
    "\n",
    "url = 'https://dsg.xmldb-dev.northeastern.edu/basex/psc/'\n",
    "user = config.username\n",
    "pw = config.password"
   ]
  },
  {
   "cell_type": "markdown",
   "metadata": {},
   "source": [
    "## Gather XML Files"
   ]
  },
  {
   "cell_type": "code",
   "execution_count": 2,
   "metadata": {},
   "outputs": [
    {
     "name": "stdout",
     "output_type": "stream",
     "text": [
      "CPU times: user 57.5 ms, sys: 8.05 ms, total: 65.5 ms\n",
      "Wall time: 551 ms\n"
     ]
    },
    {
     "data": {
      "text/plain": [
       "607"
      ]
     },
     "execution_count": 2,
     "metadata": {},
     "output_type": "execute_result"
    }
   ],
   "source": [
    "%%time\n",
    "\n",
    "# Must be connected to Northeastern's VPN.\n",
    "r = requests.get(url, \n",
    "                 auth = (user, pw), \n",
    "                 headers = {'Content-Type': 'application/xml'}\n",
    "                )\n",
    "\n",
    "# Read in contents of pipeline.\n",
    "soup = BeautifulSoup(r.content, 'html.parser')\n",
    "\n",
    "# Split soup's content by \\n (each line is a file path to an XML doc).\n",
    "# Use filter() to remove empty strings ('').\n",
    "# Convert back to list using list().\n",
    "files = list(filter(None, soup.text.split('\\n')))\n",
    "\n",
    "# Filter list and retrieve only jqa/ files.\n",
    "files = [i for i in files if 'jqa/' in i]\n",
    "\n",
    "len(files)"
   ]
  },
  {
   "cell_type": "markdown",
   "metadata": {},
   "source": [
    "## Build Dataframe"
   ]
  },
  {
   "cell_type": "code",
   "execution_count": 3,
   "metadata": {},
   "outputs": [
    {
     "data": {
      "image/png": "[encoded data removed]",
      "text/plain": [
       "<Figure size 432x288 with 1 Axes>"
      ]
     },
     "metadata": {
      "needs_background": "light"
     },
     "output_type": "display_data"
    },
    {
     "name": "stdout",
     "output_type": "stream",
     "text": [
      "CPU times: user 12.4 s, sys: 863 ms, total: 13.3 s\n",
      "Wall time: 3min 54s\n"
     ]
    },
    {
     "data": {
      "text/html": [
       "<div>\n",
       "<style scoped>\n",
       "    .dataframe tbody tr th:only-of-type {\n",
       "        vertical-align: middle;\n",
       "    }\n",
       "\n",
       "    .dataframe tbody tr th {\n",
       "        vertical-align: top;\n",
       "    }\n",
       "\n",
       "    .dataframe thead th {\n",
       "        text-align: right;\n",
       "    }\n",
       "</style>\n",
       "<table border=\"1\" class=\"dataframe\">\n",
       "  <thead>\n",
       "    <tr style=\"text-align: right;\">\n",
       "      <th></th>\n",
       "      <th>file</th>\n",
       "      <th>entry</th>\n",
       "      <th>date</th>\n",
       "      <th>people</th>\n",
       "      <th>subjects</th>\n",
       "      <th>text</th>\n",
       "      <th>year</th>\n",
       "    </tr>\n",
       "  </thead>\n",
       "  <tbody>\n",
       "    <tr>\n",
       "      <th>8</th>\n",
       "      <td>('JQADiaries-v12-1789-09-p235.xml',)</td>\n",
       "      <td>jqadiaries-v12-1789-09-14</td>\n",
       "      <td>1789-09-14</td>\n",
       "      <td>willkings-katharine</td>\n",
       "      <td>Slave Trade</td>\n",
       "      <td>14th: After a detention of four days the wind...</td>\n",
       "      <td>1789</td>\n",
       "    </tr>\n",
       "    <tr>\n",
       "      <th>8</th>\n",
       "      <td>('JQADiaries-v12-1789-09-p235.xml',)</td>\n",
       "      <td>jqadiaries-v12-1789-09-14</td>\n",
       "      <td>1789-09-14</td>\n",
       "      <td>u</td>\n",
       "      <td>Slave Trade</td>\n",
       "      <td>14th: After a detention of four days the wind...</td>\n",
       "      <td>1789</td>\n",
       "    </tr>\n",
       "    <tr>\n",
       "      <th>8</th>\n",
       "      <td>('JQADiaries-v12-1789-09-p235.xml',)</td>\n",
       "      <td>jqadiaries-v12-1789-09-14</td>\n",
       "      <td>1789-09-14</td>\n",
       "      <td>winslow-edward2</td>\n",
       "      <td>Slave Trade</td>\n",
       "      <td>14th: After a detention of four days the wind...</td>\n",
       "      <td>1789</td>\n",
       "    </tr>\n",
       "  </tbody>\n",
       "</table>\n",
       "</div>"
      ],
      "text/plain": [
       "                                   file                      entry       date  \\\n",
       "8  ('JQADiaries-v12-1789-09-p235.xml',)  jqadiaries-v12-1789-09-14 1789-09-14   \n",
       "8  ('JQADiaries-v12-1789-09-p235.xml',)  jqadiaries-v12-1789-09-14 1789-09-14   \n",
       "8  ('JQADiaries-v12-1789-09-p235.xml',)  jqadiaries-v12-1789-09-14 1789-09-14   \n",
       "\n",
       "                people      subjects  \\\n",
       "8  willkings-katharine  Slave Trade    \n",
       "8                    u  Slave Trade    \n",
       "8      winslow-edward2  Slave Trade    \n",
       "\n",
       "                                                text  year  \n",
       "8   14th: After a detention of four days the wind...  1789  \n",
       "8   14th: After a detention of four days the wind...  1789  \n",
       "8   14th: After a detention of four days the wind...  1789  "
      ]
     },
     "execution_count": 3,
     "metadata": {},
     "output_type": "execute_result"
    }
   ],
   "source": [
    "%%time\n",
    "\n",
    "# Build dataframe from XML files.\n",
    "# build_dataframe() called from Correspondence_XML_parser\n",
    "df = build_dataframe(files, url, user, pw)\n",
    "\n",
    "# Unnest subject headings. \n",
    "df['people'] = df['people'].str.split(r',|;')\n",
    "df = df.explode('people')\n",
    "\n",
    "# Remove leading and trailing whitespace.\n",
    "df['people'] = df['people'].str.strip()\n",
    "\n",
    "# Remove rows with empty values.\n",
    "df.replace('', np.nan, inplace = True)\n",
    "df.dropna(inplace = True)\n",
    "\n",
    "# Convert to datetime and extract year.\n",
    "df['date'] = pd.to_datetime(df['date'], infer_datetime_format = True)\n",
    "\n",
    "df['year'] = df['date'].dt.year\n",
    "\n",
    "# Chart distribution of weights.\n",
    "sns.histplot(data = df, x = 'year')\n",
    "\n",
    "plt.show()\n",
    "\n",
    "df.head(3)"
   ]
  },
  {
   "cell_type": "markdown",
   "metadata": {},
   "source": [
    "## Create Adjacency Matrix"
   ]
  },
  {
   "cell_type": "code",
   "execution_count": 12,
   "metadata": {},
   "outputs": [
    {
     "data": {
      "image/png": "[encoded data removed]",
      "text/plain": [
       "<Figure size 432x288 with 1 Axes>"
      ]
     },
     "metadata": {
      "needs_background": "light"
     },
     "output_type": "display_data"
    },
    {
     "name": "stdout",
     "output_type": "stream",
     "text": [
      "CPU times: user 7min 58s, sys: 5.19 s, total: 8min 3s\n",
      "Wall time: 8min 8s\n"
     ]
    }
   ],
   "source": [
    "%%time\n",
    "\n",
    "# Filter dates by distribution.\n",
    "df = df.query('(people != \"u\") & (people != \"source\")') \n",
    "    #.query('(date < \"1800-01-01\") | (date >= \"1830-01-01\")')\n",
    "\n",
    "# Create adjacency matrix.\n",
    "adj = pd.crosstab(df['entry'], df['people'])\n",
    "\n",
    "# Convert entry-person matrix into an adjacency matrix of persons.\n",
    "adj = adj.T.dot(adj)\n",
    "\n",
    "# Change same-same connections to zero.\n",
    "np.fill_diagonal(adj.values, 0)\n",
    "\n",
    "# # Simple correlation matrix from dataframe.\n",
    "# adj = adj.corr()\n",
    "\n",
    "adj['source'] = adj.index\n",
    "\n",
    "df_graph = pd.melt(adj, id_vars = 'source', var_name = 'target', value_name = 'weight') \\\n",
    "    .query('(source != target) & (weight > 15)') # 20 is good\n",
    "\n",
    "# Chart distribution of weights.\n",
    "sns.histplot(data = df_graph, x = 'weight')\n",
    "\n",
    "plt.show()"
   ]
  },
  {
   "cell_type": "markdown",
   "metadata": {},
   "source": [
    "## Create Graph Object"
   ]
  },
  {
   "cell_type": "code",
   "execution_count": 44,
   "metadata": {},
   "outputs": [
    {
     "name": "stdout",
     "output_type": "stream",
     "text": [
      "Name: \n",
      "Type: Graph\n",
      "Number of nodes: 149\n",
      "Number of edges: 350\n",
      "Average degree:   4.6980\n",
      "Top 10 nodes by degree:\n",
      "\t('adams-louisa-catherine', 40)\n",
      "\t('jackson-andrew', 29)\n",
      "\t('gallatin-albert', 26)\n",
      "\t('harris-levett', 25)\n",
      "\t('alexander-i', 24)\n",
      "\t('southard-samuel', 24)\n",
      "\t('adams-charles2', 23)\n",
      "\t('bayard-james', 20)\n",
      "\t('adams-john2', 18)\n",
      "\t('barbour-james', 16)\n",
      "Network density: 0.032\n",
      "Is the network connected? False\n",
      "Triadic closure: 0.321\n",
      "\n",
      "Network diameter of the largest component: 9.000\n",
      "CPU times: user 25min 43s, sys: 8.14 s, total: 25min 51s\n",
      "Wall time: 26min 9s\n"
     ]
    }
   ],
   "source": [
    "%%time\n",
    "\n",
    "# Initialize graph object.\n",
    "G = nx.from_pandas_edgelist(df_graph, 'source', 'target', 'weight')\n",
    "\n",
    "# Add nodes.\n",
    "nodes = list( dict.fromkeys( df_graph['source'].values.tolist() + df_graph['target'].values.tolist() ))\n",
    "nodes = pd.DataFrame(nodes, columns = ['source'])\n",
    "G.add_nodes_from(nodes)\n",
    "\n",
    "print (nx.info(G))\n",
    "\n",
    "# Set degree attributes.\n",
    "nx.set_node_attributes(G, dict(G.degree(G.nodes())), 'degree')\n",
    "\n",
    "# Sort nodes by degree and print top results.\n",
    "sorted_degree = sorted(dict(G.degree(G.nodes())).items(),\n",
    "                       key = itemgetter(1), reverse = True)\n",
    "\n",
    "print (\"Top 10 nodes by degree:\")\n",
    "for d in sorted_degree[:10]:\n",
    "    print (f'\\t{d}')\n",
    "\n",
    "# Measure network density.\n",
    "density = nx.density(G)\n",
    "print (f\"Network density: {density:.3f}\")\n",
    "\n",
    "# Related to diameter, check if network is connected and, therefore, can have a diameter.\n",
    "print (f\"Is the network connected? {nx.is_connected(G)}\")\n",
    "\n",
    "# Find triadic closure (similar to density).\n",
    "triadic_closure = nx.transitivity(G)\n",
    "print (f\"Triadic closure: {triadic_closure:.3f}\\n\")\n",
    "\n",
    "\n",
    "# Get a list of network components (communities).\n",
    "# Find the largest component.\n",
    "components = nx.connected_components(G)\n",
    "largest_component = max(components, key = len)\n",
    "\n",
    "# Create a subgraph of the largest component and measure its diameter.\n",
    "subgraph = G.subgraph(largest_component)\n",
    "diameter = nx.diameter(subgraph)\n",
    "print (f\"Network diameter of the largest component: {diameter:.3f}\")\n",
    "\n",
    "# Find centrality measures. \n",
    "betweenness_dict = nx.betweenness_centrality(subgraph) # Run betweenness centrality\n",
    "eigenvector_dict = nx.eigenvector_centrality(subgraph) # Run eigenvector centrality\n",
    "degree_cent_dict = nx.degree_centrality(subgraph)\n",
    "\n",
    "# Assign each centrality measure to an attribute.\n",
    "nx.set_node_attributes(subgraph, betweenness_dict, 'betweenness')\n",
    "nx.set_node_attributes(subgraph, eigenvector_dict, 'eigenvector')\n",
    "nx.set_node_attributes(subgraph, degree_cent_dict, 'degree_cent')\n",
    "\n",
    "# Find communities. naive_greedy_modularity_communities\n",
    "communities = community.naive_greedy_modularity_communities(subgraph)\n",
    "# communities = community.k_clique_communities(subgraph, 5)\n",
    "# communities = community.greedy_modularity_communities(subgraph)\n",
    "# communities = community.kernighan_lin_bisection(subgraph)\n",
    "\n",
    "# Create a dictionary that maps nodes to their community.\n",
    "modularity_dict = {}\n",
    "for i, c in enumerate(communities):\n",
    "    for name in c:\n",
    "        modularity_dict[name] = i\n",
    "        \n",
    "# Add modularity information to graph object.\n",
    "nx.set_node_attributes(subgraph, modularity_dict, 'modularity')"
   ]
  },
  {
   "cell_type": "markdown",
   "metadata": {},
   "source": [
    "## Write Graph Object"
   ]
  },
  {
   "cell_type": "code",
   "execution_count": 45,
   "metadata": {},
   "outputs": [
    {
     "name": "stdout",
     "output_type": "stream",
     "text": [
      "CPU times: user 6.46 ms, sys: 1.7 ms, total: 8.16 ms\n",
      "Wall time: 6.87 ms\n"
     ]
    }
   ],
   "source": [
    "%%time\n",
    "\n",
    "# Convert graph object into a dictionary.\n",
    "data = json_graph.node_link_data(subgraph)\n",
    "\n",
    "# # Serialize dictionary with json.\n",
    "# class NPEncoder(JSONEncoder):\n",
    "#     def default(self, obj):\n",
    "#         if isinstance(obj, np.ndarray):\n",
    "#             return obj.tolist()\n",
    "#         return JSONEncoder.default(self, obj)\n",
    "    \n",
    "# data_json = json.dumps(data, cls=NPEncoder)\n",
    "\n",
    "with open(\"/Users/quinn.wi/Documents/\" + \"Github/dsg-mhs/lab_space/projects/jqa/coref/data/jqa_coRef-network.json\", \n",
    "          \"w\") as f:\n",
    "    json.dump(data, f, ensure_ascii=False, indent=4)\n",
    "#     f.write(data_json)"
   ]
  },
  {
   "cell_type": "code",
   "execution_count": null,
   "metadata": {},
   "outputs": [],
   "source": []
  }
 ],
 "metadata": {
  "kernelspec": {
   "display_name": "Python 3 (ipykernel)",
   "language": "python",
   "name": "python3"
  },
  "language_info": {
   "codemirror_mode": {
    "name": "ipython",
    "version": 3
   },
   "file_extension": ".py",
   "mimetype": "text/x-python",
   "name": "python",
   "nbconvert_exporter": "python",
   "pygments_lexer": "ipython3",
   "version": "3.8.5"
  }
 },
 "nbformat": 4,
 "nbformat_minor": 4
}
