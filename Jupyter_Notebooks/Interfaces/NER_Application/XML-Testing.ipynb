{
 "cells": [
  {
   "cell_type": "markdown",
   "metadata": {},
   "source": [
    "# Test Area"
   ]
  },
  {
   "cell_type": "code",
   "execution_count": 1,
   "metadata": {},
   "outputs": [],
   "source": [
    "import warnings, re, glob, datetime, csv, sys, os, base64, io, spacy, datetime\n",
    "import pandas as pd\n",
    "import numpy as np\n",
    "# import xml.etree.ElementTree as ET\n",
    "from lxml import etree\n",
    "\n",
    "import dash, dash_table\n",
    "import dash_core_components as dcc\n",
    "from dash.dependencies import Input, Output, State\n",
    "from dash.exceptions import PreventUpdate\n",
    "import dash_html_components as html\n",
    "from jupyter_dash import JupyterDash\n",
    "\n",
    "# Import spaCy language model.\n",
    "nlp = spacy.load('en_core_web_sm')\n",
    "\n",
    "# Ignore simple warnings.\n",
    "warnings.simplefilter('ignore', DeprecationWarning)\n",
    "\n",
    "# Declare directory location to shorten filepaths later.\n",
    "abs_dir = \"/Users/quinn.wi/Documents/GitHub/dsg-mhs/\"\n",
    "\n",
    "\"\"\"\n",
    "XML Parsing Function: Get Namespaces\n",
    "\"\"\"\n",
    "def get_namespace(root):\n",
    "    namespace = re.match(r\"{(.*)}\", str(root.tag))\n",
    "    ns = {\"ns\":namespace.group(1)}\n",
    "    return ns"
   ]
  },
  {
   "cell_type": "code",
   "execution_count": 2,
   "metadata": {},
   "outputs": [
    {
     "name": "stdout",
     "output_type": "stream",
     "text": [
      "<Element application at 0x7fe9c8335cc0>\n",
      "CPU times: user 1.23 ms, sys: 807 µs, total: 2.04 ms\n",
      "Wall time: 1.29 ms\n"
     ]
    }
   ],
   "source": [
    "%%time\n",
    "\n",
    "xml_file = open(abs_dir + \"TestEncoding/EditingData/ESR-EDA-1890-03-08 copy.xml\").read()\n",
    "xml_file = xml_file.encode('utf-8')\n",
    "    \n",
    "root = etree.fromstring(xml_file)\n",
    "ns = get_namespace(root)\n",
    "\n",
    "# Create a change element for revisionDesc.\n",
    "# If revisionDesc already exists...\n",
    "revision_desc = root.find('.//ns:teiHeader/ns:revisionDesc', ns)\n",
    "\n",
    "new_change = etree.SubElement(revision_desc, 'change',\n",
    "                              when = str(datetime.datetime.now().strftime(\"%Y-%m-%d\")),\n",
    "                              who = str(spacy.__version__))\n",
    "new_change.text = f\"Entities added by NER ({spacy.__version__}) application.\"\n",
    "# Else, create revisionDesc with SubElement, then change.\n",
    "\n",
    "\n",
    "# Create an application element.\n",
    "app_info = root.find('.//ns:teiHeader//ns:appInfo', ns)\n",
    "\n",
    "ner_app_info = etree.SubElement(app_info, 'application',\n",
    "                                ident = 'ner-helper')\n",
    "\n",
    "# Without saving a variable.\n",
    "etree.SubElement(ner_app_info, 'label').text = 'Ner Helper App'\n",
    "\n",
    "# ...possibly separated from code block above...\n",
    "\"\"\"\n",
    "For row in revisions_df (csv_df)\n",
    "\n",
    "etree.SubElement(ner_app_info, 'ptr', target = f\"ner-{xml-id-in-row}\")\n",
    "\"\"\"\n",
    "\n",
    "print (ner_app_info)"
   ]
  },
  {
   "cell_type": "code",
   "execution_count": 3,
   "metadata": {},
   "outputs": [
    {
     "name": "stdout",
     "output_type": "stream",
     "text": [
      "CPU times: user 352 µs, sys: 53 µs, total: 405 µs\n",
      "Wall time: 315 µs\n"
     ]
    },
    {
     "data": {
      "text/plain": [
       "'<TEI xmlns=\"http://www.tei-c.org/ns/1.0\" xmlns:xs=\"http://www.w3.org/2001/XMLSchema\" xml:id=\"ESR-EDA-1890-03-08\"> <teiHeader> <fileDesc> <titleStmt> <title/> <author/> </titleStmt> <editionStmt> <edition> <date/> </edition> </editionStmt> <publicationStmt> <p>unknown</p> </publicationStmt> <sourceDesc> <p>From a Word document</p> </sourceDesc> </fileDesc> <encodingDesc> <appInfo> <application xml:id=\"docx-to-tei-via-mhs-xslt\" ident=\"TEI_fromDOCX_via_XSLT\" version=\"0.2\"> <label>DOCX to TEI</label> </application> <application ident=\"MHS-WETVAC\" version=\"0.2b\"><label>MHS-WETVAC</label></application> <!-- not actually from WETVAC, transcribed directly from Word to TEI, check with Bill how to mark --> <application ident=\"ner-helper\"><label>Ner Helper App</label></application></appInfo> </encodingDesc> <revisionDesc> <change> <date/> <name/> </change> <change when=\"2021-03-05\" who=\"2.3.2\">Entities added by NER (2.3.2) application.</change></revisionDesc> </teiHeader> <text> <body> <div type=\"doc\" xml:id=\"ESR-EDA-1890-03-08-001\"> <bibl> <date type=\"creation\" when=\"1890-03-08\"/> <author>richards-ellen</author> <recipient>atkinson-edward</recipient> <head>Ellen Swallow Richards to Edward Atkinson</head> <!-- check with OEL & SSS about header --> <editor/> <edition>Ellen Swallow Richards Digital Archive</edition> <name type=\"transcriber\">SSS</name> <date type=\"transcription\" when=\"2020-10-08\"/> <subject>Bread</subject> <subject>Women\\'s Education</subject> </bibl> <div type=\"docbody\"> <opener> <dateline>Boston, March 24, 1894</dateline> <salute>My dear Mr Atkinson</salute> </opener> <p> Certainly, we are now nearly ready to attack the bread question. I had not forgotten it, but I wished to get the thorough good will of everybody without arousing any opposition before we touched such a sore point. You see we must win ardent believers in us in order to get our wares fairly tested. I am often accused by <persRef ref=\"richards-robert\">my husband</persRef> of being very deep in my plans and of not always telling at once what they are. So in this case I stipulated that at first only such things should be made as could not be got elsewhere</p> <p> Again our women must be <pb n=\"2\"/> trained so that they will be exact &amp; careful in their work without too constant supervision. I was afraid you would become impatient but I see quite as much progress as I expected during the first two months. Matters will move more rapidly now. <persRef ref=\"abel-mary\">Mrs Abel</persRef> is winning the confidence of people so that we shall have no difficulty in introducing our wares. There will be a great field for our ovens in Hospital work, already several openings are showing. Just as soon as we can do without our range for heating we will fit up for summer cooking with all that you can suggest.</p> <closer> Very truly<lb/> <signed>Ellen H. Richards</signed></closer> </div> <div type=\"docback\"> <note type=\"source\"> <p>Letter.MIT Letterhead.</p> <p>Massachusetts Historical Society.</p> <p>Edward Atkinson Papers. Ellen Richards Correspondence, 1890&#8211;1901.</p> <p>Condition.</p> </note> </div> </div> <!-- //document --> </body> </text> </TEI> '"
      ]
     },
     "execution_count": 3,
     "metadata": {},
     "output_type": "execute_result"
    }
   ],
   "source": [
    "%%time\n",
    "\n",
    "tree_as_string = etree.tostring(root, pretty_print = True).decode('utf-8')\n",
    "tree_as_string = re.sub('\\s+', ' ', tree_as_string) # remove additional whitespace\n",
    "\n",
    "tree_as_string"
   ]
  },
  {
   "cell_type": "code",
   "execution_count": 4,
   "metadata": {},
   "outputs": [
    {
     "name": "stdout",
     "output_type": "stream",
     "text": [
      "Help on cython_function_or_method in module lxml.etree:\n",
      "\n",
      "SubElement(_parent, _tag, attrib=None, nsmap=None, **_extra)\n",
      "    SubElement(_parent, _tag, attrib=None, nsmap=None, **_extra)\n",
      "    \n",
      "    Subelement factory.  This function creates an element instance, and\n",
      "    appends it to an existing element.\n",
      "\n"
     ]
    }
   ],
   "source": [
    "help(etree.SubElement)"
   ]
  },
  {
   "cell_type": "markdown",
   "metadata": {},
   "source": [
    "## Making revisions with and without IDs + Highlighting Text"
   ]
  },
  {
   "cell_type": "code",
   "execution_count": 5,
   "metadata": {},
   "outputs": [],
   "source": [
    "label_dict = {'PERSON':'persName',\n",
    "                  'LOC':'placeName', # Non-GPE locations, mountain ranges, bodies of water.\n",
    "                  'GPE':'placeName', # Countries, cities, states.\n",
    "                  'FAC':'placeName', # Buildings, airports, highways, bridges, etc.\n",
    "                  'ORG':'orgName', # Companies, agencies, institutions, etc.\n",
    "                  'NORP':'name', # Nationalities or religious or political groups.\n",
    "                  'EVENT':'name', # Named hurricanes, battles, wars, sports events, etc.\n",
    "                  'WORK_OF_ART':'name', # Titles of books, songs, etc.\n",
    "                  'LAW':'name', # Named documents made into laws.\n",
    "                  'DATE':'date' # Absolute or relative dates or periods.\n",
    "                 }\n",
    "\n",
    "def up_convert_encoding(column):\n",
    "#     Regularize spacing & store data as new variable ('converted_encoding').\n",
    "    converted_encoding = re.sub('\\s+', ' ', column, re.MULTILINE)\n",
    "    \n",
    "#     Create regex that replaces spaces with underscores if spaces occur within tags.\n",
    "#     This regex treats tags as a single token later.\n",
    "    tag_regex = re.compile('<(.*?)>')\n",
    "\n",
    "#     Accumulate underscores through iteration\n",
    "    for match in re.findall(tag_regex, column):\n",
    "        replace_space = re.sub('\\s', '_', match)\n",
    "        converted_encoding = re.sub(match, replace_space, converted_encoding)\n",
    "    \n",
    "#     Up-Converstion\n",
    "#     Tokenize encoding and text, appending <w> tags, and re-join.\n",
    "    converted_encoding = converted_encoding.split(' ')\n",
    "    for idx, item in enumerate(converted_encoding):\n",
    "        item = '<w>' + item + '</w>'\n",
    "        converted_encoding[idx] = item\n",
    "    converted_encoding = ' '.join(converted_encoding)\n",
    "    \n",
    "    return converted_encoding\n"
   ]
  },
  {
   "cell_type": "code",
   "execution_count": 6,
   "metadata": {},
   "outputs": [],
   "source": [
    "\n",
    "\"\"\"\n",
    "XML: Remove word tags and clean up\n",
    "\"\"\"\n",
    "def xml_cleanup(encoding):\n",
    "#     Clean up any additional whitespace and remove word tags.\n",
    "    encoding = re.sub('\\s+', ' ', encoding, re.MULTILINE)\n",
    "    encoding = re.sub('<[/]?w>', '', encoding)\n",
    "\n",
    "    encoding = re.sub('_', ' ', encoding) # Remove any remaining underscores in tags.\n",
    "    encoding = re.sub('“', '\"', encoding) # Change quotation marks to correct unicode.\n",
    "    encoding = re.sub('”', '\"', encoding)\n",
    "    \n",
    "    return encoding\n",
    "\n",
    "\n",
    "\n",
    "\"\"\"\n",
    "XML Parsing Function: Suggest New Encoding with Hand Edits\n",
    "\n",
    "Similar to make_ner_suggestions(), this function folds in revision using regular expressions.\n",
    "The outcome is the previous encoding with additional encoded information determined by user input.\n",
    "\n",
    "Expected Columns:\n",
    "    previous_encoding\n",
    "    entities\n",
    "    uniq_id\n",
    "\"\"\"\n",
    "def revise_with_uniq_id(label_dict, uniq_id, \n",
    "                           label, entity, previous_encoding, new_encoding):\n",
    "    \n",
    "    label = label_dict[label]\n",
    "    \n",
    "#     Up convert PREVIOUS ENCODING: assumes encoder will supply new encoding and attribute with value.\n",
    "    converted_encoding = up_convert_encoding(previous_encoding)\n",
    "    converted_entity = ' '.join(['<w>' + e + '</w>' for e in entity.split(' ')])\n",
    "\n",
    "#     If there is a unique id to add & hand edits...\n",
    "    if uniq_id != '':\n",
    "\n",
    "        entity_regex = re.sub('<w>(.*)</w>', '(\\\\1)(.*?</w>)', converted_entity)\n",
    "        entity_match = re.search(entity_regex, converted_encoding)\n",
    "\n",
    "        revised_encoding = re.sub(f'{entity_match.group(0)}',\n",
    "                                  f'<{label} ref=\"{uniq_id}\" type=\"nerHelper-added\">{entity_match.group(1)}</{label}>{entity_match.group(2)}',\n",
    "                                  converted_encoding)\n",
    "        \n",
    "        revised_encoding = xml_cleanup(revised_encoding)\n",
    "        \n",
    "        return revised_encoding\n",
    "\n",
    "    else:\n",
    "        pass\n",
    "\n",
    "    \n",
    "\"\"\"\n",
    "XML Parsing Function: Suggest New Encoding with Hand Edits\n",
    "\n",
    "Similar to make_ner_suggestions(), this function folds in revision using regular expressions.\n",
    "The outcome is the previous encoding with additional encoded information determined by user input.\n",
    "\n",
    "Expected Columns:\n",
    "    previous_encoding\n",
    "    entities\n",
    "    uniq_id\n",
    "\"\"\"\n",
    "def revise_without_uniq_id(label_dict, uniq_id, \n",
    "                           label, entity, previous_encoding, new_encoding):\n",
    "    \n",
    "    label = label_dict[label]\n",
    "    \n",
    "#     Up convert PREVIOUS ENCODING: assumes encoder will supply new encoding and attribute with value.\n",
    "    converted_encoding = up_convert_encoding(previous_encoding)\n",
    "    converted_entity = ' '.join(['<w>' + e + '</w>' for e in entity.split(' ')])\n",
    "\n",
    "#     If there is a unique id to add & hand edits...\n",
    "    if uniq_id == '':\n",
    "\n",
    "        entity_regex = re.sub('<w>(.*)</w>', '(\\\\1)(.*?</w>)', converted_entity)\n",
    "        entity_match = re.search(entity_regex, converted_encoding)\n",
    "\n",
    "        revised_encoding = re.sub(f'{entity_match.group(0)}',\n",
    "                                  f'<{label} type=\"nerHelper-added\">{entity_match.group(1)}</{label}>{entity_match.group(2)}',\n",
    "                                  converted_encoding)\n",
    "        \n",
    "        revised_encoding = xml_cleanup(revised_encoding)\n",
    "        \n",
    "        return revised_encoding\n",
    "\n",
    "    else:\n",
    "        pass\n",
    "    \n",
    "    "
   ]
  },
  {
   "cell_type": "code",
   "execution_count": 8,
   "metadata": {},
   "outputs": [
    {
     "data": {
      "text/plain": [
       "'<p xmlns=\"http://www.tei-c.org/ns/1.0\" xmlns:mhs=\"http://www.masshist.org/ns/1.0\" xmlns:tei=\"http://www.tei-c.org/ns/1.0\"><date>1 V:15.</date> Tuesday. <persName ref=\"schoolfied01\" type=\"nerHelper-added\">W. A. Schoolfield</persName> at the Office. About Slaves. Weekly tea-party resumed. I send you a list of the stockholders of the Bank of the U. States &#8211; foreign and domestic and am very sorry that I <unclear cert=\"low\">suffered</unclear> the promise I made to you in Baltimore to escape from my mind until it was brought back by your letter &#8211; my apology is the pressure of many engagements &#8211; and I hope the delay has not produced inconvenience. I am often accused by <persRef ref=\"richards-robert\">my husband</persRef> of being very deep in my plans and of not always telling at once what they are. <persRef ref=\"abel-mary\">Mrs Abel</persRef> is winning the confidence of people so that we shall have no difficulty in introducing our wares.</p>\\n'"
      ]
     },
     "execution_count": 8,
     "metadata": {},
     "output_type": "execute_result"
    }
   ],
   "source": [
    "previous_encoding = \"\"\"<p xmlns=\"http://www.tei-c.org/ns/1.0\" xmlns:mhs=\"http://www.masshist.org/ns/1.0\" xmlns:tei=\"http://www.tei-c.org/ns/1.0\"><date>1 V:15.</date> Tuesday. W. A. Schoolfield at the Office. About Slaves. Weekly tea-party resumed. I send you a list of the stockholders of the Bank of the U. States &#8211; foreign and domestic and am very sorry that I <unclear cert=\"low\">suffered</unclear> the promise I made to you in Baltimore to escape from my mind until it was brought back by your letter &#8211; my apology is the pressure of many engagements &#8211; and I hope the delay has not produced inconvenience. I am often accused by <persRef ref=\"richards-robert\">my husband</persRef> of being very deep in my plans and of not always telling at once what they are. <persRef ref=\"abel-mary\">Mrs Abel</persRef> is winning the confidence of people so that we shall have no difficulty in introducing our wares.</p>\n",
    "\"\"\"\n",
    "\n",
    "new_encoding = \"\"\"<p xmlns=\"http://www.tei-c.org/ns/1.0\" xmlns:mhs=\"http://www.masshist.org/ns/1.0\" xmlns:tei=\"http://www.tei-c.org/ns/1.0\"><date>1 V:15.</date> Tuesday. <persName>W. A. Schoolfield</persName> at the Office. About Slaves. Weekly tea-party resumed. I send you a list of the stockholders of the Bank of the U. States &#8211; foreign and domestic and am very sorry that I <unclear cert=\"low\">suffered</unclear> the promise I made to you in Baltimore to escape from my mind until it was brought back by your letter &#8211; my apology is the pressure of many engagements &#8211; and I hope the delay has not produced inconvenience. I am often accused by <persRef ref=\"richards-robert\">my husband</persRef> of being very deep in my plans and of not always telling at once what they are. <persRef ref=\"abel-mary\">Mrs Abel</persRef> is winning the confidence of people so that we shall have no difficulty in introducing our wares.</p>\n",
    "\"\"\"\n",
    "\n",
    "entity = 'W. A. Schoolfield'\n",
    "\n",
    "label = 'PERSON'\n",
    "\n",
    "xml_id = \"schoolfied01\"\n",
    "# xml_id = ''\n",
    "\n",
    "revised_encoding = revise_with_uniq_id(label_dict, xml_id, label, entity, previous_encoding, new_encoding)\n",
    "\n",
    "# revised_encoding = revise_without_uniq_id(label_dict, xml_id, label, entity, previous_encoding, new_encoding)\n",
    "\n",
    "revised_encoding"
   ]
  },
  {
   "cell_type": "code",
   "execution_count": 19,
   "metadata": {},
   "outputs": [
    {
     "data": {
      "text/plain": [
       "['1 V:15. Tuesday. ',\n",
       " 'W. A. Schoolfield',\n",
       " ' at the Office. About Slaves. Weekly tea-party resumed. I send you a list of the stockholders of the Bank of the U. States – foreign and domestic and am very sorry that I suffered the promise I made to you in Baltimore to escape from my mind until it was brought back by your letter – my apology is the pressure of many engagements – and I hope the delay has not produced inconvenience. I am often accused by my husband of being very deep in my plans and of not always telling at once what they are. Mrs Abel is winning the confidence of people so that we shall have no difficulty in introducing our wares.']"
      ]
     },
     "execution_count": 19,
     "metadata": {},
     "output_type": "execute_result"
    }
   ],
   "source": [
    "\n",
    "# html.P(['This is a text', html.Mark('with a keyword highlighted'), 'Does it work?']),\n",
    "\n",
    "\"\"\"\n",
    "Reading Pane: Highlight Found Entity\n",
    "\"\"\"\n",
    "def highlighter(previous_encoding, entity):\n",
    "    highlighted_text = etree.fromstring(previous_encoding)\n",
    "    highlighted_text = etree.tostring(highlighted_text, method = 'text', encoding = 'utf-8').decode('utf-8')\n",
    "    \n",
    "    entity_match = re.search(f'(.*)({entity})(.*)', highlighted_text)\n",
    "    \n",
    "    highlighted_text = [entity_match.group(1), entity_match.group(2), entity_match.group(3)]\n",
    "    \n",
    "    return highlighted_text\n",
    "\n",
    "highlighted_text = highlighter(previous_encoding, entity)\n",
    "\n",
    "highlighted_text"
   ]
  },
  {
   "cell_type": "code",
   "execution_count": 10,
   "metadata": {},
   "outputs": [
    {
     "data": {
      "text/plain": [
       "bytes"
      ]
     },
     "execution_count": 10,
     "metadata": {},
     "output_type": "execute_result"
    }
   ],
   "source": [
    "highlighted_text = etree.fromstring(previous_encoding)\n",
    "highlighted_text = etree.tostring(highlighted_text, method = 'text', encoding = 'utf-8')\n",
    "\n",
    "type(highlighted_text)"
   ]
  },
  {
   "cell_type": "markdown",
   "metadata": {},
   "source": [
    "## Capturing XML Schema Info"
   ]
  },
  {
   "cell_type": "code",
   "execution_count": 38,
   "metadata": {},
   "outputs": [
    {
     "data": {
      "text/plain": [
       "'<?xml version=\"1.0\" encoding=\"UTF-8\"?> <?xml-model href=\"http://www.primarysourcecoop.org/publications/pub/schema/primarysourcecoop.rng\" type=\"application/xml\" schematypens=\"http://relaxng.org/ns/structure/1.0\"?>'"
      ]
     },
     "execution_count": 38,
     "metadata": {},
     "output_type": "execute_result"
    }
   ],
   "source": [
    "xml_file = open(abs_dir + \"TestEncoding/EditingData/ESR-EDA-1890-03-08 copy.xml\").read()\n",
    "xml_file = xml_file.encode('utf-8').decode('utf-8')\n",
    "\n",
    "xml_file = re.sub('\\s+', ' ', xml_file)\n",
    "\n",
    "schema_match = re.search('(<?.*)(<TEI.*)', xml_file)\n",
    "schema_match.group(1)"
   ]
  },
  {
   "cell_type": "code",
   "execution_count": 33,
   "metadata": {},
   "outputs": [
    {
     "data": {
      "text/plain": [
       "'<?xml version=\"1.0\" encoding=\"UTF-8\"?><?xml-model href=\"http://www.primarysourcecoop.org/publications/pub/schema/primarysourcecoop.rng\" type=\"application/xml\" schematypens=\"http://relaxng.org/ns/structure/1.0\"?><TEI xmlns=\"http://www.tei-c.org/ns/1.0\" xmlns:xs=\"http://www.w3.org/2001/XMLSchema\" xml:id=\"ESR-EDA-1890-03-08\"><teiHeader><fileDesc><titleStmt><title/><author/></titleStmt><editionStmt><edition><date/></edition></editionStmt><publicationStmt><p>unknown</p></publicationStmt><sourceDesc><p>From a Word document</p></sourceDesc></fileDesc><encodingDesc><appInfo><application xml:id=\"docx-to-tei-via-mhs-xslt\" ident=\"TEI_fromDOCX_via_XSLT\" version=\"0.2\"><label>DOCX to TEI</label></application><application ident=\"MHS-WETVAC\" version=\"0.2b\"><label>MHS-WETVAC</label></application><!-- not actually from WETVAC, transcribed directly from Word to TEI, check with Bill how to mark --></appInfo></encodingDesc><revisionDesc><change><date/><name/></change></revisionDesc></teiHeader><text><body><div type=\"doc\" xml:id=\"ESR-EDA-1890-03-08-001\"><bibl><date type=\"creation\" when=\"1890-03-08\"/><author>richards-ellen</author><recipient>atkinson-edward</recipient><head>Ellen Swallow Richards to Edward Atkinson</head><!-- check with OEL & SSS about header --><editor></editor><edition>Ellen Swallow Richards Digital Archive</edition><name type=\"transcriber\">SSS</name><date type=\"transcription\" when=\"2020-10-08\"/><subject>Bread</subject><subject>Women\\'s Education</subject></bibl><div type=\"docbody\"><opener><dateline>Boston, March 24, 1894</dateline><salute>My dear Mr Atkinson</salute></opener><p> Certainly, we are now nearly ready to attack the bread question. I had not forgotten it, but I wished to get the thorough good will of everybody without arousing any opposition before we touched such a sore point. You see we must win ardent believers in us in order to get our wares fairly tested. I am often accused by <persRef ref=\"richards-robert\">my husband</persRef> of being very deep in my plans and of not always telling at once what they are. So in this case I stipulated that at first only such things should be made as could not be got elsewhere</p><p> Again our women must be <pb n=\"2\"/> trained so that they will be exact &amp; careful in their work without too constant supervision. I was afraid you would become impatient but I see quite as much progress as I expected during the first two months. Matters will move more rapidly now. <persRef ref=\"abel-mary\">Mrs Abel</persRef> is winning the confidence of people so that we shall have no difficulty in introducing our wares. There will be a great field for our ovens in Hospital work, already several openings are showing. Just as soon as we can do without our range for heating we will fit up for summer cooking with all that you can suggest.</p><closer> Very truly<lb/><signed>Ellen H. Richards</signed></closer></div><div type=\"docback\"><note type=\"source\"><p>Letter.MIT Letterhead.</p><p>Massachusetts Historical Society.</p><p>Edward Atkinson Papers. Ellen Richards Correspondence, 1890–1901.</p><p>Condition.</p></note></div></div><!-- //document --></body></text></TEI> '"
      ]
     },
     "execution_count": 33,
     "metadata": {},
     "output_type": "execute_result"
    }
   ],
   "source": [
    "\"\"\"\n",
    "XML: Write Schema Information before Root\n",
    "Input: \n",
    "    - Revised XML document (return variable from revise_xml())\n",
    "    - XML File with Original Encoding\n",
    "\"\"\"\n",
    "def write_schema_information(xml_contents, final_revision):\n",
    "    xml_contents = re.sub('\\s+', ' ', xml_contents)\n",
    "    schema_match = re.search('(<?.*)(<TEI.*)', xml_file)\n",
    "    schema_match = schema_match.group(1)\n",
    "    \n",
    "    "
   ]
  },
  {
   "cell_type": "code",
   "execution_count": 39,
   "metadata": {},
   "outputs": [
    {
     "data": {
      "text/plain": [
       "'a b'"
      ]
     },
     "execution_count": 39,
     "metadata": {},
     "output_type": "execute_result"
    }
   ],
   "source": [
    "'a' + ' b'"
   ]
  },
  {
   "cell_type": "code",
   "execution_count": null,
   "metadata": {},
   "outputs": [],
   "source": []
  }
 ],
 "metadata": {
  "kernelspec": {
   "display_name": "Python 3",
   "language": "python",
   "name": "python3"
  },
  "language_info": {
   "codemirror_mode": {
    "name": "ipython",
    "version": 3
   },
   "file_extension": ".py",
   "mimetype": "text/x-python",
   "name": "python",
   "nbconvert_exporter": "python",
   "pygments_lexer": "ipython3",
   "version": "3.8.5"
  }
 },
 "nbformat": 4,
 "nbformat_minor": 4
}
