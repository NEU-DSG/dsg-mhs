{
 "cells": [
  {
   "cell_type": "markdown",
   "id": "virgin-adult",
   "metadata": {},
   "source": [
    "# MHS-Word2Vec Dashboard"
   ]
  },
  {
   "cell_type": "code",
   "execution_count": 13,
   "id": "moderate-magnet",
   "metadata": {},
   "outputs": [],
   "source": [
    "import re, json, warnings, gensim\n",
    "import pandas as pd\n",
    "import numpy as np\n",
    "\n",
    "# Primary visualizations\n",
    "import matplotlib.pyplot as plt\n",
    "import matplotlib\n",
    "from matplotlib.patches import Patch\n",
    "from matplotlib.lines import Line2D\n",
    "import seaborn as sns\n",
    "\n",
    "# PCA visualization\n",
    "from scipy.spatial.distance import cosine\n",
    "from sklearn.metrics import pairwise\n",
    "from sklearn.manifold import MDS, TSNE\n",
    "from mpl_toolkits.mplot3d import Axes3D\n",
    "from sklearn.decomposition import PCA\n",
    "\n",
    "# Import (Jupyter) Dash -- App Functionality\n",
    "import dash\n",
    "from dash.dependencies import Input, Output, State\n",
    "import dash_table\n",
    "import dash_core_components as dcc\n",
    "import dash_html_components as html\n",
    "from jupyter_dash import JupyterDash\n",
    "\n",
    "# Ignore simple warnings.\n",
    "warnings.simplefilter('ignore', DeprecationWarning)\n",
    "\n",
    "# Declare directory location to shorten filepaths later.\n",
    "abs_dir = \"/Users/quinn.wi/Documents/\"\n",
    "\n",
    "# Load model.\n",
    "model = gensim.models.KeyedVectors.load_word2vec_format(abs_dir + 'Data/Output/WordVectors/jqa_w2v.txt')"
   ]
  },
  {
   "cell_type": "markdown",
   "id": "directed-source",
   "metadata": {},
   "source": [
    "## Functions"
   ]
  },
  {
   "cell_type": "code",
   "execution_count": 4,
   "id": "statistical-warren",
   "metadata": {},
   "outputs": [
    {
     "name": "stdout",
     "output_type": "stream",
     "text": [
      "CPU times: user 5 µs, sys: 0 ns, total: 5 µs\n",
      "Wall time: 7.87 µs\n"
     ]
    }
   ],
   "source": [
    "%%time\n",
    "\n",
    "# https://www.kaggle.com/pierremegret/gensim-word2vec-tutorial\n",
    "def tsnescatterplot(model, word, list_names):\n",
    "    \"\"\"\n",
    "    Plot in seaborn the results from the t-SNE dimensionality reduction algorithm of the vectors of a query word,\n",
    "    its list of most similar words, and a list of words.\n",
    "    \"\"\"\n",
    "    \n",
    "    arrays = np.empty((0, 100), dtype='f') # 100 == vector size when model was created.\n",
    "    word_labels = [word]\n",
    "    color_list  = ['red']\n",
    "\n",
    "    # adds the vector of the query word\n",
    "    arrays = np.append(arrays, model.__getitem__([word]), axis=0)\n",
    "    \n",
    "    # gets list of most similar words\n",
    "    close_words = model.most_similar([word])\n",
    "    \n",
    "    # adds the vector for each of the closest words to the array\n",
    "    for wrd_score in close_words:        \n",
    "        wrd_vector = model.__getitem__([wrd_score[0]])\n",
    "        word_labels.append(wrd_score[0])\n",
    "        color_list.append('blue')\n",
    "        arrays = np.append(arrays, wrd_vector, axis=0)\n",
    "    \n",
    "    # adds the vector for each of the words from list_names to the array\n",
    "    for wrd in list_names:\n",
    "        wrd_vector = model.__getitem__([wrd[0]])\n",
    "        word_labels.append(wrd[0])\n",
    "        color_list.append('green')\n",
    "        arrays = np.append(arrays, wrd_vector, axis=0)\n",
    "        \n",
    "    # Reduces the dimensionality from 300 to x dimensions with PCA; error will arise if x is too large.\n",
    "    reduc = PCA(n_components=41).fit_transform(arrays)\n",
    "    \n",
    "    # Finds t-SNE coordinates for 2 dimensions\n",
    "    np.set_printoptions(suppress=True)\n",
    "    \n",
    "    Y = TSNE(n_components=2, random_state=0, perplexity=15).fit_transform(reduc)\n",
    "    \n",
    "    \n",
    "    # Sets everything up to plot\n",
    "    df = pd.DataFrame({'x': [x for x in Y[:, 0]],\n",
    "                       'y': [y for y in Y[:, 1]],\n",
    "                       'words': word_labels,\n",
    "                       'color': color_list})\n",
    "    \n",
    "    fig, _ = plt.subplots()\n",
    "#     fig.set_size_inches(9, 9)\n",
    "    \n",
    "    # Basic plot\n",
    "    p1 = sns.regplot(data=df,\n",
    "                     x=\"x\",\n",
    "                     y=\"y\",\n",
    "                     fit_reg=False,\n",
    "                     marker=\"o\",\n",
    "                     scatter_kws={'s': 40,\n",
    "                                  'facecolors': df['color']\n",
    "                                 }\n",
    "                    )\n",
    "            \n",
    "    plt.xticks([])\n",
    "    plt.yticks([])\n",
    "    plt.xlabel(\"\")\n",
    "    plt.ylabel(\"\")\n",
    "\n",
    "\n",
    "    # add annotations one by one with a loop\n",
    "    for line in range(0, df.shape[0]):\n",
    "         p1.text(df['x'][line], \n",
    "                  df['y'][line], \n",
    "                  ' ' + df['words'][line].title(),\n",
    "                  horizontalalignment = 'center', \n",
    "                 verticalalignment = 'bottom',\n",
    "                  size = 'small', \n",
    "                  color = 'gray', \n",
    "                  weight = 'normal')\n",
    "\n",
    "    \n",
    "    plt.xlim(Y[:, 0].min()-50, Y[:, 0].max()+50)\n",
    "    plt.ylim(Y[:, 1].min()-50, Y[:, 1].max()+50)\n",
    "            \n",
    "    plt.title('t-SNE visualization for {}'.format(word.title()))"
   ]
  },
  {
   "cell_type": "markdown",
   "id": "interesting-publication",
   "metadata": {},
   "source": [
    "## App"
   ]
  },
  {
   "cell_type": "code",
   "execution_count": 15,
   "id": "periodic-camcorder",
   "metadata": {},
   "outputs": [
    {
     "name": "stdout",
     "output_type": "stream",
     "text": [
      "Dash app running on http://127.0.0.1:8050/\n",
      "CPU times: user 60 ms, sys: 56.1 ms, total: 116 ms\n",
      "Wall time: 328 ms\n"
     ]
    },
    {
     "data": {
      "text/plain": [
       "<Figure size 1800x864 with 0 Axes>"
      ]
     },
     "metadata": {},
     "output_type": "display_data"
    }
   ],
   "source": [
    "%%time\n",
    "\n",
    "# App configurations\n",
    "app = JupyterDash(__name__) \n",
    "app.config.suppress_callback_exceptions = True\n",
    "\n",
    "# Plot configurations.\n",
    "sns.set_style(\"whitegrid\", {'axes.grid' : False})\n",
    "font = {'family' : 'serif',\n",
    "        'weight' : 'normal',\n",
    "        'size'   : 18}\n",
    "matplotlib.rc('font', **font)\n",
    "palette = sns.color_palette(\"Set1\", 4)\n",
    "plt.figure(figsize=(25, 12))\n",
    "\n",
    "\n",
    "# Layout.\n",
    "app.layout = html.Div(\n",
    "    className = 'wrapper',\n",
    "    children = [\n",
    "        \n",
    "#             app-header\n",
    "        html.Header(\n",
    "            className=\"app-header\",\n",
    "            children = [\n",
    "                html.Div('Word2Vec Dashboard', className = \"app-header--title\")\n",
    "            ]),\n",
    "        \n",
    "#         content-wrapper\n",
    "        html.Div(\n",
    "            className = 'content-wrapper',\n",
    "            children = [\n",
    "                dcc.Input(id = 'text', type = 'text', placeholder = 'work'),\n",
    "#                 dcc.Slider(id = 'slider', min = 5, max = 35, step = 1, value = 20),\n",
    "                dcc.Graph(id = 'text-plot')\n",
    "            ])\n",
    "])\n",
    "\n",
    "\n",
    "###########################\n",
    "\n",
    "######### Callbacks #######\n",
    "\n",
    "###########################\n",
    "\n",
    "\n",
    "@app.callback(\n",
    "    Output('text-plot', 'children'),\n",
    "    Input('text', 'text_value'),\n",
    "#     State('slider', 'slider_value')\n",
    ")\n",
    "def update_textPlot(text_value):\n",
    "    fig = tsnescatterplot(model, text_value, model.most_similar([text_value], topn = 25))\n",
    "    return fig\n",
    "\n",
    "\n",
    "if __name__ == \"__main__\":\n",
    "#     app.run_server(mode = 'inline', debug = True) # mode = 'inline' for JupyterDash\n",
    "    app.run_server(debug = True)"
   ]
  },
  {
   "cell_type": "code",
   "execution_count": null,
   "id": "passive-fossil",
   "metadata": {},
   "outputs": [],
   "source": []
  }
 ],
 "metadata": {
  "kernelspec": {
   "display_name": "Python 3",
   "language": "python",
   "name": "python3"
  },
  "language_info": {
   "codemirror_mode": {
    "name": "ipython",
    "version": 3
   },
   "file_extension": ".py",
   "mimetype": "text/x-python",
   "name": "python",
   "nbconvert_exporter": "python",
   "pygments_lexer": "ipython3",
   "version": "3.8.5"
  }
 },
 "nbformat": 4,
 "nbformat_minor": 5
}
