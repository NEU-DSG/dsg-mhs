{
 "cells": [
  {
   "cell_type": "markdown",
   "metadata": {},
   "source": [
    "# Network Interface: HoloViz\n",
    "\n",
    "https://blog.datasciencedojo.com/network-theory-game-of-thrones/\n",
    "\n",
    "http://holoviews.org/user_guide/Style_Mapping.html\n",
    "\n",
    "https://datashader.org/user_guide/Networks.html"
   ]
  },
  {
   "cell_type": "code",
   "execution_count": 144,
   "metadata": {},
   "outputs": [
    {
     "name": "stdout",
     "output_type": "stream",
     "text": [
      "Before filtering:\n",
      "Name: \n",
      "Type: Graph\n",
      "Number of nodes: 5930\n",
      "Number of edges: 85433\n",
      "Average degree:  28.8138\n",
      "\n",
      "After filtering:\n",
      "Name: \n",
      "Type: Graph\n",
      "Number of nodes: 61\n",
      "Number of edges: 1705\n",
      "Average degree:  55.9016\n"
     ]
    }
   ],
   "source": [
    "import re, json\n",
    "import pandas as pd\n",
    "import numpy as np\n",
    "import networkx as nx\n",
    "from networkx.readwrite import json_graph\n",
    "import matplotlib.pyplot as plt\n",
    "\n",
    "# HoloViews\n",
    "import hvplot.networkx as hvnx\n",
    "import holoviews as hv\n",
    "import holoviews.operation.datashader as hd\n",
    "import panel as pn\n",
    "\n",
    "# Datashader\n",
    "import datashader as ds\n",
    "import datashader.transfer_functions as tf\n",
    "from datashader.layout import random_layout, circular_layout, forceatlas2_layout\n",
    "from datashader.bundling import connect_edges, hammer_bundle\n",
    "\n",
    "# Declare directory location to shorten filepaths later.\n",
    "abs_dir = \"/Users/quinn.wi/Documents/SemanticData/\"\n",
    "\n",
    "with open(abs_dir + \"Output/Graphs/JQA_Network_mergedEntities-correlation/network.json\", \"r\") as f:\n",
    "# with open(abs_dir + \"Output/Graphs/JQA_Network_correlation/coRef-network.json\", \"r\") as f:\n",
    "    G = json.load(f)\n",
    "    \n",
    "G = json_graph.node_link_graph(G, directed = True)\n",
    "print (f\"Before filtering:\\n{nx.info(G)}\\n\")\n",
    "\n",
    "# Remove nodes with less than 1 degree (connection).\n",
    "remove_nodes = [node for node, degree in dict(G.degree()).items() if degree <= 165]\n",
    "G.remove_nodes_from(remove_nodes)\n",
    "\n",
    "# # Remove edges by edge weight.\n",
    "# remove_edges = [(u, v) for (u, v, d) in G.edges(data = True) if d['weight'] < 0.95]\n",
    "# G.remove_edges_from(remove_edges)\n",
    "\n",
    "# remove_edges = []\n",
    "# for node in G.nodes():\n",
    "# # for node in remove_nodes:\n",
    "#     edges = G.edges(node, data=True)\n",
    "#     if len(edges) > 0: #some nodes have zero edges going into it\n",
    "#         for edge in edges:\n",
    "#             if edge[2]['weight'] <= 0.8:\n",
    "#                 remove_edges.append(edge)\n",
    "\n",
    "# G.remove_edges_from(remove_edges)\n",
    "\n",
    "print (f\"After filtering:\\n{nx.info(F)}\")"
   ]
  },
  {
   "cell_type": "markdown",
   "metadata": {},
   "source": [
    "## Visualizations\n",
    "\n",
    "#### HoloViz"
   ]
  },
  {
   "cell_type": "code",
   "execution_count": 145,
   "metadata": {},
   "outputs": [
    {
     "name": "stdout",
     "output_type": "stream",
     "text": [
      "CPU times: user 15.8 ms, sys: 700 µs, total: 16.5 ms\n",
      "Wall time: 16.3 ms\n"
     ]
    },
    {
     "data": {},
     "metadata": {},
     "output_type": "display_data"
    },
    {
     "data": {
      "application/vnd.holoviews_exec.v0+json": "",
      "text/html": [
       "<div id='7809'>\n",
       "\n",
       "\n",
       "\n",
       "\n",
       "\n",
       "  <div class=\"bk-root\" id=\"c101f66e-eda9-4a1d-a410-addbef32a142\" data-root-id=\"7809\"></div>\n",
       "</div>\n",
       "<script type=\"application/javascript\">(function(root) {\n",
       "  function embed_document(root) {\n",
       "  var docs_json = {\"d7e7a98f-2212-450b-84ca-4c373f33b978\":{\"roots\":{\"references\":[{\"attributes\":{},\"id\":\"7873\",\"type\":\"BasicTickFormatter\"},{\"attributes\":{\"axis_label\":\"y\",\"bounds\":\"auto\",\"formatter\":{\"id\":\"7875\"},\"major_label_orientation\":\"horizontal\",\"ticker\":{\"id\":\"7828\"},\"visible\":false},\"id\":\"7827\",\"type\":\"LinearAxis\"},{\"attributes\":{\"graph_layout\":{\"0\":[3.698951046671897,2.7884382483608734],\"1\":[-3.3290710619270514,-2.9100009410523917],\"10\":[-5.7621456147874115,3.011015635819297],\"2\":[2.98373073266869,-3.3483876529222956],\"3\":[6.565006792913224,-5.723466261067099],\"4\":[0.0022175631486062173,-0.6833036264792504],\"5\":[4.5857936556632355,-0.2605328827030199],\"6\":[0.4599666854440444,2.6676502644508115],\"7\":[10.492017530849482,-0.830997534798547],\"8\":[-20.0,10.079727486468489],\"9\":[0.3035326693552832,-4.790142736076851]}},\"id\":\"7849\",\"type\":\"StaticLayoutProvider\"},{\"attributes\":{\"callback\":null},\"id\":\"7836\",\"type\":\"TapTool\"},{\"attributes\":{\"end\":12.899282072758652,\"reset_end\":12.899282072758652,\"reset_start\":-22.40726454190917,\"start\":-22.40726454190917,\"tags\":[[[\"x\",\"x\",null]]]},\"id\":\"7811\",\"type\":\"Range1d\"},{\"attributes\":{},\"id\":\"7819\",\"type\":\"LinearScale\"},{\"attributes\":{\"axis_label\":\"x\",\"bounds\":\"auto\",\"formatter\":{\"id\":\"7873\"},\"major_label_orientation\":\"horizontal\",\"ticker\":{\"id\":\"7824\"},\"visible\":false},\"id\":\"7823\",\"type\":\"LinearAxis\"},{\"attributes\":{},\"id\":\"7828\",\"type\":\"BasicTicker\"},{\"attributes\":{\"fill_alpha\":{\"value\":0.4},\"fill_color\":{\"field\":\"node_fill_color\",\"transform\":{\"id\":\"7846\"}},\"line_alpha\":{\"value\":0.4},\"line_width\":{\"value\":2},\"size\":{\"field\":\"node_size\",\"units\":\"screen\"}},\"id\":\"7850\",\"type\":\"Circle\"},{\"attributes\":{\"text\":\"\",\"text_color\":{\"value\":\"black\"},\"text_font_size\":{\"value\":\"12pt\"}},\"id\":\"7815\",\"type\":\"Title\"},{\"attributes\":{\"axis\":{\"id\":\"7823\"},\"grid_line_color\":null,\"ticker\":null},\"id\":\"7826\",\"type\":\"Grid\"},{\"attributes\":{\"data_source\":{\"id\":\"7848\"},\"glyph\":{\"id\":\"7855\"},\"hover_glyph\":{\"id\":\"7857\"},\"muted_glyph\":null,\"nonselection_glyph\":{\"id\":\"7856\"},\"selection_glyph\":null,\"view\":{\"id\":\"7859\"}},\"id\":\"7858\",\"type\":\"GlyphRenderer\"},{\"attributes\":{},\"id\":\"7869\",\"type\":\"NodesAndLinkedEdges\"},{\"attributes\":{},\"id\":\"7886\",\"type\":\"Selection\"},{\"attributes\":{\"children\":[{\"id\":\"7810\"},{\"id\":\"7814\"},{\"id\":\"7887\"}],\"margin\":[0,0,0,0],\"name\":\"Row1198977\",\"tags\":[\"embedded\"]},\"id\":\"7809\",\"type\":\"Row\"},{\"attributes\":{\"active_drag\":\"auto\",\"active_inspect\":\"auto\",\"active_multi\":null,\"active_scroll\":\"auto\",\"active_tap\":\"auto\",\"tools\":[{\"id\":\"7813\"},{\"id\":\"7831\"},{\"id\":\"7832\"},{\"id\":\"7833\"},{\"id\":\"7834\"},{\"id\":\"7835\"},{\"id\":\"7836\"}]},\"id\":\"7838\",\"type\":\"Toolbar\"},{\"attributes\":{\"end\":11.660046861222048,\"reset_end\":11.660046861222048,\"reset_start\":-7.303785635820658,\"start\":-7.303785635820658,\"tags\":[[[\"y\",\"y\",null]]]},\"id\":\"7812\",\"type\":\"Range1d\"},{\"attributes\":{\"axis\":{\"id\":\"7827\"},\"dimension\":1,\"grid_line_color\":null,\"ticker\":null},\"id\":\"7830\",\"type\":\"Grid\"},{\"attributes\":{},\"id\":\"7831\",\"type\":\"SaveTool\"},{\"attributes\":{},\"id\":\"7821\",\"type\":\"LinearScale\"},{\"attributes\":{},\"id\":\"7883\",\"type\":\"UnionRenderers\"},{\"attributes\":{\"high\":14,\"low\":0,\"palette\":[\"#440154\",\"#440255\",\"#440357\",\"#450558\",\"#45065a\",\"#45085b\",\"#46095c\",\"#460b5e\",\"#460c5f\",\"#460e61\",\"#470f62\",\"#471163\",\"#471265\",\"#471466\",\"#471567\",\"#471669\",\"#47186a\",\"#48196b\",\"#481a6c\",\"#481c6e\",\"#481d6f\",\"#481e70\",\"#482071\",\"#482172\",\"#482273\",\"#482374\",\"#472575\",\"#472676\",\"#472777\",\"#472878\",\"#472a79\",\"#472b7a\",\"#472c7b\",\"#462d7c\",\"#462f7c\",\"#46307d\",\"#46317e\",\"#45327f\",\"#45347f\",\"#453580\",\"#453681\",\"#443781\",\"#443982\",\"#433a83\",\"#433b83\",\"#433c84\",\"#423d84\",\"#423e85\",\"#424085\",\"#414186\",\"#414286\",\"#404387\",\"#404487\",\"#3f4587\",\"#3f4788\",\"#3e4888\",\"#3e4989\",\"#3d4a89\",\"#3d4b89\",\"#3d4c89\",\"#3c4d8a\",\"#3c4e8a\",\"#3b508a\",\"#3b518a\",\"#3a528b\",\"#3a538b\",\"#39548b\",\"#39558b\",\"#38568b\",\"#38578c\",\"#37588c\",\"#37598c\",\"#365a8c\",\"#365b8c\",\"#355c8c\",\"#355d8c\",\"#345e8d\",\"#345f8d\",\"#33608d\",\"#33618d\",\"#32628d\",\"#32638d\",\"#31648d\",\"#31658d\",\"#31668d\",\"#30678d\",\"#30688d\",\"#2f698d\",\"#2f6a8d\",\"#2e6b8e\",\"#2e6c8e\",\"#2e6d8e\",\"#2d6e8e\",\"#2d6f8e\",\"#2c708e\",\"#2c718e\",\"#2c728e\",\"#2b738e\",\"#2b748e\",\"#2a758e\",\"#2a768e\",\"#2a778e\",\"#29788e\",\"#29798e\",\"#287a8e\",\"#287a8e\",\"#287b8e\",\"#277c8e\",\"#277d8e\",\"#277e8e\",\"#267f8e\",\"#26808e\",\"#26818e\",\"#25828e\",\"#25838d\",\"#24848d\",\"#24858d\",\"#24868d\",\"#23878d\",\"#23888d\",\"#23898d\",\"#22898d\",\"#228a8d\",\"#228b8d\",\"#218c8d\",\"#218d8c\",\"#218e8c\",\"#208f8c\",\"#20908c\",\"#20918c\",\"#1f928c\",\"#1f938b\",\"#1f948b\",\"#1f958b\",\"#1f968b\",\"#1e978a\",\"#1e988a\",\"#1e998a\",\"#1e998a\",\"#1e9a89\",\"#1e9b89\",\"#1e9c89\",\"#1e9d88\",\"#1e9e88\",\"#1e9f88\",\"#1ea087\",\"#1fa187\",\"#1fa286\",\"#1fa386\",\"#20a485\",\"#20a585\",\"#21a685\",\"#21a784\",\"#22a784\",\"#23a883\",\"#23a982\",\"#24aa82\",\"#25ab81\",\"#26ac81\",\"#27ad80\",\"#28ae7f\",\"#29af7f\",\"#2ab07e\",\"#2bb17d\",\"#2cb17d\",\"#2eb27c\",\"#2fb37b\",\"#30b47a\",\"#32b57a\",\"#33b679\",\"#35b778\",\"#36b877\",\"#38b976\",\"#39b976\",\"#3bba75\",\"#3dbb74\",\"#3ebc73\",\"#40bd72\",\"#42be71\",\"#44be70\",\"#45bf6f\",\"#47c06e\",\"#49c16d\",\"#4bc26c\",\"#4dc26b\",\"#4fc369\",\"#51c468\",\"#53c567\",\"#55c666\",\"#57c665\",\"#59c764\",\"#5bc862\",\"#5ec961\",\"#60c960\",\"#62ca5f\",\"#64cb5d\",\"#67cc5c\",\"#69cc5b\",\"#6bcd59\",\"#6dce58\",\"#70ce56\",\"#72cf55\",\"#74d054\",\"#77d052\",\"#79d151\",\"#7cd24f\",\"#7ed24e\",\"#81d34c\",\"#83d34b\",\"#86d449\",\"#88d547\",\"#8bd546\",\"#8dd644\",\"#90d643\",\"#92d741\",\"#95d73f\",\"#97d83e\",\"#9ad83c\",\"#9dd93a\",\"#9fd938\",\"#a2da37\",\"#a5da35\",\"#a7db33\",\"#aadb32\",\"#addc30\",\"#afdc2e\",\"#b2dd2c\",\"#b5dd2b\",\"#b7dd29\",\"#bade27\",\"#bdde26\",\"#bfdf24\",\"#c2df22\",\"#c5df21\",\"#c7e01f\",\"#cae01e\",\"#cde01d\",\"#cfe11c\",\"#d2e11b\",\"#d4e11a\",\"#d7e219\",\"#dae218\",\"#dce218\",\"#dfe318\",\"#e1e318\",\"#e4e318\",\"#e7e419\",\"#e9e419\",\"#ece41a\",\"#eee51b\",\"#f1e51c\",\"#f3e51e\",\"#f6e61f\",\"#f8e621\",\"#fae622\",\"#fde724\"]},\"id\":\"7846\",\"type\":\"LinearColorMapper\"},{\"attributes\":{},\"id\":\"7824\",\"type\":\"BasicTicker\"},{\"attributes\":{\"callback\":null,\"renderers\":[{\"id\":\"7860\"}],\"tooltips\":[[\"index\",\"@{index_hover}\"],[\"degree\",\"@{degree}\"],[\"modularity\",\"@{modularity}\"]]},\"id\":\"7813\",\"type\":\"HoverTool\"},{\"attributes\":{\"edge_renderer\":{\"id\":\"7858\"},\"inspection_policy\":{\"id\":\"7871\"},\"layout_provider\":{\"id\":\"7849\"},\"node_renderer\":{\"id\":\"7853\"},\"selection_policy\":{\"id\":\"7869\"}},\"id\":\"7860\",\"type\":\"GraphRenderer\"},{\"attributes\":{\"margin\":[5,5,5,5],\"name\":\"HSpacer1198982\",\"sizing_mode\":\"stretch_width\"},\"id\":\"7887\",\"type\":\"Spacer\"},{\"attributes\":{\"line_alpha\":{\"value\":0.4},\"line_color\":{\"value\":\"limegreen\"},\"line_width\":{\"field\":\"edge_line_width\"}},\"id\":\"7857\",\"type\":\"MultiLine\"},{\"attributes\":{},\"id\":\"7884\",\"type\":\"Selection\"},{\"attributes\":{\"bottom_units\":\"screen\",\"fill_alpha\":0.5,\"fill_color\":\"lightgrey\",\"left_units\":\"screen\",\"level\":\"overlay\",\"line_alpha\":1.0,\"line_color\":\"black\",\"line_dash\":[4,4],\"line_width\":2,\"render_mode\":\"css\",\"right_units\":\"screen\",\"top_units\":\"screen\"},\"id\":\"7837\",\"type\":\"BoxAnnotation\"},{\"attributes\":{\"overlay\":{\"id\":\"7837\"}},\"id\":\"7834\",\"type\":\"BoxZoomTool\"},{\"attributes\":{},\"id\":\"7833\",\"type\":\"WheelZoomTool\"},{\"attributes\":{\"data\":{\"edge_line_width\":{\"__ndarray__\":\"Vg4tsp3v7z+28/3UeOniP99PjZduEu8/9ihcj8L16D9/arx0kxjcPwrXo3A9Cu8/46WbxCCw7j8IrBxaZDvjP7pJDAIrh+4/w/UoXI/C6T8QWDm0yHbiP6JFtvP91Og/9ihcj8L16D8CK4cW2c7fP5huEoPAyuk/dZMYBFYO6T8MAiuHFtnuP4/C9Shcj+4/gZVDi2zn2z83iUFg5dDuP+F6FK5H4eI/ukkMAiuH7j8zMzMzMzPjPzMzMzMzM+M/9ihcj8L15D+BlUOLbOfjP166SQwCK+M/CKwcWmQ74z/TTWIQWDncP+Olm8QgsO4/XrpJDAIr7z9g5dAi2/niPwisHFpkO+8/Vg4tsp3v7z+F61G4HoXjP76fGi/dJN4/CtejcD0K7z99PzVeukncP4XrUbgeheM/30+Nl24S7z9/arx0kxjcP+58PzVeutk/tvP91Hjp4j8=\",\"dtype\":\"float64\",\"shape\":[43]},\"end\":{\"__ndarray__\":\"CQAAAAoAAAAGAAAAAQAAAAcAAAAFAAAABAAAAAMAAAACAAAABQAAAAoAAAACAAAACQAAAAMAAAAGAAAABAAAAAYAAAAEAAAABwAAAAUAAAAKAAAACQAAAAMAAAAGAAAABwAAAAUAAAAEAAAACQAAAAcAAAAJAAAABQAAAAoAAAAGAAAABgAAAAoAAAAHAAAACQAAAAcAAAAKAAAACQAAAAkAAAAKAAAACgAAAA==\",\"dtype\":\"int32\",\"shape\":[43]},\"start\":{\"__ndarray__\":\"AAAAAAAAAAAAAAAAAAAAAAAAAAAAAAAAAAAAAAAAAAAAAAAAAQAAAAEAAAABAAAAAQAAAAEAAAABAAAAAQAAAAIAAAACAAAAAgAAAAIAAAACAAAAAgAAAAIAAAADAAAAAwAAAAMAAAADAAAAAwAAAAQAAAAEAAAABAAAAAQAAAAEAAAABQAAAAUAAAAFAAAABQAAAAYAAAAGAAAABgAAAAcAAAAIAAAACQAAAA==\",\"dtype\":\"int32\",\"shape\":[43]}},\"selected\":{\"id\":\"7884\"},\"selection_policy\":{\"id\":\"7883\"}},\"id\":\"7848\",\"type\":\"ColumnDataSource\"},{\"attributes\":{\"fill_alpha\":{\"value\":0.2},\"fill_color\":{\"value\":\"#30a2da\"},\"line_alpha\":{\"value\":0.2},\"line_width\":{\"value\":2},\"size\":{\"field\":\"node_size\",\"units\":\"screen\"}},\"id\":\"7851\",\"type\":\"Circle\"},{\"attributes\":{},\"id\":\"7885\",\"type\":\"UnionRenderers\"},{\"attributes\":{\"data_source\":{\"id\":\"7847\"},\"glyph\":{\"id\":\"7850\"},\"hover_glyph\":{\"id\":\"7852\"},\"muted_glyph\":null,\"nonselection_glyph\":{\"id\":\"7851\"},\"selection_glyph\":null,\"view\":{\"id\":\"7854\"}},\"id\":\"7853\",\"type\":\"GlyphRenderer\"},{\"attributes\":{\"line_alpha\":{\"value\":0.4},\"line_width\":{\"field\":\"edge_line_width\"}},\"id\":\"7855\",\"type\":\"MultiLine\"},{\"attributes\":{\"fill_alpha\":{\"value\":0.4},\"fill_color\":{\"value\":\"limegreen\"},\"line_alpha\":{\"value\":0.4},\"line_width\":{\"value\":2},\"size\":{\"field\":\"node_size\",\"units\":\"screen\"}},\"id\":\"7852\",\"type\":\"Circle\"},{\"attributes\":{\"line_alpha\":{\"value\":0.2},\"line_width\":{\"field\":\"edge_line_width\"}},\"id\":\"7856\",\"type\":\"MultiLine\"},{\"attributes\":{\"source\":{\"id\":\"7848\"}},\"id\":\"7859\",\"type\":\"CDSView\"},{\"attributes\":{\"margin\":[5,5,5,5],\"name\":\"HSpacer1198981\",\"sizing_mode\":\"stretch_width\"},\"id\":\"7810\",\"type\":\"Spacer\"},{\"attributes\":{\"source\":{\"id\":\"7847\"}},\"id\":\"7854\",\"type\":\"CDSView\"},{\"attributes\":{},\"id\":\"7835\",\"type\":\"ResetTool\"},{\"attributes\":{},\"id\":\"7871\",\"type\":\"NodesAndLinkedEdges\"},{\"attributes\":{},\"id\":\"7832\",\"type\":\"PanTool\"},{\"attributes\":{},\"id\":\"7875\",\"type\":\"BasicTickFormatter\"},{\"attributes\":{\"below\":[{\"id\":\"7823\"}],\"center\":[{\"id\":\"7826\"},{\"id\":\"7830\"}],\"left\":[{\"id\":\"7827\"}],\"margin\":null,\"min_border_bottom\":10,\"min_border_left\":10,\"min_border_right\":10,\"min_border_top\":10,\"outline_line_alpha\":0,\"plot_height\":750,\"plot_width\":950,\"renderers\":[{\"id\":\"7860\"}],\"sizing_mode\":\"fixed\",\"title\":{\"id\":\"7815\"},\"toolbar\":{\"id\":\"7838\"},\"x_range\":{\"id\":\"7811\"},\"x_scale\":{\"id\":\"7819\"},\"y_range\":{\"id\":\"7812\"},\"y_scale\":{\"id\":\"7821\"}},\"id\":\"7814\",\"subtype\":\"Figure\",\"type\":\"Plot\"},{\"attributes\":{\"data\":{\"degree\":[167,168,168,236,166,168,168,187,167,167,169],\"index\":{\"__ndarray__\":\"AAAAAAEAAAACAAAAAwAAAAQAAAAFAAAABgAAAAcAAAAIAAAACQAAAAoAAAA=\",\"dtype\":\"int32\",\"shape\":[11]},\"index_hover\":[\"fernandezdevelasco bernardo\",\"matson aaron\",\"mr-webster\",\"adams george\",\"forrest thomas\",\"fleury unknown\",\"mr-lowry\",\"gordon william2\",\"pleasants james\",\"vandyke kensey\",\"campbell john2\"],\"modularity\":[14,14,14,10,14,14,14,10,0,14,0],\"node_fill_color\":[14,14,14,10,14,14,14,10,0,14,0],\"node_size\":{\"__ndarray__\":\"SerUGpJGMkCFHhW5jlQyQIUeFbmOVDJA2qlSXb65NUAonAXAijgyQIUeFbmOVDJAhR4VuY5UMkDitcnrzVYzQEnq1BqSRjJASerUGpJGMkCWYEezgGIyQA==\",\"dtype\":\"float64\",\"shape\":[11]}},\"selected\":{\"id\":\"7886\"},\"selection_policy\":{\"id\":\"7885\"}},\"id\":\"7847\",\"type\":\"ColumnDataSource\"}],\"root_ids\":[\"7809\"]},\"title\":\"Bokeh Application\",\"version\":\"2.0.2\"}};\n",
       "  var render_items = [{\"docid\":\"d7e7a98f-2212-450b-84ca-4c373f33b978\",\"root_ids\":[\"7809\"],\"roots\":{\"7809\":\"c101f66e-eda9-4a1d-a410-addbef32a142\"}}];\n",
       "  root.Bokeh.embed.embed_items_notebook(docs_json, render_items);\n",
       "  }\n",
       "if (root.Bokeh !== undefined) {\n",
       "    embed_document(root);\n",
       "  } else {\n",
       "    var attempts = 0;\n",
       "    var timer = setInterval(function(root) {\n",
       "      if (root.Bokeh !== undefined) {\n",
       "        clearInterval(timer);\n",
       "        embed_document(root);\n",
       "      } else if (document.readyState == \"complete\") {\n",
       "        attempts++;\n",
       "        if (attempts > 100) {\n",
       "          clearInterval(timer);\n",
       "          console.log(\"Bokeh: ERROR: Unable to run BokehJS code because BokehJS library is missing\");\n",
       "        }\n",
       "      }\n",
       "    }, 10, root)\n",
       "  }\n",
       "})(window);</script>"
      ],
      "text/plain": [
       ":Graph   [start,end]   (weight)"
      ]
     },
     "execution_count": 145,
     "metadata": {
      "application/vnd.holoviews_exec.v0+json": {
       "id": "7809"
      }
     },
     "output_type": "execute_result"
    }
   ],
   "source": [
    "%%time\n",
    "\n",
    "pos = nx.layout.spring_layout(G, scale = 20)\n",
    "\n",
    "net_graph = hvnx.draw(G, pos,\n",
    "                      node_size = hv.dim('degree')*2, node_color = hv.dim('modularity'), #node_color = 'lightblue',\n",
    "                      alpha = 0.4,\n",
    "                      with_labels = False, linewidths = 2, #font_size = 10,\n",
    "                      edge_width = hv.dim('weight'),\n",
    "                      #arrows = True, arrowstyle = '->',\n",
    "                      width = 950, height = 750)\n",
    "\n",
    "net_graph"
   ]
  },
  {
   "cell_type": "markdown",
   "metadata": {},
   "source": [
    "#### Datashader"
   ]
  },
  {
   "cell_type": "code",
   "execution_count": 136,
   "metadata": {},
   "outputs": [
    {
     "name": "stdout",
     "output_type": "stream",
     "text": [
      "CPU times: user 230 ms, sys: 23 ms, total: 253 ms\n",
      "Wall time: 258 ms\n"
     ]
    },
    {
     "data": {
      "text/html": [
       "<div>\n",
       "<style scoped>\n",
       "    .dataframe tbody tr th:only-of-type {\n",
       "        vertical-align: middle;\n",
       "    }\n",
       "\n",
       "    .dataframe tbody tr th {\n",
       "        vertical-align: top;\n",
       "    }\n",
       "\n",
       "    .dataframe thead th {\n",
       "        text-align: right;\n",
       "    }\n",
       "</style>\n",
       "<table border=\"1\" class=\"dataframe\">\n",
       "  <thead>\n",
       "    <tr style=\"text-align: right;\">\n",
       "      <th></th>\n",
       "      <th>source</th>\n",
       "      <th>target</th>\n",
       "      <th>weight</th>\n",
       "    </tr>\n",
       "  </thead>\n",
       "  <tbody>\n",
       "    <tr>\n",
       "      <th>216571</th>\n",
       "      <td>m’duffie</td>\n",
       "      <td>—-w.-p.-duval</td>\n",
       "      <td>0.901922</td>\n",
       "    </tr>\n",
       "    <tr>\n",
       "      <th>216572</th>\n",
       "      <td>stevenson</td>\n",
       "      <td>—-w.-p.-duval</td>\n",
       "      <td>0.868477</td>\n",
       "    </tr>\n",
       "    <tr>\n",
       "      <th>216573</th>\n",
       "      <td>thomas</td>\n",
       "      <td>—-w.-p.-duval</td>\n",
       "      <td>0.498742</td>\n",
       "    </tr>\n",
       "    <tr>\n",
       "      <th>216574</th>\n",
       "      <td>thomas</td>\n",
       "      <td>—-w.-p.-duval</td>\n",
       "      <td>0.498742</td>\n",
       "    </tr>\n",
       "    <tr>\n",
       "      <th>216575</th>\n",
       "      <td>thomas unknown2</td>\n",
       "      <td>—-w.-p.-duval</td>\n",
       "      <td>0.913683</td>\n",
       "    </tr>\n",
       "  </tbody>\n",
       "</table>\n",
       "</div>"
      ],
      "text/plain": [
       "                 source         target    weight\n",
       "216571         m’duffie  —-w.-p.-duval  0.901922\n",
       "216572        stevenson  —-w.-p.-duval  0.868477\n",
       "216573           thomas  —-w.-p.-duval  0.498742\n",
       "216574           thomas  —-w.-p.-duval  0.498742\n",
       "216575  thomas unknown2  —-w.-p.-duval  0.913683"
      ]
     },
     "execution_count": 136,
     "metadata": {},
     "output_type": "execute_result"
    }
   ],
   "source": [
    "%%time\n",
    "\n",
    "# Import corr_df for datashader, which reads in dataframes.\n",
    "corr_df = pd.read_csv(abs_dir + 'Output/Graphs/JQA_Network_mergedEntities-correlation/mergedEnts-correlations.csv',\n",
    "               sep = ',')\n",
    "\n",
    "# Create list of unique entities from source and target columns.\n",
    "\n",
    "# Change 'label' to 'source'\n",
    "nodes = pd.DataFrame(corr_df['label'].values.tolist() + corr_df['target'].values.tolist()) \\\n",
    "    .rename(columns = {0:'source'}) \\\n",
    "    .drop_duplicates()\n",
    "\n",
    "nodes['source'] = nodes['source'].astype(str)\n",
    "\n",
    "# Create links dataframe and map links to nodes' codes.\n",
    "edges = corr_df[['label', 'target', 'weight']].rename(columns = {'label':'source'})\n",
    "\n",
    "edges['source'] = edges['source'].astype(str)\n",
    "edges['target'] = edges['target'].astype(str)\n",
    "\n",
    "edges.tail()"
   ]
  },
  {
   "cell_type": "code",
   "execution_count": 151,
   "metadata": {},
   "outputs": [
    {
     "ename": "ValueError",
     "evalue": "not enough values to unpack (expected 3, got 0)",
     "output_type": "error",
     "traceback": [
      "\u001b[0;31m---------------------------------------------------------------------------\u001b[0m",
      "\u001b[0;31mValueError\u001b[0m                                Traceback (most recent call last)",
      "\u001b[0;32m<timed exec>\u001b[0m in \u001b[0;36m<module>\u001b[0;34m\u001b[0m\n",
      "\u001b[0;32m/opt/anaconda3/lib/python3.8/site-packages/param/parameterized.py\u001b[0m in \u001b[0;36m__new__\u001b[0;34m(class_, *args, **params)\u001b[0m\n\u001b[1;32m   2989\u001b[0m         \u001b[0minst\u001b[0m \u001b[0;34m=\u001b[0m \u001b[0mclass_\u001b[0m\u001b[0;34m.\u001b[0m\u001b[0minstance\u001b[0m\u001b[0;34m(\u001b[0m\u001b[0;34m)\u001b[0m\u001b[0;34m\u001b[0m\u001b[0;34m\u001b[0m\u001b[0m\n\u001b[1;32m   2990\u001b[0m         \u001b[0minst\u001b[0m\u001b[0;34m.\u001b[0m\u001b[0mparam\u001b[0m\u001b[0;34m.\u001b[0m\u001b[0m_set_name\u001b[0m\u001b[0;34m(\u001b[0m\u001b[0mclass_\u001b[0m\u001b[0;34m.\u001b[0m\u001b[0m__name__\u001b[0m\u001b[0;34m)\u001b[0m\u001b[0;34m\u001b[0m\u001b[0;34m\u001b[0m\u001b[0m\n\u001b[0;32m-> 2991\u001b[0;31m         \u001b[0;32mreturn\u001b[0m \u001b[0minst\u001b[0m\u001b[0;34m.\u001b[0m\u001b[0m__call__\u001b[0m\u001b[0;34m(\u001b[0m\u001b[0;34m*\u001b[0m\u001b[0margs\u001b[0m\u001b[0;34m,\u001b[0m\u001b[0;34m**\u001b[0m\u001b[0mparams\u001b[0m\u001b[0;34m)\u001b[0m\u001b[0;34m\u001b[0m\u001b[0;34m\u001b[0m\u001b[0m\n\u001b[0m\u001b[1;32m   2992\u001b[0m \u001b[0;34m\u001b[0m\u001b[0m\n\u001b[1;32m   2993\u001b[0m     \u001b[0;32mdef\u001b[0m \u001b[0m__call__\u001b[0m\u001b[0;34m(\u001b[0m\u001b[0mself\u001b[0m\u001b[0;34m,\u001b[0m\u001b[0;34m*\u001b[0m\u001b[0margs\u001b[0m\u001b[0;34m,\u001b[0m\u001b[0;34m**\u001b[0m\u001b[0mkw\u001b[0m\u001b[0;34m)\u001b[0m\u001b[0;34m:\u001b[0m\u001b[0;34m\u001b[0m\u001b[0;34m\u001b[0m\u001b[0m\n",
      "\u001b[0;32m/opt/anaconda3/lib/python3.8/site-packages/datashader/layout.py\u001b[0m in \u001b[0;36m__call__\u001b[0;34m(self, nodes, edges, **params)\u001b[0m\n\u001b[1;32m    248\u001b[0m         \u001b[0;31m# Convert graph into sparse adjacency matrix and array of points\u001b[0m\u001b[0;34m\u001b[0m\u001b[0;34m\u001b[0m\u001b[0;34m\u001b[0m\u001b[0m\n\u001b[1;32m    249\u001b[0m         \u001b[0mpoints\u001b[0m \u001b[0;34m=\u001b[0m \u001b[0m_extract_points_from_nodes\u001b[0m\u001b[0;34m(\u001b[0m\u001b[0mnodes\u001b[0m\u001b[0;34m,\u001b[0m \u001b[0mp\u001b[0m\u001b[0;34m,\u001b[0m \u001b[0mdtype\u001b[0m\u001b[0;34m=\u001b[0m\u001b[0;34m'f'\u001b[0m\u001b[0;34m)\u001b[0m\u001b[0;34m\u001b[0m\u001b[0;34m\u001b[0m\u001b[0m\n\u001b[0;32m--> 250\u001b[0;31m         \u001b[0mmatrix\u001b[0m \u001b[0;34m=\u001b[0m \u001b[0m_convert_graph_to_sparse_matrix\u001b[0m\u001b[0;34m(\u001b[0m\u001b[0mnodes\u001b[0m\u001b[0;34m,\u001b[0m \u001b[0medges\u001b[0m\u001b[0;34m,\u001b[0m \u001b[0mp\u001b[0m\u001b[0;34m,\u001b[0m \u001b[0mdtype\u001b[0m\u001b[0;34m=\u001b[0m\u001b[0;34m'f'\u001b[0m\u001b[0;34m)\u001b[0m\u001b[0;34m\u001b[0m\u001b[0;34m\u001b[0m\u001b[0m\n\u001b[0m\u001b[1;32m    251\u001b[0m \u001b[0;34m\u001b[0m\u001b[0m\n\u001b[1;32m    252\u001b[0m         \u001b[0;32mif\u001b[0m \u001b[0mp\u001b[0m\u001b[0;34m.\u001b[0m\u001b[0mk\u001b[0m \u001b[0;32mis\u001b[0m \u001b[0;32mNone\u001b[0m\u001b[0;34m:\u001b[0m\u001b[0;34m\u001b[0m\u001b[0;34m\u001b[0m\u001b[0m\n",
      "\u001b[0;32m/opt/anaconda3/lib/python3.8/site-packages/datashader/layout.py\u001b[0m in \u001b[0;36m_convert_graph_to_sparse_matrix\u001b[0;34m(nodes, edges, params, dtype, format)\u001b[0m\n\u001b[1;32m    134\u001b[0m     \u001b[0;32melse\u001b[0m\u001b[0;34m:\u001b[0m\u001b[0;34m\u001b[0m\u001b[0;34m\u001b[0m\u001b[0m\n\u001b[1;32m    135\u001b[0m         \u001b[0medge_values\u001b[0m \u001b[0;34m=\u001b[0m \u001b[0medges\u001b[0m\u001b[0;34m[\u001b[0m\u001b[0;34m[\u001b[0m\u001b[0mparams\u001b[0m\u001b[0;34m.\u001b[0m\u001b[0msource\u001b[0m\u001b[0;34m,\u001b[0m \u001b[0mparams\u001b[0m\u001b[0;34m.\u001b[0m\u001b[0mtarget\u001b[0m\u001b[0;34m]\u001b[0m\u001b[0;34m]\u001b[0m\u001b[0;34m.\u001b[0m\u001b[0mvalues\u001b[0m\u001b[0;34m\u001b[0m\u001b[0;34m\u001b[0m\u001b[0m\n\u001b[0;32m--> 136\u001b[0;31m         rows, cols, data = zip(*((index[src], index[dst], 1)\n\u001b[0m\u001b[1;32m    137\u001b[0m                                  \u001b[0;32mfor\u001b[0m \u001b[0msrc\u001b[0m\u001b[0;34m,\u001b[0m \u001b[0mdst\u001b[0m \u001b[0;32min\u001b[0m \u001b[0medge_values\u001b[0m\u001b[0;34m\u001b[0m\u001b[0;34m\u001b[0m\u001b[0m\n\u001b[1;32m    138\u001b[0m                                  if src in index and dst in index))\n",
      "\u001b[0;31mValueError\u001b[0m: not enough values to unpack (expected 3, got 0)"
     ]
    }
   ],
   "source": [
    "%%time\n",
    "\n",
    "# Set canvas dimensions.\n",
    "cvsopts = dict(plot_height = 800, plot_width = 800)\n",
    "\n",
    "# Create graphing functions (nodes, edges, joined).\n",
    "def nodesplot(nodes, name=None, canvas=None, cat=None):\n",
    "    canvas = ds.Canvas(**cvsopts) if canvas is None else canvas\n",
    "    aggregator = None if cat is None else ds.count_cat(cat)\n",
    "    agg = canvas.points(nodes, 'x', 'y', aggregator)\n",
    "    return tf.spread(tf.shade(agg, cmap = ['#FF3333']), px = 3, name = name)\n",
    "\n",
    "def edgesplot(edges, name = None, canvas = None):\n",
    "    canvas = ds.Canvas(**cvsopts) if canvas is None else canvas\n",
    "    return tf.shade(canvas.line(edges, 'x', 'y', agg = ds.count()), name = name)\n",
    "\n",
    "def graphplot(nodes, edges, name = \"\", canvas=None, cat=None):\n",
    "    if canvas is None:\n",
    "        xr = nodes.x.min(), nodes.x.max()\n",
    "        yr = nodes.y.min(), nodes.y.max()\n",
    "        canvas = ds.Canvas(x_range = xr, y_range = yr, **cvsopts)\n",
    "        \n",
    "    np = nodesplot(nodes, name + \" nodes\", canvas, cat)\n",
    "    ep = edgesplot(edges, name + \" edges\", canvas)\n",
    "    \n",
    "    return tf.stack(ep, np, how = 'over', name = name)\n",
    "\n",
    "circular  = circular_layout(nodes, uniform=False)\n",
    "# tf.Images(nodesplot(circular, \"Circular layout\"))\n",
    "\n",
    "\n",
    "# Determine layout of nodes.\n",
    "forceddirected = forceatlas2_layout(nodes, edges)\n",
    "# tf.Images(nodesplot(forceddirected, 'ForceAtlas2'))\n",
    "\n",
    "# fd_graph = graphplot(forcedirected, hammer_bundle(forcedirected, edges), 'Force-directed, bundled')\n",
    "# tf.Images(fd_graph)\n",
    "\n",
    "\n",
    "# cd_d = graphplot(cd, hammer_bundle(circular, edges), \"Circular layout\")\n",
    "# tf.Images(cd_d)"
   ]
  },
  {
   "cell_type": "code",
   "execution_count": null,
   "metadata": {},
   "outputs": [],
   "source": []
  }
 ],
 "metadata": {
  "kernelspec": {
   "display_name": "Python 3",
   "language": "python",
   "name": "python3"
  },
  "language_info": {
   "codemirror_mode": {
    "name": "ipython",
    "version": 3
   },
   "file_extension": ".py",
   "mimetype": "text/x-python",
   "name": "python",
   "nbconvert_exporter": "python",
   "pygments_lexer": "ipython3",
   "version": "3.8.5"
  }
 },
 "nbformat": 4,
 "nbformat_minor": 4
}
