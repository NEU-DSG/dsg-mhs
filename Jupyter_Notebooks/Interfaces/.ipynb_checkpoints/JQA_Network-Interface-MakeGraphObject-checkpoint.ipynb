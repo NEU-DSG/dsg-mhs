{
 "cells": [
  {
   "cell_type": "markdown",
   "metadata": {},
   "source": [
    "# Network Interface: Make Graph Object"
   ]
  },
  {
   "cell_type": "code",
   "execution_count": 1,
   "metadata": {},
   "outputs": [],
   "source": [
    "import re, json\n",
    "import pandas as pd\n",
    "import numpy as np\n",
    "import networkx as nx\n",
    "from networkx.readwrite import json_graph\n",
    "from networkx.algorithms import community\n",
    "from operator import itemgetter\n",
    "from json import JSONEncoder\n",
    "\n",
    "# Declare directory location to shorten filepaths later.\n",
    "abs_dir = \"/Users/quinn.wi/Documents/SemanticData/\""
   ]
  },
  {
   "cell_type": "markdown",
   "metadata": {},
   "source": [
    "## Create Network Graph"
   ]
  },
  {
   "cell_type": "code",
   "execution_count": 2,
   "metadata": {},
   "outputs": [
    {
     "name": "stdout",
     "output_type": "stream",
     "text": [
      "Name: \n",
      "Type: Graph\n",
      "Number of nodes: 4677\n",
      "Number of edges: 33946\n",
      "Average degree:  14.5161\n",
      "CPU times: user 3.5 s, sys: 155 ms, total: 3.65 s\n",
      "Wall time: 3.69 s\n"
     ]
    }
   ],
   "source": [
    "%%time\n",
    "\n",
    "# Read in nodes and edges.\n",
    "nodes = pd.read_csv(abs_dir + \"Output/Graphs/JQA_Network_mergedEntities-correlation/nodes.csv\",\n",
    "                    sep = ',')\n",
    "\n",
    "edges = pd.read_csv(abs_dir + \"Output/Graphs/JQA_Network_mergedEntities-correlation/links.csv\",\n",
    "                    sep = ',')\n",
    "\n",
    "\n",
    "# Create dictionary to map values to codes.\n",
    "nodes_dictionary = nodes['label'].to_dict()\n",
    "\n",
    "# Map labels back onto source and target.\n",
    "edges = edges.replace({'source':nodes_dictionary, 'target':nodes_dictionary})\n",
    "\n",
    "# Convert edges dataframe to edges tuple (compatible with graph object below).\n",
    "edges = [tuple(x) for x in edges[['source', 'target']].to_numpy()]\n",
    "\n",
    "# Initialize graph object.\n",
    "G = nx.Graph()\n",
    "\n",
    "# Add nodes and edges to graph object.\n",
    "G.add_nodes_from(nodes['label'])\n",
    "G.add_edges_from(edges)\n",
    "\n",
    "# Add node attributes.\n",
    "nx.set_node_attributes(G, pd.Series(nodes['ner_label'].values.tolist(),\n",
    "                                    index=nodes['label']).to_dict(), 'ner_label')\n",
    "\n",
    "nx.set_node_attributes(G, pd.Series(nodes['match_quality'].values.tolist(),\n",
    "                                    index=nodes['label']).to_dict(), 'match_quality')\n",
    "\n",
    "\n",
    "print (nx.info(G))"
   ]
  },
  {
   "cell_type": "markdown",
   "metadata": {},
   "source": [
    "#### Append Network Info & Detect Communities\n",
    "\n",
    "NetworkX adds node/edge information with ```nx.set_node_attributes```."
   ]
  },
  {
   "cell_type": "code",
   "execution_count": 3,
   "metadata": {},
   "outputs": [
    {
     "name": "stdout",
     "output_type": "stream",
     "text": [
      "Network density: 0.003\n",
      "Is the network connected? False\n",
      "Network diameter of the largest component: 18.000\n",
      "Triadic closure: 0.893\n",
      "\n",
      "CPU times: user 2min 28s, sys: 718 ms, total: 2min 29s\n",
      "Wall time: 2min 31s\n"
     ]
    }
   ],
   "source": [
    "%%time\n",
    "\n",
    "# Measure network density.\n",
    "density = nx.density(G)\n",
    "print (f\"Network density: {density:.3f}\")\n",
    "\n",
    "# Related to diameter, check if network is connected and, therefore, can have a diameter.\n",
    "print (f\"Is the network connected? {nx.is_connected(G)}\")\n",
    "\n",
    "# Get a list of network components (communities).\n",
    "# Find the largest component.\n",
    "components = nx.connected_components(G)\n",
    "largest_component = max(components, key = len)\n",
    "\n",
    "# Create a subgraph of the largest component and measure its diameter.\n",
    "subgraph = G.subgraph(largest_component)\n",
    "diameter = nx.diameter(subgraph)\n",
    "print (f\"Network diameter of the largest component: {diameter:.3f}\")\n",
    "\n",
    "# Find triadic closure (similar to density).\n",
    "triadic_closure = nx.transitivity(G)\n",
    "print (f\"Triadic closure: {triadic_closure:.3f}\\n\")\n",
    "\n",
    "# Find centrality measures.\n",
    "betweenness_dict = nx.betweenness_centrality(G) # Run betweenness centrality\n",
    "eigenvector_dict = nx.eigenvector_centrality(G) # Run eigenvector centrality\n",
    "\n",
    "# Assign each centrality measure to an attribute.\n",
    "nx.set_node_attributes(G, betweenness_dict, 'betweenness')\n",
    "nx.set_node_attributes(G, eigenvector_dict, 'eigenvector')\n",
    "nx.set_node_attributes(G, dict(G.degree(G.nodes())), 'degree')\n",
    "\n",
    "# Find communities.\n",
    "communities = community.greedy_modularity_communities(G)\n",
    "\n",
    "# Create a dictionary that maps nodes to their community.\n",
    "modularity_dict = {}\n",
    "for i, c in enumerate(communities):\n",
    "    for name in c:\n",
    "        modularity_dict[name] = i\n",
    "        \n",
    "# Add modularity information to graph object.\n",
    "nx.set_node_attributes(G, modularity_dict, 'modularity')"
   ]
  },
  {
   "cell_type": "markdown",
   "metadata": {},
   "source": [
    "## Save Graph Object"
   ]
  },
  {
   "cell_type": "code",
   "execution_count": 4,
   "metadata": {},
   "outputs": [
    {
     "name": "stdout",
     "output_type": "stream",
     "text": [
      "CPU times: user 92.1 ms, sys: 4.39 ms, total: 96.5 ms\n",
      "Wall time: 96.5 ms\n"
     ]
    }
   ],
   "source": [
    "%%time\n",
    "\n",
    "# Convert graph object into a dictionary.\n",
    "data = json_graph.node_link_data(G)\n",
    "\n",
    "# Serialize dictionary with json.\n",
    "class NPEncoder(JSONEncoder):\n",
    "    def default(self, obj):\n",
    "        if isinstance(obj, np.ndarray):\n",
    "            return obj.tolist()\n",
    "        return JSONEncoder.default(self, obj)\n",
    "    \n",
    "data_json = json.dumps(data, cls=NPEncoder)\n",
    "\n",
    "with open(abs_dir + \"Output/Graphs/JQA_Network_mergedEntities-correlation/network.json\",\n",
    "          \"w\") as f:\n",
    "    \n",
    "    f.write(data_json)"
   ]
  },
  {
   "cell_type": "code",
   "execution_count": null,
   "metadata": {},
   "outputs": [],
   "source": []
  }
 ],
 "metadata": {
  "kernelspec": {
   "display_name": "Python 3",
   "language": "python",
   "name": "python3"
  },
  "language_info": {
   "codemirror_mode": {
    "name": "ipython",
    "version": 3
   },
   "file_extension": ".py",
   "mimetype": "text/x-python",
   "name": "python",
   "nbconvert_exporter": "python",
   "pygments_lexer": "ipython3",
   "version": "3.8.5"
  }
 },
 "nbformat": 4,
 "nbformat_minor": 4
}
