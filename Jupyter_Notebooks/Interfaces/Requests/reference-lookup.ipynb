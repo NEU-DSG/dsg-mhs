{
 "cells": [
  {
   "cell_type": "markdown",
   "id": "multiple-century",
   "metadata": {},
   "source": [
    "# Reference Lookup Template\n",
    "\n",
    "1. Read-in names field (or search without loading?)\n",
    "2. Provide autocomplete\n",
    "3. Extract xml-identifier"
   ]
  },
  {
   "cell_type": "code",
   "execution_count": 1,
   "id": "ongoing-oliver",
   "metadata": {},
   "outputs": [],
   "source": [
    "import requests, re, warnings, pprint\n",
    "import pandas as pd\n",
    "import numpy as np\n",
    "import xml.etree.ElementTree as ET\n",
    "from bs4 import BeautifulSoup\n",
    "\n",
    "import dash, dash_table\n",
    "from dash.dependencies import Input, Output, State\n",
    "from dash.exceptions import PreventUpdate\n",
    "import dash_core_components as dcc\n",
    "import dash_bootstrap_components as dbc\n",
    "import dash_html_components as html\n",
    "from jupyter_dash import JupyterDash\n",
    "\n",
    "# Ignore simple warnings.\n",
    "warnings.simplefilter('ignore', DeprecationWarning)\n",
    "\n",
    "abs_dir = '/Users/quinn.wi/Documents/Data/JQA_pre-2021-04-14/'"
   ]
  },
  {
   "cell_type": "code",
   "execution_count": 2,
   "id": "quality-modification",
   "metadata": {},
   "outputs": [
    {
     "name": "stdout",
     "output_type": "stream",
     "text": [
      "CPU times: user 1min 4s, sys: 379 ms, total: 1min 4s\n",
      "Wall time: 1min 5s\n"
     ]
    }
   ],
   "source": [
    "%%time\n",
    "\n",
    "names_data = pd.read_excel(abs_dir + 'DJQA_Names-List_singleSheet.xlsx', index_col = None) \n",
    "\n",
    "names_data.columns = names_data.columns.str.replace('\\s', '_')\n",
    "\n",
    "# names_data = names_data.query('(Last_Name == \"Randolph\") & (First_Name == \"John\")')\n",
    "\n",
    "names_data = names_data.dropna(subset = ['LC_Name_Authority'])"
   ]
  },
  {
   "cell_type": "markdown",
   "id": "willing-doctrine",
   "metadata": {},
   "source": [
    "## App -- Lookup & Autocomplete"
   ]
  },
  {
   "cell_type": "code",
   "execution_count": null,
   "id": "employed-generic",
   "metadata": {},
   "outputs": [],
   "source": [
    "# App configurations\n",
    "app = JupyterDash(__name__, \n",
    "                  external_stylesheets = [dbc.themes.SLATE],\n",
    "                  meta_tags=[\n",
    "                      {\"name\": \"viewport\", \"content\": \"width=device-width, initial-scale=1\"},\n",
    "                  ],\n",
    "                 )\n",
    "\n",
    "\n",
    "app.config.suppress_callback_exceptions = True\n",
    "\n",
    "\n",
    "app.layout = html.Div(\n",
    "    className = 'app-body',\n",
    "    children = []\n",
    ")\n",
    "\n",
    "\n",
    "if __name__ == \"__main__\":\n",
    "    app.run_server(mode = 'inline', \n",
    "                   debug = True) # mode = 'inline' for JupyterDash"
   ]
  }
 ],
 "metadata": {
  "kernelspec": {
   "display_name": "Python 3 (ipykernel)",
   "language": "python",
   "name": "python3"
  },
  "language_info": {
   "codemirror_mode": {
    "name": "ipython",
    "version": 3
   },
   "file_extension": ".py",
   "mimetype": "text/x-python",
   "name": "python",
   "nbconvert_exporter": "python",
   "pygments_lexer": "ipython3",
   "version": "3.8.5"
  }
 },
 "nbformat": 4,
 "nbformat_minor": 5
}
