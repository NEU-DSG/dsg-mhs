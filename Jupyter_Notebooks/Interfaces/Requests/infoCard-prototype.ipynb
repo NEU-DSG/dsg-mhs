{
 "cells": [
  {
   "cell_type": "markdown",
   "id": "civic-bahamas",
   "metadata": {},
   "source": [
    "# Infocard Prototype\n",
    "\n",
    "This prototype seeks to sketch out possible interfaces that can pull data from names authority databases and supplement the Primary Source Coop."
   ]
  },
  {
   "cell_type": "code",
   "execution_count": 31,
   "id": "known-probability",
   "metadata": {},
   "outputs": [],
   "source": [
    "import requests, re\n",
    "import pandas as pd\n",
    "import numpy as np\n",
    "import xml.etree.ElementTree as ET\n",
    "from bs4 import BeautifulSoup\n",
    "\n",
    "abs_dir = '/Users/quinn.wi/Documents/Data/JQA_pre-2021-04-14/'"
   ]
  },
  {
   "cell_type": "code",
   "execution_count": 65,
   "id": "proud-shannon",
   "metadata": {},
   "outputs": [
    {
     "name": "stdout",
     "output_type": "stream",
     "text": [
      "CPU times: user 1min 4s, sys: 350 ms, total: 1min 5s\n",
      "Wall time: 1min 6s\n"
     ]
    }
   ],
   "source": [
    "%%time\n",
    "\n",
    "names_data = pd.read_excel(abs_dir + 'DJQA_Names-List_singleSheet.xlsx', index_col = None) \n",
    "\n",
    "names_data.columns = names_data.columns.str.replace('\\s', '_')\n",
    "\n",
    "# names_data = names_data.query('(Last_Name == \"Randolph\") & (First_Name == \"John\")')\n",
    "\n",
    "names_data = names_data.dropna(subset = ['LC_Name_Authority'])"
   ]
  },
  {
   "cell_type": "markdown",
   "id": "fundamental-tulsa",
   "metadata": {},
   "source": [
    "Expected Data Structure:\n",
    "\n",
    "```json\n",
    "{xml_id: \n",
    "    {\n",
    "        loc_id: {info_keys: info_values},\n",
    "        snac_id: {info_keys: info_values},\n",
    "        viaf_id: {info_keys: info_values},\n",
    "        wiki_id: {info_keys: info_values}\n",
    "    }\n",
    "}\n",
    "```"
   ]
  },
  {
   "cell_type": "code",
   "execution_count": 57,
   "id": "earlier-reverse",
   "metadata": {},
   "outputs": [
    {
     "name": "stdout",
     "output_type": "stream",
     "text": [
      "CPU times: user 4 µs, sys: 1 µs, total: 5 µs\n",
      "Wall time: 7.15 µs\n"
     ]
    }
   ],
   "source": [
    "%%time\n",
    "\n",
    "def parseLOC(identifier):\n",
    "#     Lookup URI.\n",
    "    url = f\"https://id.loc.gov/authorities/names/{identifier}.madsxml.xml\"\n",
    "    response = requests.get(url).text\n",
    "    \n",
    "#     Parse XML with namespace from string.\n",
    "    root = ET.fromstring(response)\n",
    "    namespace = re.match(r\"{(.*)}\", str(root.tag))\n",
    "    ns = {\"ns\":namespace.group(1)}\n",
    "    \n",
    "#     Gather information.\n",
    "    namePart = root.find('.//ns:name[@authority=\"naf\"]/ns:namePart', ns).text\n",
    "    birthDeathDate = root.find('.//ns:name[@authority=\"naf\"]/ns:namePart[@type=\"date\"]', ns).text\n",
    "    genderedTerm = root.find('.//ns:genderTerm', ns).text\n",
    "    \n",
    "    return {identifier: {\"name\": namePart, \"birthDeath\": birthDeathDate, \"genderedTerm\": genderedTerm}}\n",
    "    \n",
    "\n",
    "def parseSNAC(identifier):\n",
    "#     Lookup URI & get JSON format.\n",
    "    url = f\"https://snaccooperative.org/download/{identifier}?type=constellation_json\"\n",
    "    response = requests.get(url).json()\n",
    "\n",
    "    namePart = response['nameEntries'][0]['original']\n",
    "    birthDeathDate = re.search('\\d{4}-\\d{4}', namePart).group(0)\n",
    "    \n",
    "    return {identifier: {'name': namePart, 'birthDeath': birthDeathDate}}"
   ]
  },
  {
   "cell_type": "code",
   "execution_count": 58,
   "id": "extended-appreciation",
   "metadata": {},
   "outputs": [
    {
     "name": "stdout",
     "output_type": "stream",
     "text": [
      "CPU times: user 50.6 ms, sys: 16.5 ms, total: 67.1 ms\n",
      "Wall time: 4.49 s\n"
     ]
    },
    {
     "data": {
      "text/plain": [
       "{'84910652': {'name': 'Child, Lydia Maria, 1802-1880',\n",
       "  'birthDeath': '1802-1880'}}"
      ]
     },
     "execution_count": 58,
     "metadata": {},
     "output_type": "execute_result"
    }
   ],
   "source": [
    "%%time\n",
    "\n",
    "# locID for Lydia Child\n",
    "locID = \"n80001490\"\n",
    "\n",
    "# snacID\n",
    "snacID = '84910652'\n",
    "\n",
    "# parseLOC(locID)\n",
    "parseSNAC(snacID)"
   ]
  },
  {
   "cell_type": "code",
   "execution_count": null,
   "id": "sharing-heaven",
   "metadata": {},
   "outputs": [],
   "source": []
  }
 ],
 "metadata": {
  "kernelspec": {
   "display_name": "Python 3",
   "language": "python",
   "name": "python3"
  },
  "language_info": {
   "codemirror_mode": {
    "name": "ipython",
    "version": 3
   },
   "file_extension": ".py",
   "mimetype": "text/x-python",
   "name": "python",
   "nbconvert_exporter": "python",
   "pygments_lexer": "ipython3",
   "version": "3.8.5"
  }
 },
 "nbformat": 4,
 "nbformat_minor": 5
}
