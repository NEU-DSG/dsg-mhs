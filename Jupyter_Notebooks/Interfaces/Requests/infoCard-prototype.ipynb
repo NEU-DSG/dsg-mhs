{
 "cells": [
  {
   "cell_type": "markdown",
   "id": "civic-bahamas",
   "metadata": {},
   "source": [
    "# Infocard Prototype\n",
    "\n",
    "This prototype seeks to sketch out possible interfaces that can pull data from names authority databases and supplement the Primary Source Coop.\n",
    "\n",
    "Links:\n",
    "\n",
    "SNAC ID -> SNAC Bio, Resources\n",
    "\n",
    "LCNAF ID -> Wikidata Q ID, VIAF\n",
    "https://id.loc.gov/authorities/names/n80001490.html\n",
    "\n",
    "Wikidata -> Image Field (p18), Gender (p21), Occupation (p106), Position held (p39)\n",
    "\n",
    "VIAF -> Works"
   ]
  },
  {
   "cell_type": "code",
   "execution_count": 17,
   "id": "known-probability",
   "metadata": {},
   "outputs": [],
   "source": [
    "import requests, re\n",
    "import pandas as pd\n",
    "import numpy as np\n",
    "import xml.etree.ElementTree as ET\n",
    "from bs4 import BeautifulSoup\n",
    "\n",
    "abs_dir = '/Users/quinn.wi/Documents/Data/JQA_pre-2021-04-14/'"
   ]
  },
  {
   "cell_type": "code",
   "execution_count": 2,
   "id": "proud-shannon",
   "metadata": {},
   "outputs": [
    {
     "name": "stdout",
     "output_type": "stream",
     "text": [
      "CPU times: user 1min 10s, sys: 200 ms, total: 1min 10s\n",
      "Wall time: 1min 10s\n"
     ]
    }
   ],
   "source": [
    "%%time\n",
    "\n",
    "names_data = pd.read_excel(abs_dir + 'DJQA_Names-List_singleSheet.xlsx', index_col = None) \n",
    "\n",
    "names_data.columns = names_data.columns.str.replace('\\s', '_')\n",
    "\n",
    "# names_data = names_data.query('(Last_Name == \"Randolph\") & (First_Name == \"John\")')\n",
    "\n",
    "names_data = names_data.dropna(subset = ['LC_Name_Authority'])"
   ]
  },
  {
   "cell_type": "markdown",
   "id": "fundamental-tulsa",
   "metadata": {},
   "source": [
    "Expected Data Structure:\n",
    "\n",
    "```json\n",
    "{xml_id: \n",
    "    {\n",
    "        loc_id: {info_keys: info_values},\n",
    "        snac_id: {info_keys: info_values},\n",
    "        viaf_id: {info_keys: info_values},\n",
    "        wiki_id: {info_keys: info_values}\n",
    "    }\n",
    "}\n",
    "```"
   ]
  },
  {
   "cell_type": "code",
   "execution_count": 40,
   "id": "earlier-reverse",
   "metadata": {},
   "outputs": [
    {
     "name": "stdout",
     "output_type": "stream",
     "text": [
      "CPU times: user 7 µs, sys: 0 ns, total: 7 µs\n",
      "Wall time: 10 µs\n"
     ]
    }
   ],
   "source": [
    "%%time\n",
    "\n",
    "def parseLOC(identifier):\n",
    "#     Lookup URI.\n",
    "    url = f\"https://id.loc.gov/authorities/names/{identifier}.madsxml.xml\"\n",
    "    response = requests.get(url).text\n",
    "    \n",
    "#     Parse XML with namespace from string.\n",
    "    root = ET.fromstring(response)\n",
    "    namespace = re.match(r\"{(.*)}\", str(root.tag))\n",
    "    ns = {\"ns\":namespace.group(1)}\n",
    "    \n",
    "#     Gather information.\n",
    "    namePart = root.find('.//ns:name[@authority=\"naf\"]/ns:namePart', ns).text\n",
    "    birthDeathDate = root.find('.//ns:name[@authority=\"naf\"]/ns:namePart[@type=\"date\"]', ns).text\n",
    "    genderedTerm = root.find('.//ns:genderTerm', ns).text\n",
    "    \n",
    "    return {identifier: {\"name\": namePart, \"birthDeath\": birthDeathDate, \"genderedTerm\": genderedTerm}}\n",
    "\n",
    "# Read LOC html to get Wikidata & VIAF.\n",
    "def locSoup(identifier):\n",
    "    url = f\"https://id.loc.gov/authorities/names/{identifier}.html\"\n",
    "    response = requests.get(url).text\n",
    "    locSoup = BeautifulSoup(response)\n",
    "\n",
    "    wiki = locSoup.find('span', {'href': re.compile(r'http://www.wikidata.org/entity/.*')})['href']\n",
    "    viaf = locSoup.find('a', {'href': re.compile(r'http://viaf.org/viaf/.*')})['href']\n",
    "    \n",
    "    return {'wiki': {'url': wiki}, 'viaf': {'url': viaf}}\n",
    "    \n",
    "\n",
    "def parseSNAC(identifier):\n",
    "#     Lookup URI & get JSON format.\n",
    "    url = f\"https://snaccooperative.org/download/{identifier}?type=constellation_json\"\n",
    "    response = requests.get(url).json()\n",
    "\n",
    "    namePart = response['nameEntries'][0]['original']\n",
    "    birthDeathDate = re.search('\\d{4}-\\d{4}', namePart).group(0)\n",
    "    \n",
    "    return {identifier: {'name': namePart, 'birthDeath': birthDeathDate}}"
   ]
  },
  {
   "cell_type": "code",
   "execution_count": 41,
   "id": "extended-appreciation",
   "metadata": {},
   "outputs": [
    {
     "name": "stdout",
     "output_type": "stream",
     "text": [
      "CPU times: user 103 ms, sys: 11.4 ms, total: 115 ms\n",
      "Wall time: 5.91 s\n"
     ]
    },
    {
     "data": {
      "text/plain": [
       "{'loc': {'n80001490': {'name': 'Child, Lydia Maria',\n",
       "   'birthDeath': '1802-1880',\n",
       "   'genderedTerm': 'female'}},\n",
       " 'snac': {'84910652': {'name': 'Child, Lydia Maria, 1802-1880',\n",
       "   'birthDeath': '1802-1880'}},\n",
       " 'wiki': {'url': 'http://www.wikidata.org/entity/Q443132'},\n",
       " 'viaf': {'url': 'http://viaf.org/viaf/sourceID/LC%7Cn++80001490#skos:Concept'}}"
      ]
     },
     "execution_count": 41,
     "metadata": {},
     "output_type": "execute_result"
    }
   ],
   "source": [
    "%%time\n",
    "\n",
    "# locID for Lydia Child\n",
    "locID = \"n80001490\"\n",
    "\n",
    "# snacID\n",
    "snacID = '84910652'\n",
    "\n",
    "\n",
    "data = {}\n",
    "\n",
    "data['loc'] = parseLOC(locID)\n",
    "data['snac'] = parseSNAC(snacID)\n",
    "\n",
    "data['wiki'] = locSoup(locID)['wiki']\n",
    "data['viaf'] = locSoup(locID)['viaf']\n",
    "\n",
    "data"
   ]
  },
  {
   "cell_type": "code",
   "execution_count": 42,
   "id": "sharing-heaven",
   "metadata": {},
   "outputs": [
    {
     "name": "stdout",
     "output_type": "stream",
     "text": [
      "CPU times: user 12 µs, sys: 1 µs, total: 13 µs\n",
      "Wall time: 15.3 µs\n"
     ]
    },
    {
     "data": {
      "text/plain": [
       "'http://www.wikidata.org/entity/Q443132'"
      ]
     },
     "execution_count": 42,
     "metadata": {},
     "output_type": "execute_result"
    }
   ],
   "source": [
    "%%time\n",
    "\n",
    "wiki_url = data['wiki']['url']\n",
    "\n",
    "wiki_url"
   ]
  },
  {
   "cell_type": "code",
   "execution_count": null,
   "id": "mineral-deviation",
   "metadata": {},
   "outputs": [],
   "source": []
  }
 ],
 "metadata": {
  "kernelspec": {
   "display_name": "Python 3",
   "language": "python",
   "name": "python3"
  },
  "language_info": {
   "codemirror_mode": {
    "name": "ipython",
    "version": 3
   },
   "file_extension": ".py",
   "mimetype": "text/x-python",
   "name": "python",
   "nbconvert_exporter": "python",
   "pygments_lexer": "ipython3",
   "version": "3.8.5"
  }
 },
 "nbformat": 4,
 "nbformat_minor": 5
}
