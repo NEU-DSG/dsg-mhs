{
 "cells": [
  {
   "cell_type": "markdown",
   "id": "sought-giant",
   "metadata": {},
   "source": [
    "# MHS - Topic Model Dashboard"
   ]
  },
  {
   "cell_type": "code",
   "execution_count": 1,
   "id": "funky-sleeve",
   "metadata": {},
   "outputs": [],
   "source": [
    "import re, json, warnings, pickle, nltk\n",
    "import pandas as pd\n",
    "import numpy as np\n",
    "from scipy import stats\n",
    "\n",
    "# Primary visualizations\n",
    "import matplotlib.pyplot as plt\n",
    "import matplotlib\n",
    "from matplotlib.patches import Patch\n",
    "from matplotlib.lines import Line2D\n",
    "import seaborn as sns\n",
    "import plotly.express as px\n",
    "\n",
    "# Import NLTK packages.\n",
    "from nltk import word_tokenize\n",
    "from nltk.stem import WordNetLemmatizer\n",
    "from nltk.stem.snowball import SnowballStemmer\n",
    "from nltk.corpus import stopwords\n",
    "\n",
    "# Import sklearn packages.\n",
    "from sklearn.decomposition import LatentDirichletAllocation as LDA\n",
    "from sklearn.feature_extraction.text import CountVectorizer, TfidfVectorizer\n",
    "\n",
    "# Import LDA visualizer.\n",
    "import pyLDAvis, pyLDAvis.sklearn\n",
    "pyLDAvis.enable_notebook()\n",
    "\n",
    "# Import (Jupyter) Dash -- App Functionality\n",
    "import dash, dash_table\n",
    "from dash.dependencies import Input, Output, State\n",
    "from dash.exceptions import PreventUpdate\n",
    "import dash_core_components as dcc\n",
    "import dash_bootstrap_components as dbc\n",
    "import dash_html_components as html\n",
    "from jupyter_dash import JupyterDash\n",
    "\n",
    "# Ignore simple warnings.\n",
    "warnings.simplefilter('ignore', DeprecationWarning)\n",
    "\n",
    "# Import and append stopwords.\n",
    "stop_words = stopwords.words(\"english\")\n",
    "stop_words.append('mr')\n",
    "\n",
    "# Declare directory location to shorten filepaths later.\n",
    "abs_dir = \"/Users/quinn.wi/Documents/\"\n",
    "\n",
    "\n",
    "# Read in file; select columns; drop rows with NA values (entries without a named person).\n",
    "topics = pd.read_csv(abs_dir + 'Data/Output/TopicModels/jqa_topics-40.csv', sep = ',') \\\n",
    "    .dropna()\n",
    "\n",
    "topic_keywords = pd.read_csv(abs_dir + 'Data/Output/TopicModels/jqa_topics-40-keywords.csv', sep = ',')\n",
    "\n",
    "topic_corr = pd.read_csv(abs_dir + 'Data/Output/TopicModels/jqa_topics-40_corr.csv', sep = ',')\n",
    "\n",
    "ldaVis_json = abs_dir + 'Data/Output/TopicModels/jqa_topics-40_pyLDAvis.json'\n",
    "ldaVis_html = abs_dir + 'Data/Output/TopicModels/jqa_topics-40_pyLDAvis.html'"
   ]
  },
  {
   "cell_type": "code",
   "execution_count": 2,
   "id": "inside-bosnia",
   "metadata": {},
   "outputs": [
    {
     "name": "stdout",
     "output_type": "stream",
     "text": [
      "CPU times: user 40.9 ms, sys: 5.66 ms, total: 46.5 ms\n",
      "Wall time: 45.5 ms\n"
     ]
    }
   ],
   "source": [
    "%%time\n",
    "\n",
    "trends = pd.melt(topics, id_vars = ['file', 'entry', 'date', 'subject'],\n",
    "                 var_name = 'topic', value_name = 'proportion')\n",
    "\n",
    "trends = trends \\\n",
    "    .assign( year = pd.to_datetime(trends['date']).dt.year ) \\\n",
    "    .groupby(['year', 'topic'])['proportion'].mean() \\\n",
    "    .reset_index()\n",
    "\n",
    "\n",
    "# pyLDAvis do not match topic order of keywords...\n",
    "\n",
    "\n",
    "# Drop down menu to select topics.\n",
    "# Trends drawn on graph.\n",
    "# Selected topics populate table; with keywords.\n",
    "\n",
    "\n",
    "# # Plot graph.\n",
    "# sns.set(rc = {\"figure.figsize\": (12, 6)})\n",
    "# sns.set_style(\"white\")\n",
    "\n",
    "# ax = sns.lineplot(data = trends, x = 'year', y = 'proportion', hue = 'topic')"
   ]
  },
  {
   "cell_type": "markdown",
   "id": "blocked-optics",
   "metadata": {},
   "source": [
    "## Functions"
   ]
  },
  {
   "cell_type": "code",
   "execution_count": null,
   "id": "secondary-crawford",
   "metadata": {},
   "outputs": [],
   "source": []
  },
  {
   "cell_type": "markdown",
   "id": "bottom-thursday",
   "metadata": {},
   "source": [
    "## App"
   ]
  },
  {
   "cell_type": "code",
   "execution_count": 3,
   "id": "controlled-potential",
   "metadata": {},
   "outputs": [
    {
     "name": "stdout",
     "output_type": "stream",
     "text": [
      "Dash app running on http://127.0.0.1:8050/\n",
      "CPU times: user 40.1 ms, sys: 12.3 ms, total: 52.4 ms\n",
      "Wall time: 63.7 ms\n"
     ]
    }
   ],
   "source": [
    "%%time\n",
    "\n",
    "# App configurations\n",
    "app = JupyterDash(__name__, \n",
    "                  external_stylesheets = [dbc.themes.DARKLY],\n",
    "                  meta_tags=[\n",
    "                      {\"name\": \"viewport\", \"content\": \"width=device-width, initial-scale=1\"},\n",
    "                  ],\n",
    "                 )\n",
    "\n",
    "app.config.suppress_callback_exceptions = True\n",
    "\n",
    "\n",
    "# Read in pyLDA Vis.\n",
    "with open(ldaVis_json, 'r') as f:\n",
    "    ldaVis_graph = json.load(f)\n",
    "\n",
    "\n",
    "app.layout = html.Div(\n",
    "    className = 'app-body',\n",
    "    children = [\n",
    "        \n",
    "        html.H1('Topic Models'),\n",
    "        html.P('Description'),\n",
    "        \n",
    "        \n",
    "#         Tabs.\n",
    "        dbc.Tabs(id = 'dash-tabs', children = [\n",
    "            \n",
    "            dbc.Tab(label = 'pyLDAvis',\n",
    "                    children = [\n",
    "                        html.Div(className = 'container', children = [\n",
    "                            html.Iframe(src = app.get_asset_url('jqa_topics-40_pyLDAvis.html')),\n",
    "                        ]),\n",
    "#                         dcc.Graph(id = 'ldaVis_graph', figure = ldaVis_graph)\n",
    "            ]),\n",
    "            \n",
    "            dbc.Tab(label = 'Topic Keywords', children = [\n",
    "                dash_table.DataTable(id = 'keywords',\n",
    "                                     columns = [{'name':i, 'id': i} for i in topic_keywords.columns],\n",
    "                                     data = topic_keywords.to_dict('rows'))\n",
    "            ]),\n",
    "            \n",
    "            dbc.Tab(label = 'Topic Trends', children = []),\n",
    "            \n",
    "            dbc.Tab(label = 'lda-corr', children = [])\n",
    "        ]),\n",
    "    ]\n",
    ")\n",
    "\n",
    "\n",
    "\n",
    "###########################\n",
    "######### Callbacks #######\n",
    "\n",
    "###########################\n",
    "\n",
    "# @app.callback(Output('tabs-content', 'children'), \n",
    "#               Input ('dash-tabs', 'value'))\n",
    "# def render_content(tab):\n",
    "    \n",
    "\n",
    "\n",
    "\n",
    "if __name__ == \"__main__\":\n",
    "#     app.run_server(mode = 'inline', debug = True) # mode = 'inline' for JupyterDash\n",
    "    app.run_server(debug = True)"
   ]
  },
  {
   "cell_type": "code",
   "execution_count": null,
   "id": "starting-mediterranean",
   "metadata": {},
   "outputs": [],
   "source": []
  }
 ],
 "metadata": {
  "kernelspec": {
   "display_name": "Python 3",
   "language": "python",
   "name": "python3"
  },
  "language_info": {
   "codemirror_mode": {
    "name": "ipython",
    "version": 3
   },
   "file_extension": ".py",
   "mimetype": "text/x-python",
   "name": "python",
   "nbconvert_exporter": "python",
   "pygments_lexer": "ipython3",
   "version": "3.8.5"
  }
 },
 "nbformat": 4,
 "nbformat_minor": 5
}
