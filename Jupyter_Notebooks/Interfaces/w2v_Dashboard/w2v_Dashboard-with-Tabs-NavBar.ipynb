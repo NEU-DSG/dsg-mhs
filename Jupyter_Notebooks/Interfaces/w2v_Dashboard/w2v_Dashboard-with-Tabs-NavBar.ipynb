{
 "cells": [
  {
   "cell_type": "markdown",
   "id": "virgin-adult",
   "metadata": {},
   "source": [
    "# MHS-Word2Vec Dashboard"
   ]
  },
  {
   "cell_type": "code",
   "execution_count": 1,
   "id": "moderate-magnet",
   "metadata": {},
   "outputs": [],
   "source": [
    "import re, json, warnings, pickle, gensim\n",
    "import pandas as pd\n",
    "import numpy as np\n",
    "\n",
    "# Primary visualizations\n",
    "import matplotlib.pyplot as plt\n",
    "import matplotlib\n",
    "from matplotlib.patches import Patch\n",
    "from matplotlib.lines import Line2D\n",
    "import seaborn as sns\n",
    "import plotly.express as px\n",
    "\n",
    "# PCA visualization\n",
    "from scipy.spatial.distance import cosine\n",
    "from sklearn.metrics import pairwise\n",
    "from sklearn.manifold import MDS, TSNE\n",
    "from mpl_toolkits.mplot3d import Axes3D\n",
    "from sklearn.decomposition import PCA\n",
    "\n",
    "# Import (Jupyter) Dash -- App Functionality\n",
    "import dash, dash_table\n",
    "from dash.dependencies import Input, Output, State\n",
    "from dash.exceptions import PreventUpdate\n",
    "import dash_core_components as dcc\n",
    "import dash_html_components as html\n",
    "from jupyter_dash import JupyterDash\n",
    "\n",
    "# Ignore simple warnings.\n",
    "warnings.simplefilter('ignore', DeprecationWarning)\n",
    "\n",
    "# Declare directory location to shorten filepaths later.\n",
    "abs_dir = \"/Users/quinn.wi/Documents/\"\n",
    "\n",
    "# Load model.\n",
    "model = gensim.models.KeyedVectors.load_word2vec_format(abs_dir + 'Data/Output/WordVectors/jqa_w2v.txt')\n",
    "\n",
    "# Load pca + tsne coordinates.\n",
    "tsne_data = pd.read_csv(abs_dir + '/Data/Output/WordVectors/jqa_w2v_tsne-coordinates.csv', sep = ',')"
   ]
  },
  {
   "cell_type": "markdown",
   "id": "exact-folder",
   "metadata": {},
   "source": [
    "## Functions"
   ]
  },
  {
   "cell_type": "code",
   "execution_count": 2,
   "id": "sufficient-extra",
   "metadata": {},
   "outputs": [
    {
     "name": "stdout",
     "output_type": "stream",
     "text": [
      "CPU times: user 2 µs, sys: 1 µs, total: 3 µs\n",
      "Wall time: 3.81 µs\n"
     ]
    }
   ],
   "source": [
    "%%time\n",
    "\n",
    "def construct_graph(data, word, topn):\n",
    "    word_list = []\n",
    "    for i in model.most_similar([word], topn = topn):\n",
    "        word_list.append(i[0])\n",
    "    \n",
    "    dff = data[data.words.isin(word_list + [word])]\n",
    "    \n",
    "    dff['color'] = np.where(dff['words'] != word, '#37718E', '#AEF3E7')\n",
    "    \n",
    "    fig = px.scatter_3d(dff, x = 'x', y = 'y', z = 'z',\n",
    "                        text = 'words',\n",
    "                        title = f't-SNE Cluster of \"{word}\" in dJQA.',\n",
    "                        color = 'color'\n",
    "#                         color_discrete_sequence = px.colors.qualitative.D3\n",
    "                       )\n",
    "    \n",
    "    return fig"
   ]
  },
  {
   "cell_type": "markdown",
   "id": "interesting-publication",
   "metadata": {},
   "source": [
    "## App"
   ]
  },
  {
   "cell_type": "code",
   "execution_count": 5,
   "id": "periodic-camcorder",
   "metadata": {},
   "outputs": [
    {
     "name": "stdout",
     "output_type": "stream",
     "text": [
      "Dash app running on http://127.0.0.1:8050/\n",
      "CPU times: user 30.4 ms, sys: 16.5 ms, total: 47 ms\n",
      "Wall time: 330 ms\n"
     ]
    }
   ],
   "source": [
    "%%time\n",
    "\n",
    "# App configurations\n",
    "app = JupyterDash(__name__)\n",
    "app.config.suppress_callback_exceptions = True\n",
    "\n",
    "\n",
    "# Layout.\n",
    "app.layout = html.Div(\n",
    "    className = 'app-body',\n",
    "    children = [\n",
    "        \n",
    "        html.Header(\n",
    "            className=\"app-header\",\n",
    "            children = [\n",
    "                html.Div('Word2Vec Dashboard', className = \"app-header--title\")\n",
    "            ]),\n",
    "        \n",
    "        dcc.Tabs(id = 'tabs', value = 'basic-tab', children = [\n",
    "            \n",
    "            dcc.Tab(label = 'Basic', value = 'basic-tab', children = [\n",
    "                dcc.Input(id = 'text', type = 'text', value = 'work', debounce = True),\n",
    "                        \n",
    "                dcc.Slider(id = 'slider', min = 5, max = 35, step = 1, value = 20,\n",
    "                           marks = {str(i): str(i) for i in range(5, 35, 5)}),\n",
    "                \n",
    "                dcc.Graph(id = 'text_plot')\n",
    "            ]),\n",
    "            \n",
    "            dcc.Tab(label = 'Analogies', value = 'analogy-tab')\n",
    "        ]),\n",
    "\n",
    "])\n",
    "\n",
    "\n",
    "###########################\n",
    "######### Callbacks #######\n",
    "\n",
    "###########################\n",
    "\n",
    "\n",
    "@app.callback(\n",
    "    Output('tabs-content', 'children'),\n",
    "    [Input('tabs', 'value'), Input('text', 'value'), Input('slider', 'value')]\n",
    ")\n",
    "def render_content(tab):\n",
    "    if tab == 'basic-tab':\n",
    "        return html.Div(\n",
    "            className = 'row',\n",
    "            children = [\n",
    "                html.Div(\n",
    "                    className = 'col-md-3',\n",
    "                    children = [\n",
    "                        \n",
    "                        dcc.Input(id = 'text', type = 'text', value = 'work', debounce = True),\n",
    "                        \n",
    "                        dcc.Slider(id = 'slider', min = 5, max = 35, step = 1, value = 20,\n",
    "                                   marks = {str(i): str(i) for i in range(5, 35, 5)}),\n",
    "                        dcc.Graph(id = 'text_plot')\n",
    "                    ]),\n",
    "\n",
    "                html.Div(className = 'col-md-4', children = [dash_table.DataTable(id = 'cosine-table')]),\n",
    "            ]),\n",
    "    \n",
    "\n",
    "# # Update data table & graph.\n",
    "# @app.callback(\n",
    "#     [Output('text_plot', 'figure'), Output('cosine-table', 'data'), Output('cosine-table', 'columns')],\n",
    "#     [Input('text', 'value'), Input('slider', 'value')]\n",
    "# )\n",
    "# def update_dataTable_graph(text, slider):\n",
    "#     graph = construct_graph(tsne_data, text.lower(), slider)\n",
    "    \n",
    "#     sims = model.most_similar([text], topn = slider)\n",
    "#     cos_df = pd.DataFrame(sims, columns = ['word', 'similarity'])\n",
    "#     cos_df['similarity'] = cos_df['similarity'].round(3)\n",
    "#     cols = [{'name': i, 'id': i} for i in cos_df.columns]\n",
    "    \n",
    "#     return graph, cos_df.to_dict('rows'), cols\n",
    "\n",
    "\n",
    "\n",
    "if __name__ == \"__main__\":\n",
    "#     app.run_server(mode = 'inline', debug = True) # mode = 'inline' for JupyterDash\n",
    "    app.run_server(debug = True)"
   ]
  },
  {
   "cell_type": "code",
   "execution_count": null,
   "id": "passive-fossil",
   "metadata": {},
   "outputs": [],
   "source": []
  }
 ],
 "metadata": {
  "kernelspec": {
   "display_name": "Python 3",
   "language": "python",
   "name": "python3"
  },
  "language_info": {
   "codemirror_mode": {
    "name": "ipython",
    "version": 3
   },
   "file_extension": ".py",
   "mimetype": "text/x-python",
   "name": "python",
   "nbconvert_exporter": "python",
   "pygments_lexer": "ipython3",
   "version": "3.8.5"
  }
 },
 "nbformat": 4,
 "nbformat_minor": 5
}
