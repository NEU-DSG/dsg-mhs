{
 "cells": [
  {
   "cell_type": "markdown",
   "id": "prerequisite-atmosphere",
   "metadata": {},
   "source": [
    "# Subject Correlations & Year Counts"
   ]
  },
  {
   "cell_type": "code",
   "execution_count": 1,
   "id": "e851827b",
   "metadata": {},
   "outputs": [],
   "source": [
    "# Import necessary libraries.\n",
    "import re, nltk, warnings, csv, sys, os, pickle, string, json\n",
    "import pandas as pd\n",
    "import numpy as np\n",
    "from itertools import chain\n",
    "\n",
    "import itertools as iter\n",
    "import networkx as nx\n",
    "from networkx.algorithms import community\n",
    "from networkx.readwrite import json_graph\n",
    "from json import JSONEncoder\n",
    "from operator import itemgetter\n",
    "from collections import Counter\n",
    "\n",
    "# Import project-specific functions. \n",
    "# Python files (.py) have to be in same folder to work.\n",
    "lib_path = os.path.abspath(os.path.join(os.path.dirname('JQA_XML_parser.py'), '../Scripts'))\n",
    "sys.path.append(lib_path)\n",
    "from JQA_XML_parser import *\n",
    "\n",
    "# Read in config.py (git ignored file) for API username and pw.\n",
    "config_path = os.path.abspath(os.path.join(os.path.dirname('config.py'), '../Scripts'))\n",
    "sys.path.append(config_path)\n",
    "import config\n",
    "\n",
    "# Ignore warnings related to deprecated functions.\n",
    "warnings.filterwarnings('ignore')\n",
    "\n",
    "url = 'https://dsg.xmldb-dev.northeastern.edu/BaseX964/rest/psc/'\n",
    "user = config.username\n",
    "pw = config.password"
   ]
  },
  {
   "cell_type": "markdown",
   "id": "2dbdfbc9",
   "metadata": {},
   "source": [
    "## Gather XML Files"
   ]
  },
  {
   "cell_type": "code",
   "execution_count": 2,
   "id": "automatic-attachment",
   "metadata": {},
   "outputs": [
    {
     "name": "stdout",
     "output_type": "stream",
     "text": [
      "CPU times: user 54.3 ms, sys: 6.65 ms, total: 61 ms\n",
      "Wall time: 534 ms\n"
     ]
    },
    {
     "data": {
      "text/plain": [
       "607"
      ]
     },
     "execution_count": 2,
     "metadata": {},
     "output_type": "execute_result"
    }
   ],
   "source": [
    "%%time\n",
    "\n",
    "# Must be connected to Northeastern's VPN.\n",
    "r = requests.get(url, \n",
    "                 auth = (user, pw), \n",
    "                 headers = {'Content-Type': 'application/xml'}\n",
    "                )\n",
    "\n",
    "# Read in contents of pipeline.\n",
    "soup = BeautifulSoup(r.content, 'html.parser')\n",
    "\n",
    "# Split soup's content by \\n (each line is a file path to an XML doc).\n",
    "# Use filter() to remove empty strings ('').\n",
    "# Convert back to list using list().\n",
    "files = list(filter(None, soup.text.split('\\n')))\n",
    "\n",
    "# Filter list and retrieve only jqa/ files.\n",
    "files = [i for i in files if 'jqa/' in i]\n",
    "\n",
    "len(files)"
   ]
  },
  {
   "cell_type": "markdown",
   "id": "90cefb51",
   "metadata": {},
   "source": [
    "## Build Dataframe"
   ]
  },
  {
   "cell_type": "code",
   "execution_count": 3,
   "id": "87c32e2f",
   "metadata": {},
   "outputs": [
    {
     "name": "stdout",
     "output_type": "stream",
     "text": [
      "CPU times: user 11.6 s, sys: 796 ms, total: 12.4 s\n",
      "Wall time: 4min 6s\n"
     ]
    },
    {
     "data": {
      "text/html": [
       "<div>\n",
       "<style scoped>\n",
       "    .dataframe tbody tr th:only-of-type {\n",
       "        vertical-align: middle;\n",
       "    }\n",
       "\n",
       "    .dataframe tbody tr th {\n",
       "        vertical-align: top;\n",
       "    }\n",
       "\n",
       "    .dataframe thead th {\n",
       "        text-align: right;\n",
       "    }\n",
       "</style>\n",
       "<table border=\"1\" class=\"dataframe\">\n",
       "  <thead>\n",
       "    <tr style=\"text-align: right;\">\n",
       "      <th></th>\n",
       "      <th>file</th>\n",
       "      <th>entry</th>\n",
       "      <th>date</th>\n",
       "      <th>people</th>\n",
       "      <th>subjects</th>\n",
       "      <th>text</th>\n",
       "    </tr>\n",
       "  </thead>\n",
       "  <tbody>\n",
       "    <tr>\n",
       "      <th>8</th>\n",
       "      <td>('JQADiaries-v12-1789-09-p235.xml',)</td>\n",
       "      <td>jqadiaries-v12-1789-09-14</td>\n",
       "      <td>1789-09-14</td>\n",
       "      <td>willkings-katharine,u,winslow-edward2,olyphant...</td>\n",
       "      <td>Slave Trade</td>\n",
       "      <td>14th: After a detention of four days the wind...</td>\n",
       "    </tr>\n",
       "    <tr>\n",
       "      <th>26</th>\n",
       "      <td>('JQADiaries-v14-1789-01-p010.xml',)</td>\n",
       "      <td>jqadiaries-v14-1789-01-14</td>\n",
       "      <td>1789-01-14</td>\n",
       "      <td>adams-charles</td>\n",
       "      <td>Recreation</td>\n",
       "      <td>14. Charles came home. Skaiting.</td>\n",
       "    </tr>\n",
       "    <tr>\n",
       "      <th>42</th>\n",
       "      <td>('JQADiaries-v14-1789-01-p010.xml',)</td>\n",
       "      <td>jqadiaries-v14-1789-01-30</td>\n",
       "      <td>1789-01-30</td>\n",
       "      <td>smith-william</td>\n",
       "      <td>Recreation</td>\n",
       "      <td>30. Shooting, at Partridge’s and Quails with ...</td>\n",
       "    </tr>\n",
       "  </tbody>\n",
       "</table>\n",
       "</div>"
      ],
      "text/plain": [
       "                                    file                      entry  \\\n",
       "8   ('JQADiaries-v12-1789-09-p235.xml',)  jqadiaries-v12-1789-09-14   \n",
       "26  ('JQADiaries-v14-1789-01-p010.xml',)  jqadiaries-v14-1789-01-14   \n",
       "42  ('JQADiaries-v14-1789-01-p010.xml',)  jqadiaries-v14-1789-01-30   \n",
       "\n",
       "          date                                             people  \\\n",
       "8   1789-09-14  willkings-katharine,u,winslow-edward2,olyphant...   \n",
       "26  1789-01-14                                      adams-charles   \n",
       "42  1789-01-30                                      smith-william   \n",
       "\n",
       "       subjects                                               text  \n",
       "8   Slave Trade   14th: After a detention of four days the wind...  \n",
       "26   Recreation                  14. Charles came home. Skaiting.   \n",
       "42   Recreation   30. Shooting, at Partridge’s and Quails with ...  "
      ]
     },
     "execution_count": 3,
     "metadata": {},
     "output_type": "execute_result"
    }
   ],
   "source": [
    "%%time\n",
    "\n",
    "# Build dataframe from XML files.\n",
    "# build_dataframe() called from Correspondence_XML_parser\n",
    "df = build_dataframe(files, url, user, pw)\n",
    "\n",
    "# Unnest subject headings. \n",
    "df['subjects'] = df['subjects'].str.split(',')\n",
    "df = df.explode('subjects')\n",
    "\n",
    "# Remove leading and trailing whitespace.\n",
    "df['subjects'] = df['subjects'].str.strip()\n",
    "\n",
    "# Remove rows with subject of \"The\".\n",
    "df = df[~df['subjects'].isin(['The'])]\n",
    "\n",
    "# Remove rows with empty values.\n",
    "df.replace('', np.nan, inplace = True)\n",
    "df.dropna(inplace = True)\n",
    "\n",
    "df.head(3)"
   ]
  },
  {
   "cell_type": "markdown",
   "id": "0500ee9b",
   "metadata": {},
   "source": [
    "## Count Subject Headings by Year"
   ]
  },
  {
   "cell_type": "code",
   "execution_count": null,
   "id": "64f71625",
   "metadata": {},
   "outputs": [],
   "source": [
    "%%time\n",
    "\n",
    "# Extract month, year from date.\n",
    "df['date'] = pd.to_datetime(df['date'], format = '%Y-%m-%d', errors = 'coerce')\n",
    "df = df.query('date != \"NaT\"') # remove Not-a-Time values.\n",
    "\n",
    "df['month'] = df['date'].dt.month\n",
    "df['year'] = df['date'].dt.year\n",
    "\n",
    "# Group by year & subject to get count of subjects per year.\n",
    "subjects = df.groupby(['year', 'subjects'], as_index = False)['subjects'] \\\n",
    "    .size() \\\n",
    "    .reset_index()\n",
    "\n",
    "subjects.columns = ['year', 'subjects', 'count']\n",
    "\n",
    "# Group by year and get total number of subjects per year.\n",
    "subjects['total'] = subjects.groupby('year')['count'].transform('sum')\n",
    "\n",
    "# Get percentage of subject for each year.\n",
    "subjects['percentage'] = round(subjects['count'] / subjects['total'], 2) * 100\n",
    "\n",
    "subjects.to_csv(abs_dir + 'Github/dsg-mhs/lab_space/projects/jqa/subjects/data/subject-year-count.csv',\n",
    "                sep = ',', index = False)\n",
    "\n",
    "subjects.head()"
   ]
  },
  {
   "cell_type": "markdown",
   "id": "adaptive-proof",
   "metadata": {},
   "source": [
    "## Create Adjacency Matrix of Subjects"
   ]
  },
  {
   "cell_type": "code",
   "execution_count": null,
   "id": "auburn-interview",
   "metadata": {},
   "outputs": [],
   "source": [
    "%%time\n",
    "\n",
    "# Create adjacency matrix.\n",
    "adj = pd.crosstab(df['entry'], df['subjects'])\n",
    "\n",
    "# Convert entry-person matrix into an adjacency matrix of persons.\n",
    "adj = adj.T.dot(adj)\n",
    "\n",
    "# Change same-same connections to zero.\n",
    "np.fill_diagonal(adj.values, 0)\n",
    "\n",
    "# Simple correlation matrix from dataframe.\n",
    "adj = adj.corr()\n",
    "\n",
    "adj"
   ]
  },
  {
   "cell_type": "markdown",
   "id": "0fda3e47",
   "metadata": {},
   "source": [
    "## Save Subject Adj. as Network Object"
   ]
  },
  {
   "cell_type": "code",
   "execution_count": null,
   "id": "15c68e07",
   "metadata": {},
   "outputs": [],
   "source": [
    "%%time\n",
    "\n",
    "adj['source'] = adj.index\n",
    "\n",
    "df = pd.melt(adj, id_vars = ['source'], var_name = 'target', value_name = 'weight') \\\n",
    "    .query('(source != target) & (weight > 0.75)')\n",
    "\n",
    "df"
   ]
  },
  {
   "cell_type": "markdown",
   "id": "079645ff",
   "metadata": {},
   "source": [
    "## Create Graph Object"
   ]
  },
  {
   "cell_type": "code",
   "execution_count": null,
   "id": "84646ab8",
   "metadata": {},
   "outputs": [],
   "source": [
    "%%time\n",
    "\n",
    "# Initialize graph object.\n",
    "G = nx.from_pandas_edgelist(df, 'source', 'target', 'weight')\n",
    "\n",
    "# Add nodes.\n",
    "nodes = list( dict.fromkeys( df['source'].values.tolist() + df['target'].values.tolist() ))\n",
    "G.add_nodes_from(nodes)\n",
    "\n",
    "print (nx.info(G))\n",
    "\n",
    "# Set degree attributes.\n",
    "nx.set_node_attributes(G, dict(G.degree(G.nodes())), 'degree')\n",
    "\n",
    "# Sort nodes by degree and print top results.\n",
    "sorted_degree = sorted(dict(G.degree(G.nodes())).items(),\n",
    "                       key = itemgetter(1), reverse = True)\n",
    "\n",
    "print (\"Top 10 nodes by degree:\")\n",
    "for d in sorted_degree[:10]:\n",
    "    print (f'\\t{d}')\n",
    "\n",
    "\n",
    "# Measure network density.\n",
    "density = nx.density(G)\n",
    "print (f\"Network density: {density:.3f}\")\n",
    "\n",
    "# Related to diameter, check if network is connected and, therefore, can have a diameter.\n",
    "print (f\"Is the network connected? {nx.is_connected(G)}\")\n",
    "\n",
    "# Get a list of network components (communities).\n",
    "# Find the largest component.\n",
    "components = nx.connected_components(G)\n",
    "largest_component = max(components, key = len)\n",
    "\n",
    "# Create a subgraph of the largest component and measure its diameter.\n",
    "subgraph = G.subgraph(largest_component)\n",
    "diameter = nx.diameter(subgraph)\n",
    "print (f\"Network diameter of the largest component: {diameter:.3f}\")\n",
    "\n",
    "# Find triadic closure (similar to density).\n",
    "triadic_closure = nx.transitivity(G)\n",
    "print (f\"Triadic closure: {triadic_closure:.3f}\\n\")\n",
    "\n",
    "# Find centrality measures.\n",
    "betweenness_dict = nx.betweenness_centrality(G) # Run betweenness centrality\n",
    "eigenvector_dict = nx.eigenvector_centrality(G) # Run eigenvector centrality\n",
    "degree_cent_dict = nx.degree_centrality(G)\n",
    "\n",
    "# Assign each centrality measure to an attribute.\n",
    "nx.set_node_attributes(G, betweenness_dict, 'betweenness')\n",
    "nx.set_node_attributes(G, eigenvector_dict, 'eigenvector')\n",
    "nx.set_node_attributes(G, degree_cent_dict, 'degree_cent')\n",
    "\n",
    "\n",
    "# Find communities.\n",
    "communities = community.naive_greedy_modularity_communities(subgraph)\n",
    "\n",
    "# Create a dictionary that maps nodes to their community.\n",
    "modularity_dict = {}\n",
    "for i, c in enumerate(communities):\n",
    "    for name in c:\n",
    "        modularity_dict[name] = i\n",
    "        \n",
    "# Add modularity information to graph object.\n",
    "nx.set_node_attributes(G, modularity_dict, 'modularity')"
   ]
  },
  {
   "cell_type": "markdown",
   "id": "c8b41cfc",
   "metadata": {},
   "source": [
    "## Write Graph Object"
   ]
  },
  {
   "cell_type": "code",
   "execution_count": null,
   "id": "b53d3c9a",
   "metadata": {},
   "outputs": [],
   "source": [
    "%%time\n",
    "\n",
    "# Convert graph object into a dictionary.\n",
    "data = json_graph.node_link_data(G)\n",
    "    \n",
    "data_json = json.dumps(data)\n",
    "\n",
    "with open(abs_dir + \"Github/dsg-mhs/lab_space/projects/jqa/subjects/data/jqa-subjects-network.json\", \"w\") as f:\n",
    "    f.write(data_json)"
   ]
  },
  {
   "cell_type": "code",
   "execution_count": null,
   "id": "1c211eb1",
   "metadata": {},
   "outputs": [],
   "source": []
  }
 ],
 "metadata": {
  "kernelspec": {
   "display_name": "Python 3 (ipykernel)",
   "language": "python",
   "name": "python3"
  },
  "language_info": {
   "codemirror_mode": {
    "name": "ipython",
    "version": 3
   },
   "file_extension": ".py",
   "mimetype": "text/x-python",
   "name": "python",
   "nbconvert_exporter": "python",
   "pygments_lexer": "ipython3",
   "version": "3.8.5"
  }
 },
 "nbformat": 4,
 "nbformat_minor": 5
}
