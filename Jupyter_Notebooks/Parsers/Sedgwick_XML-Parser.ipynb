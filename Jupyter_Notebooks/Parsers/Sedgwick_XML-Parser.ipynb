{
 "cells": [
  {
   "cell_type": "markdown",
   "id": "flexible-funeral",
   "metadata": {},
   "source": [
    "# XML Parser -- Sedgwick"
   ]
  },
  {
   "cell_type": "code",
   "execution_count": 1,
   "id": "incorporate-polyester",
   "metadata": {},
   "outputs": [],
   "source": [
    "# Import necessary libraries.\n",
    "import re, glob, csv, sys, os\n",
    "import pandas as pd\n",
    "import xml.etree.ElementTree as ET\n",
    "\n",
    "# Declare directory location to shorten filepaths later.\n",
    "abs_dir = \"/Users/quinn.wi/Documents/\"\n",
    "\n",
    "# Gather all .xml files using glob.\n",
    "list_of_files = glob.glob(abs_dir + \"Data/PSC/Sedgwick/*.xml\")"
   ]
  },
  {
   "cell_type": "markdown",
   "id": "existing-guyana",
   "metadata": {},
   "source": [
    "## Functions"
   ]
  },
  {
   "cell_type": "code",
   "execution_count": 2,
   "id": "mature-auction",
   "metadata": {},
   "outputs": [],
   "source": [
    "'''\n",
    "Arguments of Functions:\n",
    "\n",
    "    namespace:\n",
    "\n",
    "    ancestor:\n",
    "    \n",
    "    xpath_as_string:\n",
    "    \n",
    "    attrib_val_str:\n",
    "    \n",
    "'''\n",
    "\n",
    "# Read in file and get root of XML tree.\n",
    "def get_root(xml_file):\n",
    "    tree = ET.parse(xml_file)\n",
    "    root = tree.getroot()\n",
    "    return root\n",
    "\n",
    "\n",
    "# Get namespace of individual file from root element.\n",
    "def get_namespace(root):\n",
    "    namespace = re.match(r\"{(.*)}\", str(root.tag))\n",
    "    ns = {\"ns\":namespace.group(1)}\n",
    "    return ns"
   ]
  },
  {
   "cell_type": "markdown",
   "id": "certain-debut",
   "metadata": {},
   "source": [
    "## Parser Files"
   ]
  },
  {
   "cell_type": "code",
   "execution_count": 3,
   "id": "industrial-intelligence",
   "metadata": {},
   "outputs": [
    {
     "name": "stdout",
     "output_type": "stream",
     "text": [
      "/Users/quinn.wi/Documents/Data/PSC/Sedgwick/CMS1807-04-26-toFrancesSedgwickWatsonFD.xml \n",
      "\n",
      "/Users/quinn.wi/Documents/Data/PSC/Sedgwick/CMS1803-10-06-toPamelaDwightSedgwickF.xml \n",
      "\n",
      "/Users/quinn.wi/Documents/Data/PSC/Sedgwick/CMS1809-01-27-toTheodoreSedgwickIFD.xml \n",
      "\n",
      "/Users/quinn.wi/Documents/Data/PSC/Sedgwick/CMS1807-12-25-toFrancesSedgwickWatsonFD.xml \n",
      "\n",
      "/Users/quinn.wi/Documents/Data/PSC/Sedgwick/CMS1806-01-17-toPamelaDwightSedgwickFD (1).xml \n",
      "\n",
      "/Users/quinn.wi/Documents/Data/PSC/Sedgwick/CMS1805-11-29-toPamelaDwightSedgwickFD.xml \n",
      "\n",
      "/Users/quinn.wi/Documents/Data/PSC/Sedgwick/CMS1807-04-26-toFSWF.xml \n",
      "\n",
      "/Users/quinn.wi/Documents/Data/PSC/Sedgwick/CMS1800-01-12-toTheodoreSedgwickIF.xml \n",
      "\n",
      "/Users/quinn.wi/Documents/Data/PSC/Sedgwick/CMS1805-11-15-toPamelaDwightSedgwickFD (1).xml \n",
      "\n",
      "/Users/quinn.wi/Documents/Data/PSC/Sedgwick/CMS1807-12-28-toFrancesSedgwickWatsonFD.xml \n",
      "\n",
      "/Users/quinn.wi/Documents/Data/PSC/Sedgwick/CMS1807-03-24-toFrancesSedgwickWatsonFD.xml \n",
      "\n",
      "/Users/quinn.wi/Documents/Data/PSC/Sedgwick/CMS1808-11-22-toTheodoreSedgwickIFD.xml \n",
      "\n",
      "/Users/quinn.wi/Documents/Data/PSC/Sedgwick/CMS1806-01-17-toPamelaDwightSedgwickFD.xml \n",
      "\n",
      "CPU times: user 80.9 ms, sys: 12.8 ms, total: 93.7 ms\n",
      "Wall time: 118 ms\n"
     ]
    },
    {
     "data": {
      "text/html": [
       "<div>\n",
       "<style scoped>\n",
       "    .dataframe tbody tr th:only-of-type {\n",
       "        vertical-align: middle;\n",
       "    }\n",
       "\n",
       "    .dataframe tbody tr th {\n",
       "        vertical-align: top;\n",
       "    }\n",
       "\n",
       "    .dataframe thead th {\n",
       "        text-align: right;\n",
       "    }\n",
       "</style>\n",
       "<table border=\"1\" class=\"dataframe\">\n",
       "  <thead>\n",
       "    <tr style=\"text-align: right;\">\n",
       "      <th></th>\n",
       "      <th>file</th>\n",
       "      <th>data</th>\n",
       "      <th>source</th>\n",
       "      <th>target</th>\n",
       "      <th>subjects</th>\n",
       "      <th>references</th>\n",
       "      <th>text</th>\n",
       "    </tr>\n",
       "  </thead>\n",
       "  <tbody>\n",
       "    <tr>\n",
       "      <th>0</th>\n",
       "      <td>CMS1819-03-08-toRobertSedgwickIF (1).xml</td>\n",
       "      <td>1819-03-08</td>\n",
       "      <td>Catharine Maria Sedgwick</td>\n",
       "      <td>sedgwick-robert</td>\n",
       "      <td></td>\n",
       "      <td>sedgwick-charles,sedgwick-elizabeth,sedgwick-h...</td>\n",
       "      <td>Albany March 8' 1819 -- I came here my dear Ro...</td>\n",
       "    </tr>\n",
       "    <tr>\n",
       "      <th>1</th>\n",
       "      <td>CMS1816-03-25-toFrancesSedgwickWatsonF.xml</td>\n",
       "      <td>1816-03-25</td>\n",
       "      <td>Catharine Maria Sedgwick</td>\n",
       "      <td>FSW</td>\n",
       "      <td></td>\n",
       "      <td>RSI,banyer-maria,jay-sarah,van vechten-jacob,s...</td>\n",
       "      <td>Albany March 25th 1816 I have just heard of an...</td>\n",
       "    </tr>\n",
       "    <tr>\n",
       "      <th>2</th>\n",
       "      <td>CMS1813-08-15-toRobertSedgwickIF.xml</td>\n",
       "      <td>1813-08-15</td>\n",
       "      <td>Catharine Maria Sedgwick</td>\n",
       "      <td>RSI</td>\n",
       "      <td></td>\n",
       "      <td>FSW,U,payne-eloise,warner-thomas,warner-france...</td>\n",
       "      <td>Stockbridge August 15th 1813 I recollect very...</td>\n",
       "    </tr>\n",
       "  </tbody>\n",
       "</table>\n",
       "</div>"
      ],
      "text/plain": [
       "                                         file        data  \\\n",
       "0    CMS1819-03-08-toRobertSedgwickIF (1).xml  1819-03-08   \n",
       "1  CMS1816-03-25-toFrancesSedgwickWatsonF.xml  1816-03-25   \n",
       "2        CMS1813-08-15-toRobertSedgwickIF.xml  1813-08-15   \n",
       "\n",
       "                     source           target subjects  \\\n",
       "0  Catharine Maria Sedgwick  sedgwick-robert            \n",
       "1  Catharine Maria Sedgwick              FSW            \n",
       "2  Catharine Maria Sedgwick              RSI            \n",
       "\n",
       "                                          references  \\\n",
       "0  sedgwick-charles,sedgwick-elizabeth,sedgwick-h...   \n",
       "1  RSI,banyer-maria,jay-sarah,van vechten-jacob,s...   \n",
       "2  FSW,U,payne-eloise,warner-thomas,warner-france...   \n",
       "\n",
       "                                                text  \n",
       "0  Albany March 8' 1819 -- I came here my dear Ro...  \n",
       "1  Albany March 25th 1816 I have just heard of an...  \n",
       "2   Stockbridge August 15th 1813 I recollect very...  "
      ]
     },
     "execution_count": 3,
     "metadata": {},
     "output_type": "execute_result"
    }
   ],
   "source": [
    "%%time\n",
    "\n",
    "dataframe = []\n",
    "\n",
    "for file in list_of_files:\n",
    "    \n",
    "    try:\n",
    "        root = get_root(file)\n",
    "        ns = get_namespace(root)\n",
    "\n",
    "        reFile = str(re.search(r'.*/(.*.xml)', str(file)).group(1)) # get filename without path\n",
    "\n",
    "        date = root.find('.//ns:date/[@type=\"creation\"]', ns).get('when') # get date.\n",
    "\n",
    "        source = root.find('.//ns:author', ns).text   # get source/author & target/recipient\n",
    "        target = root.find('.//ns:recipient', ns).text\n",
    "\n",
    "    #     Loops\n",
    "    #     loop to get all references (persRef)\n",
    "        references_l = []\n",
    "        for ref in root.findall('.//ns:persRef', ns):\n",
    "            person = ref.get('ref')\n",
    "            references_l.append(person)\n",
    "        references = ','.join(references_l)\n",
    "\n",
    "    #     loop to get subjects.\n",
    "        subject_l = []\n",
    "        for subject in root.findall('.//ns:subject', ns):\n",
    "            subject_l.append(subject.text)\n",
    "        subjects = ','.join(subject_l)\n",
    "\n",
    "    #     loop to get all text within <div type=\"docbody\">\n",
    "        text_l = []\n",
    "        for txt in root.findall('.//ns:div[@type=\"docbody\"]', ns):\n",
    "            string = ''.join(ET.tostring(txt, encoding='unicode', method='text'))\n",
    "            clean_string = re.sub(r'[\\t\\n\\s]+', ' ', string)\n",
    "            text_l.append(clean_string)\n",
    "        content = ' '.join(text_l)\n",
    "\n",
    "\n",
    "        row = {'file': reFile, 'data': date, 'source': source, 'target':target, \n",
    "               'subjects': subjects, 'references': references, 'text': content}\n",
    "        \n",
    "\n",
    "        dataframe.append(row)\n",
    "        \n",
    "    except:\n",
    "        print (file, '\\n')\n",
    "    \n",
    "df = pd.DataFrame(dataframe)\n",
    "\n",
    "df.head(3)"
   ]
  },
  {
   "cell_type": "code",
   "execution_count": 4,
   "id": "tutorial-heavy",
   "metadata": {},
   "outputs": [
    {
     "name": "stdout",
     "output_type": "stream",
     "text": [
      "CPU times: user 12.4 ms, sys: 2.44 ms, total: 14.8 ms\n",
      "Wall time: 14.6 ms\n"
     ]
    }
   ],
   "source": [
    "%%time\n",
    "\n",
    "df.to_csv(abs_dir + 'Data/Output/ParsedXML/Sedgwick_dataframe.txt', sep='\\t', index=False)"
   ]
  },
  {
   "cell_type": "code",
   "execution_count": null,
   "id": "pleasant-stephen",
   "metadata": {},
   "outputs": [],
   "source": []
  }
 ],
 "metadata": {
  "kernelspec": {
   "display_name": "Python 3 (ipykernel)",
   "language": "python",
   "name": "python3"
  },
  "language_info": {
   "codemirror_mode": {
    "name": "ipython",
    "version": 3
   },
   "file_extension": ".py",
   "mimetype": "text/x-python",
   "name": "python",
   "nbconvert_exporter": "python",
   "pygments_lexer": "ipython3",
   "version": "3.8.5"
  }
 },
 "nbformat": 4,
 "nbformat_minor": 5
}
