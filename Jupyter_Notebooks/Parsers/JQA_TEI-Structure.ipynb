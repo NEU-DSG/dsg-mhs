{
 "cells": [
  {
   "cell_type": "markdown",
   "id": "smoking-shade",
   "metadata": {},
   "source": [
    "# Exploring TEI Structure of JQA\n",
    "\n",
    "Create a Network Graph of Parent-Child TEI relationships."
   ]
  },
  {
   "cell_type": "code",
   "execution_count": 13,
   "id": "liquid-baseball",
   "metadata": {},
   "outputs": [],
   "source": [
    "# Import necessary libraries.\n",
    "import re, glob, csv, sys, os\n",
    "import pandas as pd\n",
    "import xml.etree.ElementTree as ET\n",
    "from lxml import etree\n",
    "\n",
    "# Declare directory location to shorten filepaths later.\n",
    "abs_dir = \"/Users/quinn.wi/Documents/\"\n",
    "\n",
    "# Gather all .xml files using glob.\n",
    "list_of_files = glob.glob(abs_dir + \"Data/JQA/*/*.xml\")"
   ]
  },
  {
   "cell_type": "code",
   "execution_count": 5,
   "id": "tutorial-mixer",
   "metadata": {},
   "outputs": [
    {
     "name": "stdout",
     "output_type": "stream",
     "text": [
      "CPU times: user 2 µs, sys: 0 ns, total: 2 µs\n",
      "Wall time: 4.29 µs\n"
     ]
    }
   ],
   "source": [
    "%%time\n",
    "\n",
    "# Read in file and get root of XML tree.\n",
    "def get_root(xml_file):\n",
    "    tree = ET.parse(xml_file)\n",
    "    root = tree.getroot()\n",
    "    return root\n",
    "\n",
    "\n",
    "# Get namespace of individual file from root element.\n",
    "def get_namespace(root):\n",
    "    namespace = re.match(r\"{(.*)}\", str(root.tag))\n",
    "    ns = {\"ns\":namespace.group(1)}\n",
    "    return ns\n",
    "\n",
    "#     Call functions to create necessary variables and grab content.\n",
    "#     root = get_root(file)\n",
    "#     ns = get_namespace(root)"
   ]
  },
  {
   "cell_type": "code",
   "execution_count": 36,
   "id": "backed-while",
   "metadata": {},
   "outputs": [
    {
     "name": "stdout",
     "output_type": "stream",
     "text": [
      "CPU times: user 2.07 s, sys: 35.4 ms, total: 2.1 s\n",
      "Wall time: 2.13 s\n"
     ]
    },
    {
     "data": {
      "text/html": [
       "<div>\n",
       "<style scoped>\n",
       "    .dataframe tbody tr th:only-of-type {\n",
       "        vertical-align: middle;\n",
       "    }\n",
       "\n",
       "    .dataframe tbody tr th {\n",
       "        vertical-align: top;\n",
       "    }\n",
       "\n",
       "    .dataframe thead th {\n",
       "        text-align: right;\n",
       "    }\n",
       "</style>\n",
       "<table border=\"1\" class=\"dataframe\">\n",
       "  <thead>\n",
       "    <tr style=\"text-align: right;\">\n",
       "      <th></th>\n",
       "      <th>source</th>\n",
       "      <th>target</th>\n",
       "      <th>weight</th>\n",
       "    </tr>\n",
       "  </thead>\n",
       "  <tbody>\n",
       "    <tr>\n",
       "      <th>0</th>\n",
       "      <td>TEI</td>\n",
       "      <td>teiHeader</td>\n",
       "      <td>323</td>\n",
       "    </tr>\n",
       "    <tr>\n",
       "      <th>1</th>\n",
       "      <td>TEI</td>\n",
       "      <td>text</td>\n",
       "      <td>323</td>\n",
       "    </tr>\n",
       "    <tr>\n",
       "      <th>2</th>\n",
       "      <td>bibl</td>\n",
       "      <td>&lt;cyfunction Comment at 0x7fb668476ee0&gt;</td>\n",
       "      <td>4</td>\n",
       "    </tr>\n",
       "    <tr>\n",
       "      <th>3</th>\n",
       "      <td>bibl</td>\n",
       "      <td>author</td>\n",
       "      <td>9116</td>\n",
       "    </tr>\n",
       "    <tr>\n",
       "      <th>4</th>\n",
       "      <td>bibl</td>\n",
       "      <td>date</td>\n",
       "      <td>9439</td>\n",
       "    </tr>\n",
       "  </tbody>\n",
       "</table>\n",
       "</div>"
      ],
      "text/plain": [
       "  source                                  target  weight\n",
       "0    TEI                               teiHeader     323\n",
       "1    TEI                                    text     323\n",
       "2   bibl  <cyfunction Comment at 0x7fb668476ee0>       4\n",
       "3   bibl                                  author    9116\n",
       "4   bibl                                    date    9439"
      ]
     },
     "execution_count": 36,
     "metadata": {},
     "output_type": "execute_result"
    }
   ],
   "source": [
    "%%time\n",
    "\n",
    "tei = []\n",
    "\n",
    "# Loop through each file within a directory.\n",
    "for file in list_of_files:\n",
    "\n",
    "    tree = etree.parse(file)\n",
    "    \n",
    "    for elem in tree.iter():\n",
    "        try:\n",
    "            child = re.sub('{.*}(.*)', '\\\\1', str(elem.tag))\n",
    "            parent = re.sub('{.*}(.*)', '\\\\1', str(elem.getparent().tag))\n",
    "            \n",
    "            data = {\n",
    "                'source': parent,\n",
    "                'target': child\n",
    "            }\n",
    "        \n",
    "            tei.append(data)\n",
    "            \n",
    "        except AttributeError:\n",
    "            pass\n",
    "\n",
    "tei = pd.DataFrame(tei)\n",
    "\n",
    "tei = tei.groupby(['source', 'target']).size().reset_index()\n",
    "tei.columns = ['source', 'target', 'weight']\n",
    "\n",
    "tei.head()"
   ]
  },
  {
   "cell_type": "code",
   "execution_count": 37,
   "id": "naughty-ribbon",
   "metadata": {},
   "outputs": [
    {
     "name": "stdout",
     "output_type": "stream",
     "text": [
      "CPU times: user 1.82 ms, sys: 2.18 ms, total: 4 ms\n",
      "Wall time: 4.56 ms\n"
     ]
    }
   ],
   "source": [
    "%%time\n",
    "\n",
    "tei.to_csv(abs_dir + 'GitHub/dsg-mhs/d3/Network/TEI-Structure/jqa_tei-structure.csv',\n",
    "           sep = ',', index = False)"
   ]
  }
 ],
 "metadata": {
  "kernelspec": {
   "display_name": "Python 3",
   "language": "python",
   "name": "python3"
  },
  "language_info": {
   "codemirror_mode": {
    "name": "ipython",
    "version": 3
   },
   "file_extension": ".py",
   "mimetype": "text/x-python",
   "name": "python",
   "nbconvert_exporter": "python",
   "pygments_lexer": "ipython3",
   "version": "3.8.5"
  }
 },
 "nbformat": 4,
 "nbformat_minor": 5
}
