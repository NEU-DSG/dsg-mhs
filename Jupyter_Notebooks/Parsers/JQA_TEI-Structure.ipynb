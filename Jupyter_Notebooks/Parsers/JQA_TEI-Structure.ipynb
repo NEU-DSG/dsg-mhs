{
 "cells": [
  {
   "cell_type": "markdown",
   "id": "smoking-shade",
   "metadata": {},
   "source": [
    "# Exploring TEI Structure of JQA\n",
    "\n",
    "Create a Network Graph of Parent-Child TEI relationships."
   ]
  },
  {
   "cell_type": "code",
   "execution_count": 1,
   "id": "liquid-baseball",
   "metadata": {},
   "outputs": [],
   "source": [
    "# Import necessary libraries.\n",
    "import re, glob, csv, sys, os, json, itertools\n",
    "import pandas as pd\n",
    "import numpy as np\n",
    "import matplotlib.pyplot as plt\n",
    "from lxml import etree\n",
    "from sklearn import preprocessing\n",
    "\n",
    "import networkx as nx\n",
    "from networkx.algorithms import community\n",
    "from networkx.readwrite import json_graph\n",
    "from operator import itemgetter\n",
    "from collections import Counter\n",
    "\n",
    "# Declare directory location to shorten filepaths later.\n",
    "abs_dir = \"/Users/quinn.wi/Documents/\"\n",
    "\n",
    "# Gather all .xml files using glob.\n",
    "list_of_files = glob.glob(abs_dir + \"Data/JQA/*/*.xml\")"
   ]
  },
  {
   "cell_type": "code",
   "execution_count": 2,
   "id": "backed-while",
   "metadata": {},
   "outputs": [
    {
     "name": "stdout",
     "output_type": "stream",
     "text": [
      "CPU times: user 2.03 s, sys: 62.2 ms, total: 2.09 s\n",
      "Wall time: 2.11 s\n"
     ]
    },
    {
     "data": {
      "text/html": [
       "<div>\n",
       "<style scoped>\n",
       "    .dataframe tbody tr th:only-of-type {\n",
       "        vertical-align: middle;\n",
       "    }\n",
       "\n",
       "    .dataframe tbody tr th {\n",
       "        vertical-align: top;\n",
       "    }\n",
       "\n",
       "    .dataframe thead th {\n",
       "        text-align: right;\n",
       "    }\n",
       "</style>\n",
       "<table border=\"1\" class=\"dataframe\">\n",
       "  <thead>\n",
       "    <tr style=\"text-align: right;\">\n",
       "      <th></th>\n",
       "      <th>source</th>\n",
       "      <th>target</th>\n",
       "      <th>weight</th>\n",
       "    </tr>\n",
       "  </thead>\n",
       "  <tbody>\n",
       "    <tr>\n",
       "      <th>0</th>\n",
       "      <td>TEI</td>\n",
       "      <td>teiHeader</td>\n",
       "      <td>323</td>\n",
       "    </tr>\n",
       "    <tr>\n",
       "      <th>1</th>\n",
       "      <td>TEI</td>\n",
       "      <td>text</td>\n",
       "      <td>323</td>\n",
       "    </tr>\n",
       "    <tr>\n",
       "      <th>2</th>\n",
       "      <td>bibl</td>\n",
       "      <td>&lt;cyfunction Comment at 0x7fb4d1122790&gt;</td>\n",
       "      <td>4</td>\n",
       "    </tr>\n",
       "    <tr>\n",
       "      <th>3</th>\n",
       "      <td>bibl</td>\n",
       "      <td>author</td>\n",
       "      <td>9116</td>\n",
       "    </tr>\n",
       "    <tr>\n",
       "      <th>4</th>\n",
       "      <td>bibl</td>\n",
       "      <td>date</td>\n",
       "      <td>9439</td>\n",
       "    </tr>\n",
       "  </tbody>\n",
       "</table>\n",
       "</div>"
      ],
      "text/plain": [
       "  source                                  target  weight\n",
       "0    TEI                               teiHeader     323\n",
       "1    TEI                                    text     323\n",
       "2   bibl  <cyfunction Comment at 0x7fb4d1122790>       4\n",
       "3   bibl                                  author    9116\n",
       "4   bibl                                    date    9439"
      ]
     },
     "execution_count": 2,
     "metadata": {},
     "output_type": "execute_result"
    }
   ],
   "source": [
    "%%time\n",
    "\n",
    "tei = []\n",
    "\n",
    "# Loop through each file within a directory.\n",
    "for file in list_of_files:\n",
    "\n",
    "    tree = etree.parse(file)\n",
    "    \n",
    "    for elem in tree.iter():\n",
    "        try:\n",
    "            child = re.sub('{.*}(.*)', '\\\\1', str(elem.tag))\n",
    "            parent = re.sub('{.*}(.*)', '\\\\1', str(elem.getparent().tag))\n",
    "            \n",
    "            data = {\n",
    "                'source': parent,\n",
    "                'target': child\n",
    "            }\n",
    "        \n",
    "            tei.append(data)\n",
    "            \n",
    "        except AttributeError:\n",
    "            pass\n",
    "\n",
    "tei = pd.DataFrame(tei)\n",
    "\n",
    "tei = tei.groupby(['source', 'target']).size().reset_index()\n",
    "tei.columns = ['source', 'target', 'weight']\n",
    "\n",
    "tei.head()"
   ]
  },
  {
   "cell_type": "code",
   "execution_count": 3,
   "id": "detailed-logistics",
   "metadata": {},
   "outputs": [
    {
     "name": "stdout",
     "output_type": "stream",
     "text": [
      "Smallest Weight: 1\n",
      "Largets Weight: 74684\n"
     ]
    },
    {
     "data": {
      "image/png": "[encoded data removed]",
      "text/plain": [
       "<Figure size 432x288 with 1 Axes>"
      ]
     },
     "metadata": {
      "needs_background": "light"
     },
     "output_type": "display_data"
    },
    {
     "name": "stdout",
     "output_type": "stream",
     "text": [
      "CPU times: user 118 ms, sys: 5.95 ms, total: 124 ms\n",
      "Wall time: 123 ms\n"
     ]
    }
   ],
   "source": [
    "%%time\n",
    "\n",
    "print (f'Smallest Weight: {min(tei.weight)}\\nLargets Weight: {max(tei.weight)}')\n",
    "\n",
    "fig, ax = plt.subplots()\n",
    "plt.hist(tei['weight'])\n",
    "plt.show()"
   ]
  },
  {
   "cell_type": "markdown",
   "id": "indoor-consequence",
   "metadata": {},
   "source": [
    "### Scale Weights"
   ]
  },
  {
   "cell_type": "code",
   "execution_count": 4,
   "id": "sharing-document",
   "metadata": {},
   "outputs": [
    {
     "data": {
      "image/png": "[encoded data removed]",
      "text/plain": [
       "<Figure size 432x288 with 1 Axes>"
      ]
     },
     "metadata": {
      "needs_background": "light"
     },
     "output_type": "display_data"
    },
    {
     "name": "stdout",
     "output_type": "stream",
     "text": [
      "CPU times: user 108 ms, sys: 5.3 ms, total: 113 ms\n",
      "Wall time: 112 ms\n"
     ]
    },
    {
     "data": {
      "text/html": [
       "<div>\n",
       "<style scoped>\n",
       "    .dataframe tbody tr th:only-of-type {\n",
       "        vertical-align: middle;\n",
       "    }\n",
       "\n",
       "    .dataframe tbody tr th {\n",
       "        vertical-align: top;\n",
       "    }\n",
       "\n",
       "    .dataframe thead th {\n",
       "        text-align: right;\n",
       "    }\n",
       "</style>\n",
       "<table border=\"1\" class=\"dataframe\">\n",
       "  <thead>\n",
       "    <tr style=\"text-align: right;\">\n",
       "      <th></th>\n",
       "      <th>source</th>\n",
       "      <th>target</th>\n",
       "      <th>weight</th>\n",
       "    </tr>\n",
       "  </thead>\n",
       "  <tbody>\n",
       "    <tr>\n",
       "      <th>67</th>\n",
       "      <td>p</td>\n",
       "      <td>persRef</td>\n",
       "      <td>7.983747</td>\n",
       "    </tr>\n",
       "    <tr>\n",
       "      <th>71</th>\n",
       "      <td>persRef</td>\n",
       "      <td>hi</td>\n",
       "      <td>2.955332</td>\n",
       "    </tr>\n",
       "    <tr>\n",
       "      <th>21</th>\n",
       "      <td>div</td>\n",
       "      <td>div</td>\n",
       "      <td>1.713778</td>\n",
       "    </tr>\n",
       "  </tbody>\n",
       "</table>\n",
       "</div>"
      ],
      "text/plain": [
       "     source   target    weight\n",
       "67        p  persRef  7.983747\n",
       "71  persRef       hi  2.955332\n",
       "21      div      div  1.713778"
      ]
     },
     "execution_count": 4,
     "metadata": {},
     "output_type": "execute_result"
    }
   ],
   "source": [
    "%%time\n",
    "\n",
    "scaler = preprocessing.StandardScaler()\n",
    "tei['weight'] = scaler.fit_transform(tei[['weight']])\n",
    "\n",
    "fig, ax = plt.subplots()\n",
    "plt.hist(tei['weight'])\n",
    "plt.show()\n",
    "\n",
    "tei.sort_values(by = 'weight', ascending = False).head(3)"
   ]
  },
  {
   "cell_type": "markdown",
   "id": "unable-fraud",
   "metadata": {},
   "source": [
    "## Create Network Object"
   ]
  },
  {
   "cell_type": "code",
   "execution_count": 5,
   "id": "satisfactory-membership",
   "metadata": {},
   "outputs": [
    {
     "name": "stdout",
     "output_type": "stream",
     "text": [
      "CPU times: user 6.73 ms, sys: 49 µs, total: 6.78 ms\n",
      "Wall time: 6.82 ms\n"
     ]
    }
   ],
   "source": [
    "%%time\n",
    "\n",
    "G = nx.from_pandas_edgelist(tei, \n",
    "                            'source', 'target', 'weight')\n",
    "\n",
    "# Add Nodes.\n",
    "nodes = list( dict.fromkeys( tei['source'].values.tolist() + tei['target'].values.tolist()))\n",
    "nodes = pd.DataFrame( nodes, columns = ['source'])\n",
    "G.add_nodes_from(nodes)\n",
    "\n",
    "# Add attributes & measurements.\n",
    "nx.set_node_attributes(G, dict(G.degree(G.nodes())), 'degree')\n",
    "\n",
    "betweenness = nx.betweenness_centrality(G)\n",
    "eigenvector = nx.eigenvector_centrality(G)\n",
    "degree_cent = nx.degree_centrality(G)\n",
    "\n",
    "nx.set_node_attributes(G, betweenness, 'betweenness')\n",
    "nx.set_node_attributes(G, eigenvector, 'eigenvector')\n",
    "nx.set_node_attributes(G, degree_cent, 'degree_centrality')\n",
    "\n",
    "# Find communities.\n",
    "communities = community.greedy_modularity_communities(G)\n",
    "\n",
    "modularity_dict = {}\n",
    "for i, c in enumerate(communities):\n",
    "    for name in c:\n",
    "        modularity_dict[name] = i\n",
    "        \n",
    "nx.set_node_attributes(G, modularity_dict, 'modularity')"
   ]
  },
  {
   "cell_type": "code",
   "execution_count": 6,
   "id": "mental-kazakhstan",
   "metadata": {},
   "outputs": [
    {
     "name": "stdout",
     "output_type": "stream",
     "text": [
      "CPU times: user 1.03 ms, sys: 897 µs, total: 1.92 ms\n",
      "Wall time: 1.22 ms\n"
     ]
    }
   ],
   "source": [
    "%%time\n",
    "\n",
    "with open(abs_dir + \"GitHub/dsg-mhs/d3/Network/TEI-Structure/jqa_tei-network.json\", \"w\") as f:\n",
    "    \n",
    "    f.write( json.dumps( json_graph.node_link_data(G)))"
   ]
  },
  {
   "cell_type": "markdown",
   "id": "working-italian",
   "metadata": {},
   "source": [
    "## Convert Data for Hierarchical Format (Tree)"
   ]
  },
  {
   "cell_type": "code",
   "execution_count": 7,
   "id": "structural-interface",
   "metadata": {},
   "outputs": [
    {
     "name": "stdout",
     "output_type": "stream",
     "text": [
      "CPU times: user 3.13 ms, sys: 595 µs, total: 3.73 ms\n",
      "Wall time: 3.19 ms\n"
     ]
    },
    {
     "data": {
      "text/html": [
       "<div>\n",
       "<style scoped>\n",
       "    .dataframe tbody tr th:only-of-type {\n",
       "        vertical-align: middle;\n",
       "    }\n",
       "\n",
       "    .dataframe tbody tr th {\n",
       "        vertical-align: top;\n",
       "    }\n",
       "\n",
       "    .dataframe thead th {\n",
       "        text-align: right;\n",
       "    }\n",
       "</style>\n",
       "<table border=\"1\" class=\"dataframe\">\n",
       "  <thead>\n",
       "    <tr style=\"text-align: right;\">\n",
       "      <th></th>\n",
       "      <th>source</th>\n",
       "      <th>target</th>\n",
       "      <th>weight</th>\n",
       "    </tr>\n",
       "  </thead>\n",
       "  <tbody>\n",
       "    <tr>\n",
       "      <th>0</th>\n",
       "      <td>TEI</td>\n",
       "      <td>teiHeader</td>\n",
       "      <td>-0.275618</td>\n",
       "    </tr>\n",
       "    <tr>\n",
       "      <th>1</th>\n",
       "      <td>TEI</td>\n",
       "      <td>text</td>\n",
       "      <td>-0.275618</td>\n",
       "    </tr>\n",
       "    <tr>\n",
       "      <th>2</th>\n",
       "      <td>bibl</td>\n",
       "      <td>&lt;cyfunction Comment at 0x7fb4d1122790&gt;</td>\n",
       "      <td>-0.311050</td>\n",
       "    </tr>\n",
       "    <tr>\n",
       "      <th>3</th>\n",
       "      <td>bibl</td>\n",
       "      <td>author</td>\n",
       "      <td>0.701031</td>\n",
       "    </tr>\n",
       "    <tr>\n",
       "      <th>4</th>\n",
       "      <td>bibl</td>\n",
       "      <td>date</td>\n",
       "      <td>0.736907</td>\n",
       "    </tr>\n",
       "  </tbody>\n",
       "</table>\n",
       "</div>"
      ],
      "text/plain": [
       "  source                                  target    weight\n",
       "0    TEI                               teiHeader -0.275618\n",
       "1    TEI                                    text -0.275618\n",
       "2   bibl  <cyfunction Comment at 0x7fb4d1122790> -0.311050\n",
       "3   bibl                                  author  0.701031\n",
       "4   bibl                                    date  0.736907"
      ]
     },
     "execution_count": 7,
     "metadata": {},
     "output_type": "execute_result"
    }
   ],
   "source": [
    "%%time\n",
    "\n",
    "# Adjust fields to accomodate hierarchical structure.\n",
    "\n",
    "# # TEI elements can have multiple parents in XML (appear within different elements) but not in Collapsible Tree.\n",
    "# tei['idx'] = tei.index\n",
    "# tei['source'] = tei['source'] + \"_\" + tei['idx'].astype(str)\n",
    "# tei['target'] = tei['target'] + \"_\" + tei['idx'].astype(str)\n",
    "\n",
    "# Add root.\n",
    "tei_root = ['TEI', '', '']\n",
    "tei.loc[len(tei)] = tei_root\n",
    "\n",
    "tei.head()"
   ]
  },
  {
   "cell_type": "code",
   "execution_count": 9,
   "id": "continued-marketplace",
   "metadata": {},
   "outputs": [
    {
     "ename": "KeyError",
     "evalue": "'TEI'",
     "output_type": "error",
     "traceback": [
      "\u001b[0;31m---------------------------------------------------------------------------\u001b[0m",
      "\u001b[0;31mKeyError\u001b[0m                                  Traceback (most recent call last)",
      "\u001b[0;32m<timed exec>\u001b[0m in \u001b[0;36m<module>\u001b[0;34m\u001b[0m\n",
      "\u001b[0;31mKeyError\u001b[0m: 'TEI'"
     ]
    }
   ],
   "source": [
    "# %%time\n",
    "\n",
    "# tei_json = {}\n",
    "\n",
    "# \"\"\"\n",
    "# For source in TEI\n",
    "\n",
    "# children = target\n",
    "\n",
    "# \"\"\"\n",
    "\n",
    "# for idx, row in tei.iterrows():\n",
    "#     node = row['source']\n",
    "#     child = row['target']\n",
    "    \n",
    "#     if tei_json[node]:\n",
    "#         tei_json[node]['children'] += child\n",
    "        \n",
    "#     else:\n",
    "#         tei_json[node] = [{}]\n",
    "#         tei_json[node]['name'] = child"
   ]
  },
  {
   "cell_type": "code",
   "execution_count": 8,
   "id": "naughty-ribbon",
   "metadata": {},
   "outputs": [
    {
     "name": "stdout",
     "output_type": "stream",
     "text": [
      "CPU times: user 2.39 ms, sys: 1.64 ms, total: 4.03 ms\n",
      "Wall time: 2.91 ms\n"
     ]
    }
   ],
   "source": [
    "%%time\n",
    "\n",
    "tei.to_csv(abs_dir + 'GitHub/dsg-mhs/d3/Network/TEI-Structure/jqa_tei-structure.csv',\n",
    "           sep = ',', index = False)"
   ]
  }
 ],
 "metadata": {
  "kernelspec": {
   "display_name": "Python 3",
   "language": "python",
   "name": "python3"
  },
  "language_info": {
   "codemirror_mode": {
    "name": "ipython",
    "version": 3
   },
   "file_extension": ".py",
   "mimetype": "text/x-python",
   "name": "python",
   "nbconvert_exporter": "python",
   "pygments_lexer": "ipython3",
   "version": "3.8.5"
  }
 },
 "nbformat": 4,
 "nbformat_minor": 5
}
