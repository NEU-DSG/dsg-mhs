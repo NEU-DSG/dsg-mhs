{
 "cells": [
  {
   "cell_type": "markdown",
   "id": "several-anger",
   "metadata": {},
   "source": [
    "# XML Parser -- Richards"
   ]
  },
  {
   "cell_type": "code",
   "execution_count": 2,
   "id": "renewable-branch",
   "metadata": {},
   "outputs": [],
   "source": [
    "# Import necessary libraries.\n",
    "import re, glob, csv, sys, os\n",
    "import pandas as pd\n",
    "import xml.etree.ElementTree as ET\n",
    "\n",
    "# Declare directory location to shorten filepaths later.\n",
    "abs_dir = \"/Users/quinn.wi/Documents/\"\n",
    "\n",
    "# Gather all .xml files using glob.\n",
    "list_of_files = glob.glob(abs_dir + \"Data/PSC/Richards/ESR-XML-Files-MHS/*.xml\")"
   ]
  },
  {
   "cell_type": "markdown",
   "id": "curious-paraguay",
   "metadata": {},
   "source": [
    "## Define Functions"
   ]
  },
  {
   "cell_type": "code",
   "execution_count": 3,
   "id": "psychological-circumstances",
   "metadata": {},
   "outputs": [],
   "source": [
    "'''\n",
    "Arguments of Functions:\n",
    "\n",
    "    namespace:\n",
    "\n",
    "    ancestor:\n",
    "    \n",
    "    xpath_as_string:\n",
    "    \n",
    "    attrib_val_str:\n",
    "    \n",
    "'''\n",
    "\n",
    "# Read in file and get root of XML tree.\n",
    "def get_root(xml_file):\n",
    "    tree = ET.parse(xml_file)\n",
    "    root = tree.getroot()\n",
    "    return root\n",
    "\n",
    "\n",
    "# Get namespace of individual file from root element.\n",
    "def get_namespace(root):\n",
    "    namespace = re.match(r\"{(.*)}\", str(root.tag))\n",
    "    ns = {\"ns\":namespace.group(1)}\n",
    "    return ns"
   ]
  },
  {
   "cell_type": "markdown",
   "id": "worthy-portfolio",
   "metadata": {},
   "source": [
    "## Parse Documents"
   ]
  },
  {
   "cell_type": "code",
   "execution_count": 10,
   "id": "constant-convert",
   "metadata": {},
   "outputs": [
    {
     "name": "stdout",
     "output_type": "stream",
     "text": [
      "richards-ellen\n",
      "richards-ellen\n",
      "richards-ellen\n",
      "/Users/quinn.wi/Documents/Data/PSC/Richards/ESR-XML-Files-MHS/ESR-EDA-1893-09-24.xml \n",
      "\n",
      "richards-ellen\n",
      "richards-ellen\n",
      "richards-ellen\n",
      "richards-ellen\n",
      "richards-ellen\n",
      "richards-ellen\n",
      "richards-ellen\n",
      "richards-ellen\n",
      "richards-ellen\n",
      "richards-ellen\n",
      "richards-ellen\n",
      "richards-ellen\n",
      "richards-ellen\n",
      "richards-ellen\n",
      "richards-ellen\n",
      "richards-ellen\n",
      "CPU times: user 12.2 ms, sys: 3.78 ms, total: 16 ms\n",
      "Wall time: 14.8 ms\n"
     ]
    },
    {
     "data": {
      "text/html": [
       "<div>\n",
       "<style scoped>\n",
       "    .dataframe tbody tr th:only-of-type {\n",
       "        vertical-align: middle;\n",
       "    }\n",
       "\n",
       "    .dataframe tbody tr th {\n",
       "        vertical-align: top;\n",
       "    }\n",
       "\n",
       "    .dataframe thead th {\n",
       "        text-align: right;\n",
       "    }\n",
       "</style>\n",
       "<table border=\"1\" class=\"dataframe\">\n",
       "  <thead>\n",
       "    <tr style=\"text-align: right;\">\n",
       "      <th></th>\n",
       "      <th>file</th>\n",
       "      <th>date</th>\n",
       "      <th>source</th>\n",
       "      <th>target</th>\n",
       "      <th>subjects</th>\n",
       "      <th>references</th>\n",
       "      <th>text</th>\n",
       "    </tr>\n",
       "  </thead>\n",
       "  <tbody>\n",
       "    <tr>\n",
       "      <th>0</th>\n",
       "      <td>ESR-EDA-1892-01-08.xml</td>\n",
       "      <td>1892-01-08</td>\n",
       "      <td>richards-ellen</td>\n",
       "      <td>atkinson-edward</td>\n",
       "      <td>1893 Chicago World's Fair,Aladdin Oven,New Eng...</td>\n",
       "      <td>palmer-bertha,hovey-e,daniells-unknown</td>\n",
       "      <td>Boston Jan 8 1892 My dear Mr Atkinson I enclo...</td>\n",
       "    </tr>\n",
       "    <tr>\n",
       "      <th>1</th>\n",
       "      <td>ESR-EDA-1892-04-12.xml</td>\n",
       "      <td>1892-04-12</td>\n",
       "      <td>richards-ellen</td>\n",
       "      <td>atkinson-edward</td>\n",
       "      <td>Aladdin Oven,nutrition,cooking</td>\n",
       "      <td>abel-mary</td>\n",
       "      <td>April 12— Dear Mr Atkinson I expect Mrs Abel ...</td>\n",
       "    </tr>\n",
       "    <tr>\n",
       "      <th>2</th>\n",
       "      <td>ESR-EDA-1892-04-07.xml</td>\n",
       "      <td>1892-04-07</td>\n",
       "      <td>richards-ellen</td>\n",
       "      <td>atkinson-edward</td>\n",
       "      <td>Aladdin Oven,Nutrition,cooking</td>\n",
       "      <td>conro-emma,abel-mary</td>\n",
       "      <td>Boston, April 7, 1892 My dear Mr. Atkinson I ...</td>\n",
       "    </tr>\n",
       "  </tbody>\n",
       "</table>\n",
       "</div>"
      ],
      "text/plain": [
       "                     file        date          source           target  \\\n",
       "0  ESR-EDA-1892-01-08.xml  1892-01-08  richards-ellen  atkinson-edward   \n",
       "1  ESR-EDA-1892-04-12.xml  1892-04-12  richards-ellen  atkinson-edward   \n",
       "2  ESR-EDA-1892-04-07.xml  1892-04-07  richards-ellen  atkinson-edward   \n",
       "\n",
       "                                            subjects  \\\n",
       "0  1893 Chicago World's Fair,Aladdin Oven,New Eng...   \n",
       "1                     Aladdin Oven,nutrition,cooking   \n",
       "2                     Aladdin Oven,Nutrition,cooking   \n",
       "\n",
       "                               references  \\\n",
       "0  palmer-bertha,hovey-e,daniells-unknown   \n",
       "1                               abel-mary   \n",
       "2                    conro-emma,abel-mary   \n",
       "\n",
       "                                                text  \n",
       "0   Boston Jan 8 1892 My dear Mr Atkinson I enclo...  \n",
       "1   April 12— Dear Mr Atkinson I expect Mrs Abel ...  \n",
       "2   Boston, April 7, 1892 My dear Mr. Atkinson I ...  "
      ]
     },
     "execution_count": 10,
     "metadata": {},
     "output_type": "execute_result"
    }
   ],
   "source": [
    "%%time\n",
    "\n",
    "dataframe = []\n",
    "\n",
    "for file in list_of_files:\n",
    "    \n",
    "    try:\n",
    "        root = get_root(file)\n",
    "        ns = get_namespace(root)\n",
    "\n",
    "        reFile = str(re.search(r'.*/(.*.xml)', str(file)).group(1)) # get filename without path\n",
    "\n",
    "        date = root.find('.//ns:date/[@type=\"creation\"]', ns).get('when') # get date.\n",
    "\n",
    "        source = root.find('.//ns:bibl//ns:author', ns).text   # get source/author & target/recipient\n",
    "        target = root.find('.//ns:bibl//ns:recipient', ns).text\n",
    "        \n",
    "    #     Loops\n",
    "    #     loop to get all references (persRef)\n",
    "        references_l = []\n",
    "        for ref in root.findall('.//ns:persRef', ns):\n",
    "            person = ref.get('ref')\n",
    "            references_l.append(person)\n",
    "        references = ','.join(references_l)\n",
    "\n",
    "    #     loop to get subjects.\n",
    "        subject_l = []\n",
    "        for subject in root.findall('.//ns:subject', ns):\n",
    "            subject_l.append(subject.text)\n",
    "        subjects = ','.join(subject_l)\n",
    "\n",
    "    #     loop to get all text within <div type=\"docbody\">\n",
    "        text_l = []\n",
    "        for txt in root.findall('.//ns:div[@type=\"docbody\"]', ns):\n",
    "            string = ''.join(ET.tostring(txt, encoding='unicode', method='text'))\n",
    "            clean_string = re.sub(r'[\\t\\n\\s]+', ' ', string)\n",
    "            text_l.append(clean_string)\n",
    "        content = ' '.join(text_l)\n",
    "\n",
    "\n",
    "        row = {'file': reFile, 'date': date, 'source': source, 'target':target, \n",
    "               'subjects': subjects, 'references': references, 'text': content}\n",
    "        \n",
    "\n",
    "        dataframe.append(row)\n",
    "        \n",
    "    except:\n",
    "        print (file, '\\n')\n",
    "    \n",
    "df = pd.DataFrame(dataframe)\n",
    "\n",
    "df.head(3)"
   ]
  },
  {
   "cell_type": "code",
   "execution_count": 78,
   "id": "connected-particle",
   "metadata": {},
   "outputs": [
    {
     "name": "stdout",
     "output_type": "stream",
     "text": [
      "CPU times: user 1.69 ms, sys: 1.19 ms, total: 2.87 ms\n",
      "Wall time: 2.04 ms\n"
     ]
    }
   ],
   "source": [
    "%%time\n",
    "\n",
    "df.to_csv(abs_dir + 'Data/Output/ParsedXML/Richards_dataframe.txt', sep='\\t', index=False)"
   ]
  },
  {
   "cell_type": "code",
   "execution_count": null,
   "id": "vocational-mistake",
   "metadata": {},
   "outputs": [],
   "source": []
  }
 ],
 "metadata": {
  "kernelspec": {
   "display_name": "Python 3",
   "language": "python",
   "name": "python3"
  },
  "language_info": {
   "codemirror_mode": {
    "name": "ipython",
    "version": 3
   },
   "file_extension": ".py",
   "mimetype": "text/x-python",
   "name": "python",
   "nbconvert_exporter": "python",
   "pygments_lexer": "ipython3",
   "version": "3.8.5"
  }
 },
 "nbformat": 4,
 "nbformat_minor": 5
}
