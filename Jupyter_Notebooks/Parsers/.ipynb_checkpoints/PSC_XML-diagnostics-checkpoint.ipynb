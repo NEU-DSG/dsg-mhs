{
 "cells": [
  {
   "cell_type": "markdown",
   "id": "helpful-storm",
   "metadata": {},
   "source": [
    "# Primary Source Coop - XML Diagnostics"
   ]
  },
  {
   "cell_type": "code",
   "execution_count": 1,
   "id": "mexican-therapist",
   "metadata": {},
   "outputs": [],
   "source": [
    "# Import necessary libraries.\n",
    "import re, glob, csv, sys, os\n",
    "import pandas as pd\n",
    "import xml.etree.ElementTree as ET\n",
    "\n",
    "# Declare directory location to shorten filepaths later.\n",
    "abs_dir = \"/Users/quinn.wi/Documents/\"\n",
    "\n",
    "# Gather all .xml files using glob.\n",
    "list_of_files = glob.glob(abs_dir + \"Data/PSC/*/*/*.xml\")"
   ]
  },
  {
   "cell_type": "code",
   "execution_count": 2,
   "id": "trying-geography",
   "metadata": {},
   "outputs": [
    {
     "name": "stdout",
     "output_type": "stream",
     "text": [
      "Files read: 664\n",
      "Out of 665\n",
      "CPU times: user 1.18 s, sys: 106 ms, total: 1.29 s\n",
      "Wall time: 1.58 s\n"
     ]
    }
   ],
   "source": [
    "%%time\n",
    "\n",
    "# Declare regex to simplify file paths below\n",
    "regex = re.compile(r'.*/\\d{4}/(.*)')\n",
    "\n",
    "\n",
    "# Read in file and get root of XML tree.\n",
    "def get_root(xml_file):\n",
    "    tree = ET.parse(xml_file)\n",
    "    root = tree.getroot()\n",
    "    return root\n",
    "\n",
    "\n",
    "failed_files = []\n",
    "successful_files = 0\n",
    "\n",
    "for file in list_of_files:\n",
    "    try:\n",
    "        root = get_root(file)\n",
    "        successful_files = successful_files + 1\n",
    "    except:\n",
    "        failed_files.append(file)\n",
    "#         str(regex.search(file).groups())\n",
    "        \n",
    "print (f'Files read: {successful_files}\\nOut of {len(list_of_files)}')"
   ]
  },
  {
   "cell_type": "code",
   "execution_count": 3,
   "id": "taken-cabinet",
   "metadata": {},
   "outputs": [
    {
     "data": {
      "text/plain": [
       "['/Users/quinn.wi/Documents/Data/PSC/Richards/ESR-XML-Files-MHS/ESR-EDA-1893-09-24.xml']"
      ]
     },
     "execution_count": 3,
     "metadata": {},
     "output_type": "execute_result"
    }
   ],
   "source": [
    "failed_files"
   ]
  },
  {
   "cell_type": "code",
   "execution_count": 4,
   "id": "liable-chancellor",
   "metadata": {},
   "outputs": [
    {
     "name": "stdout",
     "output_type": "stream",
     "text": [
      "JQA: 607\n",
      "Richards: 20\n",
      "Taney: 38\n",
      "\n",
      "CPU times: user 3.1 ms, sys: 3.39 ms, total: 6.49 ms\n",
      "Wall time: 5.52 ms\n"
     ]
    }
   ],
   "source": [
    "%%time\n",
    "\n",
    "jqa_files = glob.glob(abs_dir + \"Data/PSC/JQA/*/*.xml\")\n",
    "richards = glob.glob(abs_dir + \"Data/PSC/Richards/ESR-XML-Files-MHS/*.xml\")\n",
    "taney = glob.glob(abs_dir + \"Data/PSC/Taney/TaneyXML-Oct2020/*.xml\")\n",
    "sedgwick = glob.glob(abs_dir + \"Data/PSC/Sedgwick/*.xml\")\n",
    "\n",
    "len(jqa_files)\n",
    "\n",
    "print (f'JQA: {len(jqa_files)}\\nRichards: {len(richards)}\\nTaney: {len(taney)}\\n')"
   ]
  },
  {
   "cell_type": "code",
   "execution_count": null,
   "id": "associate-wellington",
   "metadata": {},
   "outputs": [],
   "source": []
  }
 ],
 "metadata": {
  "kernelspec": {
   "display_name": "Python 3",
   "language": "python",
   "name": "python3"
  },
  "language_info": {
   "codemirror_mode": {
    "name": "ipython",
    "version": 3
   },
   "file_extension": ".py",
   "mimetype": "text/x-python",
   "name": "python",
   "nbconvert_exporter": "python",
   "pygments_lexer": "ipython3",
   "version": "3.8.5"
  }
 },
 "nbformat": 4,
 "nbformat_minor": 5
}
