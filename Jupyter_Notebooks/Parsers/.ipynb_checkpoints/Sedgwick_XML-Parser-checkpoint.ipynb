{
 "cells": [
  {
   "cell_type": "markdown",
   "id": "unknown-creativity",
   "metadata": {},
   "source": [
    "# XML Parser -- Sedgwick"
   ]
  },
  {
   "cell_type": "code",
   "execution_count": null,
   "id": "primary-emission",
   "metadata": {},
   "outputs": [],
   "source": [
    "# Import necessary libraries.\n",
    "import re, glob, csv, sys, os\n",
    "import pandas as pd\n",
    "import xml.etree.ElementTree as ET\n",
    "\n",
    "# Declare directory location to shorten filepaths later.\n",
    "abs_dir = \"/Users/quinn.wi/Documents/\"\n",
    "\n",
    "# Gather all .xml files using glob.\n",
    "list_of_files = glob.glob(abs_dir + \"Data/PSC/Sedgwick/*.xml\")"
   ]
  },
  {
   "cell_type": "markdown",
   "id": "hired-blocking",
   "metadata": {},
   "source": [
    "## Functions"
   ]
  },
  {
   "cell_type": "code",
   "execution_count": null,
   "id": "indoor-facing",
   "metadata": {},
   "outputs": [],
   "source": [
    "'''\n",
    "Arguments of Functions:\n",
    "\n",
    "    namespace:\n",
    "\n",
    "    ancestor:\n",
    "    \n",
    "    xpath_as_string:\n",
    "    \n",
    "    attrib_val_str:\n",
    "    \n",
    "'''\n",
    "\n",
    "# Read in file and get root of XML tree.\n",
    "def get_root(xml_file):\n",
    "    tree = ET.parse(xml_file)\n",
    "    root = tree.getroot()\n",
    "    return root\n",
    "\n",
    "\n",
    "# Get namespace of individual file from root element.\n",
    "def get_namespace(root):\n",
    "    namespace = re.match(r\"{(.*)}\", str(root.tag))\n",
    "    ns = {\"ns\":namespace.group(1)}\n",
    "    return ns"
   ]
  },
  {
   "cell_type": "markdown",
   "id": "centered-allocation",
   "metadata": {},
   "source": [
    "## Parser Files"
   ]
  },
  {
   "cell_type": "code",
   "execution_count": null,
   "id": "still-census",
   "metadata": {},
   "outputs": [],
   "source": [
    "%%time\n",
    "\n",
    "dataframe = []\n",
    "\n",
    "for file in list_of_files:\n",
    "    \n",
    "    try:\n",
    "        root = get_root(file)\n",
    "        ns = get_namespace(root)\n",
    "\n",
    "        reFile = str(re.search(r'.*/(.*.xml)', str(file)).group(1)) # get filename without path\n",
    "\n",
    "        date = root.find('.//ns:date/[@type=\"creation\"]', ns).get('when') # get date.\n",
    "\n",
    "        source = root.find('.//ns:author', ns).text   # get source/author & target/recipient\n",
    "        target = root.find('.//ns:recipient', ns).text\n",
    "\n",
    "    #     Loops\n",
    "    #     loop to get all references (persRef)\n",
    "        references_l = []\n",
    "        for ref in root.findall('.//ns:persRef', ns):\n",
    "            person = ref.get('ref')\n",
    "            references_l.append(person)\n",
    "        references = ','.join(references_l)\n",
    "\n",
    "    #     loop to get subjects.\n",
    "        subject_l = []\n",
    "        for subject in root.findall('.//ns:subject', ns):\n",
    "            subject_l.append(subject.text)\n",
    "        subjects = ','.join(subject_l)\n",
    "\n",
    "    #     loop to get all text within <div type=\"docbody\">\n",
    "        text_l = []\n",
    "        for txt in root.findall('.//ns:div[@type=\"docbody\"]', ns):\n",
    "            string = ''.join(ET.tostring(txt, encoding='unicode', method='text'))\n",
    "            clean_string = re.sub(r'[\\t\\n\\s]+', ' ', string)\n",
    "            text_l.append(clean_string)\n",
    "        content = ' '.join(text_l)\n",
    "\n",
    "\n",
    "        row = {'file': reFile, 'data': date, 'source': source, 'target':target, \n",
    "               'subjects': subjects, 'references': references, 'text': content}\n",
    "        \n",
    "\n",
    "        dataframe.append(row)\n",
    "        \n",
    "    except:\n",
    "        print (file, '\\n')\n",
    "    \n",
    "df = pd.DataFrame(dataframe)\n",
    "\n",
    "df.head(3)"
   ]
  },
  {
   "cell_type": "code",
   "execution_count": null,
   "id": "ordered-flush",
   "metadata": {},
   "outputs": [],
   "source": [
    "%%time\n",
    "\n",
    "df.to_csv(abs_dir + 'Data/Output/ParsedXML/Sedgwick_dataframe.txt', sep='\\t', index=False)"
   ]
  }
 ],
 "metadata": {
  "kernelspec": {
   "display_name": "Python 3",
   "language": "python",
   "name": "python3"
  },
  "language_info": {
   "codemirror_mode": {
    "name": "ipython",
    "version": 3
   },
   "file_extension": ".py",
   "mimetype": "text/x-python",
   "name": "python",
   "nbconvert_exporter": "python",
   "pygments_lexer": "ipython3",
   "version": "3.8.5"
  }
 },
 "nbformat": 4,
 "nbformat_minor": 5
}
