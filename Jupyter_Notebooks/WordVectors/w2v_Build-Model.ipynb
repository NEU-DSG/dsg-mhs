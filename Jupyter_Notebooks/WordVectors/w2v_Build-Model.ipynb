{
 "cells": [
  {
   "cell_type": "markdown",
   "id": "recovered-shark",
   "metadata": {},
   "source": [
    "# Build Simple word2vec Model\n",
    "\n",
    "\n",
    "* Code Sampled from [Laura K. Nelson's GitHub](https://github.com/lknelson/measuring_intersectionality/blob/main/scripts/00_measuringintersectionality_constructmodels.ipynb)"
   ]
  },
  {
   "cell_type": "code",
   "execution_count": 2,
   "id": "significant-breast",
   "metadata": {},
   "outputs": [],
   "source": [
    "import sys, os, string, glob, gensim\n",
    "import pandas as pd\n",
    "import numpy as np\n",
    "from nltk.tokenize import word_tokenize, sent_tokenize\n",
    "\n",
    "# Import parser module.\n",
    "module_path = os.path.abspath(os.path.join('..'))\n",
    "\n",
    "if module_path not in sys.path:\n",
    "    sys.path.append(module_path + '//Scripts')\n",
    "\n",
    "from functions_xml_ET_parse import *\n",
    "\n",
    "# Declare absolute path.\n",
    "abs_dir = \"/Users/quinn.wi/Documents/\"\n",
    "\n",
    "# Define tokenizer.\n",
    "def fast_tokenize(text):\n",
    "    \n",
    "    # Get a list of punctuation marks\n",
    "    punct = string.punctuation + '“' + '”' + '‘' + \"’\"\n",
    "    \n",
    "    lower_case = text.lower()\n",
    "    lower_case = lower_case.replace('—', ' ').replace('\\n', ' ')\n",
    "    \n",
    "    # Iterate through text removing punctuation characters\n",
    "    no_punct = \"\".join([char for char in lower_case if char not in punct])\n",
    "    \n",
    "    # Split text over whitespace into list of words\n",
    "    tokens = no_punct.split()\n",
    "    \n",
    "    return tokens"
   ]
  },
  {
   "cell_type": "markdown",
   "id": "resistant-rocket",
   "metadata": {},
   "source": [
    "## Build Dataframe from XML"
   ]
  },
  {
   "cell_type": "code",
   "execution_count": 18,
   "id": "correct-henry",
   "metadata": {},
   "outputs": [
    {
     "name": "stdout",
     "output_type": "stream",
     "text": [
      "CPU times: user 621 ms, sys: 16.4 ms, total: 638 ms\n",
      "Wall time: 649 ms\n"
     ]
    },
    {
     "data": {
      "text/html": [
       "<div>\n",
       "<style scoped>\n",
       "    .dataframe tbody tr th:only-of-type {\n",
       "        vertical-align: middle;\n",
       "    }\n",
       "\n",
       "    .dataframe tbody tr th {\n",
       "        vertical-align: top;\n",
       "    }\n",
       "\n",
       "    .dataframe thead th {\n",
       "        text-align: right;\n",
       "    }\n",
       "</style>\n",
       "<table border=\"1\" class=\"dataframe\">\n",
       "  <thead>\n",
       "    <tr style=\"text-align: right;\">\n",
       "      <th></th>\n",
       "      <th>file</th>\n",
       "      <th>entry</th>\n",
       "      <th>date</th>\n",
       "      <th>people</th>\n",
       "      <th>text</th>\n",
       "    </tr>\n",
       "  </thead>\n",
       "  <tbody>\n",
       "    <tr>\n",
       "      <th>0</th>\n",
       "      <td>('JQADiaries-v49-1825-01-p795.xml',)</td>\n",
       "      <td>jqadiaries-v49-1825-01-01</td>\n",
       "      <td>1825-01-01</td>\n",
       "      <td></td>\n",
       "      <td>1. VI:30. H. Humphreys here, for Methodist Chu...</td>\n",
       "    </tr>\n",
       "    <tr>\n",
       "      <th>1</th>\n",
       "      <td>('JQADiaries-v49-1825-01-p795.xml',)</td>\n",
       "      <td>jqadiaries-v49-1825-01-02</td>\n",
       "      <td>1825-01-02</td>\n",
       "      <td></td>\n",
       "      <td>2. VII:15— Heard Lynde at the Capitol—late. Ca...</td>\n",
       "    </tr>\n",
       "    <tr>\n",
       "      <th>2</th>\n",
       "      <td>('JQADiaries-v49-1825-01-p795.xml',)</td>\n",
       "      <td>jqadiaries-v49-1825-01-03</td>\n",
       "      <td>1825-01-03</td>\n",
       "      <td></td>\n",
       "      <td>3. VII. I called at M. Van-Buren’s lodgings—ou...</td>\n",
       "    </tr>\n",
       "    <tr>\n",
       "      <th>3</th>\n",
       "      <td>('JQADiaries-v49-1825-01-p795.xml',)</td>\n",
       "      <td>jqadiaries-v49-1825-01-04</td>\n",
       "      <td>1825-01-04</td>\n",
       "      <td></td>\n",
       "      <td>4. VI:30. W. Findlay here; Statesman Newspaper...</td>\n",
       "    </tr>\n",
       "  </tbody>\n",
       "</table>\n",
       "</div>"
      ],
      "text/plain": [
       "                                   file                      entry  \\\n",
       "0  ('JQADiaries-v49-1825-01-p795.xml',)  jqadiaries-v49-1825-01-01   \n",
       "1  ('JQADiaries-v49-1825-01-p795.xml',)  jqadiaries-v49-1825-01-02   \n",
       "2  ('JQADiaries-v49-1825-01-p795.xml',)  jqadiaries-v49-1825-01-03   \n",
       "3  ('JQADiaries-v49-1825-01-p795.xml',)  jqadiaries-v49-1825-01-04   \n",
       "\n",
       "         date people                                               text  \n",
       "0  1825-01-01         1. VI:30. H. Humphreys here, for Methodist Chu...  \n",
       "1  1825-01-02         2. VII:15— Heard Lynde at the Capitol—late. Ca...  \n",
       "2  1825-01-03         3. VII. I called at M. Van-Buren’s lodgings—ou...  \n",
       "3  1825-01-04         4. VI:30. W. Findlay here; Statesman Newspaper...  "
      ]
     },
     "execution_count": 18,
     "metadata": {},
     "output_type": "execute_result"
    }
   ],
   "source": [
    "%%time\n",
    "\n",
    "\"\"\"\n",
    "Declare variables.\n",
    "\"\"\"\n",
    "\n",
    "# Declare regex to simplify file paths below\n",
    "regex = re.compile(r'.*/\\d{4}/(.*)')\n",
    "\n",
    "# Declare document level of file. Requires root starting point ('.').\n",
    "doc_as_xpath = './/ns:div/[@type=\"entry\"]'\n",
    "\n",
    "# Declare date element of each document.\n",
    "date_path = './ns:bibl/ns:date/[@when]'\n",
    "\n",
    "# Declare person elements in each document.\n",
    "person_path = './/ns:p/ns:persRef/[@ref]'\n",
    "\n",
    "# Declare text level within each document.\n",
    "text_path = './ns:div/[@type=\"docbody\"]/ns:p'\n",
    "\n",
    "\"\"\"\n",
    "Build dataframe.\n",
    "\"\"\"\n",
    "\n",
    "dataframe = []\n",
    "\n",
    "for file in glob.glob(abs_dir + 'Data/JQA/*/*.xml'):\n",
    "#         Call functions to create necessary variables and grab content.\n",
    "    root = get_root(file)\n",
    "    ns = get_namespace(root)\n",
    "\n",
    "\n",
    "    for eachDoc in root.findall(doc_as_xpath, ns):\n",
    "#             Call functions.\n",
    "        entry = get_document_id(eachDoc, '{http://www.w3.org/XML/1998/namespace}id')\n",
    "        date = get_date_from_attrValue(eachDoc, date_path, 'when', ns)\n",
    "        people = get_peopleList_from_attrValue(eachDoc, person_path, 'ref', ns)\n",
    "        text = get_textContent(eachDoc, text_path, ns)\n",
    "\n",
    "        dataframe.append([str(regex.search(file).groups()), entry, date, people, text])\n",
    "\n",
    "dataframe = pd.DataFrame(dataframe, columns = ['file', 'entry', 'date', 'people', 'text'])\n",
    "\n",
    "dataframe.head(4)"
   ]
  },
  {
   "cell_type": "markdown",
   "id": "orange-audience",
   "metadata": {},
   "source": [
    "## Build w2v Model"
   ]
  },
  {
   "cell_type": "code",
   "execution_count": 28,
   "id": "marked-mathematics",
   "metadata": {},
   "outputs": [
    {
     "name": "stdout",
     "output_type": "stream",
     "text": [
      "Word total: 707450\n",
      "Unique word total 19664\n",
      "CPU times: user 14.1 s, sys: 149 ms, total: 14.2 s\n",
      "Wall time: 5.21 s\n"
     ]
    }
   ],
   "source": [
    "%%time\n",
    "\n",
    "# Convert dataframe text field to list of sentences.\n",
    "sentences = [sentence for text in dataframe['text'] for sentence in sent_tokenize(text)]\n",
    "words_by_sentence = [fast_tokenize(sentence) for sentence in sentences]\n",
    "words_by_sentence = [sentence for sentence in words_by_sentence if sentence != []]\n",
    "\n",
    "# Get total number of words and unique words.\n",
    "single_list_of_words = []\n",
    "for l in words_by_sentence:\n",
    "    for w in l:\n",
    "        single_list_of_words.append(w)\n",
    "print (f'Word total: {len(single_list_of_words)}\\nUnique word total {len(set(single_list_of_words))}')\n",
    "\n",
    "# Build model.\n",
    "model = gensim.models.Word2Vec(words_by_sentence, window=5, vector_size=100,\n",
    "                               min_count=10, sg=1, alpha=0.025, batch_words=10000, workers=4)\n",
    "\n",
    "# Unused arguments:\n",
    "# size=100, iter=5,\n",
    "\n",
    "# Save model for later use\n",
    "model.wv.save_word2vec_format(abs_dir + '/Data/Output/WordVectors/jqa_w2v.txt')"
   ]
  },
  {
   "cell_type": "code",
   "execution_count": null,
   "id": "separated-football",
   "metadata": {},
   "outputs": [],
   "source": []
  }
 ],
 "metadata": {
  "kernelspec": {
   "display_name": "Python 3",
   "language": "python",
   "name": "python3"
  },
  "language_info": {
   "codemirror_mode": {
    "name": "ipython",
    "version": 3
   },
   "file_extension": ".py",
   "mimetype": "text/x-python",
   "name": "python",
   "nbconvert_exporter": "python",
   "pygments_lexer": "ipython3",
   "version": "3.8.5"
  }
 },
 "nbformat": 4,
 "nbformat_minor": 5
}
