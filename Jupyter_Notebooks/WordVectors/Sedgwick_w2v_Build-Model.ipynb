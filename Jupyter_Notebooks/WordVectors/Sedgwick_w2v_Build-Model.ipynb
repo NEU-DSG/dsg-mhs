{
 "cells": [
  {
   "cell_type": "markdown",
   "id": "recovered-shark",
   "metadata": {},
   "source": [
    "# Build Simple word2vec Model -- Sedgwick\n",
    "\n",
    "\n",
    "* Code Sampled from [Laura K. Nelson's GitHub](https://github.com/lknelson/measuring_intersectionality/blob/main/scripts/00_measuringintersectionality_constructmodels.ipynb)"
   ]
  },
  {
   "cell_type": "code",
   "execution_count": 1,
   "id": "significant-breast",
   "metadata": {},
   "outputs": [],
   "source": [
    "import sys, os, string, glob, gensim, warnings\n",
    "import pandas as pd\n",
    "import numpy as np\n",
    "from nltk.tokenize import word_tokenize, sent_tokenize\n",
    "\n",
    "# Read in config.py (git ignored file) for API username and pw.\n",
    "config_path = os.path.abspath(os.path.join(os.path.dirname('config.py'), '../Scripts'))\n",
    "sys.path.append(config_path)\n",
    "import config\n",
    "\n",
    "# Import project-specific functions. \n",
    "# Python files (.py) have to be in same folder to work.\n",
    "lib_path = os.path.abspath(os.path.join(os.path.dirname('Correspondence_XML_parser.py'), '../Scripts'))\n",
    "sys.path.append(lib_path)\n",
    "\n",
    "from Correspondence_XML_parser import *\n",
    "\n",
    "# Ignore warnings related to deprecated functions.\n",
    "warnings.filterwarnings('ignore')\n",
    "\n",
    "url = 'https://dsg.xmldb-dev.northeastern.edu/BaseX964/rest/psc/'\n",
    "user = config.username\n",
    "pw = config.password\n",
    "\n",
    "# Define tokenizer.\n",
    "def fast_tokenize(text):\n",
    "    \n",
    "    # Get a list of punctuation marks\n",
    "    punct = string.punctuation + '“' + '”' + '‘' + \"’\"\n",
    "    \n",
    "    lower_case = text.lower()\n",
    "    lower_case = lower_case.replace('—', ' ').replace('\\n', ' ')\n",
    "    \n",
    "    # Iterate through text removing punctuation characters\n",
    "    no_punct = \"\".join([char for char in lower_case if char not in punct])\n",
    "    \n",
    "    # Split text over whitespace into list of words\n",
    "    tokens = no_punct.split()\n",
    "    \n",
    "    return tokens"
   ]
  },
  {
   "cell_type": "code",
   "execution_count": 2,
   "id": "imposed-criticism",
   "metadata": {},
   "outputs": [
    {
     "data": {
      "text/plain": [
       "'4.0.1'"
      ]
     },
     "execution_count": 2,
     "metadata": {},
     "output_type": "execute_result"
    }
   ],
   "source": [
    "gensim.__version__"
   ]
  },
  {
   "cell_type": "markdown",
   "id": "d29a1e25",
   "metadata": {},
   "source": [
    "## Gather XML Files"
   ]
  },
  {
   "cell_type": "code",
   "execution_count": 3,
   "id": "964b8178",
   "metadata": {},
   "outputs": [
    {
     "name": "stdout",
     "output_type": "stream",
     "text": [
      "CPU times: user 1.03 ms, sys: 1.39 ms, total: 2.42 ms\n",
      "Wall time: 1.35 ms\n"
     ]
    },
    {
     "data": {
      "text/plain": [
       "122"
      ]
     },
     "execution_count": 3,
     "metadata": {},
     "output_type": "execute_result"
    }
   ],
   "source": [
    "%%time\n",
    "\n",
    "# Declare directory location to shorten filepaths later.\n",
    "abs_dir = \"/Users/quinn.wi/Documents/\"\n",
    "files = glob.glob(abs_dir + \"Data/PSC/Sedgwick/*.xml\")\n",
    "\n",
    "len(files)"
   ]
  },
  {
   "cell_type": "code",
   "execution_count": 4,
   "id": "940d3455",
   "metadata": {},
   "outputs": [],
   "source": [
    "# %%time\n",
    "\n",
    "# # Must be connected to Northeastern's VPN.\n",
    "# r = requests.get(url, \n",
    "#                  auth = (user, pw), \n",
    "#                  headers = {'Content-Type': 'application/xml'}\n",
    "#                 )\n",
    "\n",
    "# # Read in contents of pipeline.\n",
    "# soup = BeautifulSoup(r.content, 'html.parser')\n",
    "\n",
    "# # Split soup's content by \\n (each line is a file path to an XML doc).\n",
    "# # Use filter() to remove empty strings ('').\n",
    "# # Convert back to list using list().\n",
    "# files = list(filter(None, soup.text.split('\\n')))\n",
    "\n",
    "# # Filter list and retrieve only jqa/ files.\n",
    "# files = [i for i in files if '......./' in i]\n",
    "\n",
    "# len(files)"
   ]
  },
  {
   "cell_type": "markdown",
   "id": "resistant-rocket",
   "metadata": {},
   "source": [
    "## Build Dataframe from XML"
   ]
  },
  {
   "cell_type": "code",
   "execution_count": 5,
   "id": "correct-henry",
   "metadata": {},
   "outputs": [
    {
     "name": "stdout",
     "output_type": "stream",
     "text": [
      "/Users/quinn.wi/Documents/Data/PSC/Sedgwick/CMS1807-04-26-toFrancesSedgwickWatsonFD.xml \n",
      "\n",
      "/Users/quinn.wi/Documents/Data/PSC/Sedgwick/CMS1803-10-06-toPamelaDwightSedgwickF.xml \n",
      "\n",
      "/Users/quinn.wi/Documents/Data/PSC/Sedgwick/CMS1809-01-27-toTheodoreSedgwickIFD.xml \n",
      "\n",
      "/Users/quinn.wi/Documents/Data/PSC/Sedgwick/CMS1807-12-25-toFrancesSedgwickWatsonFD.xml \n",
      "\n",
      "/Users/quinn.wi/Documents/Data/PSC/Sedgwick/CMS1806-01-17-toPamelaDwightSedgwickFD (1).xml \n",
      "\n",
      "/Users/quinn.wi/Documents/Data/PSC/Sedgwick/CMS1805-11-29-toPamelaDwightSedgwickFD.xml \n",
      "\n",
      "/Users/quinn.wi/Documents/Data/PSC/Sedgwick/CMS1807-04-26-toFSWF.xml \n",
      "\n",
      "/Users/quinn.wi/Documents/Data/PSC/Sedgwick/CMS1800-01-12-toTheodoreSedgwickIF.xml \n",
      "\n",
      "/Users/quinn.wi/Documents/Data/PSC/Sedgwick/CMS1805-11-15-toPamelaDwightSedgwickFD (1).xml \n",
      "\n",
      "/Users/quinn.wi/Documents/Data/PSC/Sedgwick/CMS1807-12-28-toFrancesSedgwickWatsonFD.xml \n",
      "\n",
      "/Users/quinn.wi/Documents/Data/PSC/Sedgwick/CMS1807-03-24-toFrancesSedgwickWatsonFD.xml \n",
      "\n",
      "/Users/quinn.wi/Documents/Data/PSC/Sedgwick/CMS1808-11-22-toTheodoreSedgwickIFD.xml \n",
      "\n",
      "/Users/quinn.wi/Documents/Data/PSC/Sedgwick/CMS1806-01-17-toPamelaDwightSedgwickFD.xml \n",
      "\n",
      "CPU times: user 64.6 ms, sys: 8.57 ms, total: 73.2 ms\n",
      "Wall time: 72.2 ms\n",
      "CPU times: user 64.9 ms, sys: 8.6 ms, total: 73.5 ms\n",
      "Wall time: 72.5 ms\n"
     ]
    },
    {
     "data": {
      "text/html": [
       "<div>\n",
       "<style scoped>\n",
       "    .dataframe tbody tr th:only-of-type {\n",
       "        vertical-align: middle;\n",
       "    }\n",
       "\n",
       "    .dataframe tbody tr th {\n",
       "        vertical-align: top;\n",
       "    }\n",
       "\n",
       "    .dataframe thead th {\n",
       "        text-align: right;\n",
       "    }\n",
       "</style>\n",
       "<table border=\"1\" class=\"dataframe\">\n",
       "  <thead>\n",
       "    <tr style=\"text-align: right;\">\n",
       "      <th></th>\n",
       "      <th>file</th>\n",
       "      <th>date</th>\n",
       "      <th>source</th>\n",
       "      <th>target</th>\n",
       "      <th>subjects</th>\n",
       "      <th>references</th>\n",
       "      <th>text</th>\n",
       "    </tr>\n",
       "  </thead>\n",
       "  <tbody>\n",
       "    <tr>\n",
       "      <th>0</th>\n",
       "      <td>CMS1819-03-08-toRobertSedgwickIF (1).xml</td>\n",
       "      <td>1819-03-08</td>\n",
       "      <td>Catharine Maria Sedgwick</td>\n",
       "      <td>sedgwick-robert</td>\n",
       "      <td></td>\n",
       "      <td>sedgwick-charles,sedgwick-elizabeth,sedgwick-h...</td>\n",
       "      <td>Albany March 8' 1819 -- I came here my dear Ro...</td>\n",
       "    </tr>\n",
       "    <tr>\n",
       "      <th>1</th>\n",
       "      <td>CMS1816-03-25-toFrancesSedgwickWatsonF.xml</td>\n",
       "      <td>1816-03-25</td>\n",
       "      <td>Catharine Maria Sedgwick</td>\n",
       "      <td>FSW</td>\n",
       "      <td></td>\n",
       "      <td>RSI,banyer-maria,jay-sarah,van vechten-jacob,s...</td>\n",
       "      <td>Albany March 25th 1816 I have just heard of an...</td>\n",
       "    </tr>\n",
       "    <tr>\n",
       "      <th>2</th>\n",
       "      <td>CMS1813-08-15-toRobertSedgwickIF.xml</td>\n",
       "      <td>1813-08-15</td>\n",
       "      <td>Catharine Maria Sedgwick</td>\n",
       "      <td>RSI</td>\n",
       "      <td></td>\n",
       "      <td>FSW,U,payne-eloise,warner-thomas,warner-france...</td>\n",
       "      <td>Stockbridge August 15th 1813 I recollect very...</td>\n",
       "    </tr>\n",
       "  </tbody>\n",
       "</table>\n",
       "</div>"
      ],
      "text/plain": [
       "                                         file        date  \\\n",
       "0    CMS1819-03-08-toRobertSedgwickIF (1).xml  1819-03-08   \n",
       "1  CMS1816-03-25-toFrancesSedgwickWatsonF.xml  1816-03-25   \n",
       "2        CMS1813-08-15-toRobertSedgwickIF.xml  1813-08-15   \n",
       "\n",
       "                     source           target subjects  \\\n",
       "0  Catharine Maria Sedgwick  sedgwick-robert            \n",
       "1  Catharine Maria Sedgwick              FSW            \n",
       "2  Catharine Maria Sedgwick              RSI            \n",
       "\n",
       "                                          references  \\\n",
       "0  sedgwick-charles,sedgwick-elizabeth,sedgwick-h...   \n",
       "1  RSI,banyer-maria,jay-sarah,van vechten-jacob,s...   \n",
       "2  FSW,U,payne-eloise,warner-thomas,warner-france...   \n",
       "\n",
       "                                                text  \n",
       "0  Albany March 8' 1819 -- I came here my dear Ro...  \n",
       "1  Albany March 25th 1816 I have just heard of an...  \n",
       "2   Stockbridge August 15th 1813 I recollect very...  "
      ]
     },
     "execution_count": 5,
     "metadata": {},
     "output_type": "execute_result"
    }
   ],
   "source": [
    "%%time\n",
    "%%time\n",
    "\n",
    "# Build dataframe from XML files.\n",
    "# build_dataframe() called from Correspondence_XML_parser\n",
    "df = build_dataframe(files)\n",
    "\n",
    "df.head(3)"
   ]
  },
  {
   "cell_type": "markdown",
   "id": "orange-audience",
   "metadata": {},
   "source": [
    "## Build w2v Model"
   ]
  },
  {
   "cell_type": "code",
   "execution_count": 9,
   "id": "marked-mathematics",
   "metadata": {},
   "outputs": [
    {
     "name": "stdout",
     "output_type": "stream",
     "text": [
      "Word total: 68087\n",
      "Unique word total 6797\n",
      "CPU times: user 1.83 s, sys: 23.1 ms, total: 1.86 s\n",
      "Wall time: 1 s\n"
     ]
    }
   ],
   "source": [
    "%%time\n",
    "\n",
    "# Convert dataframe text field to list of sentences.\n",
    "sentences = [sentence for text in df['text'] for sentence in sent_tokenize(text)]\n",
    "words_by_sentence = [fast_tokenize(sentence) for sentence in sentences]\n",
    "words_by_sentence = [sentence for sentence in words_by_sentence if sentence != []]\n",
    "\n",
    "# Get total number of words and unique words.\n",
    "single_list_of_words = []\n",
    "for l in words_by_sentence:\n",
    "    for w in l:\n",
    "        single_list_of_words.append(w)\n",
    "print (f'Word total: {len(single_list_of_words)}\\nUnique word total {len(set(single_list_of_words))}')\n",
    "\n",
    "# Build model.\n",
    "model = gensim.models.Word2Vec(words_by_sentence, window=5, vector_size=100,\n",
    "                               min_count=1, sg=1, alpha=0.025, batch_words=10000, workers=4)\n",
    "\n",
    "# Unused arguments:\n",
    "# size=100, iter=5,\n",
    "\n",
    "# Save model for later use\n",
    "model.wv.save_word2vec_format(abs_dir + '/Data/Output/WordVectors/sedgwick_w2v.txt')"
   ]
  },
  {
   "cell_type": "markdown",
   "id": "7257b836",
   "metadata": {},
   "source": [
    "## Analysis"
   ]
  },
  {
   "cell_type": "code",
   "execution_count": 11,
   "id": "0d494466",
   "metadata": {},
   "outputs": [
    {
     "name": "stdout",
     "output_type": "stream",
     "text": [
      "Words most similar to \"independent\":\n",
      " ['high', 'morgan', 'humble', 'funeral', 'russell', 'surprise', 'history', 'immortal', 'figure', 'pains'] \n",
      "\n",
      "Words most similar to \"food\":\n",
      " ['noble', 'doesnot', 'equal', 'essay', 'sainted', 'occupations', 'la', 'ardor', 'steam', 'work'] \n",
      "\n"
     ]
    }
   ],
   "source": [
    "\n",
    "print ('Words most similar to \"independent\":\\n', [word for word, score in model.wv.most_similar(['independent'])], '\\n')\n",
    "\n",
    "print ('Words most similar to \"food\":\\n', [word for word, score in model.wv.most_similar(['food'])], '\\n')\n"
   ]
  },
  {
   "cell_type": "code",
   "execution_count": null,
   "id": "3837e542",
   "metadata": {},
   "outputs": [],
   "source": []
  }
 ],
 "metadata": {
  "kernelspec": {
   "display_name": "Python 3 (ipykernel)",
   "language": "python",
   "name": "python3"
  },
  "language_info": {
   "codemirror_mode": {
    "name": "ipython",
    "version": 3
   },
   "file_extension": ".py",
   "mimetype": "text/x-python",
   "name": "python",
   "nbconvert_exporter": "python",
   "pygments_lexer": "ipython3",
   "version": "3.8.5"
  }
 },
 "nbformat": 4,
 "nbformat_minor": 5
}
