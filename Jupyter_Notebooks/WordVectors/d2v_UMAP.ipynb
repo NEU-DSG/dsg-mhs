{
 "cells": [
  {
   "cell_type": "markdown",
   "id": "mediterranean-algorithm",
   "metadata": {},
   "source": [
    "# Doc2Vec -- UMAP"
   ]
  },
  {
   "cell_type": "code",
   "execution_count": 1,
   "id": "processed-falls",
   "metadata": {},
   "outputs": [
    {
     "data": {
      "text/html": [
       "        <script type=\"text/javascript\">\n",
       "        window.PlotlyConfig = {MathJaxConfig: 'local'};\n",
       "        if (window.MathJax) {MathJax.Hub.Config({SVG: {font: \"STIX-Web\"}});}\n",
       "        if (typeof require !== 'undefined') {\n",
       "        require.undef(\"plotly\");\n",
       "        requirejs.config({\n",
       "            paths: {\n",
       "                'plotly': ['https://cdn.plot.ly/plotly-latest.min']\n",
       "            }\n",
       "        });\n",
       "        require(['plotly'], function(Plotly) {\n",
       "            window._Plotly = Plotly;\n",
       "        });\n",
       "        }\n",
       "        </script>\n",
       "        "
      ]
     },
     "metadata": {},
     "output_type": "display_data"
    }
   ],
   "source": [
    "import sys, os, string, glob, gensim, umap\n",
    "import pandas as pd\n",
    "import numpy as np\n",
    "\n",
    "import gensim.models.doc2vec\n",
    "assert gensim.models.doc2vec.FAST_VERSION > -1 # This will be painfully slow otherwise\n",
    "from gensim.models.doc2vec import Doc2Vec, TaggedDocument\n",
    "from gensim.utils import simple_preprocess\n",
    "\n",
    "import plotly.express as px\n",
    "import plotly.graph_objs as go\n",
    "from plotly.offline import download_plotlyjs, init_notebook_mode, plot, iplot\n",
    "init_notebook_mode(connected = True)\n",
    "\n",
    "# Import parser module.\n",
    "module_path = os.path.abspath(os.path.join('..'))\n",
    "\n",
    "if module_path not in sys.path:\n",
    "    sys.path.append(module_path + '//Scripts')\n",
    "\n",
    "from functions_xml_ET_parse import *\n",
    "\n",
    "# Declare absolute path.\n",
    "abs_dir = \"/Users/quinn.wi/Documents/\""
   ]
  },
  {
   "cell_type": "markdown",
   "id": "funky-eight",
   "metadata": {},
   "source": [
    "## Build Dataframe from XML"
   ]
  },
  {
   "cell_type": "code",
   "execution_count": 2,
   "id": "dietary-radius",
   "metadata": {},
   "outputs": [
    {
     "name": "stdout",
     "output_type": "stream",
     "text": [
      "CPU times: user 3.54 s, sys: 66.3 ms, total: 3.6 s\n",
      "Wall time: 3.65 s\n"
     ]
    },
    {
     "data": {
      "text/html": [
       "<div>\n",
       "<style scoped>\n",
       "    .dataframe tbody tr th:only-of-type {\n",
       "        vertical-align: middle;\n",
       "    }\n",
       "\n",
       "    .dataframe tbody tr th {\n",
       "        vertical-align: top;\n",
       "    }\n",
       "\n",
       "    .dataframe thead th {\n",
       "        text-align: right;\n",
       "    }\n",
       "</style>\n",
       "<table border=\"1\" class=\"dataframe\">\n",
       "  <thead>\n",
       "    <tr style=\"text-align: right;\">\n",
       "      <th></th>\n",
       "      <th>file</th>\n",
       "      <th>entry</th>\n",
       "      <th>date</th>\n",
       "      <th>people</th>\n",
       "      <th>subject</th>\n",
       "      <th>text</th>\n",
       "    </tr>\n",
       "  </thead>\n",
       "  <tbody>\n",
       "    <tr>\n",
       "      <th>0</th>\n",
       "      <td>JQADiaries-v27-1808-08-p364.xml</td>\n",
       "      <td>jqadiaries-v27-1808-08-01</td>\n",
       "      <td>1808-08-01</td>\n",
       "      <td>courtdegebelin-antoine,gregory-george,rousseau...</td>\n",
       "      <td>Recreation</td>\n",
       "      <td>1. Bathed with George this morning, at the pla...</td>\n",
       "    </tr>\n",
       "    <tr>\n",
       "      <th>1</th>\n",
       "      <td>JQADiaries-v27-1808-08-p364.xml</td>\n",
       "      <td>jqadiaries-v27-1808-08-02</td>\n",
       "      <td>1808-08-02</td>\n",
       "      <td>degrand-peter,everett-alexander</td>\n",
       "      <td>Recreation</td>\n",
       "      <td>2. Bathed again this Morning, and took George ...</td>\n",
       "    </tr>\n",
       "    <tr>\n",
       "      <th>2</th>\n",
       "      <td>JQADiaries-v27-1808-08-p364.xml</td>\n",
       "      <td>jqadiaries-v27-1808-08-03</td>\n",
       "      <td>1808-08-03</td>\n",
       "      <td>degrand-peter,welsh-thomas,davis-john,dawes-th...</td>\n",
       "      <td>Recreation</td>\n",
       "      <td>3. Bathed this morning, at 6. with Mr: De Gran...</td>\n",
       "    </tr>\n",
       "    <tr>\n",
       "      <th>3</th>\n",
       "      <td>JQADiaries-v27-1808-08-p364.xml</td>\n",
       "      <td>jqadiaries-v27-1808-08-04</td>\n",
       "      <td>1808-08-04</td>\n",
       "      <td>boylston-ward,degrand-peter,adams-louisa-cathe...</td>\n",
       "      <td>Recreation</td>\n",
       "      <td>4. Mr: Boylston called for me by appointment, ...</td>\n",
       "    </tr>\n",
       "  </tbody>\n",
       "</table>\n",
       "</div>"
      ],
      "text/plain": [
       "                              file                      entry        date  \\\n",
       "0  JQADiaries-v27-1808-08-p364.xml  jqadiaries-v27-1808-08-01  1808-08-01   \n",
       "1  JQADiaries-v27-1808-08-p364.xml  jqadiaries-v27-1808-08-02  1808-08-02   \n",
       "2  JQADiaries-v27-1808-08-p364.xml  jqadiaries-v27-1808-08-03  1808-08-03   \n",
       "3  JQADiaries-v27-1808-08-p364.xml  jqadiaries-v27-1808-08-04  1808-08-04   \n",
       "\n",
       "                                              people     subject  \\\n",
       "0  courtdegebelin-antoine,gregory-george,rousseau...  Recreation   \n",
       "1                    degrand-peter,everett-alexander  Recreation   \n",
       "2  degrand-peter,welsh-thomas,davis-john,dawes-th...  Recreation   \n",
       "3  boylston-ward,degrand-peter,adams-louisa-cathe...  Recreation   \n",
       "\n",
       "                                                text  \n",
       "0  1. Bathed with George this morning, at the pla...  \n",
       "1  2. Bathed again this Morning, and took George ...  \n",
       "2  3. Bathed this morning, at 6. with Mr: De Gran...  \n",
       "3  4. Mr: Boylston called for me by appointment, ...  "
      ]
     },
     "execution_count": 2,
     "metadata": {},
     "output_type": "execute_result"
    }
   ],
   "source": [
    "%%time\n",
    "\n",
    "\"\"\"\n",
    "Declare variables.\n",
    "\"\"\"\n",
    "\n",
    "# Declare regex to simplify file paths below\n",
    "regex = re.compile(r'.*/.*/(.*.xml)')\n",
    "\n",
    "# Declare document level of file. Requires root starting point ('.').\n",
    "doc_as_xpath = './/ns:div/[@type=\"entry\"]'\n",
    "\n",
    "# Declare date element of each document.\n",
    "date_path = './ns:bibl/ns:date/[@when]'\n",
    "\n",
    "# Declare person elements in each document.\n",
    "person_path = './/ns:p/ns:persRef/[@ref]'\n",
    "\n",
    "# Declare subject elements in each document.\n",
    "subject_path = './/ns:bibl//ns:subject'\n",
    "\n",
    "# Declare text level within each document.\n",
    "text_path = './ns:div/[@type=\"docbody\"]/ns:p'\n",
    "\n",
    "\"\"\"\n",
    "Build dataframe.\n",
    "\"\"\"\n",
    "\n",
    "dataframe = []\n",
    "\n",
    "for file in glob.glob(abs_dir + 'Data/PSC/JQA/*/*.xml'):\n",
    "    reFile = str(regex.search(file).group(1))\n",
    "#         Call functions to create necessary variables and grab content.\n",
    "    root = get_root(file)\n",
    "    ns = get_namespace(root)\n",
    "\n",
    "    for eachDoc in root.findall(doc_as_xpath, ns):\n",
    "#             Call functions.\n",
    "        entry = get_document_id(eachDoc, '{http://www.w3.org/XML/1998/namespace}id')\n",
    "        date = get_date_from_attrValue(eachDoc, date_path, 'when', ns)\n",
    "        people = get_peopleList_from_attrValue(eachDoc, person_path, 'ref', ns)\n",
    "        subject = get_subject(eachDoc, subject_path, ns)\n",
    "        text = get_textContent(eachDoc, text_path, ns)\n",
    "\n",
    "        dataframe.append([reFile, entry, date, people, subject, text])\n",
    "\n",
    "dataframe = pd.DataFrame(dataframe, columns = ['file', 'entry', 'date', \n",
    "                                               'people', 'subject', 'text'])\n",
    "\n",
    "# Split subject list and return \"Multiple-Subject\" or lone subject.\n",
    "dataframe['subject'] = dataframe['subject'].str.split(r',')\n",
    "\n",
    "def handle_subjects(subj_list):\n",
    "    if len(subj_list) > 1:\n",
    "        return 'Multiple-Subjects'\n",
    "    else:\n",
    "        return subj_list[0]\n",
    "    \n",
    "dataframe['subject'] = dataframe['subject'].apply(handle_subjects)\n",
    "\n",
    "dataframe.head(4)"
   ]
  },
  {
   "cell_type": "markdown",
   "id": "minimal-bracket",
   "metadata": {},
   "source": [
    "## UMAP"
   ]
  },
  {
   "cell_type": "code",
   "execution_count": 3,
   "id": "pharmaceutical-credit",
   "metadata": {},
   "outputs": [
    {
     "name": "stdout",
     "output_type": "stream",
     "text": [
      "CPU times: user 1min 5s, sys: 671 ms, total: 1min 5s\n",
      "Wall time: 13.8 s\n"
     ]
    },
    {
     "data": {
      "text/html": [
       "<div>\n",
       "<style scoped>\n",
       "    .dataframe tbody tr th:only-of-type {\n",
       "        vertical-align: middle;\n",
       "    }\n",
       "\n",
       "    .dataframe tbody tr th {\n",
       "        vertical-align: top;\n",
       "    }\n",
       "\n",
       "    .dataframe thead th {\n",
       "        text-align: right;\n",
       "    }\n",
       "</style>\n",
       "<table border=\"1\" class=\"dataframe\">\n",
       "  <thead>\n",
       "    <tr style=\"text-align: right;\">\n",
       "      <th></th>\n",
       "      <th>entry</th>\n",
       "      <th>date</th>\n",
       "      <th>subject</th>\n",
       "      <th>x</th>\n",
       "      <th>y</th>\n",
       "    </tr>\n",
       "  </thead>\n",
       "  <tbody>\n",
       "    <tr>\n",
       "      <th>0</th>\n",
       "      <td>jqadiaries-v27-1808-08-01</td>\n",
       "      <td>1808-08-01</td>\n",
       "      <td>Recreation</td>\n",
       "      <td>2.519904</td>\n",
       "      <td>3.684093</td>\n",
       "    </tr>\n",
       "    <tr>\n",
       "      <th>1</th>\n",
       "      <td>jqadiaries-v27-1808-08-02</td>\n",
       "      <td>1808-08-02</td>\n",
       "      <td>Recreation</td>\n",
       "      <td>3.295887</td>\n",
       "      <td>2.960022</td>\n",
       "    </tr>\n",
       "    <tr>\n",
       "      <th>2</th>\n",
       "      <td>jqadiaries-v27-1808-08-03</td>\n",
       "      <td>1808-08-03</td>\n",
       "      <td>Recreation</td>\n",
       "      <td>2.907690</td>\n",
       "      <td>4.089373</td>\n",
       "    </tr>\n",
       "  </tbody>\n",
       "</table>\n",
       "</div>"
      ],
      "text/plain": [
       "                       entry        date     subject         x         y\n",
       "0  jqadiaries-v27-1808-08-01  1808-08-01  Recreation  2.519904  3.684093\n",
       "1  jqadiaries-v27-1808-08-02  1808-08-02  Recreation  3.295887  2.960022\n",
       "2  jqadiaries-v27-1808-08-03  1808-08-03  Recreation  2.907690  4.089373"
      ]
     },
     "execution_count": 3,
     "metadata": {},
     "output_type": "execute_result"
    }
   ],
   "source": [
    "%%time\n",
    "\n",
    "model = Doc2Vec.load(abs_dir + 'Data/Output/WordVectors/jqa-d2v.txt')\n",
    "docs = list(model.dv.index_to_key)\n",
    "\n",
    "data = np.array(model[docs])\n",
    "reducer = umap.UMAP()\n",
    "embedding = reducer.fit_transform(data)\n",
    "\n",
    "x = []\n",
    "y = []\n",
    "\n",
    "for e in embedding:\n",
    "    x.append(e[0])\n",
    "    y.append(e[1])\n",
    "    \n",
    "data_umap = pd.DataFrame({'entry': dataframe['entry'], 'date': dataframe['date'],\n",
    "                          'subject': dataframe['subject'],\n",
    "                          'x': x, 'y': y}) \n",
    "\n",
    "data_umap.head(3)"
   ]
  },
  {
   "cell_type": "code",
   "execution_count": 4,
   "id": "geographic-field",
   "metadata": {},
   "outputs": [
    {
     "name": "stdout",
     "output_type": "stream",
     "text": [
      "CPU times: user 1.24 s, sys: 75.1 ms, total: 1.31 s\n",
      "Wall time: 122 ms\n"
     ]
    }
   ],
   "source": [
    "%%time\n",
    "\n",
    "data_umap.to_csv(abs_dir + 'Data/Output/WordVectors/jqa-d2v-umap.txt', \n",
    "                 sep = ',', index = False)"
   ]
  },
  {
   "cell_type": "markdown",
   "id": "spiritual-tucson",
   "metadata": {},
   "source": [
    "## Visualize"
   ]
  },
  {
   "cell_type": "code",
   "execution_count": 5,
   "id": "known-trustee",
   "metadata": {},
   "outputs": [],
   "source": [
    "# %%time\n",
    "\n",
    "# # Visualize\n",
    "# fig = px.scatter(data_umap, x = 'x', y = 'y', \n",
    "#                  render_mode = 'webgl')\n",
    "\n",
    "# fig.show()"
   ]
  },
  {
   "cell_type": "code",
   "execution_count": null,
   "id": "illegal-tradition",
   "metadata": {},
   "outputs": [],
   "source": []
  }
 ],
 "metadata": {
  "kernelspec": {
   "display_name": "Python 3",
   "language": "python",
   "name": "python3"
  },
  "language_info": {
   "codemirror_mode": {
    "name": "ipython",
    "version": 3
   },
   "file_extension": ".py",
   "mimetype": "text/x-python",
   "name": "python",
   "nbconvert_exporter": "python",
   "pygments_lexer": "ipython3",
   "version": "3.8.5"
  }
 },
 "nbformat": 4,
 "nbformat_minor": 5
}
