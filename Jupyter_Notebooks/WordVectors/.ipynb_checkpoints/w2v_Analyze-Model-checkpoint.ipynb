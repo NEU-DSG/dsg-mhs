{
 "cells": [
  {
   "cell_type": "markdown",
   "id": "detailed-trail",
   "metadata": {},
   "source": [
    "# Analyze Word2Vec Model"
   ]
  },
  {
   "cell_type": "code",
   "execution_count": 1,
   "id": "pleasant-margin",
   "metadata": {},
   "outputs": [],
   "source": [
    "import sys, os, random, warnings, pickle, nltk, gensim\n",
    "import pandas as pd\n",
    "import numpy as np\n",
    "\n",
    "# Ignore warnings.\n",
    "warnings.filterwarnings(\"ignore\")\n",
    "\n",
    "# Declare absolute path.\n",
    "abs_dir = \"/Users/quinn.wi/Documents/\"\n",
    "\n",
    "# Load model.\n",
    "model = gensim.models.KeyedVectors.load_word2vec_format(abs_dir + '/Data/Output/WordVectors/jqa_w2v.txt')"
   ]
  },
  {
   "cell_type": "markdown",
   "id": "attempted-prevention",
   "metadata": {},
   "source": [
    "## w2v Syntax in Gensim"
   ]
  },
  {
   "cell_type": "code",
   "execution_count": 2,
   "id": "theoretical-islam",
   "metadata": {},
   "outputs": [
    {
     "name": "stdout",
     "output_type": "stream",
     "text": [
      "0.2536822\n",
      "0.17307131\n",
      "\n",
      "Words most similar to \"home\":\n",
      " ['midnight', 'retired', 'staid', 'supped', 'adelphi', 'dusk', 'potsdam', 'dark', 'stayed', 'sunset'] \n",
      "\n",
      "Words most similar to \"work\":\n",
      " ['researches', 'materials', 'pictures', 'catalogue', 'agricola', 'metamorphoses', 'pediment', 'paradise', 'threatens', 'incomplete'] \n",
      "\n",
      "Word most similar to \"freedom + congress - britain\":\n",
      " [('incorporation', 0.6023434996604919), ('ordinary', 0.5823056101799011), ('invidious', 0.5772619247436523), ('speeches', 0.5749488472938538)]\n"
     ]
    }
   ],
   "source": [
    "print(model.similarity('boston', 'federalist'))\n",
    "print(model.similarity('british', 'federalist'))\n",
    "\n",
    "print ('\\nWords most similar to \"home\":\\n', [word for word, score in model.most_similar(['home'])], '\\n')\n",
    "\n",
    "print ('Words most similar to \"work\":\\n', [word for word, score in model.most_similar(['work'])], '\\n')\n",
    "\n",
    "print ('Word most similar to \"freedom + congress - britain\":\\n', \n",
    "       model.most_similar(positive = ['freedom', 'congress'], negative = ['britain'], topn = 4))"
   ]
  },
  {
   "cell_type": "code",
   "execution_count": null,
   "id": "brave-catering",
   "metadata": {},
   "outputs": [],
   "source": []
  }
 ],
 "metadata": {
  "kernelspec": {
   "display_name": "Python 3",
   "language": "python",
   "name": "python3"
  },
  "language_info": {
   "codemirror_mode": {
    "name": "ipython",
    "version": 3
   },
   "file_extension": ".py",
   "mimetype": "text/x-python",
   "name": "python",
   "nbconvert_exporter": "python",
   "pygments_lexer": "ipython3",
   "version": "3.8.5"
  }
 },
 "nbformat": 4,
 "nbformat_minor": 5
}
