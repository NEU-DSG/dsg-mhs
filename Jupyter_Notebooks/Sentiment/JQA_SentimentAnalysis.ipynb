{
 "cells": [
  {
   "cell_type": "markdown",
   "id": "dominican-scotland",
   "metadata": {},
   "source": [
    "# Sentiment Analysis -- JQA"
   ]
  },
  {
   "cell_type": "code",
   "execution_count": 1,
   "id": "0effe2da",
   "metadata": {},
   "outputs": [],
   "source": [
    "import re, csv, glob, spacy, warnings, sys, os\n",
    "import pandas as pd\n",
    "import numpy as np\n",
    "from textblob import TextBlob\n",
    "\n",
    "# Import project-specific functions. \n",
    "# Python files (.py) have to be in same folder to work.\n",
    "lib_path = os.path.abspath(os.path.join(os.path.dirname('JQA_XML_parser.py'), '../Scripts'))\n",
    "sys.path.append(lib_path)\n",
    "\n",
    "from JQA_XML_parser import *\n",
    "\n",
    "nlp = spacy.load('en_core_web_sm')\n",
    "\n",
    "# Ignore warnings related to deprecated functions.\n",
    "warnings.filterwarnings('ignore')"
   ]
  },
  {
   "cell_type": "markdown",
   "id": "7eb42cc9",
   "metadata": {},
   "source": [
    "## Gather XML Files"
   ]
  },
  {
   "cell_type": "code",
   "execution_count": 2,
   "id": "purple-bulgarian",
   "metadata": {},
   "outputs": [
    {
     "name": "stdout",
     "output_type": "stream",
     "text": [
      "CPU times: user 3.52 ms, sys: 4 ms, total: 7.52 ms\n",
      "Wall time: 6.32 ms\n"
     ]
    },
    {
     "data": {
      "text/plain": [
       "762"
      ]
     },
     "execution_count": 2,
     "metadata": {},
     "output_type": "execute_result"
    }
   ],
   "source": [
    "%%time\n",
    "\n",
    "# Declare directory location to shorten filepaths later.\n",
    "abs_dir = \"/Users/quinn.wi/Documents/Data\"\n",
    "files = glob.glob(abs_dir + \"/PSC/JQA/*/*.xml\")\n",
    "\n",
    "len(files)"
   ]
  },
  {
   "cell_type": "markdown",
   "id": "9b641e6f",
   "metadata": {},
   "source": [
    "## Build Dataframe"
   ]
  },
  {
   "cell_type": "code",
   "execution_count": 3,
   "id": "dc2790ff",
   "metadata": {},
   "outputs": [
    {
     "name": "stdout",
     "output_type": "stream",
     "text": [
      "CPU times: user 5.3 s, sys: 118 ms, total: 5.41 s\n",
      "Wall time: 5.46 s\n"
     ]
    },
    {
     "data": {
      "text/html": [
       "<div>\n",
       "<style scoped>\n",
       "    .dataframe tbody tr th:only-of-type {\n",
       "        vertical-align: middle;\n",
       "    }\n",
       "\n",
       "    .dataframe tbody tr th {\n",
       "        vertical-align: top;\n",
       "    }\n",
       "\n",
       "    .dataframe thead th {\n",
       "        text-align: right;\n",
       "    }\n",
       "</style>\n",
       "<table border=\"1\" class=\"dataframe\">\n",
       "  <thead>\n",
       "    <tr style=\"text-align: right;\">\n",
       "      <th></th>\n",
       "      <th>file</th>\n",
       "      <th>entry</th>\n",
       "      <th>date</th>\n",
       "      <th>people</th>\n",
       "      <th>text</th>\n",
       "    </tr>\n",
       "  </thead>\n",
       "  <tbody>\n",
       "    <tr>\n",
       "      <th>0</th>\n",
       "      <td>('JQADiaries-v27-1808-08-p364.xml',)</td>\n",
       "      <td>jqadiaries-v27-1808-08-01</td>\n",
       "      <td>1808-08-01</td>\n",
       "      <td>courtdegebelin-antoine,gregory-george,rousseau...</td>\n",
       "      <td>1. Bathed with George this morning, at the pla...</td>\n",
       "    </tr>\n",
       "    <tr>\n",
       "      <th>1</th>\n",
       "      <td>('JQADiaries-v27-1808-08-p364.xml',)</td>\n",
       "      <td>jqadiaries-v27-1808-08-02</td>\n",
       "      <td>1808-08-02</td>\n",
       "      <td>degrand-peter,everett-alexander</td>\n",
       "      <td>2. Bathed again this Morning, and took George ...</td>\n",
       "    </tr>\n",
       "    <tr>\n",
       "      <th>2</th>\n",
       "      <td>('JQADiaries-v27-1808-08-p364.xml',)</td>\n",
       "      <td>jqadiaries-v27-1808-08-03</td>\n",
       "      <td>1808-08-03</td>\n",
       "      <td>degrand-peter,welsh-thomas,davis-john,dawes-th...</td>\n",
       "      <td>3. Bathed this morning, at 6. with Mr: De Gran...</td>\n",
       "    </tr>\n",
       "  </tbody>\n",
       "</table>\n",
       "</div>"
      ],
      "text/plain": [
       "                                   file                      entry  \\\n",
       "0  ('JQADiaries-v27-1808-08-p364.xml',)  jqadiaries-v27-1808-08-01   \n",
       "1  ('JQADiaries-v27-1808-08-p364.xml',)  jqadiaries-v27-1808-08-02   \n",
       "2  ('JQADiaries-v27-1808-08-p364.xml',)  jqadiaries-v27-1808-08-03   \n",
       "\n",
       "         date                                             people  \\\n",
       "0  1808-08-01  courtdegebelin-antoine,gregory-george,rousseau...   \n",
       "1  1808-08-02                    degrand-peter,everett-alexander   \n",
       "2  1808-08-03  degrand-peter,welsh-thomas,davis-john,dawes-th...   \n",
       "\n",
       "                                                text  \n",
       "0  1. Bathed with George this morning, at the pla...  \n",
       "1  2. Bathed again this Morning, and took George ...  \n",
       "2  3. Bathed this morning, at 6. with Mr: De Gran...  "
      ]
     },
     "execution_count": 3,
     "metadata": {},
     "output_type": "execute_result"
    }
   ],
   "source": [
    "%%time\n",
    "\n",
    "# Build dataframe from XML files.\n",
    "# build_dataframe() called from Correspondence_XML_parser\n",
    "df = build_dataframe(files)\n",
    "\n",
    "df.head(3)"
   ]
  },
  {
   "cell_type": "markdown",
   "id": "552a508c",
   "metadata": {},
   "source": [
    "## Get Sentiments"
   ]
  },
  {
   "cell_type": "code",
   "execution_count": 4,
   "id": "necessary-pressure",
   "metadata": {},
   "outputs": [
    {
     "name": "stdout",
     "output_type": "stream",
     "text": [
      "CPU times: user 30.5 s, sys: 156 ms, total: 30.6 s\n",
      "Wall time: 30.9 s\n"
     ]
    },
    {
     "data": {
      "text/html": [
       "<div>\n",
       "<style scoped>\n",
       "    .dataframe tbody tr th:only-of-type {\n",
       "        vertical-align: middle;\n",
       "    }\n",
       "\n",
       "    .dataframe tbody tr th {\n",
       "        vertical-align: top;\n",
       "    }\n",
       "\n",
       "    .dataframe thead th {\n",
       "        text-align: right;\n",
       "    }\n",
       "</style>\n",
       "<table border=\"1\" class=\"dataframe\">\n",
       "  <thead>\n",
       "    <tr style=\"text-align: right;\">\n",
       "      <th></th>\n",
       "      <th>file</th>\n",
       "      <th>entry</th>\n",
       "      <th>date</th>\n",
       "      <th>people</th>\n",
       "      <th>text</th>\n",
       "      <th>sentiment</th>\n",
       "    </tr>\n",
       "  </thead>\n",
       "  <tbody>\n",
       "    <tr>\n",
       "      <th>0</th>\n",
       "      <td>('JQADiaries-v27-1808-08-p364.xml',)</td>\n",
       "      <td>jqadiaries-v27-1808-08-01</td>\n",
       "      <td>1808-08-01</td>\n",
       "      <td>courtdegebelin-antoine,gregory-george,rousseau...</td>\n",
       "      <td>1. Bathed with George this morning, at the pla...</td>\n",
       "      <td>0.212121</td>\n",
       "    </tr>\n",
       "    <tr>\n",
       "      <th>1</th>\n",
       "      <td>('JQADiaries-v27-1808-08-p364.xml',)</td>\n",
       "      <td>jqadiaries-v27-1808-08-02</td>\n",
       "      <td>1808-08-02</td>\n",
       "      <td>degrand-peter,everett-alexander</td>\n",
       "      <td>2. Bathed again this Morning, and took George ...</td>\n",
       "      <td>-0.047500</td>\n",
       "    </tr>\n",
       "    <tr>\n",
       "      <th>2</th>\n",
       "      <td>('JQADiaries-v27-1808-08-p364.xml',)</td>\n",
       "      <td>jqadiaries-v27-1808-08-03</td>\n",
       "      <td>1808-08-03</td>\n",
       "      <td>degrand-peter,welsh-thomas,davis-john,dawes-th...</td>\n",
       "      <td>3. Bathed this morning, at 6. with Mr: De Gran...</td>\n",
       "      <td>0.048889</td>\n",
       "    </tr>\n",
       "  </tbody>\n",
       "</table>\n",
       "</div>"
      ],
      "text/plain": [
       "                                   file                      entry  \\\n",
       "0  ('JQADiaries-v27-1808-08-p364.xml',)  jqadiaries-v27-1808-08-01   \n",
       "1  ('JQADiaries-v27-1808-08-p364.xml',)  jqadiaries-v27-1808-08-02   \n",
       "2  ('JQADiaries-v27-1808-08-p364.xml',)  jqadiaries-v27-1808-08-03   \n",
       "\n",
       "         date                                             people  \\\n",
       "0  1808-08-01  courtdegebelin-antoine,gregory-george,rousseau...   \n",
       "1  1808-08-02                    degrand-peter,everett-alexander   \n",
       "2  1808-08-03  degrand-peter,welsh-thomas,davis-john,dawes-th...   \n",
       "\n",
       "                                                text  sentiment  \n",
       "0  1. Bathed with George this morning, at the pla...   0.212121  \n",
       "1  2. Bathed again this Morning, and took George ...  -0.047500  \n",
       "2  3. Bathed this morning, at 6. with Mr: De Gran...   0.048889  "
      ]
     },
     "execution_count": 4,
     "metadata": {},
     "output_type": "execute_result"
    }
   ],
   "source": [
    "%%time\n",
    "\n",
    "def get_sentiment(txt):\n",
    "    blob = TextBlob(txt)\n",
    "    return blob.sentiment.polarity\n",
    "\n",
    "df['sentiment'] = df['text'].apply(get_sentiment)\n",
    "\n",
    "df.head(3)"
   ]
  },
  {
   "cell_type": "markdown",
   "id": "a9b06acd",
   "metadata": {},
   "source": [
    "## Save Sentiments"
   ]
  },
  {
   "cell_type": "code",
   "execution_count": 5,
   "id": "qualified-corpus",
   "metadata": {},
   "outputs": [
    {
     "name": "stdout",
     "output_type": "stream",
     "text": [
      "CPU times: user 84 ms, sys: 8.27 ms, total: 92.3 ms\n",
      "Wall time: 91.4 ms\n"
     ]
    }
   ],
   "source": [
    "%%time\n",
    "\n",
    "# Save results to lab space for visualizations.\n",
    "df[['date', 'file', 'sentiment']].to_csv(os.path.abspath('../../lab_space/projects/jqa/sentiments/data/') + '/jqa_sentiments.csv', \n",
    "          sep = ',', index = False)"
   ]
  },
  {
   "cell_type": "code",
   "execution_count": null,
   "id": "valid-cable",
   "metadata": {},
   "outputs": [],
   "source": []
  }
 ],
 "metadata": {
  "kernelspec": {
   "display_name": "Python 3 (ipykernel)",
   "language": "python",
   "name": "python3"
  },
  "language_info": {
   "codemirror_mode": {
    "name": "ipython",
    "version": 3
   },
   "file_extension": ".py",
   "mimetype": "text/x-python",
   "name": "python",
   "nbconvert_exporter": "python",
   "pygments_lexer": "ipython3",
   "version": "3.8.5"
  }
 },
 "nbformat": 4,
 "nbformat_minor": 5
}
