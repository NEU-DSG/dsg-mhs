{
 "cells": [
  {
   "cell_type": "markdown",
   "id": "4b822d69",
   "metadata": {},
   "source": [
    "# Sentiment Analysis -- Taney"
   ]
  },
  {
   "cell_type": "code",
   "execution_count": 1,
   "id": "b89844e8",
   "metadata": {},
   "outputs": [],
   "source": [
    "import re, csv, glob, spacy, warnings, sys, os\n",
    "import pandas as pd\n",
    "import numpy as np\n",
    "from textblob import TextBlob\n",
    "\n",
    "# Import project-specific functions. \n",
    "# Python files (.py) have to be in same folder to work.\n",
    "lib_path = os.path.abspath(os.path.join(os.path.dirname('Correspondence_XML_parser.py'), '../Scripts'))\n",
    "sys.path.append(lib_path)\n",
    "\n",
    "from Correspondence_XML_parser import *\n",
    "\n",
    "nlp = spacy.load('en_core_web_sm')\n",
    "\n",
    "# Ignore warnings related to deprecated functions.\n",
    "warnings.filterwarnings('ignore')"
   ]
  },
  {
   "cell_type": "markdown",
   "id": "cf930ec8",
   "metadata": {},
   "source": [
    "## Gather XML Files"
   ]
  },
  {
   "cell_type": "code",
   "execution_count": 2,
   "id": "58bad24d",
   "metadata": {},
   "outputs": [
    {
     "name": "stdout",
     "output_type": "stream",
     "text": [
      "CPU times: user 1.16 ms, sys: 1.25 ms, total: 2.41 ms\n",
      "Wall time: 1.56 ms\n"
     ]
    }
   ],
   "source": [
    "%%time\n",
    "\n",
    "# Declare directory location to shorten filepaths later.\n",
    "abs_dir = \"/Users/quinn.wi/Documents/\"\n",
    "\n",
    "input_directory = \"Data/PSC/Taney/RBT_RawXML/*/*.xml\"\n",
    "\n",
    "# Gather all .xml files using glob.\n",
    "files = glob.glob(abs_dir + input_directory)"
   ]
  },
  {
   "cell_type": "code",
   "execution_count": 3,
   "id": "a7f93ce3",
   "metadata": {},
   "outputs": [],
   "source": [
    "# %%time\n",
    "\n",
    "# # Must be connected to Northeastern's VPN.\n",
    "# r = requests.get(url, \n",
    "#                  auth = (user, pw), \n",
    "#                  headers = {'Content-Type': 'application/xml'}\n",
    "#                 )\n",
    "\n",
    "# # Read in contents of pipeline.\n",
    "# soup = BeautifulSoup(r.content, 'html.parser')\n",
    "\n",
    "# # Split soup's content by \\n (each line is a file path to an XML doc).\n",
    "# # Use filter() to remove empty strings ('').\n",
    "# # Convert back to list using list().\n",
    "# files = list(filter(None, soup.text.split('\\n')))\n",
    "\n",
    "# # Filter list and retrieve only jqa/ files.\n",
    "# files = [i for i in files if 'jqa/' in i]\n",
    "\n",
    "# len(files)"
   ]
  },
  {
   "cell_type": "markdown",
   "id": "fdee2b56",
   "metadata": {},
   "source": [
    "## Build Dataframe"
   ]
  },
  {
   "cell_type": "code",
   "execution_count": 4,
   "id": "56e53570",
   "metadata": {},
   "outputs": [
    {
     "name": "stdout",
     "output_type": "stream",
     "text": [
      "CPU times: user 69.8 ms, sys: 9.99 ms, total: 79.8 ms\n",
      "Wall time: 79 ms\n"
     ]
    },
    {
     "data": {
      "text/html": [
       "<div>\n",
       "<style scoped>\n",
       "    .dataframe tbody tr th:only-of-type {\n",
       "        vertical-align: middle;\n",
       "    }\n",
       "\n",
       "    .dataframe tbody tr th {\n",
       "        vertical-align: top;\n",
       "    }\n",
       "\n",
       "    .dataframe thead th {\n",
       "        text-align: right;\n",
       "    }\n",
       "</style>\n",
       "<table border=\"1\" class=\"dataframe\">\n",
       "  <thead>\n",
       "    <tr style=\"text-align: right;\">\n",
       "      <th></th>\n",
       "      <th>file</th>\n",
       "      <th>date</th>\n",
       "      <th>source</th>\n",
       "      <th>target</th>\n",
       "      <th>subjects</th>\n",
       "      <th>references</th>\n",
       "      <th>text</th>\n",
       "    </tr>\n",
       "  </thead>\n",
       "  <tbody>\n",
       "    <tr>\n",
       "      <th>0</th>\n",
       "      <td>RBT00099-verification.xml</td>\n",
       "      <td>1833-05-05</td>\n",
       "      <td>RBT</td>\n",
       "      <td>Ellicott-Thomas</td>\n",
       "      <td></td>\n",
       "      <td>jackson-andrew,kendall-amos,mickle-robert,tane...</td>\n",
       "      <td>Washington May 5. 1833My Dear Sir I received y...</td>\n",
       "    </tr>\n",
       "    <tr>\n",
       "      <th>1</th>\n",
       "      <td>RBT00146-verification.xml</td>\n",
       "      <td>1834-03-30</td>\n",
       "      <td>RBT</td>\n",
       "      <td>ellicott-thomas</td>\n",
       "      <td></td>\n",
       "      <td>mccubbin-george</td>\n",
       "      <td>Washington March 30. 1834My Dear Sir I have on...</td>\n",
       "    </tr>\n",
       "    <tr>\n",
       "      <th>2</th>\n",
       "      <td>RBT01364-verification.xml</td>\n",
       "      <td>1833-08-05</td>\n",
       "      <td>RBT</td>\n",
       "      <td>jackson-andrew</td>\n",
       "      <td></td>\n",
       "      <td></td>\n",
       "      <td>Washington Augt. 5. 1833 My Dear Sir After ref...</td>\n",
       "    </tr>\n",
       "  </tbody>\n",
       "</table>\n",
       "</div>"
      ],
      "text/plain": [
       "                        file        date source           target subjects  \\\n",
       "0  RBT00099-verification.xml  1833-05-05    RBT  Ellicott-Thomas            \n",
       "1  RBT00146-verification.xml  1834-03-30    RBT  ellicott-thomas            \n",
       "2  RBT01364-verification.xml  1833-08-05    RBT   jackson-andrew            \n",
       "\n",
       "                                          references  \\\n",
       "0  jackson-andrew,kendall-amos,mickle-robert,tane...   \n",
       "1                                    mccubbin-george   \n",
       "2                                                      \n",
       "\n",
       "                                                text  \n",
       "0  Washington May 5. 1833My Dear Sir I received y...  \n",
       "1  Washington March 30. 1834My Dear Sir I have on...  \n",
       "2  Washington Augt. 5. 1833 My Dear Sir After ref...  "
      ]
     },
     "execution_count": 4,
     "metadata": {},
     "output_type": "execute_result"
    }
   ],
   "source": [
    "%%time\n",
    "\n",
    "# Build dataframe from XML files.\n",
    "# build_dataframe() called from Correspondence_XML_parser\n",
    "# df = build_dataframe(files, url, user, pw)\n",
    "\n",
    "df = build_dataframe(files)\n",
    "\n",
    "\n",
    "df.head(3)"
   ]
  },
  {
   "cell_type": "markdown",
   "id": "1b9be80a",
   "metadata": {},
   "source": [
    "## Get Sentiments"
   ]
  },
  {
   "cell_type": "code",
   "execution_count": 5,
   "id": "73a0fa8f",
   "metadata": {},
   "outputs": [
    {
     "name": "stdout",
     "output_type": "stream",
     "text": [
      "CPU times: user 307 ms, sys: 3.49 ms, total: 310 ms\n",
      "Wall time: 314 ms\n"
     ]
    },
    {
     "data": {
      "text/html": [
       "<div>\n",
       "<style scoped>\n",
       "    .dataframe tbody tr th:only-of-type {\n",
       "        vertical-align: middle;\n",
       "    }\n",
       "\n",
       "    .dataframe tbody tr th {\n",
       "        vertical-align: top;\n",
       "    }\n",
       "\n",
       "    .dataframe thead th {\n",
       "        text-align: right;\n",
       "    }\n",
       "</style>\n",
       "<table border=\"1\" class=\"dataframe\">\n",
       "  <thead>\n",
       "    <tr style=\"text-align: right;\">\n",
       "      <th></th>\n",
       "      <th>file</th>\n",
       "      <th>date</th>\n",
       "      <th>source</th>\n",
       "      <th>target</th>\n",
       "      <th>subjects</th>\n",
       "      <th>references</th>\n",
       "      <th>text</th>\n",
       "      <th>sentiment</th>\n",
       "    </tr>\n",
       "  </thead>\n",
       "  <tbody>\n",
       "    <tr>\n",
       "      <th>0</th>\n",
       "      <td>RBT00099-verification.xml</td>\n",
       "      <td>1833-05-05</td>\n",
       "      <td>RBT</td>\n",
       "      <td>Ellicott-Thomas</td>\n",
       "      <td></td>\n",
       "      <td>jackson-andrew,kendall-amos,mickle-robert,tane...</td>\n",
       "      <td>Washington May 5. 1833My Dear Sir I received y...</td>\n",
       "      <td>0.034136</td>\n",
       "    </tr>\n",
       "    <tr>\n",
       "      <th>1</th>\n",
       "      <td>RBT00146-verification.xml</td>\n",
       "      <td>1834-03-30</td>\n",
       "      <td>RBT</td>\n",
       "      <td>ellicott-thomas</td>\n",
       "      <td></td>\n",
       "      <td>mccubbin-george</td>\n",
       "      <td>Washington March 30. 1834My Dear Sir I have on...</td>\n",
       "      <td>0.197143</td>\n",
       "    </tr>\n",
       "    <tr>\n",
       "      <th>2</th>\n",
       "      <td>RBT01364-verification.xml</td>\n",
       "      <td>1833-08-05</td>\n",
       "      <td>RBT</td>\n",
       "      <td>jackson-andrew</td>\n",
       "      <td></td>\n",
       "      <td></td>\n",
       "      <td>Washington Augt. 5. 1833 My Dear Sir After ref...</td>\n",
       "      <td>0.181295</td>\n",
       "    </tr>\n",
       "  </tbody>\n",
       "</table>\n",
       "</div>"
      ],
      "text/plain": [
       "                        file        date source           target subjects  \\\n",
       "0  RBT00099-verification.xml  1833-05-05    RBT  Ellicott-Thomas            \n",
       "1  RBT00146-verification.xml  1834-03-30    RBT  ellicott-thomas            \n",
       "2  RBT01364-verification.xml  1833-08-05    RBT   jackson-andrew            \n",
       "\n",
       "                                          references  \\\n",
       "0  jackson-andrew,kendall-amos,mickle-robert,tane...   \n",
       "1                                    mccubbin-george   \n",
       "2                                                      \n",
       "\n",
       "                                                text  sentiment  \n",
       "0  Washington May 5. 1833My Dear Sir I received y...   0.034136  \n",
       "1  Washington March 30. 1834My Dear Sir I have on...   0.197143  \n",
       "2  Washington Augt. 5. 1833 My Dear Sir After ref...   0.181295  "
      ]
     },
     "execution_count": 5,
     "metadata": {},
     "output_type": "execute_result"
    }
   ],
   "source": [
    "%%time\n",
    "\n",
    "def get_sentiment(txt):\n",
    "    blob = TextBlob(txt)\n",
    "    return blob.sentiment.polarity\n",
    "\n",
    "df['sentiment'] = df['text'].apply(get_sentiment)\n",
    "\n",
    "df.head(3)"
   ]
  },
  {
   "cell_type": "markdown",
   "id": "9d3694f8",
   "metadata": {},
   "source": [
    "## Save Data"
   ]
  },
  {
   "cell_type": "code",
   "execution_count": 6,
   "id": "46c37221",
   "metadata": {},
   "outputs": [
    {
     "name": "stdout",
     "output_type": "stream",
     "text": [
      "CPU times: user 3.55 ms, sys: 1.74 ms, total: 5.29 ms\n",
      "Wall time: 4.62 ms\n"
     ]
    }
   ],
   "source": [
    "%%time\n",
    "\n",
    "# Save results to lab space for visualizations.\n",
    "df[['date', 'file', 'sentiment']].to_csv(os.path.abspath('../../lab_space/projects/taney/sentiments/data/') + '/taney_sentiments.csv', \n",
    "          sep = ',', index = False)"
   ]
  },
  {
   "cell_type": "code",
   "execution_count": null,
   "id": "088f4581",
   "metadata": {},
   "outputs": [],
   "source": []
  }
 ],
 "metadata": {
  "kernelspec": {
   "display_name": "Python 3 (ipykernel)",
   "language": "python",
   "name": "python3"
  },
  "language_info": {
   "codemirror_mode": {
    "name": "ipython",
    "version": 3
   },
   "file_extension": ".py",
   "mimetype": "text/x-python",
   "name": "python",
   "nbconvert_exporter": "python",
   "pygments_lexer": "ipython3",
   "version": "3.8.5"
  }
 },
 "nbformat": 4,
 "nbformat_minor": 5
}
