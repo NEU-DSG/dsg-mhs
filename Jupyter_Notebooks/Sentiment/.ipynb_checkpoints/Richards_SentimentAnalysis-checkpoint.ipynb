{
 "cells": [
  {
   "cell_type": "markdown",
   "id": "e3774d03",
   "metadata": {},
   "source": [
    "# Sentiment Analysis -- Richards"
   ]
  },
  {
   "cell_type": "code",
   "execution_count": 1,
   "id": "a320df8f",
   "metadata": {},
   "outputs": [],
   "source": [
    "import re, csv, glob, spacy, warnings, sys, os\n",
    "import pandas as pd\n",
    "import numpy as np\n",
    "from textblob import TextBlob\n",
    "\n",
    "# Import project-specific functions. \n",
    "# Python files (.py) have to be in same folder to work.\n",
    "lib_path = os.path.abspath(os.path.join(os.path.dirname('Correspondence_XML_parser.py'), '../Scripts'))\n",
    "sys.path.append(lib_path)\n",
    "\n",
    "from Correspondence_XML_parser import *\n",
    "\n",
    "nlp = spacy.load('en_core_web_sm')\n",
    "\n",
    "# Ignore warnings related to deprecated functions.\n",
    "warnings.filterwarnings('ignore')"
   ]
  },
  {
   "cell_type": "markdown",
   "id": "1565340a",
   "metadata": {},
   "source": [
    "## Gather XML Files"
   ]
  },
  {
   "cell_type": "code",
   "execution_count": 2,
   "id": "6a8d22fe",
   "metadata": {},
   "outputs": [
    {
     "name": "stdout",
     "output_type": "stream",
     "text": [
      "CPU times: user 847 µs, sys: 977 µs, total: 1.82 ms\n",
      "Wall time: 2.17 ms\n"
     ]
    },
    {
     "data": {
      "text/plain": [
       "20"
      ]
     },
     "execution_count": 2,
     "metadata": {},
     "output_type": "execute_result"
    }
   ],
   "source": [
    "%%time\n",
    "\n",
    "# Declare directory location to shorten filepaths later.\n",
    "abs_dir = \"/Users/quinn.wi/Documents/Data\"\n",
    "richards_files = glob.glob(abs_dir + \"/PSC/Richards/ESR-XML-Files-MHS/*.xml\")\n",
    "\n",
    "len(richards_files)"
   ]
  },
  {
   "cell_type": "markdown",
   "id": "96e2a10b",
   "metadata": {},
   "source": [
    "## Build Dataframe"
   ]
  },
  {
   "cell_type": "code",
   "execution_count": 3,
   "id": "f2cda8ef",
   "metadata": {},
   "outputs": [
    {
     "name": "stdout",
     "output_type": "stream",
     "text": [
      "/Users/quinn.wi/Documents/Data/PSC/Richards/ESR-XML-Files-MHS/ESR-EDA-1893-09-24.xml \n",
      "\n",
      "CPU times: user 9.52 ms, sys: 3.36 ms, total: 12.9 ms\n",
      "Wall time: 14.7 ms\n"
     ]
    },
    {
     "data": {
      "text/html": [
       "<div>\n",
       "<style scoped>\n",
       "    .dataframe tbody tr th:only-of-type {\n",
       "        vertical-align: middle;\n",
       "    }\n",
       "\n",
       "    .dataframe tbody tr th {\n",
       "        vertical-align: top;\n",
       "    }\n",
       "\n",
       "    .dataframe thead th {\n",
       "        text-align: right;\n",
       "    }\n",
       "</style>\n",
       "<table border=\"1\" class=\"dataframe\">\n",
       "  <thead>\n",
       "    <tr style=\"text-align: right;\">\n",
       "      <th></th>\n",
       "      <th>file</th>\n",
       "      <th>date</th>\n",
       "      <th>source</th>\n",
       "      <th>target</th>\n",
       "      <th>subjects</th>\n",
       "      <th>references</th>\n",
       "      <th>text</th>\n",
       "    </tr>\n",
       "  </thead>\n",
       "  <tbody>\n",
       "    <tr>\n",
       "      <th>0</th>\n",
       "      <td>ESR-EDA-1892-01-08.xml</td>\n",
       "      <td>1892-01-08</td>\n",
       "      <td>richards-ellen</td>\n",
       "      <td>atkinson-edward</td>\n",
       "      <td>1893 Chicago World's Fair,Aladdin Oven,New Eng...</td>\n",
       "      <td>palmer-bertha,hovey-e,daniells-unknown</td>\n",
       "      <td>Boston Jan 8 1892 My dear Mr Atkinson I enclo...</td>\n",
       "    </tr>\n",
       "    <tr>\n",
       "      <th>1</th>\n",
       "      <td>ESR-EDA-1892-04-12.xml</td>\n",
       "      <td>1892-04-12</td>\n",
       "      <td>richards-ellen</td>\n",
       "      <td>atkinson-edward</td>\n",
       "      <td>Aladdin Oven,nutrition,cooking</td>\n",
       "      <td>abel-mary</td>\n",
       "      <td>April 12— Dear Mr Atkinson I expect Mrs Abel ...</td>\n",
       "    </tr>\n",
       "    <tr>\n",
       "      <th>2</th>\n",
       "      <td>ESR-EDA-1892-04-07.xml</td>\n",
       "      <td>1892-04-07</td>\n",
       "      <td>richards-ellen</td>\n",
       "      <td>atkinson-edward</td>\n",
       "      <td>Aladdin Oven,Nutrition,cooking</td>\n",
       "      <td>conro-emma,abel-mary</td>\n",
       "      <td>Boston, April 7, 1892 My dear Mr. Atkinson I ...</td>\n",
       "    </tr>\n",
       "  </tbody>\n",
       "</table>\n",
       "</div>"
      ],
      "text/plain": [
       "                     file        date          source           target  \\\n",
       "0  ESR-EDA-1892-01-08.xml  1892-01-08  richards-ellen  atkinson-edward   \n",
       "1  ESR-EDA-1892-04-12.xml  1892-04-12  richards-ellen  atkinson-edward   \n",
       "2  ESR-EDA-1892-04-07.xml  1892-04-07  richards-ellen  atkinson-edward   \n",
       "\n",
       "                                            subjects  \\\n",
       "0  1893 Chicago World's Fair,Aladdin Oven,New Eng...   \n",
       "1                     Aladdin Oven,nutrition,cooking   \n",
       "2                     Aladdin Oven,Nutrition,cooking   \n",
       "\n",
       "                               references  \\\n",
       "0  palmer-bertha,hovey-e,daniells-unknown   \n",
       "1                               abel-mary   \n",
       "2                    conro-emma,abel-mary   \n",
       "\n",
       "                                                text  \n",
       "0   Boston Jan 8 1892 My dear Mr Atkinson I enclo...  \n",
       "1   April 12— Dear Mr Atkinson I expect Mrs Abel ...  \n",
       "2   Boston, April 7, 1892 My dear Mr. Atkinson I ...  "
      ]
     },
     "execution_count": 3,
     "metadata": {},
     "output_type": "execute_result"
    }
   ],
   "source": [
    "%%time\n",
    "\n",
    "# Build dataframe from XML files.\n",
    "# build_dataframe() called from Correspondence_XML_parser\n",
    "df = build_dataframe(richards_files)\n",
    "\n",
    "df.head(3)"
   ]
  },
  {
   "cell_type": "markdown",
   "id": "03897421",
   "metadata": {},
   "source": [
    "## Get Sentiments"
   ]
  },
  {
   "cell_type": "code",
   "execution_count": 4,
   "id": "006149c8",
   "metadata": {},
   "outputs": [
    {
     "name": "stdout",
     "output_type": "stream",
     "text": [
      "CPU times: user 55.7 ms, sys: 2.57 ms, total: 58.3 ms\n",
      "Wall time: 57.1 ms\n"
     ]
    },
    {
     "data": {
      "text/html": [
       "<div>\n",
       "<style scoped>\n",
       "    .dataframe tbody tr th:only-of-type {\n",
       "        vertical-align: middle;\n",
       "    }\n",
       "\n",
       "    .dataframe tbody tr th {\n",
       "        vertical-align: top;\n",
       "    }\n",
       "\n",
       "    .dataframe thead th {\n",
       "        text-align: right;\n",
       "    }\n",
       "</style>\n",
       "<table border=\"1\" class=\"dataframe\">\n",
       "  <thead>\n",
       "    <tr style=\"text-align: right;\">\n",
       "      <th></th>\n",
       "      <th>file</th>\n",
       "      <th>date</th>\n",
       "      <th>source</th>\n",
       "      <th>target</th>\n",
       "      <th>subjects</th>\n",
       "      <th>references</th>\n",
       "      <th>text</th>\n",
       "      <th>sentiment</th>\n",
       "    </tr>\n",
       "  </thead>\n",
       "  <tbody>\n",
       "    <tr>\n",
       "      <th>0</th>\n",
       "      <td>ESR-EDA-1892-01-08.xml</td>\n",
       "      <td>1892-01-08</td>\n",
       "      <td>richards-ellen</td>\n",
       "      <td>atkinson-edward</td>\n",
       "      <td>1893 Chicago World's Fair,Aladdin Oven,New Eng...</td>\n",
       "      <td>palmer-bertha,hovey-e,daniells-unknown</td>\n",
       "      <td>Boston Jan 8 1892 My dear Mr Atkinson I enclo...</td>\n",
       "      <td>0.133333</td>\n",
       "    </tr>\n",
       "    <tr>\n",
       "      <th>1</th>\n",
       "      <td>ESR-EDA-1892-04-12.xml</td>\n",
       "      <td>1892-04-12</td>\n",
       "      <td>richards-ellen</td>\n",
       "      <td>atkinson-edward</td>\n",
       "      <td>Aladdin Oven,nutrition,cooking</td>\n",
       "      <td>abel-mary</td>\n",
       "      <td>April 12— Dear Mr Atkinson I expect Mrs Abel ...</td>\n",
       "      <td>-0.110823</td>\n",
       "    </tr>\n",
       "    <tr>\n",
       "      <th>2</th>\n",
       "      <td>ESR-EDA-1892-04-07.xml</td>\n",
       "      <td>1892-04-07</td>\n",
       "      <td>richards-ellen</td>\n",
       "      <td>atkinson-edward</td>\n",
       "      <td>Aladdin Oven,Nutrition,cooking</td>\n",
       "      <td>conro-emma,abel-mary</td>\n",
       "      <td>Boston, April 7, 1892 My dear Mr. Atkinson I ...</td>\n",
       "      <td>0.081991</td>\n",
       "    </tr>\n",
       "  </tbody>\n",
       "</table>\n",
       "</div>"
      ],
      "text/plain": [
       "                     file        date          source           target  \\\n",
       "0  ESR-EDA-1892-01-08.xml  1892-01-08  richards-ellen  atkinson-edward   \n",
       "1  ESR-EDA-1892-04-12.xml  1892-04-12  richards-ellen  atkinson-edward   \n",
       "2  ESR-EDA-1892-04-07.xml  1892-04-07  richards-ellen  atkinson-edward   \n",
       "\n",
       "                                            subjects  \\\n",
       "0  1893 Chicago World's Fair,Aladdin Oven,New Eng...   \n",
       "1                     Aladdin Oven,nutrition,cooking   \n",
       "2                     Aladdin Oven,Nutrition,cooking   \n",
       "\n",
       "                               references  \\\n",
       "0  palmer-bertha,hovey-e,daniells-unknown   \n",
       "1                               abel-mary   \n",
       "2                    conro-emma,abel-mary   \n",
       "\n",
       "                                                text  sentiment  \n",
       "0   Boston Jan 8 1892 My dear Mr Atkinson I enclo...   0.133333  \n",
       "1   April 12— Dear Mr Atkinson I expect Mrs Abel ...  -0.110823  \n",
       "2   Boston, April 7, 1892 My dear Mr. Atkinson I ...   0.081991  "
      ]
     },
     "execution_count": 4,
     "metadata": {},
     "output_type": "execute_result"
    }
   ],
   "source": [
    "%%time\n",
    "\n",
    "def get_sentiment(txt):\n",
    "    blob = TextBlob(txt)\n",
    "    return blob.sentiment.polarity\n",
    "\n",
    "df['sentiment'] = df['text'].apply(get_sentiment)\n",
    "\n",
    "df.head(3)"
   ]
  },
  {
   "cell_type": "markdown",
   "id": "265df394",
   "metadata": {},
   "source": [
    "## Save Data"
   ]
  },
  {
   "cell_type": "code",
   "execution_count": 5,
   "id": "68406266",
   "metadata": {},
   "outputs": [
    {
     "name": "stdout",
     "output_type": "stream",
     "text": [
      "CPU times: user 2.92 ms, sys: 1.63 ms, total: 4.56 ms\n",
      "Wall time: 3.48 ms\n"
     ]
    }
   ],
   "source": [
    "%%time\n",
    "\n",
    "# Save results to lab space for visualizations.\n",
    "df[['date', 'file', 'sentiment']].to_csv(os.path.abspath('../../lab_space/projects/richards/sentiments/data/') + '/richards_sentiments.csv', \n",
    "          sep = ',', index = False)"
   ]
  }
 ],
 "metadata": {
  "kernelspec": {
   "display_name": "Python 3 (ipykernel)",
   "language": "python",
   "name": "python3"
  },
  "language_info": {
   "codemirror_mode": {
    "name": "ipython",
    "version": 3
   },
   "file_extension": ".py",
   "mimetype": "text/x-python",
   "name": "python",
   "nbconvert_exporter": "python",
   "pygments_lexer": "ipython3",
   "version": "3.8.5"
  }
 },
 "nbformat": 4,
 "nbformat_minor": 5
}
