{
 "cells": [
  {
   "cell_type": "markdown",
   "id": "4b822d69",
   "metadata": {},
   "source": [
    "# Sentiment Analysis -- Taney"
   ]
  },
  {
   "cell_type": "code",
   "execution_count": 1,
   "id": "b89844e8",
   "metadata": {},
   "outputs": [],
   "source": [
    "import re, csv, glob, spacy, warnings, sys, os\n",
    "import pandas as pd\n",
    "import numpy as np\n",
    "from textblob import TextBlob\n",
    "\n",
    "# Import project-specific functions. \n",
    "# Python files (.py) have to be in same folder to work.\n",
    "lib_path = os.path.abspath(os.path.join(os.path.dirname('Correspondence_XML_parser.py'), '../Scripts'))\n",
    "sys.path.append(lib_path)\n",
    "\n",
    "from Correspondence_XML_parser import *\n",
    "\n",
    "nlp = spacy.load('en_core_web_sm')\n",
    "\n",
    "# Ignore warnings related to deprecated functions.\n",
    "warnings.filterwarnings('ignore')"
   ]
  },
  {
   "cell_type": "markdown",
   "id": "cf930ec8",
   "metadata": {},
   "source": [
    "## Gather XML Files"
   ]
  },
  {
   "cell_type": "code",
   "execution_count": 2,
   "id": "58bad24d",
   "metadata": {},
   "outputs": [
    {
     "name": "stdout",
     "output_type": "stream",
     "text": [
      "CPU times: user 910 µs, sys: 1.14 ms, total: 2.05 ms\n",
      "Wall time: 1.88 ms\n"
     ]
    }
   ],
   "source": [
    "%%time\n",
    "\n",
    "# Declare directory location to shorten filepaths later.\n",
    "abs_dir = \"/Users/quinn.wi/Documents/\"\n",
    "\n",
    "input_directory = \"Data/PSC/Taney/TaneyXML-Oct2020/*.xml\"\n",
    "\n",
    "# Gather all .xml files using glob.\n",
    "files = glob.glob(abs_dir + input_directory)"
   ]
  },
  {
   "cell_type": "code",
   "execution_count": null,
   "id": "a7f93ce3",
   "metadata": {},
   "outputs": [],
   "source": [
    "# %%time\n",
    "\n",
    "# # Must be connected to Northeastern's VPN.\n",
    "# r = requests.get(url, \n",
    "#                  auth = (user, pw), \n",
    "#                  headers = {'Content-Type': 'application/xml'}\n",
    "#                 )\n",
    "\n",
    "# # Read in contents of pipeline.\n",
    "# soup = BeautifulSoup(r.content, 'html.parser')\n",
    "\n",
    "# # Split soup's content by \\n (each line is a file path to an XML doc).\n",
    "# # Use filter() to remove empty strings ('').\n",
    "# # Convert back to list using list().\n",
    "# files = list(filter(None, soup.text.split('\\n')))\n",
    "\n",
    "# # Filter list and retrieve only jqa/ files.\n",
    "# files = [i for i in files if 'jqa/' in i]\n",
    "\n",
    "# len(files)"
   ]
  },
  {
   "cell_type": "markdown",
   "id": "fdee2b56",
   "metadata": {},
   "source": [
    "## Build Dataframe"
   ]
  },
  {
   "cell_type": "code",
   "execution_count": 4,
   "id": "56e53570",
   "metadata": {},
   "outputs": [
    {
     "name": "stdout",
     "output_type": "stream",
     "text": [
      "/Users/quinn.wi/Documents/Data/PSC/Taney/TaneyXML-Oct2020/RBT00009-collation.xml \n",
      "\n",
      "/Users/quinn.wi/Documents/Data/PSC/Taney/TaneyXML-Oct2020/RBT00021-collation.xml \n",
      "\n",
      "/Users/quinn.wi/Documents/Data/PSC/Taney/TaneyXML-Oct2020/RBT00022-collation.xml \n",
      "\n",
      "CPU times: user 18 ms, sys: 3.42 ms, total: 21.4 ms\n",
      "Wall time: 20.4 ms\n"
     ]
    },
    {
     "data": {
      "text/html": [
       "<div>\n",
       "<style scoped>\n",
       "    .dataframe tbody tr th:only-of-type {\n",
       "        vertical-align: middle;\n",
       "    }\n",
       "\n",
       "    .dataframe tbody tr th {\n",
       "        vertical-align: top;\n",
       "    }\n",
       "\n",
       "    .dataframe thead th {\n",
       "        text-align: right;\n",
       "    }\n",
       "</style>\n",
       "<table border=\"1\" class=\"dataframe\">\n",
       "  <thead>\n",
       "    <tr style=\"text-align: right;\">\n",
       "      <th></th>\n",
       "      <th>file</th>\n",
       "      <th>date</th>\n",
       "      <th>source</th>\n",
       "      <th>target</th>\n",
       "      <th>subjects</th>\n",
       "      <th>references</th>\n",
       "      <th>text</th>\n",
       "    </tr>\n",
       "  </thead>\n",
       "  <tbody>\n",
       "    <tr>\n",
       "      <th>0</th>\n",
       "      <td>RBT00107-collation.xml</td>\n",
       "      <td>1833-09-11</td>\n",
       "      <td>RBT</td>\n",
       "      <td>Ellicott-Thomas</td>\n",
       "      <td></td>\n",
       "      <td></td>\n",
       "      <td>Washington Sept. 11. 1833 My Dear Sir I hope ...</td>\n",
       "    </tr>\n",
       "    <tr>\n",
       "      <th>1</th>\n",
       "      <td>RBT00110-collation.xml</td>\n",
       "      <td>1833-09-19</td>\n",
       "      <td>RBT</td>\n",
       "      <td>Ellicott-Thomas</td>\n",
       "      <td>Bank War</td>\n",
       "      <td></td>\n",
       "      <td>Washington Sept. 20th 1833 My Dear Sir I rece...</td>\n",
       "    </tr>\n",
       "    <tr>\n",
       "      <th>2</th>\n",
       "      <td>RBT00667-collation.xml</td>\n",
       "      <td>0000-00-00</td>\n",
       "      <td>RBT</td>\n",
       "      <td>Henshaw-David</td>\n",
       "      <td>Bank of the United States,Treasury</td>\n",
       "      <td></td>\n",
       "      <td>October 2nd 183 Sir, It having been intimated...</td>\n",
       "    </tr>\n",
       "  </tbody>\n",
       "</table>\n",
       "</div>"
      ],
      "text/plain": [
       "                     file        date source           target  \\\n",
       "0  RBT00107-collation.xml  1833-09-11    RBT  Ellicott-Thomas   \n",
       "1  RBT00110-collation.xml  1833-09-19    RBT  Ellicott-Thomas   \n",
       "2  RBT00667-collation.xml  0000-00-00    RBT    Henshaw-David   \n",
       "\n",
       "                             subjects references  \\\n",
       "0                                                  \n",
       "1                            Bank War              \n",
       "2  Bank of the United States,Treasury              \n",
       "\n",
       "                                                text  \n",
       "0   Washington Sept. 11. 1833 My Dear Sir I hope ...  \n",
       "1   Washington Sept. 20th 1833 My Dear Sir I rece...  \n",
       "2   October 2nd 183 Sir, It having been intimated...  "
      ]
     },
     "execution_count": 4,
     "metadata": {},
     "output_type": "execute_result"
    }
   ],
   "source": [
    "%%time\n",
    "\n",
    "# Build dataframe from XML files.\n",
    "# build_dataframe() called from Correspondence_XML_parser\n",
    "# df = build_dataframe(files, url, user, pw)\n",
    "\n",
    "df = build_dataframe(files)\n",
    "\n",
    "\n",
    "df.head(3)"
   ]
  },
  {
   "cell_type": "markdown",
   "id": "1b9be80a",
   "metadata": {},
   "source": [
    "## Get Sentiments"
   ]
  },
  {
   "cell_type": "code",
   "execution_count": 5,
   "id": "73a0fa8f",
   "metadata": {},
   "outputs": [
    {
     "name": "stdout",
     "output_type": "stream",
     "text": [
      "CPU times: user 91.3 ms, sys: 2.52 ms, total: 93.8 ms\n",
      "Wall time: 94.1 ms\n"
     ]
    },
    {
     "data": {
      "text/html": [
       "<div>\n",
       "<style scoped>\n",
       "    .dataframe tbody tr th:only-of-type {\n",
       "        vertical-align: middle;\n",
       "    }\n",
       "\n",
       "    .dataframe tbody tr th {\n",
       "        vertical-align: top;\n",
       "    }\n",
       "\n",
       "    .dataframe thead th {\n",
       "        text-align: right;\n",
       "    }\n",
       "</style>\n",
       "<table border=\"1\" class=\"dataframe\">\n",
       "  <thead>\n",
       "    <tr style=\"text-align: right;\">\n",
       "      <th></th>\n",
       "      <th>file</th>\n",
       "      <th>date</th>\n",
       "      <th>source</th>\n",
       "      <th>target</th>\n",
       "      <th>subjects</th>\n",
       "      <th>references</th>\n",
       "      <th>text</th>\n",
       "      <th>sentiment</th>\n",
       "    </tr>\n",
       "  </thead>\n",
       "  <tbody>\n",
       "    <tr>\n",
       "      <th>0</th>\n",
       "      <td>RBT00107-collation.xml</td>\n",
       "      <td>1833-09-11</td>\n",
       "      <td>RBT</td>\n",
       "      <td>Ellicott-Thomas</td>\n",
       "      <td></td>\n",
       "      <td></td>\n",
       "      <td>Washington Sept. 11. 1833 My Dear Sir I hope ...</td>\n",
       "      <td>0.050000</td>\n",
       "    </tr>\n",
       "    <tr>\n",
       "      <th>1</th>\n",
       "      <td>RBT00110-collation.xml</td>\n",
       "      <td>1833-09-19</td>\n",
       "      <td>RBT</td>\n",
       "      <td>Ellicott-Thomas</td>\n",
       "      <td>Bank War</td>\n",
       "      <td></td>\n",
       "      <td>Washington Sept. 20th 1833 My Dear Sir I rece...</td>\n",
       "      <td>0.100000</td>\n",
       "    </tr>\n",
       "    <tr>\n",
       "      <th>2</th>\n",
       "      <td>RBT00667-collation.xml</td>\n",
       "      <td>0000-00-00</td>\n",
       "      <td>RBT</td>\n",
       "      <td>Henshaw-David</td>\n",
       "      <td>Bank of the United States,Treasury</td>\n",
       "      <td></td>\n",
       "      <td>October 2nd 183 Sir, It having been intimated...</td>\n",
       "      <td>0.157273</td>\n",
       "    </tr>\n",
       "  </tbody>\n",
       "</table>\n",
       "</div>"
      ],
      "text/plain": [
       "                     file        date source           target  \\\n",
       "0  RBT00107-collation.xml  1833-09-11    RBT  Ellicott-Thomas   \n",
       "1  RBT00110-collation.xml  1833-09-19    RBT  Ellicott-Thomas   \n",
       "2  RBT00667-collation.xml  0000-00-00    RBT    Henshaw-David   \n",
       "\n",
       "                             subjects references  \\\n",
       "0                                                  \n",
       "1                            Bank War              \n",
       "2  Bank of the United States,Treasury              \n",
       "\n",
       "                                                text  sentiment  \n",
       "0   Washington Sept. 11. 1833 My Dear Sir I hope ...   0.050000  \n",
       "1   Washington Sept. 20th 1833 My Dear Sir I rece...   0.100000  \n",
       "2   October 2nd 183 Sir, It having been intimated...   0.157273  "
      ]
     },
     "execution_count": 5,
     "metadata": {},
     "output_type": "execute_result"
    }
   ],
   "source": [
    "%%time\n",
    "\n",
    "def get_sentiment(txt):\n",
    "    blob = TextBlob(txt)\n",
    "    return blob.sentiment.polarity\n",
    "\n",
    "df['sentiment'] = df['text'].apply(get_sentiment)\n",
    "\n",
    "df.head(3)"
   ]
  },
  {
   "cell_type": "markdown",
   "id": "9d3694f8",
   "metadata": {},
   "source": [
    "## Save Data"
   ]
  },
  {
   "cell_type": "code",
   "execution_count": 6,
   "id": "46c37221",
   "metadata": {},
   "outputs": [
    {
     "name": "stdout",
     "output_type": "stream",
     "text": [
      "CPU times: user 2.9 ms, sys: 1.62 ms, total: 4.52 ms\n",
      "Wall time: 4.46 ms\n"
     ]
    }
   ],
   "source": [
    "%%time\n",
    "\n",
    "# Save results to lab space for visualizations.\n",
    "df[['date', 'file', 'sentiment']].to_csv(os.path.abspath('../../lab_space/projects/taney/sentiments/data/') + '/taney_sentiments.csv', \n",
    "          sep = ',', index = False)"
   ]
  },
  {
   "cell_type": "code",
   "execution_count": null,
   "id": "088f4581",
   "metadata": {},
   "outputs": [],
   "source": []
  }
 ],
 "metadata": {
  "kernelspec": {
   "display_name": "Python 3 (ipykernel)",
   "language": "python",
   "name": "python3"
  },
  "language_info": {
   "codemirror_mode": {
    "name": "ipython",
    "version": 3
   },
   "file_extension": ".py",
   "mimetype": "text/x-python",
   "name": "python",
   "nbconvert_exporter": "python",
   "pygments_lexer": "ipython3",
   "version": "3.8.5"
  }
 },
 "nbformat": 4,
 "nbformat_minor": 5
}
