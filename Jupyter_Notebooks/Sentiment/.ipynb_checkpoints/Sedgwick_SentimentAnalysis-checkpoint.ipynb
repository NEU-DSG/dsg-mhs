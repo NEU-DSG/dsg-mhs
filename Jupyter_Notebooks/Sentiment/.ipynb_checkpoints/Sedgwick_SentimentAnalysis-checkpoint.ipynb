{
 "cells": [
  {
   "cell_type": "markdown",
   "id": "7dcd89c2",
   "metadata": {},
   "source": [
    "# Sentiment Analysis -- Sedgwick"
   ]
  },
  {
   "cell_type": "code",
   "execution_count": 1,
   "id": "f5202694",
   "metadata": {},
   "outputs": [],
   "source": [
    "import re, csv, glob, spacy, warnings, sys, os\n",
    "import pandas as pd\n",
    "import numpy as np\n",
    "from textblob import TextBlob\n",
    "\n",
    "# Import project-specific functions. \n",
    "# Python files (.py) have to be in same folder to work.\n",
    "lib_path = os.path.abspath(os.path.join(os.path.dirname('Correspondence_XML_parser.py'), '../Scripts'))\n",
    "sys.path.append(lib_path)\n",
    "\n",
    "from Correspondence_XML_parser import *\n",
    "\n",
    "nlp = spacy.load('en_core_web_sm')\n",
    "\n",
    "# Ignore warnings related to deprecated functions.\n",
    "warnings.filterwarnings('ignore')"
   ]
  },
  {
   "cell_type": "markdown",
   "id": "36715cfa",
   "metadata": {},
   "source": [
    "## Gather XML Files\n",
    "\n",
    "--This should eventually call an API for BaseX?"
   ]
  },
  {
   "cell_type": "code",
   "execution_count": 2,
   "id": "688cad8d",
   "metadata": {},
   "outputs": [
    {
     "name": "stdout",
     "output_type": "stream",
     "text": [
      "CPU times: user 1.22 ms, sys: 1.39 ms, total: 2.61 ms\n",
      "Wall time: 1.5 ms\n"
     ]
    },
    {
     "data": {
      "text/plain": [
       "122"
      ]
     },
     "execution_count": 2,
     "metadata": {},
     "output_type": "execute_result"
    }
   ],
   "source": [
    "%%time\n",
    "\n",
    "# Declare directory location to shorten filepaths later.\n",
    "abs_dir = \"/Users/quinn.wi/Documents/Data\"\n",
    "sedgwick_files = glob.glob(abs_dir + \"/PSC/Sedgwick/*.xml\")\n",
    "\n",
    "len(sedgwick_files)"
   ]
  },
  {
   "cell_type": "markdown",
   "id": "70396262",
   "metadata": {},
   "source": [
    "## Build Dataframe from XML Parser"
   ]
  },
  {
   "cell_type": "code",
   "execution_count": 3,
   "id": "9f5d30f8",
   "metadata": {},
   "outputs": [
    {
     "name": "stdout",
     "output_type": "stream",
     "text": [
      "/Users/quinn.wi/Documents/Data/PSC/Sedgwick/CMS1807-04-26-toFrancesSedgwickWatsonFD.xml \n",
      "\n",
      "/Users/quinn.wi/Documents/Data/PSC/Sedgwick/CMS1803-10-06-toPamelaDwightSedgwickF.xml \n",
      "\n",
      "/Users/quinn.wi/Documents/Data/PSC/Sedgwick/CMS1809-01-27-toTheodoreSedgwickIFD.xml \n",
      "\n",
      "/Users/quinn.wi/Documents/Data/PSC/Sedgwick/CMS1807-12-25-toFrancesSedgwickWatsonFD.xml \n",
      "\n",
      "/Users/quinn.wi/Documents/Data/PSC/Sedgwick/CMS1806-01-17-toPamelaDwightSedgwickFD (1).xml \n",
      "\n",
      "/Users/quinn.wi/Documents/Data/PSC/Sedgwick/CMS1805-11-29-toPamelaDwightSedgwickFD.xml \n",
      "\n",
      "/Users/quinn.wi/Documents/Data/PSC/Sedgwick/CMS1807-04-26-toFSWF.xml \n",
      "\n",
      "/Users/quinn.wi/Documents/Data/PSC/Sedgwick/CMS1800-01-12-toTheodoreSedgwickIF.xml \n",
      "\n",
      "/Users/quinn.wi/Documents/Data/PSC/Sedgwick/CMS1805-11-15-toPamelaDwightSedgwickFD (1).xml \n",
      "\n",
      "/Users/quinn.wi/Documents/Data/PSC/Sedgwick/CMS1807-12-28-toFrancesSedgwickWatsonFD.xml \n",
      "\n",
      "/Users/quinn.wi/Documents/Data/PSC/Sedgwick/CMS1807-03-24-toFrancesSedgwickWatsonFD.xml \n",
      "\n",
      "/Users/quinn.wi/Documents/Data/PSC/Sedgwick/CMS1808-11-22-toTheodoreSedgwickIFD.xml \n",
      "\n",
      "/Users/quinn.wi/Documents/Data/PSC/Sedgwick/CMS1806-01-17-toPamelaDwightSedgwickFD.xml \n",
      "\n",
      "CPU times: user 78.3 ms, sys: 11 ms, total: 89.3 ms\n",
      "Wall time: 87.9 ms\n"
     ]
    },
    {
     "data": {
      "text/html": [
       "<div>\n",
       "<style scoped>\n",
       "    .dataframe tbody tr th:only-of-type {\n",
       "        vertical-align: middle;\n",
       "    }\n",
       "\n",
       "    .dataframe tbody tr th {\n",
       "        vertical-align: top;\n",
       "    }\n",
       "\n",
       "    .dataframe thead th {\n",
       "        text-align: right;\n",
       "    }\n",
       "</style>\n",
       "<table border=\"1\" class=\"dataframe\">\n",
       "  <thead>\n",
       "    <tr style=\"text-align: right;\">\n",
       "      <th></th>\n",
       "      <th>file</th>\n",
       "      <th>date</th>\n",
       "      <th>source</th>\n",
       "      <th>target</th>\n",
       "      <th>subjects</th>\n",
       "      <th>references</th>\n",
       "      <th>text</th>\n",
       "    </tr>\n",
       "  </thead>\n",
       "  <tbody>\n",
       "    <tr>\n",
       "      <th>0</th>\n",
       "      <td>CMS1819-03-08-toRobertSedgwickIF (1).xml</td>\n",
       "      <td>1819-03-08</td>\n",
       "      <td>Catharine Maria Sedgwick</td>\n",
       "      <td>sedgwick-robert</td>\n",
       "      <td></td>\n",
       "      <td>sedgwick-charles,sedgwick-elizabeth,sedgwick-h...</td>\n",
       "      <td>Albany March 8' 1819 -- I came here my dear Ro...</td>\n",
       "    </tr>\n",
       "    <tr>\n",
       "      <th>1</th>\n",
       "      <td>CMS1816-03-25-toFrancesSedgwickWatsonF.xml</td>\n",
       "      <td>1816-03-25</td>\n",
       "      <td>Catharine Maria Sedgwick</td>\n",
       "      <td>FSW</td>\n",
       "      <td></td>\n",
       "      <td>RSI,banyer-maria,jay-sarah,van vechten-jacob,s...</td>\n",
       "      <td>Albany March 25th 1816 I have just heard of an...</td>\n",
       "    </tr>\n",
       "    <tr>\n",
       "      <th>2</th>\n",
       "      <td>CMS1813-08-15-toRobertSedgwickIF.xml</td>\n",
       "      <td>1813-08-15</td>\n",
       "      <td>Catharine Maria Sedgwick</td>\n",
       "      <td>RSI</td>\n",
       "      <td></td>\n",
       "      <td>FSW,U,payne-eloise,warner-thomas,warner-france...</td>\n",
       "      <td>Stockbridge August 15th 1813 I recollect very...</td>\n",
       "    </tr>\n",
       "  </tbody>\n",
       "</table>\n",
       "</div>"
      ],
      "text/plain": [
       "                                         file        date  \\\n",
       "0    CMS1819-03-08-toRobertSedgwickIF (1).xml  1819-03-08   \n",
       "1  CMS1816-03-25-toFrancesSedgwickWatsonF.xml  1816-03-25   \n",
       "2        CMS1813-08-15-toRobertSedgwickIF.xml  1813-08-15   \n",
       "\n",
       "                     source           target subjects  \\\n",
       "0  Catharine Maria Sedgwick  sedgwick-robert            \n",
       "1  Catharine Maria Sedgwick              FSW            \n",
       "2  Catharine Maria Sedgwick              RSI            \n",
       "\n",
       "                                          references  \\\n",
       "0  sedgwick-charles,sedgwick-elizabeth,sedgwick-h...   \n",
       "1  RSI,banyer-maria,jay-sarah,van vechten-jacob,s...   \n",
       "2  FSW,U,payne-eloise,warner-thomas,warner-france...   \n",
       "\n",
       "                                                text  \n",
       "0  Albany March 8' 1819 -- I came here my dear Ro...  \n",
       "1  Albany March 25th 1816 I have just heard of an...  \n",
       "2   Stockbridge August 15th 1813 I recollect very...  "
      ]
     },
     "execution_count": 3,
     "metadata": {},
     "output_type": "execute_result"
    }
   ],
   "source": [
    "%%time\n",
    "\n",
    "# Build dataframe from XML files.\n",
    "# build_dataframe() called from Correspondence_XML_parser\n",
    "df = build_dataframe(sedgwick_files)\n",
    "\n",
    "df.head(3)"
   ]
  },
  {
   "cell_type": "markdown",
   "id": "2eceb40f",
   "metadata": {},
   "source": [
    "## Get Sentiments"
   ]
  },
  {
   "cell_type": "code",
   "execution_count": 4,
   "id": "5ee0e2ca",
   "metadata": {},
   "outputs": [
    {
     "name": "stdout",
     "output_type": "stream",
     "text": [
      "CPU times: user 328 ms, sys: 2.87 ms, total: 331 ms\n",
      "Wall time: 332 ms\n"
     ]
    },
    {
     "data": {
      "text/html": [
       "<div>\n",
       "<style scoped>\n",
       "    .dataframe tbody tr th:only-of-type {\n",
       "        vertical-align: middle;\n",
       "    }\n",
       "\n",
       "    .dataframe tbody tr th {\n",
       "        vertical-align: top;\n",
       "    }\n",
       "\n",
       "    .dataframe thead th {\n",
       "        text-align: right;\n",
       "    }\n",
       "</style>\n",
       "<table border=\"1\" class=\"dataframe\">\n",
       "  <thead>\n",
       "    <tr style=\"text-align: right;\">\n",
       "      <th></th>\n",
       "      <th>file</th>\n",
       "      <th>date</th>\n",
       "      <th>source</th>\n",
       "      <th>target</th>\n",
       "      <th>subjects</th>\n",
       "      <th>references</th>\n",
       "      <th>text</th>\n",
       "      <th>sentiment</th>\n",
       "    </tr>\n",
       "  </thead>\n",
       "  <tbody>\n",
       "    <tr>\n",
       "      <th>0</th>\n",
       "      <td>CMS1819-03-08-toRobertSedgwickIF (1).xml</td>\n",
       "      <td>1819-03-08</td>\n",
       "      <td>Catharine Maria Sedgwick</td>\n",
       "      <td>sedgwick-robert</td>\n",
       "      <td></td>\n",
       "      <td>sedgwick-charles,sedgwick-elizabeth,sedgwick-h...</td>\n",
       "      <td>Albany March 8' 1819 -- I came here my dear Ro...</td>\n",
       "      <td>0.181180</td>\n",
       "    </tr>\n",
       "    <tr>\n",
       "      <th>1</th>\n",
       "      <td>CMS1816-03-25-toFrancesSedgwickWatsonF.xml</td>\n",
       "      <td>1816-03-25</td>\n",
       "      <td>Catharine Maria Sedgwick</td>\n",
       "      <td>FSW</td>\n",
       "      <td></td>\n",
       "      <td>RSI,banyer-maria,jay-sarah,van vechten-jacob,s...</td>\n",
       "      <td>Albany March 25th 1816 I have just heard of an...</td>\n",
       "      <td>0.179511</td>\n",
       "    </tr>\n",
       "    <tr>\n",
       "      <th>2</th>\n",
       "      <td>CMS1813-08-15-toRobertSedgwickIF.xml</td>\n",
       "      <td>1813-08-15</td>\n",
       "      <td>Catharine Maria Sedgwick</td>\n",
       "      <td>RSI</td>\n",
       "      <td></td>\n",
       "      <td>FSW,U,payne-eloise,warner-thomas,warner-france...</td>\n",
       "      <td>Stockbridge August 15th 1813 I recollect very...</td>\n",
       "      <td>0.253752</td>\n",
       "    </tr>\n",
       "  </tbody>\n",
       "</table>\n",
       "</div>"
      ],
      "text/plain": [
       "                                         file        date  \\\n",
       "0    CMS1819-03-08-toRobertSedgwickIF (1).xml  1819-03-08   \n",
       "1  CMS1816-03-25-toFrancesSedgwickWatsonF.xml  1816-03-25   \n",
       "2        CMS1813-08-15-toRobertSedgwickIF.xml  1813-08-15   \n",
       "\n",
       "                     source           target subjects  \\\n",
       "0  Catharine Maria Sedgwick  sedgwick-robert            \n",
       "1  Catharine Maria Sedgwick              FSW            \n",
       "2  Catharine Maria Sedgwick              RSI            \n",
       "\n",
       "                                          references  \\\n",
       "0  sedgwick-charles,sedgwick-elizabeth,sedgwick-h...   \n",
       "1  RSI,banyer-maria,jay-sarah,van vechten-jacob,s...   \n",
       "2  FSW,U,payne-eloise,warner-thomas,warner-france...   \n",
       "\n",
       "                                                text  sentiment  \n",
       "0  Albany March 8' 1819 -- I came here my dear Ro...   0.181180  \n",
       "1  Albany March 25th 1816 I have just heard of an...   0.179511  \n",
       "2   Stockbridge August 15th 1813 I recollect very...   0.253752  "
      ]
     },
     "execution_count": 4,
     "metadata": {},
     "output_type": "execute_result"
    }
   ],
   "source": [
    "%%time\n",
    "\n",
    "def get_sentiment(txt):\n",
    "    blob = TextBlob(txt)\n",
    "    return blob.sentiment.polarity\n",
    "\n",
    "df['sentiment'] = df['text'].apply(get_sentiment)\n",
    "\n",
    "df.head(3)"
   ]
  },
  {
   "cell_type": "markdown",
   "id": "554bbf52",
   "metadata": {},
   "source": [
    "## Save Data"
   ]
  },
  {
   "cell_type": "code",
   "execution_count": 5,
   "id": "8a8e82e4",
   "metadata": {},
   "outputs": [
    {
     "name": "stdout",
     "output_type": "stream",
     "text": [
      "CPU times: user 10.7 ms, sys: 2.48 ms, total: 13.2 ms\n",
      "Wall time: 11.8 ms\n"
     ]
    }
   ],
   "source": [
    "%%time\n",
    "\n",
    "# Save results to lab space for visualizations.\n",
    "df[['date', 'file', 'sentiment']].to_csv(os.path.abspath('../../lab_space/projects/sedgwick/sentiments/data/') + '/sedgwick_sentiments.csv', \n",
    "          sep = ',', index = False)"
   ]
  }
 ],
 "metadata": {
  "kernelspec": {
   "display_name": "Python 3 (ipykernel)",
   "language": "python",
   "name": "python3"
  },
  "language_info": {
   "codemirror_mode": {
    "name": "ipython",
    "version": 3
   },
   "file_extension": ".py",
   "mimetype": "text/x-python",
   "name": "python",
   "nbconvert_exporter": "python",
   "pygments_lexer": "ipython3",
   "version": "3.8.5"
  }
 },
 "nbformat": 4,
 "nbformat_minor": 5
}
