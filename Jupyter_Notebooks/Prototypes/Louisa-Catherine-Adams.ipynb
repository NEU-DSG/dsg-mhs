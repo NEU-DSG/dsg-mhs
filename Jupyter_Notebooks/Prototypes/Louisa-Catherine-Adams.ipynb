{
 "cells": [
  {
   "cell_type": "markdown",
   "id": "d67e85ad",
   "metadata": {},
   "source": [
    "# Finding Catherine Louisa Adams in JQA Diaries"
   ]
  },
  {
   "cell_type": "code",
   "execution_count": 1,
   "id": "fed007ee",
   "metadata": {},
   "outputs": [],
   "source": [
    "import os, sys, re, requests, glob\n",
    "import pandas as pd\n",
    "import numpy as np\n",
    "import xml.etree.ElementTree as ET\n",
    "from bs4 import BeautifulSoup\n",
    "import seaborn as sns\n",
    "\n",
    "\n",
    "# Import project-specific functions. \n",
    "# Python files (.py) have to be in same folder to work.\n",
    "lib_path = os.path.abspath(os.path.join(os.path.dirname('JQA_XML_parser.py'), '../Scripts'))\n",
    "sys.path.append(lib_path)\n",
    "from JQA_XML_parser import *\n",
    "\n",
    "\n",
    "# Declare absolute path.\n",
    "abs_dir = \"/Users/quinn.wi/Documents/\""
   ]
  },
  {
   "cell_type": "markdown",
   "id": "7f70f6e3",
   "metadata": {},
   "source": [
    "### Counting Catherine Louisa Adams's Appearances with XPath"
   ]
  },
  {
   "cell_type": "code",
   "execution_count": 2,
   "id": "a71abe20",
   "metadata": {},
   "outputs": [
    {
     "name": "stdout",
     "output_type": "stream",
     "text": [
      "CPU times: user 2.25 s, sys: 151 ms, total: 2.4 s\n",
      "Wall time: 2.89 s\n"
     ]
    },
    {
     "data": {
      "text/html": [
       "<div>\n",
       "<style scoped>\n",
       "    .dataframe tbody tr th:only-of-type {\n",
       "        vertical-align: middle;\n",
       "    }\n",
       "\n",
       "    .dataframe tbody tr th {\n",
       "        vertical-align: top;\n",
       "    }\n",
       "\n",
       "    .dataframe thead th {\n",
       "        text-align: right;\n",
       "    }\n",
       "</style>\n",
       "<table border=\"1\" class=\"dataframe\">\n",
       "  <thead>\n",
       "    <tr style=\"text-align: right;\">\n",
       "      <th></th>\n",
       "      <th>entry</th>\n",
       "      <th>date</th>\n",
       "    </tr>\n",
       "  </thead>\n",
       "  <tbody>\n",
       "    <tr>\n",
       "      <th>0</th>\n",
       "      <td>jqadiaries-v27-1808-12-19</td>\n",
       "      <td>1808-12-19</td>\n",
       "    </tr>\n",
       "    <tr>\n",
       "      <th>3</th>\n",
       "      <td>jqadiaries-v27-1808-01-01</td>\n",
       "      <td>1808-01-01</td>\n",
       "    </tr>\n",
       "    <tr>\n",
       "      <th>6</th>\n",
       "      <td>jqadiaries-v27-1808-01-06</td>\n",
       "      <td>1808-01-06</td>\n",
       "    </tr>\n",
       "    <tr>\n",
       "      <th>9</th>\n",
       "      <td>jqadiaries-v27-1808-01-07</td>\n",
       "      <td>1808-01-07</td>\n",
       "    </tr>\n",
       "    <tr>\n",
       "      <th>12</th>\n",
       "      <td>jqadiaries-v27-1808-01-08</td>\n",
       "      <td>1808-01-08</td>\n",
       "    </tr>\n",
       "    <tr>\n",
       "      <th>...</th>\n",
       "      <td>...</td>\n",
       "      <td>...</td>\n",
       "    </tr>\n",
       "    <tr>\n",
       "      <th>5658</th>\n",
       "      <td>jqadiaries-v28-1811-05-27</td>\n",
       "      <td>1811-05-27</td>\n",
       "    </tr>\n",
       "    <tr>\n",
       "      <th>5661</th>\n",
       "      <td>jqadiaries-v28-1811-05-29</td>\n",
       "      <td>1811-05-29</td>\n",
       "    </tr>\n",
       "    <tr>\n",
       "      <th>5664</th>\n",
       "      <td>jqadiaries-v28-1811-03-04</td>\n",
       "      <td>1811-03-04</td>\n",
       "    </tr>\n",
       "    <tr>\n",
       "      <th>5667</th>\n",
       "      <td>jqadiaries-v28-1811-03-12</td>\n",
       "      <td>1811-03-12</td>\n",
       "    </tr>\n",
       "    <tr>\n",
       "      <th>5670</th>\n",
       "      <td>jqadiaries-v28-1811-03-13</td>\n",
       "      <td>1811-03-13</td>\n",
       "    </tr>\n",
       "  </tbody>\n",
       "</table>\n",
       "<p>1891 rows × 2 columns</p>\n",
       "</div>"
      ],
      "text/plain": [
       "                          entry        date\n",
       "0     jqadiaries-v27-1808-12-19  1808-12-19\n",
       "3     jqadiaries-v27-1808-01-01  1808-01-01\n",
       "6     jqadiaries-v27-1808-01-06  1808-01-06\n",
       "9     jqadiaries-v27-1808-01-07  1808-01-07\n",
       "12    jqadiaries-v27-1808-01-08  1808-01-08\n",
       "...                         ...         ...\n",
       "5658  jqadiaries-v28-1811-05-27  1811-05-27\n",
       "5661  jqadiaries-v28-1811-05-29  1811-05-29\n",
       "5664  jqadiaries-v28-1811-03-04  1811-03-04\n",
       "5667  jqadiaries-v28-1811-03-12  1811-03-12\n",
       "5670  jqadiaries-v28-1811-03-13  1811-03-13\n",
       "\n",
       "[1891 rows x 2 columns]"
      ]
     },
     "execution_count": 2,
     "metadata": {},
     "output_type": "execute_result"
    }
   ],
   "source": [
    "%%time\n",
    "\n",
    "# Read in file and get root of XML tree.\n",
    "def get_root(xml_file):\n",
    "    tree = ET.parse(xml_file)\n",
    "    root = tree.getroot()\n",
    "    return root\n",
    "\n",
    "\"\"\"\n",
    "Declare variables.\n",
    "\"\"\"\n",
    "\n",
    "# Declare regex to simplify file paths below\n",
    "regex = re.compile(r'.*/.*/(.*.xml)')\n",
    "\n",
    "# Declare document level of file. Requires root starting point ('.').\n",
    "doc_as_xpath = './/ns:div/[@type=\"entry\"]'\n",
    "\n",
    "# Declare date element of each document.\n",
    "date_path = './ns:bibl/ns:date/[@when]'\n",
    "\n",
    "# Declare person elements in each document.\n",
    "person_path = './/ns:p/ns:persRef/[@ref]'\n",
    "\n",
    "# Declare text level within each document.\n",
    "text_path = './ns:div/[@type=\"docbody\"]/ns:p'\n",
    "\n",
    "def get_cl_adams(ancestor, xpath_as_string, attrib_val_str, namespace):\n",
    "    people_list = []\n",
    "    for elem in ancestor.findall(xpath_as_string, namespace):\n",
    "        person = elem.get(attrib_val_str)\n",
    "        people_list.append(person)\n",
    "#     Return a string object of 'list' to be written to output file. Can be split later.\n",
    "    return ','.join(people_list)\n",
    "\n",
    "\n",
    "cla_df = []\n",
    "\n",
    "for file in glob.glob(abs_dir + 'Data/PSC/JQA/*/*.xml'):\n",
    "\n",
    "    reFile = str(regex.search(file).group(1))\n",
    "#         Call functions to create necessary variables and grab content.\n",
    "    root = get_root(file)\n",
    "    ns = get_namespace(root)\n",
    "\n",
    "    for eachDoc in root.findall(doc_as_xpath, ns):\n",
    "        \n",
    "        for elem in eachDoc:\n",
    "            entry = get_document_id(eachDoc, '{http://www.w3.org/XML/1998/namespace}id')\n",
    "            date = get_date_from_attrValue(eachDoc, date_path, 'when', ns)\n",
    "            \n",
    "            people = get_cl_adams(eachDoc, './/ns:p/ns:persRef/[@ref = \"adams-louisa-catherine\"]', 'ref', ns)\n",
    "            \n",
    "            if people != '':\n",
    "                cla_df.append([entry, date])\n",
    "            else:\n",
    "                pass\n",
    "\n",
    "\n",
    "cla_df = pd.DataFrame(cla_df, columns = ['entry', 'date'])\n",
    "\n",
    "cla_df = cla_df.drop_duplicates()\n",
    "\n",
    "cla_df"
   ]
  },
  {
   "cell_type": "code",
   "execution_count": 3,
   "id": "4b9f9d4f",
   "metadata": {},
   "outputs": [
    {
     "name": "stdout",
     "output_type": "stream",
     "text": [
      "CPU times: user 47 ms, sys: 5.94 ms, total: 53 ms\n",
      "Wall time: 58.9 ms\n"
     ]
    },
    {
     "data": {
      "text/plain": [
       "Text(0.5, 1.0, 'Appearance of Louisa Catherine Adams in JQA Diaries')"
      ]
     },
     "execution_count": 3,
     "metadata": {},
     "output_type": "execute_result"
    },
    {
     "data": {
      "image/png": "[encoded data removed]",
      "text/plain": [
       "<Figure size 432x288 with 1 Axes>"
      ]
     },
     "metadata": {
      "needs_background": "light"
     },
     "output_type": "display_data"
    }
   ],
   "source": [
    "%%time\n",
    "\n",
    "cla_df['date'] = pd.to_datetime(cla_df['date'])\n",
    "\n",
    "cla_df['year'] = cla_df['date'].dt.year\n",
    "\n",
    "ax = cla_df['year'].hist(bins = 50)\n",
    "\n",
    "ax.set_title('Appearance of Louisa Catherine Adams in JQA Diaries')"
   ]
  },
  {
   "cell_type": "code",
   "execution_count": 4,
   "id": "ecd0beee",
   "metadata": {},
   "outputs": [],
   "source": [
    "fig = ax.get_figure()\n",
    "\n",
    "fig.savefig('louisa-catherine-adams-histogram.pdf')"
   ]
  },
  {
   "cell_type": "code",
   "execution_count": null,
   "id": "ed331317",
   "metadata": {},
   "outputs": [],
   "source": []
  }
 ],
 "metadata": {
  "kernelspec": {
   "display_name": "Python 3 (ipykernel)",
   "language": "python",
   "name": "python3"
  },
  "language_info": {
   "codemirror_mode": {
    "name": "ipython",
    "version": 3
   },
   "file_extension": ".py",
   "mimetype": "text/x-python",
   "name": "python",
   "nbconvert_exporter": "python",
   "pygments_lexer": "ipython3",
   "version": "3.8.5"
  }
 },
 "nbformat": 4,
 "nbformat_minor": 5
}
